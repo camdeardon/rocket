{
 "cells": [
  {
   "cell_type": "code",
   "execution_count": 1,
   "id": "35d76b8b-4295-45f9-959f-e040e598663b",
   "metadata": {
    "tags": []
   },
   "outputs": [
    {
     "name": "stdout",
     "output_type": "stream",
     "text": [
      "Collecting umap\n",
      "  Using cached umap-0.1.1.tar.gz (3.2 kB)\n",
      "  Preparing metadata (setup.py) ... \u001b[?25ldone\n",
      "\u001b[?25hBuilding wheels for collected packages: umap\n",
      "  Building wheel for umap (setup.py) ... \u001b[?25ldone\n",
      "\u001b[?25h  Created wheel for umap: filename=umap-0.1.1-py3-none-any.whl size=3542 sha256=5c9d54b543ffc44e622db44ffcfcaf059ed1ce1503ba385c346853d9a077db41\n",
      "  Stored in directory: /Users/camerondeardon/Library/Caches/pip/wheels/82/d8/73/e9eb3334baaad795ff0278363ff1aca7568bdf2793e452a527\n",
      "Successfully built umap\n",
      "Installing collected packages: umap\n",
      "Successfully installed umap-0.1.1\n",
      "Collecting sentence-transformers\n",
      "  Obtaining dependency information for sentence-transformers from https://files.pythonhosted.org/packages/58/4b/922436953394e1bfda05e4bf1fe0e80f609770f256c59a9df7a9254f3e0d/sentence_transformers-3.0.1-py3-none-any.whl.metadata\n",
      "  Using cached sentence_transformers-3.0.1-py3-none-any.whl.metadata (10 kB)\n",
      "Collecting transformers<5.0.0,>=4.34.0 (from sentence-transformers)\n",
      "  Obtaining dependency information for transformers<5.0.0,>=4.34.0 from https://files.pythonhosted.org/packages/62/c0/810e741a6244c0f004be40ccb96486d072f042eabbd4d7e8aa02b81ca1eb/transformers-4.44.0-py3-none-any.whl.metadata\n",
      "  Downloading transformers-4.44.0-py3-none-any.whl.metadata (43 kB)\n",
      "\u001b[2K     \u001b[90m━━━━━━━━━━━━━━━━━━━━━━━━━━━━━━━━━━━━━━━━\u001b[0m \u001b[32m43.7/43.7 kB\u001b[0m \u001b[31m1.1 MB/s\u001b[0m eta \u001b[36m0:00:00\u001b[0m\n",
      "\u001b[?25hRequirement already satisfied: tqdm in /Users/camerondeardon/anaconda3/lib/python3.11/site-packages (from sentence-transformers) (4.65.0)\n",
      "Requirement already satisfied: torch>=1.11.0 in /Users/camerondeardon/anaconda3/lib/python3.11/site-packages (from sentence-transformers) (2.0.1)\n",
      "Requirement already satisfied: numpy in /Users/camerondeardon/anaconda3/lib/python3.11/site-packages (from sentence-transformers) (1.24.3)\n",
      "Requirement already satisfied: scikit-learn in /Users/camerondeardon/anaconda3/lib/python3.11/site-packages (from sentence-transformers) (1.3.0)\n",
      "Requirement already satisfied: scipy in /Users/camerondeardon/anaconda3/lib/python3.11/site-packages (from sentence-transformers) (1.10.1)\n",
      "Requirement already satisfied: huggingface-hub>=0.15.1 in /Users/camerondeardon/anaconda3/lib/python3.11/site-packages (from sentence-transformers) (0.15.1)\n",
      "Requirement already satisfied: Pillow in /Users/camerondeardon/anaconda3/lib/python3.11/site-packages (from sentence-transformers) (9.4.0)\n",
      "Requirement already satisfied: filelock in /Users/camerondeardon/anaconda3/lib/python3.11/site-packages (from huggingface-hub>=0.15.1->sentence-transformers) (3.9.0)\n",
      "Requirement already satisfied: fsspec in /Users/camerondeardon/anaconda3/lib/python3.11/site-packages (from huggingface-hub>=0.15.1->sentence-transformers) (2023.4.0)\n",
      "Requirement already satisfied: requests in /Users/camerondeardon/anaconda3/lib/python3.11/site-packages (from huggingface-hub>=0.15.1->sentence-transformers) (2.31.0)\n",
      "Requirement already satisfied: pyyaml>=5.1 in /Users/camerondeardon/anaconda3/lib/python3.11/site-packages (from huggingface-hub>=0.15.1->sentence-transformers) (6.0)\n",
      "Requirement already satisfied: typing-extensions>=3.7.4.3 in /Users/camerondeardon/anaconda3/lib/python3.11/site-packages (from huggingface-hub>=0.15.1->sentence-transformers) (4.7.1)\n",
      "Requirement already satisfied: packaging>=20.9 in /Users/camerondeardon/anaconda3/lib/python3.11/site-packages (from huggingface-hub>=0.15.1->sentence-transformers) (23.0)\n",
      "Requirement already satisfied: sympy in /Users/camerondeardon/anaconda3/lib/python3.11/site-packages (from torch>=1.11.0->sentence-transformers) (1.11.1)\n",
      "Requirement already satisfied: networkx in /Users/camerondeardon/anaconda3/lib/python3.11/site-packages (from torch>=1.11.0->sentence-transformers) (3.1)\n",
      "Requirement already satisfied: jinja2 in /Users/camerondeardon/anaconda3/lib/python3.11/site-packages (from torch>=1.11.0->sentence-transformers) (3.1.2)\n",
      "Collecting huggingface-hub>=0.15.1 (from sentence-transformers)\n",
      "  Obtaining dependency information for huggingface-hub>=0.15.1 from https://files.pythonhosted.org/packages/0b/05/31b21998f68c31e7ffcc27ff08531fb9af5506d765ce8d661fb0036e6918/huggingface_hub-0.24.5-py3-none-any.whl.metadata\n",
      "  Downloading huggingface_hub-0.24.5-py3-none-any.whl.metadata (13 kB)\n",
      "Requirement already satisfied: regex!=2019.12.17 in /Users/camerondeardon/anaconda3/lib/python3.11/site-packages (from transformers<5.0.0,>=4.34.0->sentence-transformers) (2022.7.9)\n",
      "Collecting safetensors>=0.4.1 (from transformers<5.0.0,>=4.34.0->sentence-transformers)\n",
      "  Obtaining dependency information for safetensors>=0.4.1 from https://files.pythonhosted.org/packages/36/46/93c39c96188a88ca15d12759bb51f52ce7365f6fd19ef09580bc096e8860/safetensors-0.4.4-cp311-cp311-macosx_11_0_arm64.whl.metadata\n",
      "  Downloading safetensors-0.4.4-cp311-cp311-macosx_11_0_arm64.whl.metadata (3.8 kB)\n",
      "Collecting tokenizers<0.20,>=0.19 (from transformers<5.0.0,>=4.34.0->sentence-transformers)\n",
      "  Obtaining dependency information for tokenizers<0.20,>=0.19 from https://files.pythonhosted.org/packages/90/79/d17a0f491d10817cd30f1121a07aa09c8e97a81114b116e473baf1577f09/tokenizers-0.19.1-cp311-cp311-macosx_11_0_arm64.whl.metadata\n",
      "  Downloading tokenizers-0.19.1-cp311-cp311-macosx_11_0_arm64.whl.metadata (6.7 kB)\n",
      "Collecting fsspec>=2023.5.0 (from huggingface-hub>=0.15.1->sentence-transformers)\n",
      "  Obtaining dependency information for fsspec>=2023.5.0 from https://files.pythonhosted.org/packages/5e/44/73bea497ac69bafde2ee4269292fa3b41f1198f4bb7bbaaabde30ad29d4a/fsspec-2024.6.1-py3-none-any.whl.metadata\n",
      "  Using cached fsspec-2024.6.1-py3-none-any.whl.metadata (11 kB)\n",
      "Requirement already satisfied: joblib>=1.1.1 in /Users/camerondeardon/anaconda3/lib/python3.11/site-packages (from scikit-learn->sentence-transformers) (1.2.0)\n",
      "Requirement already satisfied: threadpoolctl>=2.0.0 in /Users/camerondeardon/anaconda3/lib/python3.11/site-packages (from scikit-learn->sentence-transformers) (2.2.0)\n",
      "Requirement already satisfied: MarkupSafe>=2.0 in /Users/camerondeardon/anaconda3/lib/python3.11/site-packages (from jinja2->torch>=1.11.0->sentence-transformers) (2.1.1)\n",
      "Requirement already satisfied: charset-normalizer<4,>=2 in /Users/camerondeardon/anaconda3/lib/python3.11/site-packages (from requests->huggingface-hub>=0.15.1->sentence-transformers) (2.0.4)\n",
      "Requirement already satisfied: idna<4,>=2.5 in /Users/camerondeardon/anaconda3/lib/python3.11/site-packages (from requests->huggingface-hub>=0.15.1->sentence-transformers) (3.4)\n",
      "Requirement already satisfied: urllib3<3,>=1.21.1 in /Users/camerondeardon/anaconda3/lib/python3.11/site-packages (from requests->huggingface-hub>=0.15.1->sentence-transformers) (1.26.16)\n",
      "Requirement already satisfied: certifi>=2017.4.17 in /Users/camerondeardon/anaconda3/lib/python3.11/site-packages (from requests->huggingface-hub>=0.15.1->sentence-transformers) (2023.7.22)\n",
      "Requirement already satisfied: mpmath>=0.19 in /Users/camerondeardon/anaconda3/lib/python3.11/site-packages (from sympy->torch>=1.11.0->sentence-transformers) (1.3.0)\n",
      "Using cached sentence_transformers-3.0.1-py3-none-any.whl (227 kB)\n",
      "Downloading transformers-4.44.0-py3-none-any.whl (9.5 MB)\n",
      "\u001b[2K   \u001b[90m━━━━━━━━━━━━━━━━━━━━━━━━━━━━━━━━━━━━━━━━\u001b[0m \u001b[32m9.5/9.5 MB\u001b[0m \u001b[31m22.4 MB/s\u001b[0m eta \u001b[36m0:00:00\u001b[0ma \u001b[36m0:00:01\u001b[0m\n",
      "\u001b[?25hDownloading huggingface_hub-0.24.5-py3-none-any.whl (417 kB)\n",
      "\u001b[2K   \u001b[90m━━━━━━━━━━━━━━━━━━━━━━━━━━━━━━━━━━━━━━━━\u001b[0m \u001b[32m417.5/417.5 kB\u001b[0m \u001b[31m16.3 MB/s\u001b[0m eta \u001b[36m0:00:00\u001b[0m\n",
      "\u001b[?25hUsing cached fsspec-2024.6.1-py3-none-any.whl (177 kB)\n",
      "Downloading safetensors-0.4.4-cp311-cp311-macosx_11_0_arm64.whl (381 kB)\n",
      "\u001b[2K   \u001b[90m━━━━━━━━━━━━━━━━━━━━━━━━━━━━━━━━━━━━━━━━\u001b[0m \u001b[32m381.5/381.5 kB\u001b[0m \u001b[31m39.8 MB/s\u001b[0m eta \u001b[36m0:00:00\u001b[0m\n",
      "\u001b[?25hDownloading tokenizers-0.19.1-cp311-cp311-macosx_11_0_arm64.whl (2.4 MB)\n",
      "\u001b[2K   \u001b[90m━━━━━━━━━━━━━━━━━━━━━━━━━━━━━━━━━━━━━━━━\u001b[0m \u001b[32m2.4/2.4 MB\u001b[0m \u001b[31m48.1 MB/s\u001b[0m eta \u001b[36m0:00:00\u001b[0ma \u001b[36m0:00:01\u001b[0m\n",
      "\u001b[?25hInstalling collected packages: safetensors, fsspec, huggingface-hub, tokenizers, transformers, sentence-transformers\n",
      "  Attempting uninstall: fsspec\n",
      "    Found existing installation: fsspec 2023.4.0\n",
      "    Uninstalling fsspec-2023.4.0:\n",
      "      Successfully uninstalled fsspec-2023.4.0\n",
      "  Attempting uninstall: huggingface-hub\n",
      "    Found existing installation: huggingface-hub 0.15.1\n",
      "    Uninstalling huggingface-hub-0.15.1:\n",
      "      Successfully uninstalled huggingface-hub-0.15.1\n",
      "  Attempting uninstall: tokenizers\n",
      "    Found existing installation: tokenizers 0.13.2\n",
      "    Uninstalling tokenizers-0.13.2:\n",
      "      Successfully uninstalled tokenizers-0.13.2\n",
      "  Attempting uninstall: transformers\n",
      "    Found existing installation: transformers 4.29.2\n",
      "    Uninstalling transformers-4.29.2:\n",
      "      Successfully uninstalled transformers-4.29.2\n",
      "\u001b[31mERROR: pip's dependency resolver does not currently take into account all the packages that are installed. This behaviour is the source of the following dependency conflicts.\n",
      "s3fs 2023.4.0 requires fsspec==2023.4.0, but you have fsspec 2024.6.1 which is incompatible.\u001b[0m\u001b[31m\n",
      "\u001b[0mSuccessfully installed fsspec-2024.6.1 huggingface-hub-0.24.5 safetensors-0.4.4 sentence-transformers-3.0.1 tokenizers-0.19.1 transformers-4.44.0\n",
      "Collecting hdbscan\n",
      "  Downloading hdbscan-0.8.38.post1.tar.gz (5.8 MB)\n",
      "\u001b[2K     \u001b[90m━━━━━━━━━━━━━━━━━━━━━━━━━━━━━━━━━━━━━━━━\u001b[0m \u001b[32m5.8/5.8 MB\u001b[0m \u001b[31m16.5 MB/s\u001b[0m eta \u001b[36m0:00:00\u001b[0ma \u001b[36m0:00:01\u001b[0m\n",
      "\u001b[?25h  Installing build dependencies ... \u001b[?25ldone\n",
      "\u001b[?25h  Getting requirements to build wheel ... \u001b[?25ldone\n",
      "\u001b[?25h  Preparing metadata (pyproject.toml) ... \u001b[?25ldone\n",
      "\u001b[?25hRequirement already satisfied: numpy<3,>=1.20 in /Users/camerondeardon/anaconda3/lib/python3.11/site-packages (from hdbscan) (1.24.3)\n",
      "Requirement already satisfied: scipy>=1.0 in /Users/camerondeardon/anaconda3/lib/python3.11/site-packages (from hdbscan) (1.10.1)\n",
      "Requirement already satisfied: scikit-learn>=0.20 in /Users/camerondeardon/anaconda3/lib/python3.11/site-packages (from hdbscan) (1.3.0)\n",
      "Requirement already satisfied: joblib>=1.0 in /Users/camerondeardon/anaconda3/lib/python3.11/site-packages (from hdbscan) (1.2.0)\n",
      "Requirement already satisfied: threadpoolctl>=2.0.0 in /Users/camerondeardon/anaconda3/lib/python3.11/site-packages (from scikit-learn>=0.20->hdbscan) (2.2.0)\n",
      "Building wheels for collected packages: hdbscan\n",
      "  Building wheel for hdbscan (pyproject.toml) ... \u001b[?25ldone\n",
      "\u001b[?25h  Created wheel for hdbscan: filename=hdbscan-0.8.38.post1-cp311-cp311-macosx_11_0_arm64.whl size=705012 sha256=2413531662ff667c79006a85be6a323b607e8810ba854033c4d5a175202cb1ac\n",
      "  Stored in directory: /Users/camerondeardon/Library/Caches/pip/wheels/cb/5e/46/545115df7b61e96c70d9d63dc207bd6939658350e7c1ed208a\n",
      "Successfully built hdbscan\n",
      "Installing collected packages: hdbscan\n",
      "Successfully installed hdbscan-0.8.38.post1\n",
      "Requirement already satisfied: transformers in /Users/camerondeardon/anaconda3/lib/python3.11/site-packages (4.44.0)\n",
      "Requirement already satisfied: filelock in /Users/camerondeardon/anaconda3/lib/python3.11/site-packages (from transformers) (3.9.0)\n",
      "Requirement already satisfied: huggingface-hub<1.0,>=0.23.2 in /Users/camerondeardon/anaconda3/lib/python3.11/site-packages (from transformers) (0.24.5)\n",
      "Requirement already satisfied: numpy>=1.17 in /Users/camerondeardon/anaconda3/lib/python3.11/site-packages (from transformers) (1.24.3)\n",
      "Requirement already satisfied: packaging>=20.0 in /Users/camerondeardon/anaconda3/lib/python3.11/site-packages (from transformers) (23.0)\n",
      "Requirement already satisfied: pyyaml>=5.1 in /Users/camerondeardon/anaconda3/lib/python3.11/site-packages (from transformers) (6.0)\n",
      "Requirement already satisfied: regex!=2019.12.17 in /Users/camerondeardon/anaconda3/lib/python3.11/site-packages (from transformers) (2022.7.9)\n",
      "Requirement already satisfied: requests in /Users/camerondeardon/anaconda3/lib/python3.11/site-packages (from transformers) (2.31.0)\n",
      "Requirement already satisfied: safetensors>=0.4.1 in /Users/camerondeardon/anaconda3/lib/python3.11/site-packages (from transformers) (0.4.4)\n",
      "Requirement already satisfied: tokenizers<0.20,>=0.19 in /Users/camerondeardon/anaconda3/lib/python3.11/site-packages (from transformers) (0.19.1)\n",
      "Requirement already satisfied: tqdm>=4.27 in /Users/camerondeardon/anaconda3/lib/python3.11/site-packages (from transformers) (4.65.0)\n",
      "Requirement already satisfied: fsspec>=2023.5.0 in /Users/camerondeardon/anaconda3/lib/python3.11/site-packages (from huggingface-hub<1.0,>=0.23.2->transformers) (2024.6.1)\n",
      "Requirement already satisfied: typing-extensions>=3.7.4.3 in /Users/camerondeardon/anaconda3/lib/python3.11/site-packages (from huggingface-hub<1.0,>=0.23.2->transformers) (4.7.1)\n",
      "Requirement already satisfied: charset-normalizer<4,>=2 in /Users/camerondeardon/anaconda3/lib/python3.11/site-packages (from requests->transformers) (2.0.4)\n",
      "Requirement already satisfied: idna<4,>=2.5 in /Users/camerondeardon/anaconda3/lib/python3.11/site-packages (from requests->transformers) (3.4)\n",
      "Requirement already satisfied: urllib3<3,>=1.21.1 in /Users/camerondeardon/anaconda3/lib/python3.11/site-packages (from requests->transformers) (1.26.16)\n",
      "Requirement already satisfied: certifi>=2017.4.17 in /Users/camerondeardon/anaconda3/lib/python3.11/site-packages (from requests->transformers) (2023.7.22)\n",
      "Requirement already satisfied: torch in /Users/camerondeardon/anaconda3/lib/python3.11/site-packages (2.0.1)\n",
      "Collecting torchvision\n",
      "  Obtaining dependency information for torchvision from https://files.pythonhosted.org/packages/b4/93/611197d5a023a33a48df656287b3e26c6e7db0fa92a9bb2259c0cdb76581/torchvision-0.19.0-cp311-cp311-macosx_11_0_arm64.whl.metadata\n",
      "  Downloading torchvision-0.19.0-cp311-cp311-macosx_11_0_arm64.whl.metadata (6.0 kB)\n",
      "Collecting torchaudio\n",
      "  Obtaining dependency information for torchaudio from https://files.pythonhosted.org/packages/1b/11/9c38a2da79d79611fd6950837f5389bac55c6fdfbc1b4ceab6d2afd8b0d4/torchaudio-2.4.0-cp311-cp311-macosx_11_0_arm64.whl.metadata\n",
      "  Downloading torchaudio-2.4.0-cp311-cp311-macosx_11_0_arm64.whl.metadata (6.4 kB)\n",
      "Requirement already satisfied: filelock in /Users/camerondeardon/anaconda3/lib/python3.11/site-packages (from torch) (3.9.0)\n",
      "Requirement already satisfied: typing-extensions in /Users/camerondeardon/anaconda3/lib/python3.11/site-packages (from torch) (4.7.1)\n",
      "Requirement already satisfied: sympy in /Users/camerondeardon/anaconda3/lib/python3.11/site-packages (from torch) (1.11.1)\n",
      "Requirement already satisfied: networkx in /Users/camerondeardon/anaconda3/lib/python3.11/site-packages (from torch) (3.1)\n",
      "Requirement already satisfied: jinja2 in /Users/camerondeardon/anaconda3/lib/python3.11/site-packages (from torch) (3.1.2)\n",
      "Requirement already satisfied: numpy in /Users/camerondeardon/anaconda3/lib/python3.11/site-packages (from torchvision) (1.24.3)\n",
      "Collecting torch\n",
      "  Obtaining dependency information for torch from https://files.pythonhosted.org/packages/b7/d0/5e8f96d83889e77b478b90e7d8d24a5fc14c5c9350c6b93d071f45f39096/torch-2.4.0-cp311-none-macosx_11_0_arm64.whl.metadata\n",
      "  Downloading torch-2.4.0-cp311-none-macosx_11_0_arm64.whl.metadata (26 kB)\n",
      "Requirement already satisfied: pillow!=8.3.*,>=5.3.0 in /Users/camerondeardon/anaconda3/lib/python3.11/site-packages (from torchvision) (9.4.0)\n",
      "Collecting typing-extensions>=4.8.0 (from torch)\n",
      "  Obtaining dependency information for typing-extensions>=4.8.0 from https://files.pythonhosted.org/packages/26/9f/ad63fc0248c5379346306f8668cda6e2e2e9c95e01216d2b8ffd9ff037d0/typing_extensions-4.12.2-py3-none-any.whl.metadata\n",
      "  Using cached typing_extensions-4.12.2-py3-none-any.whl.metadata (3.0 kB)\n",
      "Requirement already satisfied: fsspec in /Users/camerondeardon/anaconda3/lib/python3.11/site-packages (from torch) (2024.6.1)\n",
      "Requirement already satisfied: MarkupSafe>=2.0 in /Users/camerondeardon/anaconda3/lib/python3.11/site-packages (from jinja2->torch) (2.1.1)\n",
      "Requirement already satisfied: mpmath>=0.19 in /Users/camerondeardon/anaconda3/lib/python3.11/site-packages (from sympy->torch) (1.3.0)\n",
      "Downloading torchvision-0.19.0-cp311-cp311-macosx_11_0_arm64.whl (1.7 MB)\n",
      "\u001b[2K   \u001b[90m━━━━━━━━━━━━━━━━━━━━━━━━━━━━━━━━━━━━━━━━\u001b[0m \u001b[32m1.7/1.7 MB\u001b[0m \u001b[31m10.0 MB/s\u001b[0m eta \u001b[36m0:00:00\u001b[0m \u001b[36m0:00:01\u001b[0m\n",
      "\u001b[?25hDownloading torch-2.4.0-cp311-none-macosx_11_0_arm64.whl (62.1 MB)\n",
      "\u001b[2K   \u001b[90m━━━━━━━━━━━━━━━━━━━━━━━━━━━━━━━━━━━━━━━━\u001b[0m \u001b[32m62.1/62.1 MB\u001b[0m \u001b[31m38.0 MB/s\u001b[0m eta \u001b[36m0:00:00\u001b[0m00:01\u001b[0m00:01\u001b[0m\n",
      "\u001b[?25hDownloading torchaudio-2.4.0-cp311-cp311-macosx_11_0_arm64.whl (1.8 MB)\n",
      "\u001b[2K   \u001b[90m━━━━━━━━━━━━━━━━━━━━━━━━━━━━━━━━━━━━━━━━\u001b[0m \u001b[32m1.8/1.8 MB\u001b[0m \u001b[31m47.3 MB/s\u001b[0m eta \u001b[36m0:00:00\u001b[0m00:01\u001b[0m\n",
      "\u001b[?25hUsing cached typing_extensions-4.12.2-py3-none-any.whl (37 kB)\n",
      "Installing collected packages: typing-extensions, torch, torchvision, torchaudio\n",
      "  Attempting uninstall: typing-extensions\n",
      "    Found existing installation: typing_extensions 4.7.1\n",
      "    Uninstalling typing_extensions-4.7.1:\n",
      "      Successfully uninstalled typing_extensions-4.7.1\n",
      "  Attempting uninstall: torch\n",
      "    Found existing installation: torch 2.0.1\n",
      "    Uninstalling torch-2.0.1:\n",
      "      Successfully uninstalled torch-2.0.1\n",
      "Successfully installed torch-2.4.0 torchaudio-2.4.0 torchvision-0.19.0 typing-extensions-4.12.2\n",
      "Collecting umap-learn\n",
      "  Obtaining dependency information for umap-learn from https://files.pythonhosted.org/packages/d1/1b/46802a050b1c55d10c4f59fc6afd2b45ac9b4f62b2e12092d3f599286f14/umap_learn-0.5.6-py3-none-any.whl.metadata\n",
      "  Using cached umap_learn-0.5.6-py3-none-any.whl.metadata (21 kB)\n",
      "Requirement already satisfied: numpy>=1.17 in /Users/camerondeardon/anaconda3/lib/python3.11/site-packages (from umap-learn) (1.24.3)\n",
      "Requirement already satisfied: scipy>=1.3.1 in /Users/camerondeardon/anaconda3/lib/python3.11/site-packages (from umap-learn) (1.10.1)\n",
      "Requirement already satisfied: scikit-learn>=0.22 in /Users/camerondeardon/anaconda3/lib/python3.11/site-packages (from umap-learn) (1.3.0)\n",
      "Requirement already satisfied: numba>=0.51.2 in /Users/camerondeardon/anaconda3/lib/python3.11/site-packages (from umap-learn) (0.57.0)\n",
      "Collecting pynndescent>=0.5 (from umap-learn)\n",
      "  Obtaining dependency information for pynndescent>=0.5 from https://files.pythonhosted.org/packages/d2/53/d23a97e0a2c690d40b165d1062e2c4ccc796be458a1ce59f6ba030434663/pynndescent-0.5.13-py3-none-any.whl.metadata\n",
      "  Using cached pynndescent-0.5.13-py3-none-any.whl.metadata (6.8 kB)\n",
      "Requirement already satisfied: tqdm in /Users/camerondeardon/anaconda3/lib/python3.11/site-packages (from umap-learn) (4.65.0)\n",
      "Requirement already satisfied: llvmlite<0.41,>=0.40.0dev0 in /Users/camerondeardon/anaconda3/lib/python3.11/site-packages (from numba>=0.51.2->umap-learn) (0.40.0)\n",
      "Requirement already satisfied: joblib>=0.11 in /Users/camerondeardon/anaconda3/lib/python3.11/site-packages (from pynndescent>=0.5->umap-learn) (1.2.0)\n",
      "Requirement already satisfied: threadpoolctl>=2.0.0 in /Users/camerondeardon/anaconda3/lib/python3.11/site-packages (from scikit-learn>=0.22->umap-learn) (2.2.0)\n",
      "Using cached umap_learn-0.5.6-py3-none-any.whl (85 kB)\n",
      "Using cached pynndescent-0.5.13-py3-none-any.whl (56 kB)\n",
      "Installing collected packages: pynndescent, umap-learn\n",
      "Successfully installed pynndescent-0.5.13 umap-learn-0.5.6\n",
      "Requirement already satisfied: gensim in /Users/camerondeardon/anaconda3/lib/python3.11/site-packages (4.3.0)\n",
      "Requirement already satisfied: numpy>=1.18.5 in /Users/camerondeardon/anaconda3/lib/python3.11/site-packages (from gensim) (1.24.3)\n",
      "Requirement already satisfied: scipy>=1.7.0 in /Users/camerondeardon/anaconda3/lib/python3.11/site-packages (from gensim) (1.10.1)\n",
      "Requirement already satisfied: smart-open>=1.8.1 in /Users/camerondeardon/anaconda3/lib/python3.11/site-packages (from gensim) (5.2.1)\n",
      "Collecting FuzzyTM>=0.4.0 (from gensim)\n",
      "  Obtaining dependency information for FuzzyTM>=0.4.0 from https://files.pythonhosted.org/packages/2d/30/074bac7a25866a2807c1005c7852c0139ac22ba837871fc01f16df29b9dc/FuzzyTM-2.0.9-py3-none-any.whl.metadata\n",
      "  Downloading FuzzyTM-2.0.9-py3-none-any.whl.metadata (7.9 kB)\n",
      "Requirement already satisfied: pandas in /Users/camerondeardon/anaconda3/lib/python3.11/site-packages (from FuzzyTM>=0.4.0->gensim) (2.0.3)\n",
      "Collecting pyfume (from FuzzyTM>=0.4.0->gensim)\n",
      "  Obtaining dependency information for pyfume from https://files.pythonhosted.org/packages/ed/ea/a3b120e251145dcdb10777f2bc5f18b1496fd999d705a178c1b0ad947ce1/pyFUME-0.3.4-py3-none-any.whl.metadata\n",
      "  Downloading pyFUME-0.3.4-py3-none-any.whl.metadata (9.7 kB)\n",
      "Requirement already satisfied: python-dateutil>=2.8.2 in /Users/camerondeardon/anaconda3/lib/python3.11/site-packages (from pandas->FuzzyTM>=0.4.0->gensim) (2.8.2)\n",
      "Requirement already satisfied: pytz>=2020.1 in /Users/camerondeardon/anaconda3/lib/python3.11/site-packages (from pandas->FuzzyTM>=0.4.0->gensim) (2022.7)\n",
      "Requirement already satisfied: tzdata>=2022.1 in /Users/camerondeardon/anaconda3/lib/python3.11/site-packages (from pandas->FuzzyTM>=0.4.0->gensim) (2023.3)\n",
      "Collecting numpy>=1.18.5 (from gensim)\n",
      "  Obtaining dependency information for numpy>=1.18.5 from https://files.pythonhosted.org/packages/c0/bc/77635c657a3668cf652806210b8662e1aff84b818a55ba88257abf6637a8/numpy-1.24.4-cp311-cp311-macosx_11_0_arm64.whl.metadata\n",
      "  Downloading numpy-1.24.4-cp311-cp311-macosx_11_0_arm64.whl.metadata (5.6 kB)\n",
      "Collecting simpful==2.12.0 (from pyfume->FuzzyTM>=0.4.0->gensim)\n",
      "  Obtaining dependency information for simpful==2.12.0 from https://files.pythonhosted.org/packages/9d/0e/aebc2fb0b0f481994179b2ee2b8e6bbf0894d971594688c018375e7076ea/simpful-2.12.0-py3-none-any.whl.metadata\n",
      "  Downloading simpful-2.12.0-py3-none-any.whl.metadata (4.8 kB)\n",
      "Collecting fst-pso==1.8.1 (from pyfume->FuzzyTM>=0.4.0->gensim)\n",
      "  Downloading fst-pso-1.8.1.tar.gz (18 kB)\n",
      "  Preparing metadata (setup.py) ... \u001b[?25ldone\n",
      "\u001b[?25hCollecting pandas (from FuzzyTM>=0.4.0->gensim)\n",
      "  Obtaining dependency information for pandas from https://files.pythonhosted.org/packages/b0/be/1843b9aff84b98899663e7cad9f45513dfdd11d69cb5bd85c648aaf6a8d4/pandas-1.5.3-cp311-cp311-macosx_11_0_arm64.whl.metadata\n",
      "  Downloading pandas-1.5.3-cp311-cp311-macosx_11_0_arm64.whl.metadata (11 kB)\n",
      "Collecting miniful (from fst-pso==1.8.1->pyfume->FuzzyTM>=0.4.0->gensim)\n",
      "  Downloading miniful-0.0.6.tar.gz (2.8 kB)\n",
      "  Preparing metadata (setup.py) ... \u001b[?25ldone\n",
      "\u001b[?25hRequirement already satisfied: six>=1.5 in /Users/camerondeardon/anaconda3/lib/python3.11/site-packages (from python-dateutil>=2.8.2->pandas->FuzzyTM>=0.4.0->gensim) (1.16.0)\n",
      "Downloading FuzzyTM-2.0.9-py3-none-any.whl (31 kB)\n",
      "Downloading pyFUME-0.3.4-py3-none-any.whl (60 kB)\n",
      "\u001b[2K   \u001b[90m━━━━━━━━━━━━━━━━━━━━━━━━━━━━━━━━━━━━━━━━\u001b[0m \u001b[32m60.3/60.3 kB\u001b[0m \u001b[31m3.2 MB/s\u001b[0m eta \u001b[36m0:00:00\u001b[0m\n",
      "\u001b[?25hDownloading numpy-1.24.4-cp311-cp311-macosx_11_0_arm64.whl (13.8 MB)\n",
      "\u001b[2K   \u001b[90m━━━━━━━━━━━━━━━━━━━━━━━━━━━━━━━━━━━━━━━━\u001b[0m \u001b[32m13.8/13.8 MB\u001b[0m \u001b[31m49.0 MB/s\u001b[0m eta \u001b[36m0:00:00\u001b[0m00:01\u001b[0m00:01\u001b[0m\n",
      "\u001b[?25hDownloading pandas-1.5.3-cp311-cp311-macosx_11_0_arm64.whl (10.8 MB)\n",
      "\u001b[2K   \u001b[90m━━━━━━━━━━━━━━━━━━━━━━━━━━━━━━━━━━━━━━━━\u001b[0m \u001b[32m10.8/10.8 MB\u001b[0m \u001b[31m59.7 MB/s\u001b[0m eta \u001b[36m0:00:00\u001b[0m \u001b[36m0:00:01\u001b[0m\n",
      "\u001b[?25hDownloading simpful-2.12.0-py3-none-any.whl (24 kB)\n",
      "Building wheels for collected packages: fst-pso, miniful\n",
      "  Building wheel for fst-pso (setup.py) ... \u001b[?25ldone\n",
      "\u001b[?25h  Created wheel for fst-pso: filename=fst_pso-1.8.1-py3-none-any.whl size=20430 sha256=b166f0c5a827aad931e9e84520e6dd2200847337fbd2fd2cdf3524091c6604b9\n",
      "  Stored in directory: /Users/camerondeardon/Library/Caches/pip/wheels/69/f5/e5/18ad53fe1ed6b2af9fad05ec052e4acbac8e92441df44bad2e\n",
      "  Building wheel for miniful (setup.py) ... \u001b[?25ldone\n",
      "\u001b[?25h  Created wheel for miniful: filename=miniful-0.0.6-py3-none-any.whl size=3513 sha256=394e02474e357b75eb1cc19e9f07fa9958f7c94f29f64805cdc8e2d83ac2e2c6\n",
      "  Stored in directory: /Users/camerondeardon/Library/Caches/pip/wheels/9d/ff/2f/afe4cd56f47de147407705626517d68bea0f3b74eb1fb168e6\n",
      "Successfully built fst-pso miniful\n",
      "Installing collected packages: numpy, pandas, simpful, miniful, fst-pso, pyfume, FuzzyTM\n",
      "  Attempting uninstall: numpy\n",
      "    Found existing installation: numpy 1.24.3\n",
      "    Uninstalling numpy-1.24.3:\n",
      "      Successfully uninstalled numpy-1.24.3\n",
      "  Attempting uninstall: pandas\n",
      "    Found existing installation: pandas 2.0.3\n",
      "    Uninstalling pandas-2.0.3:\n",
      "      Successfully uninstalled pandas-2.0.3\n",
      "\u001b[31mERROR: pip's dependency resolver does not currently take into account all the packages that are installed. This behaviour is the source of the following dependency conflicts.\n",
      "tables 3.8.0 requires blosc2~=2.0.0, which is not installed.\n",
      "tables 3.8.0 requires cython>=0.29.21, which is not installed.\u001b[0m\u001b[31m\n",
      "\u001b[0mSuccessfully installed FuzzyTM-2.0.9 fst-pso-1.8.1 miniful-0.0.6 numpy-1.24.4 pandas-1.5.3 pyfume-0.3.4 simpful-2.12.0\n",
      "Requirement already satisfied: nltk in /Users/camerondeardon/anaconda3/lib/python3.11/site-packages (3.8.1)\n",
      "Requirement already satisfied: click in /Users/camerondeardon/anaconda3/lib/python3.11/site-packages (from nltk) (8.0.4)\n",
      "Requirement already satisfied: joblib in /Users/camerondeardon/anaconda3/lib/python3.11/site-packages (from nltk) (1.2.0)\n",
      "Requirement already satisfied: regex>=2021.8.3 in /Users/camerondeardon/anaconda3/lib/python3.11/site-packages (from nltk) (2022.7.9)\n",
      "Requirement already satisfied: tqdm in /Users/camerondeardon/anaconda3/lib/python3.11/site-packages (from nltk) (4.65.0)\n",
      "Collecting vaderSentiment\n",
      "  Obtaining dependency information for vaderSentiment from https://files.pythonhosted.org/packages/76/fc/310e16254683c1ed35eeb97386986d6c00bc29df17ce280aed64d55537e9/vaderSentiment-3.3.2-py2.py3-none-any.whl.metadata\n",
      "  Using cached vaderSentiment-3.3.2-py2.py3-none-any.whl.metadata (572 bytes)\n",
      "Requirement already satisfied: requests in /Users/camerondeardon/anaconda3/lib/python3.11/site-packages (from vaderSentiment) (2.31.0)\n",
      "Requirement already satisfied: charset-normalizer<4,>=2 in /Users/camerondeardon/anaconda3/lib/python3.11/site-packages (from requests->vaderSentiment) (2.0.4)\n",
      "Requirement already satisfied: idna<4,>=2.5 in /Users/camerondeardon/anaconda3/lib/python3.11/site-packages (from requests->vaderSentiment) (3.4)\n",
      "Requirement already satisfied: urllib3<3,>=1.21.1 in /Users/camerondeardon/anaconda3/lib/python3.11/site-packages (from requests->vaderSentiment) (1.26.16)\n",
      "Requirement already satisfied: certifi>=2017.4.17 in /Users/camerondeardon/anaconda3/lib/python3.11/site-packages (from requests->vaderSentiment) (2023.7.22)\n",
      "Using cached vaderSentiment-3.3.2-py2.py3-none-any.whl (125 kB)\n",
      "Installing collected packages: vaderSentiment\n",
      "Successfully installed vaderSentiment-3.3.2\n"
     ]
    }
   ],
   "source": [
    "!pip install umap\n",
    "!pip install -U sentence-transformers\n",
    "!pip install hdbscan\n",
    "!pip install transformers\n",
    "!pip install torch torchvision torchaudio\n",
    "!pip install umap-learn\n",
    "!pip install gensim\n",
    "!pip install nltk\n",
    "!pip install vaderSentiment"
   ]
  },
  {
   "cell_type": "code",
   "execution_count": 2,
   "id": "6082433b-5e54-40d2-b9ca-892f2f5418b7",
   "metadata": {
    "tags": []
   },
   "outputs": [
    {
     "name": "stdout",
     "output_type": "stream",
     "text": [
      "Collecting contractions\n",
      "  Obtaining dependency information for contractions from https://files.pythonhosted.org/packages/bb/e4/725241b788963b460ce0118bfd5c505dd3d1bdd020ee740f9f39044ed4a7/contractions-0.1.73-py2.py3-none-any.whl.metadata\n",
      "  Using cached contractions-0.1.73-py2.py3-none-any.whl.metadata (1.2 kB)\n",
      "Collecting textsearch>=0.0.21 (from contractions)\n",
      "  Obtaining dependency information for textsearch>=0.0.21 from https://files.pythonhosted.org/packages/e2/0f/6f08dd89e9d71380a369b1f5b6c97a32d62fc9cfacc1c5b8329505b9e495/textsearch-0.0.24-py2.py3-none-any.whl.metadata\n",
      "  Using cached textsearch-0.0.24-py2.py3-none-any.whl.metadata (1.2 kB)\n",
      "Collecting anyascii (from textsearch>=0.0.21->contractions)\n",
      "  Obtaining dependency information for anyascii from https://files.pythonhosted.org/packages/4f/7b/a9a747e0632271d855da379532b05a62c58e979813814a57fa3b3afeb3a4/anyascii-0.3.2-py3-none-any.whl.metadata\n",
      "  Using cached anyascii-0.3.2-py3-none-any.whl.metadata (1.5 kB)\n",
      "Collecting pyahocorasick (from textsearch>=0.0.21->contractions)\n",
      "  Obtaining dependency information for pyahocorasick from https://files.pythonhosted.org/packages/f2/8b/e6baa0246d3126d509d56f55f8f8be7b9cd914d8f87d1277f25d9af55351/pyahocorasick-2.1.0-cp311-cp311-macosx_10_9_universal2.whl.metadata\n",
      "  Downloading pyahocorasick-2.1.0-cp311-cp311-macosx_10_9_universal2.whl.metadata (13 kB)\n",
      "Using cached contractions-0.1.73-py2.py3-none-any.whl (8.7 kB)\n",
      "Using cached textsearch-0.0.24-py2.py3-none-any.whl (7.6 kB)\n",
      "Using cached anyascii-0.3.2-py3-none-any.whl (289 kB)\n",
      "Downloading pyahocorasick-2.1.0-cp311-cp311-macosx_10_9_universal2.whl (63 kB)\n",
      "\u001b[2K   \u001b[90m━━━━━━━━━━━━━━━━━━━━━━━━━━━━━━━━━━━━━━━━\u001b[0m \u001b[32m63.7/63.7 kB\u001b[0m \u001b[31m1.3 MB/s\u001b[0m eta \u001b[36m0:00:00\u001b[0ma \u001b[36m0:00:01\u001b[0m\n",
      "\u001b[?25hInstalling collected packages: pyahocorasick, anyascii, textsearch, contractions\n",
      "Successfully installed anyascii-0.3.2 contractions-0.1.73 pyahocorasick-2.1.0 textsearch-0.0.24\n"
     ]
    }
   ],
   "source": [
    "!pip install contractions"
   ]
  },
  {
   "cell_type": "code",
   "execution_count": 3,
   "id": "c66a2b69-5a40-41d8-9ce5-0974682ce1ff",
   "metadata": {
    "tags": []
   },
   "outputs": [
    {
     "name": "stderr",
     "output_type": "stream",
     "text": [
      "[nltk_data] Downloading package stopwords to\n",
      "[nltk_data]     /Users/camerondeardon/nltk_data...\n",
      "[nltk_data]   Package stopwords is already up-to-date!\n",
      "[nltk_data] Downloading package punkt to\n",
      "[nltk_data]     /Users/camerondeardon/nltk_data...\n",
      "[nltk_data]   Package punkt is already up-to-date!\n",
      "[nltk_data] Downloading package wordnet to\n",
      "[nltk_data]     /Users/camerondeardon/nltk_data...\n",
      "[nltk_data]   Package wordnet is already up-to-date!\n"
     ]
    }
   ],
   "source": [
    "from vaderSentiment.vaderSentiment import SentimentIntensityAnalyzer\n",
    "from transformers import AutoTokenizer, AutoModelForSequenceClassification\n",
    "from sentence_transformers import SentenceTransformer\n",
    "import torch\n",
    "\n",
    "import pandas as pd\n",
    "import numpy as np\n",
    "from tqdm import tqdm, trange\n",
    "tqdm.pandas()\n",
    "\n",
    "import seaborn as sns\n",
    "\n",
    "from collections import Counter\n",
    "\n",
    "\n",
    "import gensim\n",
    "import gensim.corpora as corpora\n",
    "from gensim.utils import simple_preprocess\n",
    "from gensim.models import CoherenceModel, LdaModel\n",
    "from gensim.corpora import Dictionary\n",
    "from gensim.models.doc2vec import Doc2Vec, TaggedDocument\n",
    "\n",
    "import umap\n",
    "import umap.umap_ as umap\n",
    "import hdbscan\n",
    "import math\n",
    "\n",
    "import plotly.express as px\n",
    "import plotly.graph_objects as go\n",
    "from mpl_toolkits.mplot3d import Axes3D\n",
    "import plotly.offline as offline\n",
    "import plotly.graph_objects as go\n",
    "\n",
    "# from google.colab import files\n",
    "# from google.colab import auth\n",
    "# auth.authenticate_user()\n",
    "# import gspread\n",
    "# from google.auth import default\n",
    "# creds, _ = default()\n",
    "# gc = gspread.authorize(creds)\n",
    "# from gspread_dataframe import set_with_dataframe\n",
    "# from google.colab import drive\n",
    "# drive.mount('/content/gdrive')\n",
    "# path = f'/content/gdrive/My Drive'\n",
    "\n",
    "\n",
    "from IPython.display import HTML\n",
    "\n",
    "import nltk\n",
    "nltk.download('stopwords')\n",
    "from nltk.corpus import stopwords\n",
    "stop_words = stopwords.words('english')\n",
    "stopwords = set(stop_words)\n",
    "nltk.download('punkt')\n",
    "nltk.download('wordnet')\n",
    "\n",
    "import contractions\n",
    "import re\n",
    "import string\n",
    "from nltk.corpus import stopwords\n",
    "from nltk.tokenize import word_tokenize\n",
    "from nltk.stem import WordNetLemmatizer\n",
    "from nltk.stem import PorterStemmer\n",
    "from nltk.tokenize import word_tokenize\n",
    "from nltk.util import ngrams"
   ]
  },
  {
   "cell_type": "code",
   "execution_count": 4,
   "id": "4e80c7c5-8421-4715-8041-16b2e742083e",
   "metadata": {
    "tags": []
   },
   "outputs": [],
   "source": [
    "embeddings_model = SentenceTransformer('sentence-transformers/all-mpnet-base-v2')\n",
    "def get_document_embeddings(preprocessed_texts):\n",
    "    embeddings = embeddings_model.encode(preprocessed_texts)\n",
    "    return embeddings\n",
    "def preprocess_text(text):\n",
    "    lemmatizer = WordNetLemmatizer()\n",
    "    text = text.lower()\n",
    "    text = re.sub(r'http\\S+', '', text)\n",
    "    text = text.translate(str.maketrans('', '', string.punctuation))\n",
    "    words = word_tokenize(text)\n",
    "    words = [lemmatizer.lemmatize(word) for word in words]\n",
    "    bigrams = ngrams(words, 2)\n",
    "    words += [' '.join(bigram) for bigram in bigrams]\n",
    "    preprocessed_text = ' '.join(words)\n",
    "    return preprocessed_text"
   ]
  },
  {
   "cell_type": "code",
   "execution_count": 5,
   "id": "e43b6bf4-949c-4b52-89f0-802153df5dad",
   "metadata": {
    "tags": []
   },
   "outputs": [],
   "source": [
    "from sklearn.feature_extraction.text import TfidfVectorizer\n"
   ]
  },
  {
   "cell_type": "code",
   "execution_count": 6,
   "id": "50e7222d-9045-4de5-8094-e86953aae600",
   "metadata": {
    "tags": []
   },
   "outputs": [],
   "source": [
    "founder_description = [\n",
    "    \"I'm looking for a skilled programmer to join my startup.\",\n",
    "    \"Seeking a talented data scientist to cofound an AI company.\",\n",
    "    \"Need a UX designer to partner with for a new app.\",\n",
    "    \"Searching for a project manager to help lead a tech venture.\",\n",
    "    \"Looking for a DevOps engineer to cofound a software company.\",\n",
    "    \"Wanting to find a marketing expert to start an online business.\",\n",
    "    \"In need of a financial advisor to cofound a fintech startup.\",\n",
    "    \"Seeking a legal advisor to partner with for a legal tech firm.\",\n",
    "    \"Looking for a healthcare professional to cofound a health tech company.\",\n",
    "    \"Searching for an experienced sales manager to cofound a retail startup.\",\n",
    "    \"Wanting a blockchain expert to start a cryptocurrency company.\",\n",
    "    \"Seeking a machine learning specialist to cofound an analytics firm.\",\n",
    "    \"Need a cybersecurity expert to start a security tech company.\",\n",
    "    \"Looking for a cloud computing expert to cofound a SaaS company.\",\n",
    "    \"Searching for an IoT specialist to start a smart device company.\",\n",
    "    \"Wanting a mobile app developer to cofound an app-based business.\",\n",
    "    \"Seeking a big data analyst to start a data analytics firm.\",\n",
    "    \"Need an e-commerce specialist to cofound an online retail business.\",\n",
    "    \"Looking for a product manager to partner with for a new venture.\",\n",
    "    \"Searching for a biotech researcher to cofound a biotech startup.\",\n",
    "    \"Wanting an AR/VR developer to start an augmented reality company.\",\n",
    "    \"Seeking a digital marketing strategist to cofound a digital agency.\",\n",
    "    \"Need an AI researcher to start an artificial intelligence company.\",\n",
    "    \"Looking for a robotics engineer to cofound a robotics startup.\",\n",
    "    \"Searching for a sustainability expert to start a green tech company.\",\n",
    "    \"Wanting a web developer to cofound a web development business.\",\n",
    "    \"Seeking a content creator to start a media company.\",\n",
    "    \"Need a social media manager to cofound a social media agency.\",\n",
    "    \"Looking for a logistics expert to start a logistics tech company.\",\n",
    "    \"Searching for an educational technologist to cofound an edtech startup.\",\n",
    "    \"Wanting a hardware engineer to start a hardware tech company.\",\n",
    "    \"Seeking a game developer to cofound a gaming studio.\",\n",
    "    \"Need a network engineer to start a networking tech company.\",\n",
    "    \"Looking for a renewable energy expert to cofound a clean energy startup.\",\n",
    "    \"Searching for an interior designer to start a design firm.\",\n",
    "    \"Wanting an HR specialist to cofound a recruitment tech company.\",\n",
    "    \"Seeking a drone technology expert to start a drone tech company.\",\n",
    "    \"Need a quantum computing specialist to cofound a quantum tech firm.\",\n",
    "    \"Looking for a speech recognition expert to start a voice tech company.\",\n",
    "    \"Searching for an automotive engineer to cofound an auto tech startup.\",\n",
    "    \"Wanting a smart home technology specialist to start a smart home company.\",\n",
    "    \"Seeking a wearable tech developer to cofound a wearable tech startup.\",\n",
    "    \"Need a cybersecurity policy expert to start a security consultancy.\",\n",
    "    \"Looking for a privacy expert to cofound a privacy tech company.\",\n",
    "    \"Searching for a supply chain specialist to start a supply chain tech company.\",\n",
    "    \"Wanting an urban planner to cofound a smart city tech firm.\",\n",
    "    \"Seeking a 3D printing specialist to start a 3D printing business.\",\n",
    "    \"Need an aerospace engineer to cofound an aerospace tech company.\",\n",
    "    \"Looking for a space technology expert to start a space tech startup.\",\n",
    "    \"Searching for an automotive software developer to cofound an auto tech firm.\",\n",
    "    \"Wanting a natural language processing expert to start an NLP company.\",\n",
    "    \"Seeking a virtual reality expert to cofound a VR startup.\",\n",
    "    \"Need a software architect to start a software development firm.\",\n",
    "    \"Looking for an augmented reality specialist to cofound an AR startup.\",\n",
    "    \"Searching for a computer vision expert to start a computer vision company.\",\n",
    "    \"Wanting a database administrator to cofound a database tech firm.\",\n",
    "    \"Seeking a telecommunications expert to start a telecom tech company.\",\n",
    "    \"Need a cloud security expert to cofound a cloud security firm.\",\n",
    "    \"Looking for a video game designer to start a game development studio.\",\n",
    "    \"Searching for a fintech developer to cofound a fintech startup.\",\n",
    "    \"Wanting a health informatics specialist to start a health tech company.\",\n",
    "    \"Seeking a medical device developer to cofound a medtech startup.\",\n",
    "    \"Need a construction tech expert to start a construction tech company.\",\n",
    "    \"Looking for a transportation engineer to cofound a transportation tech firm.\",\n",
    "    \"Searching for an e-learning specialist to start an edtech company.\",\n",
    "    \"Wanting a wearable device developer to cofound a wearable tech firm.\",\n",
    "    \"Seeking a hospitality tech expert to start a hospitality tech company.\",\n",
    "    \"Need a retail tech specialist to cofound a retail tech startup.\",\n",
    "    \"Looking for a real estate tech expert to start a real estate tech company.\",\n",
    "    \"Searching for an agricultural tech specialist to cofound an agtech startup.\",\n",
    "    \"Wanting a chemical engineer to start a chemical tech company.\",\n",
    "    \"Seeking a materials scientist to cofound a materials tech startup.\",\n",
    "    \"Need a geneticist to start a genetic tech company.\",\n",
    "    \"Looking for a renewable energy engineer to cofound a renewable tech firm.\",\n",
    "    \"Searching for a biometric technology expert to start a biometrics company.\",\n",
    "    \"Wanting a voice recognition specialist to cofound a voice tech firm.\",\n",
    "    \"Seeking a geospatial analyst to start a geospatial tech company.\",\n",
    "    \"Need a market researcher to cofound a market research firm.\",\n",
    "    \"Looking for a virtual assistant developer to start a virtual assistant company.\",\n",
    "    \"Searching for a smart grid technology expert to cofound a smart grid startup.\",\n",
    "    \"Wanting a business intelligence specialist to start a BI company.\",\n",
    "    \"Seeking a neuromorphic computing expert to cofound a neuromorphic tech firm.\",\n",
    "    \"Need a photonics engineer to start a photonics tech company.\",\n",
    "    \"Looking for a satellite technology expert to cofound a satellite tech startup.\",\n",
    "    \"Searching for an environmental engineer to start an environmental tech company.\",\n",
    "    \"Wanting a gene editing specialist to cofound a gene editing firm.\",\n",
    "    \"Seeking a personalized medicine expert to start a personalized medicine company.\",\n",
    "    \"Need a marine biotechnologist to cofound a marine biotech startup.\",\n",
    "    \"Looking for a sports technology expert to start a sports tech company.\",\n",
    "    \"Searching for a smart textiles developer to cofound a smart textiles firm.\",\n",
    "    \"Wanting a pharmaceutical scientist to start a pharma tech company.\",\n",
    "    \"Seeking a VR content creator to cofound a VR content studio.\",\n",
    "    \"Need an AI ethics specialist to start an AI ethics consultancy.\",\n",
    "    \"Looking for a financial technology expert to cofound a fintech firm.\",\n",
    "    \"Searching for a green building specialist to start a green building company.\",\n",
    "    \"Wanting an innovation strategist to cofound an innovation consultancy.\",\n",
    "    \"Seeking a public health technologist to start a public health tech firm.\",\n",
    "    \"Need a clinical research scientist to cofound a clinical research startup.\",\n",
    "    \"Looking for a veterinary technologist to start a veterinary tech company.\",\n",
    "    \"Searching for a mental health tech specialist to cofound a mental health startup.\",\n",
    "    \"Wanting a hydrology expert to start a water tech company.\",\n",
    "    \"Seeking a computational biologist to cofound a computational biology firm.\",\n",
    "    \"Need a nuclear engineer to start a nuclear tech company.\",\n",
    "    \"Looking for a creative technologist to cofound a creative tech startup.\",\n",
    "    \"Searching for a data privacy advocate to start a data privacy firm.\",\n",
    "    \"Wanting a personal finance advisor to cofound a personal finance tech company.\",\n",
    "    \"Seeking a disaster recovery specialist to start a disaster recovery firm.\",\n",
    "    \"Need a telemedicine expert to cofound a telemedicine startup.\",\n",
    "    \"Looking for a cloud solutions architect to start a cloud solutions company.\",\n",
    "    \"Searching for a proptech developer to cofound a proptech startup.\",\n",
    "    \"Wanting a healthcare data analyst to start a healthcare data firm.\",\n",
    "    \"Seeking a behavioral economist to cofound a behavioral economics startup.\",\n",
    "    \"Need a consumer psychologist to start a consumer tech company.\",\n",
    "    \"Looking for an exercise scientist to cofound a fitness tech startup.\",\n",
    "    \"Searching for a marine ecologist to start a marine tech company.\",\n",
    "    \"Wanting an insurance technology expert to cofound an insurtech firm.\",\n",
    "    \"Seeking a precision agriculture specialist to start a precision agtech company.\",\n",
    "    \"Need a human-centered designer to cofound a human-centered design firm.\",\n",
    "    \"Looking for a smart mobility expert to start a smart mobility company.\",\n",
    "    \"Searching for a pet technology developer to cofound a pet tech startup.\",\n",
    "    \"Wanting a personalized nutrition expert to start a personalized nutrition company.\",\n",
    "    \"Seeking a cultural technologist to cofound a cultural tech firm.\",\n",
    "    \"Need a microbial technologist to start a microbial tech company.\",\n",
    "    \"Looking for an electromobility specialist to cofound an electromobility startup.\",\n",
    "    \"Searching for a civic technology expert to start a civic tech company.\",\n",
    "    \"Wanting a bioinformatics specialist to cofound a bioinformatics firm.\",\n",
    "    \"Seeking a fashion technologist to start a fashion tech company.\",\n",
    "    \"Need a holography expert to cofound a holography tech startup.\",\n",
    "    \"Looking for a quantum cryptography specialist to start a quantum cryptography firm.\",\n",
    "    \"Searching for an exoskeleton technology expert to cofound an exoskeleton tech company.\",\n",
    "    \"Wanting a climate data analyst to start a climate tech company.\",\n",
    "    \"Seeking an autonomous vehicle developer to cofound an autonomous vehicle firm.\",\n",
    "    \"Need a mobile health technology expert to start a mobile health tech company.\",\n",
    "    \"Looking for an artificial general intelligence researcher to cofound an AGI startup.\",\n",
    "    \"Searching for a sensory technology specialist to start a sensory tech company.\",\n",
    "    \"Wanting a synthetic biology expert to cofound a synthetic biology firm.\",\n",
    "    \"Seeking a smart contract developer to start a blockchain tech company.\",\n",
    "    \"Need an AI-powered marketing specialist to cofound a marketing tech firm.\",\n",
    "    \"Looking for a real-time data analyst to start a real-time data company.\",\n",
    "    \"Searching for an energy storage expert to cofound an energy storage tech firm.\",\n",
    "    \"Wanting a space tourism developer to start a space tourism company.\",\n",
    "    \"Seeking a space resource utilization specialist to cofound a space resource tech firm.\",\n",
    "    \"Need a social robotics expert to start a social robotics company.\",\n",
    "    \"Looking for a gesture recognition specialist to cofound a gesture tech startup.\",\n",
    "    \"Searching for an exoplanet scientist to start a space exploration company.\",\n",
    "    \"Wanting a bioethicist to cofound a bioethics tech firm.\",\n",
    "    \"Seeking a microbial fuel cell specialist to start a bioenergy tech company.\",\n",
    "    \"Need a hydroponics expert to cofound an urban farming tech startup.\",\n",
    "    \"Looking for a distributed ledger technologist to start a blockchain tech firm.\",\n",
    "    \"Searching for a smart fabric developer to cofound a wearable tech company.\",\n",
    "    \"Wanting a cognitive computing specialist to start a cognitive tech firm.\",\n",
    "    \"Seeking a space habitat engineer to cofound a space tech company.\",\n",
    "    \"Need an intelligent transportation systems expert to start a transportation tech firm.\",\n",
    "    \"Looking for a biosensor developer to cofound a biosensor tech startup.\",\n",
    "    \"Searching for a nanoengineering expert to start a nanotech company.\",\n",
    "    \"Wanting a behavioral data analyst to cofound a behavioral tech firm.\",\n",
    "    \"Seeking a precision medicine technologist to start a precision medicine company.\",\n",
    "    \"Need an autonomous drone developer to cofound a drone tech startup.\"]\n",
    "\n",
    "\n"
   ]
  },
  {
   "cell_type": "code",
   "execution_count": 7,
   "id": "098e9d02-3650-47c0-93b1-759be45f51c6",
   "metadata": {
    "tags": []
   },
   "outputs": [],
   "source": [
    "founders = pd.DataFrame(founder_description)\n",
    "founders = founders.rename(columns  = {0:'Description'})\n",
    "founders['Type'] = 'founder'"
   ]
  },
  {
   "cell_type": "code",
   "execution_count": 8,
   "id": "d5abe60e-e469-4344-a2ae-b40d6f8b4dc4",
   "metadata": {
    "tags": []
   },
   "outputs": [],
   "source": [
    "talent_description =[\n",
    "    \"I'm a skilled programmer looking to join a startup.\",\n",
    "    \"Experienced data scientist seeking to partner with a founder.\",\n",
    "    \"Talented UX designer looking for a cofounder with a strong business plan.\",\n",
    "    \"Project manager in search of a tech-savvy founder to start a business.\",\n",
    "    \"DevOps engineer looking to cofound a software company.\",\n",
    "    \"Marketing expert seeking a founder to start an online business.\",\n",
    "    \"Financial advisor looking for a fintech startup to join.\",\n",
    "    \"Legal advisor in search of a legal tech startup to cofound.\",\n",
    "    \"Healthcare professional seeking a health tech founder to partner with.\",\n",
    "    \"Sales manager looking for a retail startup to cofound.\",\n",
    "    \"Blockchain expert in search of a cryptocurrency company to start.\",\n",
    "    \"Machine learning specialist looking to cofound an analytics firm.\",\n",
    "    \"Cybersecurity expert seeking a security tech company to join.\",\n",
    "    \"Cloud computing expert in search of a SaaS startup to cofound.\",\n",
    "    \"IoT specialist looking to partner with a smart device company founder.\",\n",
    "    \"Mobile app developer seeking a cofounder for an app-based business.\",\n",
    "    \"Big data analyst looking to start a data analytics firm.\",\n",
    "    \"E-commerce specialist seeking a cofounder for an online retail business.\",\n",
    "    \"Product manager in search of a new venture to cofound.\",\n",
    "    \"Biotech researcher looking to join a biotech startup as a cofounder.\",\n",
    "    \"AR/VR developer seeking to start an augmented reality company.\",\n",
    "    \"Digital marketing strategist looking to cofound a digital agency.\",\n",
    "    \"AI researcher seeking to partner with a founder for an AI company.\",\n",
    "    \"Robotics engineer looking to start a robotics tech company.\",\n",
    "    \"Sustainability expert in search of a green tech startup to join.\",\n",
    "    \"Web developer seeking a cofounder for a web development business.\",\n",
    "    \"Content creator looking to start a media company.\",\n",
    "    \"Social media manager seeking a cofounder for a social media agency.\",\n",
    "    \"Logistics expert looking to join a logistics tech startup.\",\n",
    "    \"Educational technologist seeking a cofounder for an edtech startup.\",\n",
    "    \"Hardware engineer looking to start a hardware tech company.\",\n",
    "    \"Game developer in search of a cofounder for a gaming studio.\",\n",
    "    \"Network engineer seeking to start a networking tech company.\",\n",
    "    \"Renewable energy expert looking to join a clean energy startup.\",\n",
    "    \"Interior designer seeking a cofounder for a design firm.\",\n",
    "    \"HR specialist looking to start a recruitment tech company.\",\n",
    "    \"Drone technology expert in search of a drone tech startup.\",\n",
    "    \"Quantum computing specialist looking to cofound a quantum tech firm.\",\n",
    "    \"Speech recognition expert seeking a voice tech company to join.\",\n",
    "    \"Automotive engineer in search of a cofounder for an auto tech startup.\",\n",
    "    \"Smart home technology specialist looking to start a smart home company.\",\n",
    "    \"Wearable tech developer seeking a cofounder for a wearable tech startup.\",\n",
    "    \"Cybersecurity policy expert looking to start a security consultancy.\",\n",
    "    \"Privacy expert in search of a privacy tech company to join.\",\n",
    "    \"Supply chain specialist seeking to start a supply chain tech company.\",\n",
    "    \"Urban planner looking to cofound a smart city tech firm.\",\n",
    "    \"3D printing specialist seeking to start a 3D printing business.\",\n",
    "    \"Aerospace engineer looking to join an aerospace tech company.\",\n",
    "    \"Space technology expert in search of a space tech startup.\",\n",
    "    \"Automotive software developer looking to start an auto tech firm.\",\n",
    "    \"Natural language processing expert seeking a cofounder for an NLP company.\",\n",
    "    \"Virtual reality expert looking to start a VR tech company.\",\n",
    "    \"Software architect seeking to cofound a software development firm.\",\n",
    "    \"Augmented reality specialist looking to join an AR tech startup.\",\n",
    "    \"Computer vision expert seeking a cofounder for a computer vision company.\",\n",
    "    \"Database administrator looking to start a database tech firm.\",\n",
    "    \"Telecommunications expert seeking to cofound a telecom tech company.\",\n",
    "    \"Cloud security expert looking to join a cloud security firm.\",\n",
    "    \"Video game designer seeking a cofounder for a game development studio.\",\n",
    "    \"Fintech developer looking to join a fintech startup.\",\n",
    "    \"Health informatics specialist seeking a cofounder for a health tech company.\",\n",
    "    \"Medical device developer looking to start a medtech startup.\",\n",
    "    \"Construction tech expert in search of a construction tech company.\",\n",
    "    \"Transportation engineer looking to join a transportation tech firm.\",\n",
    "    \"E-learning specialist seeking a cofounder for an edtech company.\",\n",
    "    \"Wearable device developer looking to join a wearable tech firm.\",\n",
    "    \"Hospitality tech expert seeking a cofounder for a hospitality tech company.\",\n",
    "    \"Retail tech specialist looking to join a retail tech startup.\",\n",
    "    \"Real estate tech expert seeking to start a real estate tech company.\",\n",
    "    \"Agricultural tech specialist looking to join an agtech startup.\",\n",
    "    \"Chemical engineer seeking a cofounder for a chemical tech company.\",\n",
    "    \"Materials scientist looking to join a materials tech startup.\",\n",
    "    \"Geneticist in search of a genomics tech company to cofound.\",\n",
    "    \"Renewable energy engineer seeking a cofounder for a renewable tech firm.\",\n",
    "    \"Biometric technology expert looking to start a biometrics company.\",\n",
    "    \"Voice recognition specialist seeking to join a voice tech firm.\",\n",
    "    \"Geospatial analyst looking to start a geospatial tech company.\",\n",
    "    \"Market researcher seeking a cofounder for a market research firm.\",\n",
    "    \"Virtual assistant developer looking to join a virtual assistant company.\",\n",
    "    \"Smart grid technology expert seeking to start a smart grid startup.\",\n",
    "    \"Business intelligence specialist looking to join a BI company.\",\n",
    "    \"Neuromorphic computing expert seeking a cofounder for a neuromorphic tech firm.\",\n",
    "    \"Photonics engineer looking to start a photonics tech company.\",\n",
    "    \"Satellite technology expert seeking to join a satellite tech startup.\",\n",
    "    \"Environmental engineer looking to start an environmental tech company.\",\n",
    "    \"Gene editing specialist seeking to cofound a gene editing firm.\",\n",
    "    \"Personalized medicine expert looking to join a personalized medicine company.\",\n",
    "    \"Marine biotechnologist seeking a cofounder for a marine biotech startup.\",\n",
    "    \"Sports technology expert looking to start a sports tech company.\",\n",
    "    \"Smart textiles developer seeking a cofounder for a smart textiles firm.\",\n",
    "    \"Pharmaceutical scientist looking to join a pharma tech company.\",\n",
    "    \"VR content creator seeking to start a VR content studio.\",\n",
    "    \"AI ethics specialist looking to cofound an AI ethics consultancy.\",\n",
    "    \"Financial technology expert seeking to join a fintech firm.\",\n",
    "    \"Green building specialist looking to start a green building company.\",\n",
    "    \"Innovation strategist seeking a cofounder for an innovation consultancy.\",\n",
    "    \"Public health technologist looking to join a public health tech firm.\",\n",
    "    \"Clinical research scientist seeking a cofounder for a clinical research startup.\",\n",
    "    \"Veterinary technologist looking to join a veterinary tech company.\",\n",
    "    \"Mental health tech specialist seeking to cofound a mental health startup.\",\n",
    "    \"Hydrology expert looking to start a water tech company.\",\n",
    "    \"Computational biologist seeking a cofounder for a computational biology firm.\",\n",
    "    \"Nuclear engineer looking to start a nuclear tech company.\",\n",
    "    \"Creative technologist seeking to join a creative tech startup.\",\n",
    "    \"Data privacy advocate looking to cofound a data privacy firm.\",\n",
    "    \"Personal finance advisor seeking to join a personal finance tech company.\",\n",
    "    \"Disaster recovery specialist looking to start a disaster recovery firm.\",\n",
    "    \"Telemedicine expert seeking a cofounder for a telemedicine startup.\",\n",
    "    \"Cloud solutions architect looking to join a cloud solutions company.\",\n",
    "    \"Proptech developer seeking to cofound a proptech startup.\",\n",
    "    \"Healthcare data analyst looking to join a healthcare data firm.\",\n",
    "    \"Behavioral economist seeking a cofounder for a behavioral economics startup.\",\n",
    "    \"Consumer psychologist looking to start a consumer tech company.\",\n",
    "    \"Exercise scientist seeking a cofounder for a fitness tech startup.\",\n",
    "    \"Marine ecologist looking to join a marine tech company.\",\n",
    "    \"Insurance technology expert seeking to cofound an insurtech firm.\",\n",
    "    \"Precision agriculture specialist looking to start a precision agtech company.\",\n",
    "    \"Human-centered designer seeking a cofounder for a human-centered design firm.\",\n",
    "    \"Smart mobility expert looking to join a smart mobility company.\",\n",
    "    \"Pet technology developer seeking a cofounder for a pet tech startup.\",\n",
    "    \"Personalized nutrition expert looking to join a personalized nutrition company.\",\n",
    "    \"Cultural technologist seeking to cofound a cultural tech firm.\",\n",
    "    \"Microbial technologist looking to start a microbial tech company.\",\n",
    "    \"Electromobility specialist seeking a cofounder for an electromobility startup.\",\n",
    "    \"Civic technology expert looking to join a civic tech company.\",\n",
    "    \"Bioinformatics specialist seeking to cofound a bioinformatics firm.\",\n",
    "    \"Fashion technologist looking to start a fashion tech company.\",\n",
    "    \"Holography expert seeking a cofounder for a holography tech startup.\",\n",
    "    \"Quantum cryptography specialist looking to join a quantum cryptography firm.\",\n",
    "    \"Exoskeleton technology expert seeking to cofound an exoskeleton tech company.\",\n",
    "    \"Climate data analyst looking to start a climate tech company.\",\n",
    "    \"Autonomous vehicle developer seeking a cofounder for an autonomous vehicle firm.\",\n",
    "    \"Mobile health technology expert looking to join a mobile health tech company.\",\n",
    "    \"Artificial general intelligence researcher seeking a cofounder for an AGI startup.\",\n",
    "    \"Sensory technology specialist looking to start a sensory tech company.\",\n",
    "    \"Synthetic biology expert seeking a cofounder for a synthetic biology firm.\",\n",
    "    \"Smart contract developer looking to join a blockchain tech company.\",\n",
    "    \"AI-powered marketing specialist seeking a cofounder for a marketing tech firm.\",\n",
    "    \"Real-time data analyst looking to start a real-time data company.\"]"
   ]
  },
  {
   "cell_type": "code",
   "execution_count": 9,
   "id": "651ea734-3596-4295-935f-bd47ecaf8a16",
   "metadata": {
    "tags": []
   },
   "outputs": [],
   "source": [
    "talent = pd.DataFrame(talent_description)\n",
    "talent = talent.rename(columns  = {0:'Description'})\n",
    "talent['Type'] = 'talent'\n",
    "df = pd.concat([founders,talent],axis = 0)\n"
   ]
  },
  {
   "cell_type": "code",
   "execution_count": 10,
   "id": "0f1ab761-7081-4658-aac8-07acef1ad456",
   "metadata": {
    "tags": []
   },
   "outputs": [],
   "source": [
    "df = pd.concat([founders,talent],axis = 0)"
   ]
  },
  {
   "cell_type": "code",
   "execution_count": 11,
   "id": "62929023-73a0-4cb1-bc8c-db8136aeeefe",
   "metadata": {
    "tags": []
   },
   "outputs": [],
   "source": [
    "df['embeddings'] = df['Description'].apply(lambda x:get_document_embeddings(x))"
   ]
  },
  {
   "cell_type": "code",
   "execution_count": 54,
   "id": "ec229140-53b1-4b80-85cc-a4c31e806b67",
   "metadata": {
    "tags": []
   },
   "outputs": [
    {
     "name": "stderr",
     "output_type": "stream",
     "text": [
      "/Users/camerondeardon/anaconda3/envs/machine_learningenv/lib/python3.10/site-packages/umap/umap_.py:1945: UserWarning:\n",
      "\n",
      "n_jobs value 1 overridden to 1 by setting random_state. Use no seed for parallelism.\n",
      "\n"
     ]
    }
   ],
   "source": [
    "# Build UMAP Projection\n",
    "umap_model = umap.UMAP(n_neighbors=3, n_components = 2, min_dist=0.000, metric='correlation', random_state=42)\n",
    "topics_2d = umap_model.fit_transform(df['embeddings'].tolist())\n",
    "df['X'] = topics_2d[:, 0]\n",
    "df['Y'] = topics_2d[:, 1]\n",
    "#df_filtered_with_filtered_comments['Z'] = topics_2d[:, 2]\n",
    "\n",
    "#df_filtered_with_filtered_comments['Z'] = topics_2d[:, 2]\n",
    "\n",
    "# Cluster with HDBSCAN\n",
    "cluster = hdbscan.HDBSCAN(min_cluster_size=5, min_samples = 5, metric = 'euclidean')\n",
    "df['cluster'] = cluster.fit_predict(topics_2d)\n",
    "\n",
    "\n",
    "unique_clusters = df['cluster'].unique()\n",
    "num_clusters = len(unique_clusters) - 1"
   ]
  },
  {
   "cell_type": "code",
   "execution_count": 55,
   "id": "5bac1246-aa59-4799-8ae5-769f3f472663",
   "metadata": {
    "tags": []
   },
   "outputs": [],
   "source": [
    "from sklearn.feature_extraction.text import TfidfVectorizer\n",
    "from sklearn.decomposition import NMF\n",
    "def get_top_n_words(tfidf, nmf, n_top_words=5):\n",
    "    \"\"\"Extract top words from NMF components.\"\"\"\n",
    "    feature_names = tfidf.get_feature_names_out()\n",
    "    top_words_dict = {}\n",
    "    for topic_idx, topic in enumerate(nmf.components_):\n",
    "        top_feature_ind = topic.argsort()[:-n_top_words - 1:-1]\n",
    "        top_words_dict[topic_idx] = [feature_names[i] for i in top_feature_ind]\n",
    "    return top_words_dict\n"
   ]
  },
  {
   "cell_type": "code",
   "execution_count": 56,
   "id": "80d49805-fab9-49c3-82e8-e5fa91bc9160",
   "metadata": {
    "tags": []
   },
   "outputs": [],
   "source": [
    "def get_top_n_words(tfidf, nmf, n_top_words=5):\n",
    "    \"\"\"Extract top words from NMF components.\"\"\"\n",
    "    feature_names = tfidf.get_feature_names_out()\n",
    "    top_words_dict = {}\n",
    "    for topic_idx, topic in enumerate(nmf.components_):\n",
    "        top_feature_ind = topic.argsort()[:-n_top_words - 1:-1]\n",
    "        top_words_dict[topic_idx] = [feature_names[i] for i in top_feature_ind]\n",
    "    return top_words_dict\n"
   ]
  },
  {
   "cell_type": "code",
   "execution_count": 57,
   "id": "54513c67-0085-46f7-b55e-63781af1b979",
   "metadata": {
    "tags": []
   },
   "outputs": [],
   "source": [
    "from collections import defaultdict\n"
   ]
  },
  {
   "cell_type": "code",
   "execution_count": 58,
   "id": "89172f31-150b-4b9e-8680-ce8bae8c0f8c",
   "metadata": {
    "tags": []
   },
   "outputs": [
    {
     "name": "stderr",
     "output_type": "stream",
     "text": [
      "[nltk_data] Downloading package stopwords to\n",
      "[nltk_data]     /Users/camerondeardon/nltk_data...\n",
      "[nltk_data]   Package stopwords is already up-to-date!\n"
     ]
    }
   ],
   "source": [
    "# 1. Efficient Cluster Grouping\n",
    "cluster_texts = defaultdict(list)  # Store texts by cluster label\n",
    "\n",
    "# stop_words = set(stopwords.words('english'))\n",
    "# stop_words.update([\n",
    "#     \"nan\", \"Hey\", \"Hi\", \"coming\", \"Mr\", \"M\",\n",
    "#     \"https\", \"www\", \"WWW\", \"video\", \".com\", \"bit\", \"ly\", \"true\", \"false\",\"spark\",\"nudge\"\n",
    "# ])\n",
    "for cluster, text in zip(df['cluster'], df['Description']):\n",
    "    cluster_texts[cluster].append(text)\n",
    "nltk.download('stopwords')\n",
    "stop_words = list(stopwords.words('english'))  # Convert to list\n",
    "vectorizer = TfidfVectorizer(stop_words=stop_words)\n",
    "all_texts = [text for texts in cluster_texts.values() for text in texts]\n",
    "tfidf_matrix = vectorizer.fit_transform(all_texts)\n",
    "feature_names = vectorizer.get_feature_names_out()\n",
    "# 3. Extract Top Words PER CLUSTER\n",
    "cluster_top_words = {}\n",
    "for cluster, texts in cluster_texts.items():\n",
    "    # Find indices of this cluster's documents in the overall matrix\n",
    "    cluster_indices = [all_texts.index(text) for text in texts]\n",
    "\n",
    "    # Get TF-IDF scores for only those documents\n",
    "    cluster_tfidf = tfidf_matrix[cluster_indices, :]\n",
    "\n",
    "    # Sum scores within the cluster to get per-word importance\n",
    "    word_scores = cluster_tfidf.sum(axis=0).A1\n",
    "\n",
    "    # Sort by score, take top 20 words (or however many you want)\n",
    "    top_indices = word_scores.argsort()[-20:][::-1]\n",
    "    top_words = [feature_names[i] for i in top_indices]\n",
    "\n",
    "    cluster_top_words[cluster] = \" \".join(top_words)\n",
    "\n",
    "# 4. Assign Top Words and Colors to DataFrame (same as before)\n",
    "df['cluster_top_words'] = df['cluster'].map(cluster_top_words)"
   ]
  },
  {
   "cell_type": "code",
   "execution_count": 59,
   "id": "cbcdd480-5789-449f-800f-fc073fdbea39",
   "metadata": {
    "tags": []
   },
   "outputs": [
    {
     "data": {
      "text/html": [
       "<div>\n",
       "<style scoped>\n",
       "    .dataframe tbody tr th:only-of-type {\n",
       "        vertical-align: middle;\n",
       "    }\n",
       "\n",
       "    .dataframe tbody tr th {\n",
       "        vertical-align: top;\n",
       "    }\n",
       "\n",
       "    .dataframe thead th {\n",
       "        text-align: right;\n",
       "    }\n",
       "</style>\n",
       "<table border=\"1\" class=\"dataframe\">\n",
       "  <thead>\n",
       "    <tr style=\"text-align: right;\">\n",
       "      <th></th>\n",
       "      <th>Description</th>\n",
       "      <th>Type</th>\n",
       "      <th>embeddings</th>\n",
       "      <th>X</th>\n",
       "      <th>Y</th>\n",
       "      <th>cluster</th>\n",
       "      <th>cluster_top_words</th>\n",
       "      <th>Color_x</th>\n",
       "      <th>Color_y</th>\n",
       "      <th>Color</th>\n",
       "    </tr>\n",
       "  </thead>\n",
       "  <tbody>\n",
       "    <tr>\n",
       "      <th>0</th>\n",
       "      <td>I'm looking for a skilled programmer to join m...</td>\n",
       "      <td>founder</td>\n",
       "      <td>[0.03264059, 0.089578815, -0.046542894, -0.014...</td>\n",
       "      <td>-6.024732</td>\n",
       "      <td>3.384836</td>\n",
       "      <td>3</td>\n",
       "      <td>cloud software looking cofound architect solut...</td>\n",
       "      <td>NaN</td>\n",
       "      <td>NaN</td>\n",
       "      <td>#00AA61</td>\n",
       "    </tr>\n",
       "    <tr>\n",
       "      <th>1</th>\n",
       "      <td>Seeking a talented data scientist to cofound a...</td>\n",
       "      <td>founder</td>\n",
       "      <td>[0.033869557, 0.09746105, -0.04602983, -0.0076...</td>\n",
       "      <td>7.186489</td>\n",
       "      <td>3.915409</td>\n",
       "      <td>7</td>\n",
       "      <td>ai voice specialist recognition marketing ethi...</td>\n",
       "      <td>#CBB4F9</td>\n",
       "      <td>#F96041</td>\n",
       "      <td>#FCBC68</td>\n",
       "    </tr>\n",
       "    <tr>\n",
       "      <th>2</th>\n",
       "      <td>Need a UX designer to partner with for a new app.</td>\n",
       "      <td>founder</td>\n",
       "      <td>[0.057120495, 0.10051528, -0.036583375, -0.002...</td>\n",
       "      <td>9.778788</td>\n",
       "      <td>0.678744</td>\n",
       "      <td>8</td>\n",
       "      <td>designer game app developer cofounder web desi...</td>\n",
       "      <td>NaN</td>\n",
       "      <td>#D8301A</td>\n",
       "      <td>#00AA61</td>\n",
       "    </tr>\n",
       "    <tr>\n",
       "      <th>3</th>\n",
       "      <td>Searching for a project manager to help lead a...</td>\n",
       "      <td>founder</td>\n",
       "      <td>[0.051257115, 0.07779431, -0.025873205, -0.012...</td>\n",
       "      <td>-3.514989</td>\n",
       "      <td>0.255322</td>\n",
       "      <td>-1</td>\n",
       "      <td>company marine tech expert start personalized ...</td>\n",
       "      <td>#330B7F</td>\n",
       "      <td>NaN</td>\n",
       "      <td>#00AA61</td>\n",
       "    </tr>\n",
       "    <tr>\n",
       "      <th>4</th>\n",
       "      <td>Looking for a DevOps engineer to cofound a sof...</td>\n",
       "      <td>founder</td>\n",
       "      <td>[0.043811567, 0.05904797, -0.03716953, -0.0250...</td>\n",
       "      <td>-5.589099</td>\n",
       "      <td>3.364310</td>\n",
       "      <td>3</td>\n",
       "      <td>cloud software looking cofound architect solut...</td>\n",
       "      <td>NaN</td>\n",
       "      <td>NaN</td>\n",
       "      <td>#00AA61</td>\n",
       "    </tr>\n",
       "  </tbody>\n",
       "</table>\n",
       "</div>"
      ],
      "text/plain": [
       "                                         Description     Type  \\\n",
       "0  I'm looking for a skilled programmer to join m...  founder   \n",
       "1  Seeking a talented data scientist to cofound a...  founder   \n",
       "2  Need a UX designer to partner with for a new app.  founder   \n",
       "3  Searching for a project manager to help lead a...  founder   \n",
       "4  Looking for a DevOps engineer to cofound a sof...  founder   \n",
       "\n",
       "                                          embeddings         X         Y  \\\n",
       "0  [0.03264059, 0.089578815, -0.046542894, -0.014... -6.024732  3.384836   \n",
       "1  [0.033869557, 0.09746105, -0.04602983, -0.0076...  7.186489  3.915409   \n",
       "2  [0.057120495, 0.10051528, -0.036583375, -0.002...  9.778788  0.678744   \n",
       "3  [0.051257115, 0.07779431, -0.025873205, -0.012... -3.514989  0.255322   \n",
       "4  [0.043811567, 0.05904797, -0.03716953, -0.0250... -5.589099  3.364310   \n",
       "\n",
       "   cluster                                  cluster_top_words  Color_x  \\\n",
       "0        3  cloud software looking cofound architect solut...      NaN   \n",
       "1        7  ai voice specialist recognition marketing ethi...  #CBB4F9   \n",
       "2        8  designer game app developer cofounder web desi...      NaN   \n",
       "3       -1  company marine tech expert start personalized ...  #330B7F   \n",
       "4        3  cloud software looking cofound architect solut...      NaN   \n",
       "\n",
       "   Color_y    Color  \n",
       "0      NaN  #00AA61  \n",
       "1  #F96041  #FCBC68  \n",
       "2  #D8301A  #00AA61  \n",
       "3      NaN  #00AA61  \n",
       "4      NaN  #00AA61  "
      ]
     },
     "execution_count": 59,
     "metadata": {},
     "output_type": "execute_result"
    }
   ],
   "source": [
    "df.head()"
   ]
  },
  {
   "cell_type": "code",
   "execution_count": 60,
   "id": "f761eef5-ad23-4c28-8074-6095f9c000e3",
   "metadata": {
    "tags": []
   },
   "outputs": [],
   "source": [
    "import random"
   ]
  },
  {
   "cell_type": "code",
   "execution_count": 61,
   "id": "900451d9-68ad-432e-ba7d-6326b0d6a439",
   "metadata": {
    "tags": []
   },
   "outputs": [],
   "source": [
    "hex_colors = [\n",
    "    '#00AA61', '#017551', '#95F9AF', '#E28DDE', '#FCBC68', '#75EABD', '#CBB4F9', '#5018A8',\n",
    "    '#029B55', '#F7B7F1', '#DEFCE5', '#D8301A', '#037F44', '#F96041', '#330B7F', '#035E42',\n",
    "    '#F29A30', '#CECECE', '#F9E7D4', '#A5160F', '#D17B1E', '#DEF9EE', '#02442E', '#005D40',\n",
    "    '#474747', '#02442E', '#035E42', '#F9E7D4', '#F29A30', '#D17B1E', '#F96041', '#A5160F',\n",
    "    '#035E42', '#330B7F', '#CECECE', '#FF5733', '#33FF57', '#3357FF', '#F333FF', '#FF33F3',\n",
    "    '#33FFF3', '#F3FF33', '#33F3FF', '#FF3380', '#8033FF', '#FF8C33', '#3380FF', '#80FF33',\n",
    "    '#3380FF', '#FF5733', '#80FF33', '#3380FF', '#FF5733', '#33FF57', '#3357FF', '#F333FF',\n",
    "    '#FF33F3', '#33FFF3', '#F3FF33', '#33F3FF', '#FF3380', '#8033FF', '#FF8C33', '#3380FF',\n",
    "    '#80FF33', '#3380FF', '#FF5733', '#80FF33', '#3380FF', '#FF5733', '#33FF57', '#3357FF',\n",
    "    '#F333FF', '#FF33F3', '#33FFF3', '#F3FF33', '#33F3FF', '#FF3380', '#8033FF', '#FF8C33',\n",
    "    '#3380FF', '#80FF33', '#3380FF', '#FF5733', '#80FF33', '#3380FF', '#FF5733', '#33FF57',\n",
    "    '#3357FF', '#F333FF', '#FF33F3', '#33FFF3', '#F3FF33', '#33F3FF', '#FF3380', '#8033FF'\n",
    "]\n",
    "\n",
    "\n",
    "cluster_labels = list(set([random.randint(0, len(df['cluster'].unique())) for _ in range(100)]))  # Example cluster labels\n",
    "\n",
    "# Ensure we have enough colors for the clusters\n",
    "if len(hex_colors) < len(cluster_labels):\n",
    "    raise ValueError(\"Not enough colors for the number of clusters\")\n",
    "\n",
    "# Map each cluster label to a color\n",
    "cluster_colors = {label: hex_colors[i] for i, label in enumerate(cluster_labels)}\n",
    "clusters_colors_df = pd.DataFrame(list(cluster_colors.items()), columns=['cluster', 'Color'])\n"
   ]
  },
  {
   "cell_type": "code",
   "execution_count": 62,
   "id": "ecf5c2a5-22c0-4283-94ef-701976977d72",
   "metadata": {
    "tags": []
   },
   "outputs": [
    {
     "data": {
      "text/plain": [
       "array([ 3,  7,  8, -1,  4,  2, 15, 10,  9,  5, 16, 13,  6, 17, 11,  1, 19,\n",
       "       18, 20, 14, 12,  0])"
      ]
     },
     "execution_count": 62,
     "metadata": {},
     "output_type": "execute_result"
    }
   ],
   "source": [
    "df['cluster'].unique()"
   ]
  },
  {
   "cell_type": "code",
   "execution_count": 63,
   "id": "28640350-a4d6-446b-86ec-1272581d1161",
   "metadata": {
    "tags": []
   },
   "outputs": [
    {
     "ename": "MergeError",
     "evalue": "Passing 'suffixes' which cause duplicate columns {'Color_x'} is not allowed.",
     "output_type": "error",
     "traceback": [
      "\u001b[0;31m---------------------------------------------------------------------------\u001b[0m",
      "\u001b[0;31mMergeError\u001b[0m                                Traceback (most recent call last)",
      "Cell \u001b[0;32mIn[63], line 1\u001b[0m\n\u001b[0;32m----> 1\u001b[0m df \u001b[38;5;241m=\u001b[39m \u001b[43mpd\u001b[49m\u001b[38;5;241;43m.\u001b[39;49m\u001b[43mmerge\u001b[49m\u001b[43m(\u001b[49m\u001b[43mdf\u001b[49m\u001b[43m,\u001b[49m\u001b[43mclusters_colors_df\u001b[49m\u001b[43m,\u001b[49m\u001b[43m \u001b[49m\u001b[43mhow\u001b[49m\u001b[43m \u001b[49m\u001b[38;5;241;43m=\u001b[39;49m\u001b[43m \u001b[49m\u001b[38;5;124;43m'\u001b[39;49m\u001b[38;5;124;43mleft\u001b[39;49m\u001b[38;5;124;43m'\u001b[39;49m\u001b[43m,\u001b[49m\u001b[43m \u001b[49m\u001b[43mon\u001b[49m\u001b[43m \u001b[49m\u001b[38;5;241;43m=\u001b[39;49m\u001b[43m \u001b[49m\u001b[38;5;124;43m'\u001b[39;49m\u001b[38;5;124;43mcluster\u001b[39;49m\u001b[38;5;124;43m'\u001b[39;49m\u001b[43m)\u001b[49m\n",
      "File \u001b[0;32m~/anaconda3/envs/machine_learningenv/lib/python3.10/site-packages/pandas/core/reshape/merge.py:162\u001b[0m, in \u001b[0;36mmerge\u001b[0;34m(left, right, how, on, left_on, right_on, left_index, right_index, sort, suffixes, copy, indicator, validate)\u001b[0m\n\u001b[1;32m    131\u001b[0m \u001b[38;5;129m@Substitution\u001b[39m(\u001b[38;5;124m\"\u001b[39m\u001b[38;5;130;01m\\n\u001b[39;00m\u001b[38;5;124mleft : DataFrame or named Series\u001b[39m\u001b[38;5;124m\"\u001b[39m)\n\u001b[1;32m    132\u001b[0m \u001b[38;5;129m@Appender\u001b[39m(_merge_doc, indents\u001b[38;5;241m=\u001b[39m\u001b[38;5;241m0\u001b[39m)\n\u001b[1;32m    133\u001b[0m \u001b[38;5;28;01mdef\u001b[39;00m \u001b[38;5;21mmerge\u001b[39m(\n\u001b[0;32m   (...)\u001b[0m\n\u001b[1;32m    146\u001b[0m     validate: \u001b[38;5;28mstr\u001b[39m \u001b[38;5;241m|\u001b[39m \u001b[38;5;28;01mNone\u001b[39;00m \u001b[38;5;241m=\u001b[39m \u001b[38;5;28;01mNone\u001b[39;00m,\n\u001b[1;32m    147\u001b[0m ) \u001b[38;5;241m-\u001b[39m\u001b[38;5;241m>\u001b[39m DataFrame:\n\u001b[1;32m    148\u001b[0m     op \u001b[38;5;241m=\u001b[39m _MergeOperation(\n\u001b[1;32m    149\u001b[0m         left,\n\u001b[1;32m    150\u001b[0m         right,\n\u001b[0;32m   (...)\u001b[0m\n\u001b[1;32m    160\u001b[0m         validate\u001b[38;5;241m=\u001b[39mvalidate,\n\u001b[1;32m    161\u001b[0m     )\n\u001b[0;32m--> 162\u001b[0m     \u001b[38;5;28;01mreturn\u001b[39;00m \u001b[43mop\u001b[49m\u001b[38;5;241;43m.\u001b[39;49m\u001b[43mget_result\u001b[49m\u001b[43m(\u001b[49m\u001b[43mcopy\u001b[49m\u001b[38;5;241;43m=\u001b[39;49m\u001b[43mcopy\u001b[49m\u001b[43m)\u001b[49m\n",
      "File \u001b[0;32m~/anaconda3/envs/machine_learningenv/lib/python3.10/site-packages/pandas/core/reshape/merge.py:811\u001b[0m, in \u001b[0;36m_MergeOperation.get_result\u001b[0;34m(self, copy)\u001b[0m\n\u001b[1;32m    807\u001b[0m     \u001b[38;5;28mself\u001b[39m\u001b[38;5;241m.\u001b[39mleft, \u001b[38;5;28mself\u001b[39m\u001b[38;5;241m.\u001b[39mright \u001b[38;5;241m=\u001b[39m \u001b[38;5;28mself\u001b[39m\u001b[38;5;241m.\u001b[39m_indicator_pre_merge(\u001b[38;5;28mself\u001b[39m\u001b[38;5;241m.\u001b[39mleft, \u001b[38;5;28mself\u001b[39m\u001b[38;5;241m.\u001b[39mright)\n\u001b[1;32m    809\u001b[0m join_index, left_indexer, right_indexer \u001b[38;5;241m=\u001b[39m \u001b[38;5;28mself\u001b[39m\u001b[38;5;241m.\u001b[39m_get_join_info()\n\u001b[0;32m--> 811\u001b[0m result \u001b[38;5;241m=\u001b[39m \u001b[38;5;28;43mself\u001b[39;49m\u001b[38;5;241;43m.\u001b[39;49m\u001b[43m_reindex_and_concat\u001b[49m\u001b[43m(\u001b[49m\n\u001b[1;32m    812\u001b[0m \u001b[43m    \u001b[49m\u001b[43mjoin_index\u001b[49m\u001b[43m,\u001b[49m\u001b[43m \u001b[49m\u001b[43mleft_indexer\u001b[49m\u001b[43m,\u001b[49m\u001b[43m \u001b[49m\u001b[43mright_indexer\u001b[49m\u001b[43m,\u001b[49m\u001b[43m \u001b[49m\u001b[43mcopy\u001b[49m\u001b[38;5;241;43m=\u001b[39;49m\u001b[43mcopy\u001b[49m\n\u001b[1;32m    813\u001b[0m \u001b[43m\u001b[49m\u001b[43m)\u001b[49m\n\u001b[1;32m    814\u001b[0m result \u001b[38;5;241m=\u001b[39m result\u001b[38;5;241m.\u001b[39m__finalize__(\u001b[38;5;28mself\u001b[39m, method\u001b[38;5;241m=\u001b[39m\u001b[38;5;28mself\u001b[39m\u001b[38;5;241m.\u001b[39m_merge_type)\n\u001b[1;32m    816\u001b[0m \u001b[38;5;28;01mif\u001b[39;00m \u001b[38;5;28mself\u001b[39m\u001b[38;5;241m.\u001b[39mindicator:\n",
      "File \u001b[0;32m~/anaconda3/envs/machine_learningenv/lib/python3.10/site-packages/pandas/core/reshape/merge.py:763\u001b[0m, in \u001b[0;36m_MergeOperation._reindex_and_concat\u001b[0;34m(self, join_index, left_indexer, right_indexer, copy)\u001b[0m\n\u001b[1;32m    760\u001b[0m left \u001b[38;5;241m=\u001b[39m \u001b[38;5;28mself\u001b[39m\u001b[38;5;241m.\u001b[39mleft[:]\n\u001b[1;32m    761\u001b[0m right \u001b[38;5;241m=\u001b[39m \u001b[38;5;28mself\u001b[39m\u001b[38;5;241m.\u001b[39mright[:]\n\u001b[0;32m--> 763\u001b[0m llabels, rlabels \u001b[38;5;241m=\u001b[39m \u001b[43m_items_overlap_with_suffix\u001b[49m\u001b[43m(\u001b[49m\n\u001b[1;32m    764\u001b[0m \u001b[43m    \u001b[49m\u001b[38;5;28;43mself\u001b[39;49m\u001b[38;5;241;43m.\u001b[39;49m\u001b[43mleft\u001b[49m\u001b[38;5;241;43m.\u001b[39;49m\u001b[43m_info_axis\u001b[49m\u001b[43m,\u001b[49m\u001b[43m \u001b[49m\u001b[38;5;28;43mself\u001b[39;49m\u001b[38;5;241;43m.\u001b[39;49m\u001b[43mright\u001b[49m\u001b[38;5;241;43m.\u001b[39;49m\u001b[43m_info_axis\u001b[49m\u001b[43m,\u001b[49m\u001b[43m \u001b[49m\u001b[38;5;28;43mself\u001b[39;49m\u001b[38;5;241;43m.\u001b[39;49m\u001b[43msuffixes\u001b[49m\n\u001b[1;32m    765\u001b[0m \u001b[43m\u001b[49m\u001b[43m)\u001b[49m\n\u001b[1;32m    767\u001b[0m \u001b[38;5;28;01mif\u001b[39;00m left_indexer \u001b[38;5;129;01mis\u001b[39;00m \u001b[38;5;129;01mnot\u001b[39;00m \u001b[38;5;28;01mNone\u001b[39;00m \u001b[38;5;129;01mand\u001b[39;00m \u001b[38;5;129;01mnot\u001b[39;00m is_range_indexer(left_indexer, \u001b[38;5;28mlen\u001b[39m(left)):\n\u001b[1;32m    768\u001b[0m     \u001b[38;5;66;03m# Pinning the index here (and in the right code just below) is not\u001b[39;00m\n\u001b[1;32m    769\u001b[0m     \u001b[38;5;66;03m#  necessary, but makes the `.take` more performant if we have e.g.\u001b[39;00m\n\u001b[1;32m    770\u001b[0m     \u001b[38;5;66;03m#  a MultiIndex for left.index.\u001b[39;00m\n\u001b[1;32m    771\u001b[0m     lmgr \u001b[38;5;241m=\u001b[39m left\u001b[38;5;241m.\u001b[39m_mgr\u001b[38;5;241m.\u001b[39mreindex_indexer(\n\u001b[1;32m    772\u001b[0m         join_index,\n\u001b[1;32m    773\u001b[0m         left_indexer,\n\u001b[0;32m   (...)\u001b[0m\n\u001b[1;32m    778\u001b[0m         use_na_proxy\u001b[38;5;241m=\u001b[39m\u001b[38;5;28;01mTrue\u001b[39;00m,\n\u001b[1;32m    779\u001b[0m     )\n",
      "File \u001b[0;32m~/anaconda3/envs/machine_learningenv/lib/python3.10/site-packages/pandas/core/reshape/merge.py:2640\u001b[0m, in \u001b[0;36m_items_overlap_with_suffix\u001b[0;34m(left, right, suffixes)\u001b[0m\n\u001b[1;32m   2638\u001b[0m     dups\u001b[38;5;241m.\u001b[39mextend(rlabels[(rlabels\u001b[38;5;241m.\u001b[39mduplicated()) \u001b[38;5;241m&\u001b[39m (\u001b[38;5;241m~\u001b[39mright\u001b[38;5;241m.\u001b[39mduplicated())]\u001b[38;5;241m.\u001b[39mtolist())\n\u001b[1;32m   2639\u001b[0m \u001b[38;5;28;01mif\u001b[39;00m dups:\n\u001b[0;32m-> 2640\u001b[0m     \u001b[38;5;28;01mraise\u001b[39;00m MergeError(\n\u001b[1;32m   2641\u001b[0m         \u001b[38;5;124mf\u001b[39m\u001b[38;5;124m\"\u001b[39m\u001b[38;5;124mPassing \u001b[39m\u001b[38;5;124m'\u001b[39m\u001b[38;5;124msuffixes\u001b[39m\u001b[38;5;124m'\u001b[39m\u001b[38;5;124m which cause duplicate columns \u001b[39m\u001b[38;5;132;01m{\u001b[39;00m\u001b[38;5;28mset\u001b[39m(dups)\u001b[38;5;132;01m}\u001b[39;00m\u001b[38;5;124m is \u001b[39m\u001b[38;5;124m\"\u001b[39m\n\u001b[1;32m   2642\u001b[0m         \u001b[38;5;124mf\u001b[39m\u001b[38;5;124m\"\u001b[39m\u001b[38;5;124mnot allowed.\u001b[39m\u001b[38;5;124m\"\u001b[39m,\n\u001b[1;32m   2643\u001b[0m     )\n\u001b[1;32m   2645\u001b[0m \u001b[38;5;28;01mreturn\u001b[39;00m llabels, rlabels\n",
      "\u001b[0;31mMergeError\u001b[0m: Passing 'suffixes' which cause duplicate columns {'Color_x'} is not allowed."
     ]
    }
   ],
   "source": [
    "df = pd.merge(df,clusters_colors_df, how = 'left', on = 'cluster')"
   ]
  },
  {
   "cell_type": "code",
   "execution_count": null,
   "id": "9b312944-2aa4-4037-8657-f50e90d2ca09",
   "metadata": {
    "tags": []
   },
   "outputs": [],
   "source": [
    "!ls"
   ]
  },
  {
   "cell_type": "code",
   "execution_count": 64,
   "id": "cf1a8037-774e-412d-8746-8d82e2cd6e52",
   "metadata": {
    "tags": []
   },
   "outputs": [
    {
     "data": {
      "image/png": "[encoded data removed]",
      "text/plain": [
       "<IPython.core.display.Image object>"
      ]
     },
     "execution_count": 64,
     "metadata": {},
     "output_type": "execute_result"
    }
   ],
   "source": [
    "from IPython.display import Image\n",
    "\n",
    "# Specify the path to your image\n",
    "image_path = '/Users/camerondeardon/Documents/Development/Projects/Rocket/rocket/landing/static/landing/Rocket Logo.png'\n",
    "\n",
    "# Display the image\n",
    "Image(filename=image_path)"
   ]
  },
  {
   "cell_type": "code",
   "execution_count": 65,
   "id": "d5fe5b4b-e4f6-45c4-81bd-aad98f2a9fc9",
   "metadata": {
    "tags": []
   },
   "outputs": [
    {
     "data": {
      "application/vnd.plotly.v1+json": {
       "config": {
        "plotlyServerURL": "https://plot.ly"
       },
       "data": [
        {
         "customdata": [
          [
           "I'm looking for a skilled programmer to join my startup.",
           "cloud software looking cofound architect solutions security devops programmer skilled firm saas join city planner urban computing company expert engineer"
          ],
          [
           "Seeking a talented data scientist to cofound an AI company.",
           "ai voice specialist recognition marketing ethics firm artificial seeking intelligence cofound researcher speech machine company analytics learning tech language natural"
          ],
          [
           "Need a UX designer to partner with for a new app.",
           "designer game app developer cofounder web design studio business assistant development virtual centered human interior gaming seeking ux based video"
          ],
          [
           "Searching for a project manager to help lead a tech venture.",
           "company marine tech expert start personalized drone technologist edtech cybersecurity medicine smart security looking seeking join searching logistics fashion veterinary"
          ],
          [
           "Looking for a DevOps engineer to cofound a software company.",
           "cloud software looking cofound architect solutions security devops programmer skilled firm saas join city planner urban computing company expert engineer"
          ],
          [
           "Wanting to find a marketing expert to start an online business.",
           "retail online business manager sales commerce specialist startup marketing founder cofound tech need find start experienced savvy project expert seeking"
          ],
          [
           "In need of a financial advisor to cofound a fintech startup.",
           "fintech blockchain advisor financial legal expert firm technology join cofound personal finance cryptocurrency developer startup insurance insurtech contract looking company"
          ],
          [
           "Seeking a legal advisor to partner with for a legal tech firm.",
           "fintech blockchain advisor financial legal expert firm technology join cofound personal finance cryptocurrency developer startup insurance insurtech contract looking company"
          ],
          [
           "Looking for a healthcare professional to cofound a health tech company.",
           "health healthcare company tech telemedicine specialist public mobile expert looking telecommunications telecom start recruitment hr wanting seeking bi data join"
          ],
          [
           "Searching for an experienced sales manager to cofound a retail startup.",
           "retail online business manager sales commerce specialist startup marketing founder cofound tech need find start experienced savvy project expert seeking"
          ],
          [
           "Wanting a blockchain expert to start a cryptocurrency company.",
           "fintech blockchain advisor financial legal expert firm technology join cofound personal finance cryptocurrency developer startup insurance insurtech contract looking company"
          ],
          [
           "Seeking a machine learning specialist to cofound an analytics firm.",
           "ai voice specialist recognition marketing ethics firm artificial seeking intelligence cofound researcher speech machine company analytics learning tech language natural"
          ],
          [
           "Need a cybersecurity expert to start a security tech company.",
           "company marine tech expert start personalized drone technologist edtech cybersecurity medicine smart security looking seeking join searching logistics fashion veterinary"
          ],
          [
           "Looking for a cloud computing expert to cofound a SaaS company.",
           "cloud software looking cofound architect solutions security devops programmer skilled firm saas join city planner urban computing company expert engineer"
          ],
          [
           "Searching for an IoT specialist to start a smart device company.",
           "smart home founder partner iot device specialist company ai experienced start technology scientist data seeking researcher searching looking wanting digital"
          ],
          [
           "Wanting a mobile app developer to cofound an app-based business.",
           "designer game app developer cofounder web design studio business assistant development virtual centered human interior gaming seeking ux based video"
          ],
          [
           "Seeking a big data analyst to start a data analytics firm.",
           "data analyst geospatial database climate start time real big looking administrator analytics tech company firm wanting seeking cofound energy editing"
          ],
          [
           "Need an e-commerce specialist to cofound an online retail business.",
           "retail online business manager sales commerce specialist startup marketing founder cofound tech need find start experienced savvy project expert seeking"
          ],
          [
           "Looking for a product manager to partner with for a new venture.",
           "hospitality innovation market digital strategist manager agency social media product seeking new venture cofound cofounder research consultancy marketing researcher tech"
          ],
          [
           "Searching for a biotech researcher to cofound a biotech startup.",
           "cofound tech scientist startup seeking behavioral firm biology cofounder company bioinformatics wanting chemical exoskeleton materials neuromorphic consumer biotech computational mental"
          ],
          [
           "Wanting an AR/VR developer to start an augmented reality company.",
           "robotics augmented ar reality 3d printing specialist looking start startup gesture vr social company engineer developer cofound business seeking tech"
          ],
          [
           "Seeking a digital marketing strategist to cofound a digital agency.",
           "hospitality innovation market digital strategist manager agency social media product seeking new venture cofound cofounder research consultancy marketing researcher tech"
          ],
          [
           "Need an AI researcher to start an artificial intelligence company.",
           "ai voice specialist recognition marketing ethics firm artificial seeking intelligence cofound researcher speech machine company analytics learning tech language natural"
          ],
          [
           "Looking for a robotics engineer to cofound a robotics startup.",
           "robotics augmented ar reality 3d printing specialist looking start startup gesture vr social company engineer developer cofound business seeking tech"
          ],
          [
           "Searching for a sustainability expert to start a green tech company.",
           "energy renewable green electromobility proptech startup grid building expert searching sustainability cofound smart clean looking specialist tech storage seeking start"
          ],
          [
           "Wanting a web developer to cofound a web development business.",
           "designer game app developer cofounder web design studio business assistant development virtual centered human interior gaming seeking ux based video"
          ],
          [
           "Seeking a content creator to start a media company.",
           "content vr sports creator media start virtual reality company pet expert technology looking seeking studio tech cofound startup searching developer"
          ],
          [
           "Need a social media manager to cofound a social media agency.",
           "hospitality innovation market digital strategist manager agency social media product seeking new venture cofound cofounder research consultancy marketing researcher tech"
          ],
          [
           "Looking for a logistics expert to start a logistics tech company.",
           "company marine tech expert start personalized drone technologist edtech cybersecurity medicine smart security looking seeking join searching logistics fashion veterinary"
          ],
          [
           "Searching for an educational technologist to cofound an edtech startup.",
           "company marine tech expert start personalized drone technologist edtech cybersecurity medicine smart security looking seeking join searching logistics fashion veterinary"
          ],
          [
           "Wanting a hardware engineer to start a hardware tech company.",
           "engineer photonics hardware construction tech start disaster recovery company network networking need looking expert seeking specialist search firm wanting educational"
          ],
          [
           "Seeking a game developer to cofound a gaming studio.",
           "designer game app developer cofounder web design studio business assistant development virtual centered human interior gaming seeking ux based video"
          ],
          [
           "Need a network engineer to start a networking tech company.",
           "engineer photonics hardware construction tech start disaster recovery company network networking need looking expert seeking specialist search firm wanting educational"
          ],
          [
           "Looking for a renewable energy expert to cofound a clean energy startup.",
           "energy renewable green electromobility proptech startup grid building expert searching sustainability cofound smart clean looking specialist tech storage seeking start"
          ],
          [
           "Searching for an interior designer to start a design firm.",
           "designer game app developer cofounder web design studio business assistant development virtual centered human interior gaming seeking ux based video"
          ],
          [
           "Wanting an HR specialist to cofound a recruitment tech company.",
           "health healthcare company tech telemedicine specialist public mobile expert looking telecommunications telecom start recruitment hr wanting seeking bi data join"
          ],
          [
           "Seeking a drone technology expert to start a drone tech company.",
           "company marine tech expert start personalized drone technologist edtech cybersecurity medicine smart security looking seeking join searching logistics fashion veterinary"
          ],
          [
           "Need a quantum computing specialist to cofound a quantum tech firm.",
           "privacy quantum cryptography data firm looking specialist advocate computing cofound tech join expert search company start need searching edtech educational"
          ],
          [
           "Looking for a speech recognition expert to start a voice tech company.",
           "ai voice specialist recognition marketing ethics firm artificial seeking intelligence cofound researcher speech machine company analytics learning tech language natural"
          ],
          [
           "Searching for an automotive engineer to cofound an auto tech startup.",
           "automotive auto vehicle autonomous engineer developer firm software transportation tech cofound searching startup cofounder search looking seeking start editing web"
          ],
          [
           "Wanting a smart home technology specialist to start a smart home company.",
           "smart home founder partner iot device specialist company ai experienced start technology scientist data seeking researcher searching looking wanting digital"
          ],
          [
           "Seeking a wearable tech developer to cofound a wearable tech startup.",
           "wearable cultural creative sensory tech device developer startup technologist seeking medtech medical cofound firm looking technology start join specialist company"
          ],
          [
           "Need a cybersecurity policy expert to start a security consultancy.",
           "company marine tech expert start personalized drone technologist edtech cybersecurity medicine smart security looking seeking join searching logistics fashion veterinary"
          ],
          [
           "Looking for a privacy expert to cofound a privacy tech company.",
           "privacy quantum cryptography data firm looking specialist advocate computing cofound tech join expert search company start need searching edtech educational"
          ],
          [
           "Searching for a supply chain specialist to start a supply chain tech company.",
           "company marine tech expert start personalized drone technologist edtech cybersecurity medicine smart security looking seeking join searching logistics fashion veterinary"
          ],
          [
           "Wanting an urban planner to cofound a smart city tech firm.",
           "cloud software looking cofound architect solutions security devops programmer skilled firm saas join city planner urban computing company expert engineer"
          ],
          [
           "Seeking a 3D printing specialist to start a 3D printing business.",
           "robotics augmented ar reality 3d printing specialist looking start startup gesture vr social company engineer developer cofound business seeking tech"
          ],
          [
           "Need an aerospace engineer to cofound an aerospace tech company.",
           "space aerospace satellite technology tech engineer startup expert tourism company resource cofound exploration exoplanet looking habitat join start seeking scientist"
          ],
          [
           "Looking for a space technology expert to start a space tech startup.",
           "space aerospace satellite technology tech engineer startup expert tourism company resource cofound exploration exoplanet looking habitat join start seeking scientist"
          ],
          [
           "Searching for an automotive software developer to cofound an auto tech firm.",
           "automotive auto vehicle autonomous engineer developer firm software transportation tech cofound searching startup cofounder search looking seeking start editing web"
          ],
          [
           "Wanting a natural language processing expert to start an NLP company.",
           "ai voice specialist recognition marketing ethics firm artificial seeking intelligence cofound researcher speech machine company analytics learning tech language natural"
          ],
          [
           "Seeking a virtual reality expert to cofound a VR startup.",
           "content vr sports creator media start virtual reality company pet expert technology looking seeking studio tech cofound startup searching developer"
          ],
          [
           "Need a software architect to start a software development firm.",
           "cloud software looking cofound architect solutions security devops programmer skilled firm saas join city planner urban computing company expert engineer"
          ],
          [
           "Looking for an augmented reality specialist to cofound an AR startup.",
           "robotics augmented ar reality 3d printing specialist looking start startup gesture vr social company engineer developer cofound business seeking tech"
          ],
          [
           "Searching for a computer vision expert to start a computer vision company.",
           "holography computer vision biometrics biometric expert technology company start searching cofounder startup seeking tech need looking cofound editing energy engineer"
          ],
          [
           "Wanting a database administrator to cofound a database tech firm.",
           "data analyst geospatial database climate start time real big looking administrator analytics tech company firm wanting seeking cofound energy editing"
          ],
          [
           "Seeking a telecommunications expert to start a telecom tech company.",
           "health healthcare company tech telemedicine specialist public mobile expert looking telecommunications telecom start recruitment hr wanting seeking bi data join"
          ],
          [
           "Need a cloud security expert to cofound a cloud security firm.",
           "cloud software looking cofound architect solutions security devops programmer skilled firm saas join city planner urban computing company expert engineer"
          ],
          [
           "Looking for a video game designer to start a game development studio.",
           "designer game app developer cofounder web design studio business assistant development virtual centered human interior gaming seeking ux based video"
          ],
          [
           "Searching for a fintech developer to cofound a fintech startup.",
           "fintech blockchain advisor financial legal expert firm technology join cofound personal finance cryptocurrency developer startup insurance insurtech contract looking company"
          ],
          [
           "Wanting a health informatics specialist to start a health tech company.",
           "health healthcare company tech telemedicine specialist public mobile expert looking telecommunications telecom start recruitment hr wanting seeking bi data join"
          ],
          [
           "Seeking a medical device developer to cofound a medtech startup.",
           "wearable cultural creative sensory tech device developer startup technologist seeking medtech medical cofound firm looking technology start join specialist company"
          ],
          [
           "Need a construction tech expert to start a construction tech company.",
           "engineer photonics hardware construction tech start disaster recovery company network networking need looking expert seeking specialist search firm wanting educational"
          ],
          [
           "Looking for a transportation engineer to cofound a transportation tech firm.",
           "automotive auto vehicle autonomous engineer developer firm software transportation tech cofound searching startup cofounder search looking seeking start editing web"
          ],
          [
           "Searching for an e-learning specialist to start an edtech company.",
           "company marine tech expert start personalized drone technologist edtech cybersecurity medicine smart security looking seeking join searching logistics fashion veterinary"
          ],
          [
           "Wanting a wearable device developer to cofound a wearable tech firm.",
           "wearable cultural creative sensory tech device developer startup technologist seeking medtech medical cofound firm looking technology start join specialist company"
          ],
          [
           "Seeking a hospitality tech expert to start a hospitality tech company.",
           "hospitality innovation market digital strategist manager agency social media product seeking new venture cofound cofounder research consultancy marketing researcher tech"
          ],
          [
           "Need a retail tech specialist to cofound a retail tech startup.",
           "retail online business manager sales commerce specialist startup marketing founder cofound tech need find start experienced savvy project expert seeking"
          ],
          [
           "Looking for a real estate tech expert to start a real estate tech company.",
           "nuclear environmental tech start estate company real hydrology water engineer expert civic looking searching wanting technology need seeking economics educational"
          ],
          [
           "Searching for an agricultural tech specialist to cofound an agtech startup.",
           "microbial agtech precision agricultural specialist tech agriculture start startup company technologist looking need hydroponics farming cell bioenergy fuel urban cofound"
          ],
          [
           "Wanting a chemical engineer to start a chemical tech company.",
           "cofound tech scientist startup seeking behavioral firm biology cofounder company bioinformatics wanting chemical exoskeleton materials neuromorphic consumer biotech computational mental"
          ],
          [
           "Seeking a materials scientist to cofound a materials tech startup.",
           "cofound tech scientist startup seeking behavioral firm biology cofounder company bioinformatics wanting chemical exoskeleton materials neuromorphic consumer biotech computational mental"
          ],
          [
           "Need a geneticist to start a genetic tech company.",
           "cofound tech scientist startup seeking behavioral firm biology cofounder company bioinformatics wanting chemical exoskeleton materials neuromorphic consumer biotech computational mental"
          ],
          [
           "Looking for a renewable energy engineer to cofound a renewable tech firm.",
           "energy renewable green electromobility proptech startup grid building expert searching sustainability cofound smart clean looking specialist tech storage seeking start"
          ],
          [
           "Searching for a biometric technology expert to start a biometrics company.",
           "holography computer vision biometrics biometric expert technology company start searching cofounder startup seeking tech need looking cofound editing energy engineer"
          ],
          [
           "Wanting a voice recognition specialist to cofound a voice tech firm.",
           "ai voice specialist recognition marketing ethics firm artificial seeking intelligence cofound researcher speech machine company analytics learning tech language natural"
          ],
          [
           "Seeking a geospatial analyst to start a geospatial tech company.",
           "data analyst geospatial database climate start time real big looking administrator analytics tech company firm wanting seeking cofound energy editing"
          ],
          [
           "Need a market researcher to cofound a market research firm.",
           "hospitality innovation market digital strategist manager agency social media product seeking new venture cofound cofounder research consultancy marketing researcher tech"
          ],
          [
           "Looking for a virtual assistant developer to start a virtual assistant company.",
           "designer game app developer cofounder web design studio business assistant development virtual centered human interior gaming seeking ux based video"
          ],
          [
           "Searching for a smart grid technology expert to cofound a smart grid startup.",
           "energy renewable green electromobility proptech startup grid building expert searching sustainability cofound smart clean looking specialist tech storage seeking start"
          ],
          [
           "Wanting a business intelligence specialist to start a BI company.",
           "health healthcare company tech telemedicine specialist public mobile expert looking telecommunications telecom start recruitment hr wanting seeking bi data join"
          ],
          [
           "Seeking a neuromorphic computing expert to cofound a neuromorphic tech firm.",
           "cofound tech scientist startup seeking behavioral firm biology cofounder company bioinformatics wanting chemical exoskeleton materials neuromorphic consumer biotech computational mental"
          ],
          [
           "Need a photonics engineer to start a photonics tech company.",
           "engineer photonics hardware construction tech start disaster recovery company network networking need looking expert seeking specialist search firm wanting educational"
          ],
          [
           "Looking for a satellite technology expert to cofound a satellite tech startup.",
           "space aerospace satellite technology tech engineer startup expert tourism company resource cofound exploration exoplanet looking habitat join start seeking scientist"
          ],
          [
           "Searching for an environmental engineer to start an environmental tech company.",
           "nuclear environmental tech start estate company real hydrology water engineer expert civic looking searching wanting technology need seeking economics educational"
          ],
          [
           "Wanting a gene editing specialist to cofound a gene editing firm.",
           "cofound tech scientist startup seeking behavioral firm biology cofounder company bioinformatics wanting chemical exoskeleton materials neuromorphic consumer biotech computational mental"
          ],
          [
           "Seeking a personalized medicine expert to start a personalized medicine company.",
           "company marine tech expert start personalized drone technologist edtech cybersecurity medicine smart security looking seeking join searching logistics fashion veterinary"
          ],
          [
           "Need a marine biotechnologist to cofound a marine biotech startup.",
           "company marine tech expert start personalized drone technologist edtech cybersecurity medicine smart security looking seeking join searching logistics fashion veterinary"
          ],
          [
           "Looking for a sports technology expert to start a sports tech company.",
           "content vr sports creator media start virtual reality company pet expert technology looking seeking studio tech cofound startup searching developer"
          ],
          [
           "Searching for a smart textiles developer to cofound a smart textiles firm.",
           "company marine tech expert start personalized drone technologist edtech cybersecurity medicine smart security looking seeking join searching logistics fashion veterinary"
          ],
          [
           "Wanting a pharmaceutical scientist to start a pharma tech company.",
           "cofound tech scientist startup seeking behavioral firm biology cofounder company bioinformatics wanting chemical exoskeleton materials neuromorphic consumer biotech computational mental"
          ],
          [
           "Seeking a VR content creator to cofound a VR content studio.",
           "content vr sports creator media start virtual reality company pet expert technology looking seeking studio tech cofound startup searching developer"
          ],
          [
           "Need an AI ethics specialist to start an AI ethics consultancy.",
           "ai voice specialist recognition marketing ethics firm artificial seeking intelligence cofound researcher speech machine company analytics learning tech language natural"
          ],
          [
           "Looking for a financial technology expert to cofound a fintech firm.",
           "fintech blockchain advisor financial legal expert firm technology join cofound personal finance cryptocurrency developer startup insurance insurtech contract looking company"
          ],
          [
           "Searching for a green building specialist to start a green building company.",
           "energy renewable green electromobility proptech startup grid building expert searching sustainability cofound smart clean looking specialist tech storage seeking start"
          ],
          [
           "Wanting an innovation strategist to cofound an innovation consultancy.",
           "hospitality innovation market digital strategist manager agency social media product seeking new venture cofound cofounder research consultancy marketing researcher tech"
          ],
          [
           "Seeking a public health technologist to start a public health tech firm.",
           "health healthcare company tech telemedicine specialist public mobile expert looking telecommunications telecom start recruitment hr wanting seeking bi data join"
          ],
          [
           "Need a clinical research scientist to cofound a clinical research startup.",
           "cofound tech scientist startup seeking behavioral firm biology cofounder company bioinformatics wanting chemical exoskeleton materials neuromorphic consumer biotech computational mental"
          ],
          [
           "Looking for a veterinary technologist to start a veterinary tech company.",
           "company marine tech expert start personalized drone technologist edtech cybersecurity medicine smart security looking seeking join searching logistics fashion veterinary"
          ],
          [
           "Searching for a mental health tech specialist to cofound a mental health startup.",
           "cofound tech scientist startup seeking behavioral firm biology cofounder company bioinformatics wanting chemical exoskeleton materials neuromorphic consumer biotech computational mental"
          ],
          [
           "Wanting a hydrology expert to start a water tech company.",
           "nuclear environmental tech start estate company real hydrology water engineer expert civic looking searching wanting technology need seeking economics educational"
          ],
          [
           "Seeking a computational biologist to cofound a computational biology firm.",
           "cofound tech scientist startup seeking behavioral firm biology cofounder company bioinformatics wanting chemical exoskeleton materials neuromorphic consumer biotech computational mental"
          ],
          [
           "Need a nuclear engineer to start a nuclear tech company.",
           "nuclear environmental tech start estate company real hydrology water engineer expert civic looking searching wanting technology need seeking economics educational"
          ],
          [
           "Looking for a creative technologist to cofound a creative tech startup.",
           "wearable cultural creative sensory tech device developer startup technologist seeking medtech medical cofound firm looking technology start join specialist company"
          ],
          [
           "Searching for a data privacy advocate to start a data privacy firm.",
           "privacy quantum cryptography data firm looking specialist advocate computing cofound tech join expert search company start need searching edtech educational"
          ],
          [
           "Wanting a personal finance advisor to cofound a personal finance tech company.",
           "fintech blockchain advisor financial legal expert firm technology join cofound personal finance cryptocurrency developer startup insurance insurtech contract looking company"
          ],
          [
           "Seeking a disaster recovery specialist to start a disaster recovery firm.",
           "engineer photonics hardware construction tech start disaster recovery company network networking need looking expert seeking specialist search firm wanting educational"
          ],
          [
           "Need a telemedicine expert to cofound a telemedicine startup.",
           "health healthcare company tech telemedicine specialist public mobile expert looking telecommunications telecom start recruitment hr wanting seeking bi data join"
          ],
          [
           "Looking for a cloud solutions architect to start a cloud solutions company.",
           "cloud software looking cofound architect solutions security devops programmer skilled firm saas join city planner urban computing company expert engineer"
          ],
          [
           "Searching for a proptech developer to cofound a proptech startup.",
           "energy renewable green electromobility proptech startup grid building expert searching sustainability cofound smart clean looking specialist tech storage seeking start"
          ],
          [
           "Wanting a healthcare data analyst to start a healthcare data firm.",
           "health healthcare company tech telemedicine specialist public mobile expert looking telecommunications telecom start recruitment hr wanting seeking bi data join"
          ],
          [
           "Seeking a behavioral economist to cofound a behavioral economics startup.",
           "cofound tech scientist startup seeking behavioral firm biology cofounder company bioinformatics wanting chemical exoskeleton materials neuromorphic consumer biotech computational mental"
          ],
          [
           "Need a consumer psychologist to start a consumer tech company.",
           "cofound tech scientist startup seeking behavioral firm biology cofounder company bioinformatics wanting chemical exoskeleton materials neuromorphic consumer biotech computational mental"
          ],
          [
           "Looking for an exercise scientist to cofound a fitness tech startup.",
           "cofound tech scientist startup seeking behavioral firm biology cofounder company bioinformatics wanting chemical exoskeleton materials neuromorphic consumer biotech computational mental"
          ],
          [
           "Searching for a marine ecologist to start a marine tech company.",
           "company marine tech expert start personalized drone technologist edtech cybersecurity medicine smart security looking seeking join searching logistics fashion veterinary"
          ],
          [
           "Wanting an insurance technology expert to cofound an insurtech firm.",
           "fintech blockchain advisor financial legal expert firm technology join cofound personal finance cryptocurrency developer startup insurance insurtech contract looking company"
          ],
          [
           "Seeking a precision agriculture specialist to start a precision agtech company.",
           "microbial agtech precision agricultural specialist tech agriculture start startup company technologist looking need hydroponics farming cell bioenergy fuel urban cofound"
          ],
          [
           "Need a human-centered designer to cofound a human-centered design firm.",
           "designer game app developer cofounder web design studio business assistant development virtual centered human interior gaming seeking ux based video"
          ],
          [
           "Looking for a smart mobility expert to start a smart mobility company.",
           "company marine tech expert start personalized drone technologist edtech cybersecurity medicine smart security looking seeking join searching logistics fashion veterinary"
          ],
          [
           "Searching for a pet technology developer to cofound a pet tech startup.",
           "content vr sports creator media start virtual reality company pet expert technology looking seeking studio tech cofound startup searching developer"
          ],
          [
           "Wanting a personalized nutrition expert to start a personalized nutrition company.",
           "company marine tech expert start personalized drone technologist edtech cybersecurity medicine smart security looking seeking join searching logistics fashion veterinary"
          ],
          [
           "Seeking a cultural technologist to cofound a cultural tech firm.",
           "wearable cultural creative sensory tech device developer startup technologist seeking medtech medical cofound firm looking technology start join specialist company"
          ],
          [
           "Need a microbial technologist to start a microbial tech company.",
           "microbial agtech precision agricultural specialist tech agriculture start startup company technologist looking need hydroponics farming cell bioenergy fuel urban cofound"
          ],
          [
           "Looking for an electromobility specialist to cofound an electromobility startup.",
           "energy renewable green electromobility proptech startup grid building expert searching sustainability cofound smart clean looking specialist tech storage seeking start"
          ],
          [
           "Searching for a civic technology expert to start a civic tech company.",
           "nuclear environmental tech start estate company real hydrology water engineer expert civic looking searching wanting technology need seeking economics educational"
          ],
          [
           "Wanting a bioinformatics specialist to cofound a bioinformatics firm.",
           "cofound tech scientist startup seeking behavioral firm biology cofounder company bioinformatics wanting chemical exoskeleton materials neuromorphic consumer biotech computational mental"
          ],
          [
           "Seeking a fashion technologist to start a fashion tech company.",
           "company marine tech expert start personalized drone technologist edtech cybersecurity medicine smart security looking seeking join searching logistics fashion veterinary"
          ],
          [
           "Need a holography expert to cofound a holography tech startup.",
           "holography computer vision biometrics biometric expert technology company start searching cofounder startup seeking tech need looking cofound editing energy engineer"
          ],
          [
           "Looking for a quantum cryptography specialist to start a quantum cryptography firm.",
           "privacy quantum cryptography data firm looking specialist advocate computing cofound tech join expert search company start need searching edtech educational"
          ],
          [
           "Searching for an exoskeleton technology expert to cofound an exoskeleton tech company.",
           "cofound tech scientist startup seeking behavioral firm biology cofounder company bioinformatics wanting chemical exoskeleton materials neuromorphic consumer biotech computational mental"
          ],
          [
           "Wanting a climate data analyst to start a climate tech company.",
           "data analyst geospatial database climate start time real big looking administrator analytics tech company firm wanting seeking cofound energy editing"
          ],
          [
           "Seeking an autonomous vehicle developer to cofound an autonomous vehicle firm.",
           "automotive auto vehicle autonomous engineer developer firm software transportation tech cofound searching startup cofounder search looking seeking start editing web"
          ],
          [
           "Need a mobile health technology expert to start a mobile health tech company.",
           "health healthcare company tech telemedicine specialist public mobile expert looking telecommunications telecom start recruitment hr wanting seeking bi data join"
          ],
          [
           "Looking for an artificial general intelligence researcher to cofound an AGI startup.",
           "ai voice specialist recognition marketing ethics firm artificial seeking intelligence cofound researcher speech machine company analytics learning tech language natural"
          ],
          [
           "Searching for a sensory technology specialist to start a sensory tech company.",
           "wearable cultural creative sensory tech device developer startup technologist seeking medtech medical cofound firm looking technology start join specialist company"
          ],
          [
           "Wanting a synthetic biology expert to cofound a synthetic biology firm.",
           "cofound tech scientist startup seeking behavioral firm biology cofounder company bioinformatics wanting chemical exoskeleton materials neuromorphic consumer biotech computational mental"
          ],
          [
           "Seeking a smart contract developer to start a blockchain tech company.",
           "fintech blockchain advisor financial legal expert firm technology join cofound personal finance cryptocurrency developer startup insurance insurtech contract looking company"
          ],
          [
           "Need an AI-powered marketing specialist to cofound a marketing tech firm.",
           "ai voice specialist recognition marketing ethics firm artificial seeking intelligence cofound researcher speech machine company analytics learning tech language natural"
          ],
          [
           "Looking for a real-time data analyst to start a real-time data company.",
           "data analyst geospatial database climate start time real big looking administrator analytics tech company firm wanting seeking cofound energy editing"
          ],
          [
           "Searching for an energy storage expert to cofound an energy storage tech firm.",
           "energy renewable green electromobility proptech startup grid building expert searching sustainability cofound smart clean looking specialist tech storage seeking start"
          ],
          [
           "Wanting a space tourism developer to start a space tourism company.",
           "space aerospace satellite technology tech engineer startup expert tourism company resource cofound exploration exoplanet looking habitat join start seeking scientist"
          ],
          [
           "Seeking a space resource utilization specialist to cofound a space resource tech firm.",
           "space aerospace satellite technology tech engineer startup expert tourism company resource cofound exploration exoplanet looking habitat join start seeking scientist"
          ],
          [
           "Need a social robotics expert to start a social robotics company.",
           "robotics augmented ar reality 3d printing specialist looking start startup gesture vr social company engineer developer cofound business seeking tech"
          ],
          [
           "Looking for a gesture recognition specialist to cofound a gesture tech startup.",
           "robotics augmented ar reality 3d printing specialist looking start startup gesture vr social company engineer developer cofound business seeking tech"
          ],
          [
           "Searching for an exoplanet scientist to start a space exploration company.",
           "space aerospace satellite technology tech engineer startup expert tourism company resource cofound exploration exoplanet looking habitat join start seeking scientist"
          ],
          [
           "Wanting a bioethicist to cofound a bioethics tech firm.",
           "cofound tech scientist startup seeking behavioral firm biology cofounder company bioinformatics wanting chemical exoskeleton materials neuromorphic consumer biotech computational mental"
          ],
          [
           "Seeking a microbial fuel cell specialist to start a bioenergy tech company.",
           "microbial agtech precision agricultural specialist tech agriculture start startup company technologist looking need hydroponics farming cell bioenergy fuel urban cofound"
          ],
          [
           "Need a hydroponics expert to cofound an urban farming tech startup.",
           "microbial agtech precision agricultural specialist tech agriculture start startup company technologist looking need hydroponics farming cell bioenergy fuel urban cofound"
          ],
          [
           "Looking for a distributed ledger technologist to start a blockchain tech firm.",
           "fintech blockchain advisor financial legal expert firm technology join cofound personal finance cryptocurrency developer startup insurance insurtech contract looking company"
          ],
          [
           "Searching for a smart fabric developer to cofound a wearable tech company.",
           "company marine tech expert start personalized drone technologist edtech cybersecurity medicine smart security looking seeking join searching logistics fashion veterinary"
          ],
          [
           "Wanting a cognitive computing specialist to start a cognitive tech firm.",
           "ai voice specialist recognition marketing ethics firm artificial seeking intelligence cofound researcher speech machine company analytics learning tech language natural"
          ],
          [
           "Seeking a space habitat engineer to cofound a space tech company.",
           "space aerospace satellite technology tech engineer startup expert tourism company resource cofound exploration exoplanet looking habitat join start seeking scientist"
          ],
          [
           "Need an intelligent transportation systems expert to start a transportation tech firm.",
           "company marine tech expert start personalized drone technologist edtech cybersecurity medicine smart security looking seeking join searching logistics fashion veterinary"
          ],
          [
           "Looking for a biosensor developer to cofound a biosensor tech startup.",
           "cofound tech scientist startup seeking behavioral firm biology cofounder company bioinformatics wanting chemical exoskeleton materials neuromorphic consumer biotech computational mental"
          ],
          [
           "Searching for a nanoengineering expert to start a nanotech company.",
           "cofound tech scientist startup seeking behavioral firm biology cofounder company bioinformatics wanting chemical exoskeleton materials neuromorphic consumer biotech computational mental"
          ],
          [
           "Wanting a behavioral data analyst to cofound a behavioral tech firm.",
           "cofound tech scientist startup seeking behavioral firm biology cofounder company bioinformatics wanting chemical exoskeleton materials neuromorphic consumer biotech computational mental"
          ],
          [
           "Seeking a precision medicine technologist to start a precision medicine company.",
           "company marine tech expert start personalized drone technologist edtech cybersecurity medicine smart security looking seeking join searching logistics fashion veterinary"
          ],
          [
           "Need an autonomous drone developer to cofound a drone tech startup.",
           "company marine tech expert start personalized drone technologist edtech cybersecurity medicine smart security looking seeking join searching logistics fashion veterinary"
          ]
         ],
         "hovertemplate": "Type=founder<br>X=%{x}<br>Y=%{y}<br>Description=%{customdata[0]}<br>cluster_top_words=%{customdata[1]}<br>cluster=%{marker.color}<extra></extra>",
         "legendgroup": "founder",
         "marker": {
          "color": [
           3,
           7,
           8,
           -1,
           3,
           4,
           2,
           2,
           15,
           4,
           2,
           7,
           -1,
           3,
           10,
           8,
           9,
           4,
           5,
           16,
           13,
           5,
           7,
           13,
           6,
           8,
           17,
           5,
           -1,
           -1,
           11,
           8,
           11,
           6,
           8,
           15,
           -1,
           1,
           7,
           19,
           10,
           18,
           -1,
           1,
           -1,
           3,
           13,
           20,
           20,
           19,
           7,
           17,
           3,
           13,
           14,
           9,
           15,
           3,
           8,
           2,
           15,
           18,
           11,
           19,
           -1,
           18,
           5,
           4,
           12,
           0,
           16,
           16,
           16,
           6,
           14,
           7,
           9,
           5,
           8,
           6,
           15,
           16,
           11,
           20,
           12,
           16,
           -1,
           -1,
           17,
           -1,
           16,
           17,
           7,
           2,
           6,
           5,
           15,
           16,
           -1,
           16,
           12,
           16,
           12,
           18,
           1,
           2,
           11,
           15,
           3,
           6,
           15,
           16,
           16,
           16,
           -1,
           2,
           0,
           8,
           -1,
           17,
           -1,
           18,
           0,
           6,
           12,
           16,
           -1,
           14,
           1,
           16,
           9,
           19,
           15,
           7,
           18,
           16,
           2,
           7,
           9,
           6,
           20,
           20,
           13,
           13,
           20,
           16,
           0,
           0,
           2,
           -1,
           7,
           20,
           -1,
           16,
           16,
           16,
           -1,
           -1
          ],
          "coloraxis": "coloraxis",
          "symbol": "circle"
         },
         "mode": "markers",
         "name": "founder",
         "orientation": "v",
         "showlegend": true,
         "type": "scatter",
         "x": [
          -6.0247321128845215,
          7.186489105224609,
          9.778787612915039,
          -3.514988899230957,
          -5.589098930358887,
          -3.0735559463500977,
          -7.345540523529053,
          -7.528951168060303,
          2.8490490913391113,
          -2.8192455768585205,
          -7.134093761444092,
          7.157840728759766,
          -2.9959428310394287,
          -5.1803388595581055,
          3.5161020755767822,
          9.742386817932129,
          0.44470933079719543,
          -3.033620595932007,
          -3.578404188156128,
          5.559676647186279,
          3.9567015171051025,
          -3.6880393028259277,
          7.348479747772217,
          3.861314535140991,
          8.074373245239258,
          9.643012046813965,
          6.650816440582275,
          -3.7242071628570557,
          -8.130401611328125,
          -8.406763076782227,
          5.51326322555542,
          9.592059135437012,
          5.448360919952393,
          8.732414245605469,
          9.845481872558594,
          1.8596690893173218,
          -13.256300926208496,
          -3.4958720207214355,
          7.6660566329956055,
          3.5215790271759033,
          3.553880453109741,
          5.109486103057861,
          -2.995333671569824,
          -5.005626201629639,
          -8.15993595123291,
          -5.065016746520996,
          3.8043935298919678,
          2.9003195762634277,
          2.53979754447937,
          3.488837480545044,
          7.519372463226318,
          6.604638576507568,
          -5.308638572692871,
          3.9807631969451904,
          4.600812911987305,
          0.889123260974884,
          2.542231798171997,
          -5.102285385131836,
          9.552833557128906,
          -7.296236991882324,
          2.1703593730926514,
          4.849565505981445,
          5.64491605758667,
          3.3005268573760986,
          -8.406583786010742,
          5.158554553985596,
          -3.285999059677124,
          -2.882406234741211,
          6.541582107543945,
          20.103286743164062,
          5.7495880126953125,
          5.671202182769775,
          5.502754211425781,
          8.851531982421875,
          4.621335029602051,
          7.682657718658447,
          0.5990052223205566,
          -3.613969087600708,
          9.109431266784668,
          8.641474723815918,
          1.5897046327590942,
          6.422974586486816,
          5.360763072967529,
          2.474334955215454,
          6.765591144561768,
          6.910088062286377,
          8.770249366760254,
          4.593074321746826,
          6.857954978942871,
          10.418914794921875,
          5.798868656158447,
          6.623491287231445,
          7.5460052490234375,
          -7.308396339416504,
          8.033769607543945,
          -3.758751392364502,
          2.7359137535095215,
          5.154542446136475,
          5.092594146728516,
          3.544569730758667,
          6.755486011505127,
          6.3961334228515625,
          6.232245445251465,
          3.8000190258026123,
          -5.0056610107421875,
          -7.343116283416748,
          5.5786848068237305,
          2.574028730392456,
          -5.182093620300293,
          9.005701065063477,
          2.11582350730896,
          4.271235942840576,
          3.804324150085449,
          4.968902587890625,
          4.601435661315918,
          -7.055095195770264,
          20.10332489013672,
          9.836624145507812,
          3.055201530456543,
          5.115471363067627,
          8.74146842956543,
          3.8089311122894287,
          17.6181640625,
          8.885834693908691,
          6.6360979080200195,
          6.806694030761719,
          10.395255088806152,
          4.8893280029296875,
          -3.4958744049072266,
          4.359745979309082,
          0.4414394199848175,
          3.7014963626861572,
          2.8705813884735107,
          7.325812339782715,
          4.279111862182617,
          5.8900532722473145,
          -7.154700756072998,
          7.289262294769287,
          0.4695545434951782,
          8.711607933044434,
          2.6989965438842773,
          2.7013745307922363,
          3.8702661991119385,
          3.8772215843200684,
          2.5285532474517822,
          5.4168219566345215,
          17.61815643310547,
          20.103309631347656,
          -7.137058258056641,
          10.43453598022461,
          7.334673881530762,
          2.7411742210388184,
          3.282991647720337,
          5.519061088562012,
          5.662172317504883,
          4.267069339752197,
          8.77851390838623,
          -13.256231307983398
         ],
         "xaxis": "x",
         "y": [
          3.384836435317993,
          3.9154088497161865,
          0.6787436604499817,
          0.2553223967552185,
          3.364309787750244,
          -0.36133354902267456,
          3.6555120944976807,
          3.678854465484619,
          8.00428295135498,
          -0.04179007187485695,
          4.427160739898682,
          3.973506450653076,
          9.753583908081055,
          3.828688859939575,
          6.397861003875732,
          0.8275420069694519,
          8.885313987731934,
          -0.3379477858543396,
          0.4281303286552429,
          8.238996505737305,
          0.19596520066261292,
          1.295714020729065,
          3.679388999938965,
          0.7767974138259888,
          -2.969649314880371,
          1.001365065574646,
          9.961373329162598,
          1.3298375606536865,
          7.380816459655762,
          14.989002227783203,
          -1.3648731708526611,
          1.110756278038025,
          -1.3051828145980835,
          -3.461256265640259,
          0.2681935727596283,
          7.432288646697998,
          6.307604789733887,
          -10.642906188964844,
          2.711876392364502,
          1.803302526473999,
          6.384943008422852,
          11.59168815612793,
          9.754405975341797,
          -5.454661846160889,
          7.4108357429504395,
          2.779214382171631,
          0.349533349275589,
          2.8224570751190186,
          3.0767428874969482,
          1.74643075466156,
          3.135570764541626,
          9.956960678100586,
          3.2996764183044434,
          0.2289172261953354,
          -0.026530863717198372,
          8.560229301452637,
          8.324400901794434,
          3.931457757949829,
          1.1575732231140137,
          3.7054929733276367,
          7.7636494636535645,
          11.459476470947266,
          -1.8968751430511475,
          2.3340084552764893,
          14.988920211791992,
          11.631102561950684,
          0.8142309188842773,
          -0.13032597303390503,
          -1.7491780519485474,
          4.03865909576416,
          7.409786701202393,
          7.21079158782959,
          8.1769380569458,
          -3.589172124862671,
          -0.04774804413318634,
          2.7624998092651367,
          8.730069160461426,
          1.189153790473938,
          1.6163418292999268,
          -3.3551383018493652,
          8.080438613891602,
          8.245417594909668,
          -1.1910215616226196,
          3.136443853378296,
          -2.6735761165618896,
          8.232701301574707,
          -9.323508262634277,
          -4.8817219734191895,
          9.881400108337402,
          14.74669361114502,
          7.908026218414307,
          9.96791934967041,
          3.7129080295562744,
          3.695127487182617,
          -2.9137959480285645,
          1.3578753471374512,
          7.83345890045166,
          8.180787086486816,
          10.00892448425293,
          8.400276184082031,
          -2.6744072437286377,
          8.29742431640625,
          -2.296424150466919,
          12.350668907165527,
          -5.454701900482178,
          3.6966044902801514,
          -1.9596055746078491,
          8.26464557647705,
          3.8180131912231445,
          -3.7720370292663574,
          7.739800930023193,
          8.4901704788208,
          8.531618118286133,
          8.15107536315918,
          -4.869832515716553,
          3.5875048637390137,
          4.038662910461426,
          0.3053734004497528,
          7.054539680480957,
          9.98477840423584,
          -9.352182388305664,
          12.34332275390625,
          -3.450993299484253,
          -3.3723361492156982,
          -1.7741005420684814,
          8.29141902923584,
          14.723082542419434,
          -0.38625961542129517,
          -10.642918586730957,
          7.940767288208008,
          8.882655143737793,
          1.6102051734924316,
          7.512123107910156,
          3.752786874771118,
          11.924622535705566,
          8.282949447631836,
          4.389533042907715,
          3.7910056114196777,
          8.858099937438965,
          -3.5077192783355713,
          2.9574573040008545,
          2.945896863937378,
          0.805709719657898,
          0.7437511086463928,
          3.0892515182495117,
          8.230033874511719,
          -3.4510157108306885,
          4.038680076599121,
          4.384410858154297,
          14.76225471496582,
          3.4609804153442383,
          2.942417860031128,
          2.3638291358947754,
          8.26382827758789,
          7.278026580810547,
          8.49545955657959,
          -9.315001487731934,
          6.307549953460693
         ],
         "yaxis": "y"
        },
        {
         "customdata": [
          [
           "I'm a skilled programmer looking to join a startup.",
           "cloud software looking cofound architect solutions security devops programmer skilled firm saas join city planner urban computing company expert engineer"
          ],
          [
           "Experienced data scientist seeking to partner with a founder.",
           "smart home founder partner iot device specialist company ai experienced start technology scientist data seeking researcher searching looking wanting digital"
          ],
          [
           "Talented UX designer looking for a cofounder with a strong business plan.",
           "designer game app developer cofounder web design studio business assistant development virtual centered human interior gaming seeking ux based video"
          ],
          [
           "Project manager in search of a tech-savvy founder to start a business.",
           "retail online business manager sales commerce specialist startup marketing founder cofound tech need find start experienced savvy project expert seeking"
          ],
          [
           "DevOps engineer looking to cofound a software company.",
           "cloud software looking cofound architect solutions security devops programmer skilled firm saas join city planner urban computing company expert engineer"
          ],
          [
           "Marketing expert seeking a founder to start an online business.",
           "retail online business manager sales commerce specialist startup marketing founder cofound tech need find start experienced savvy project expert seeking"
          ],
          [
           "Financial advisor looking for a fintech startup to join.",
           "fintech blockchain advisor financial legal expert firm technology join cofound personal finance cryptocurrency developer startup insurance insurtech contract looking company"
          ],
          [
           "Legal advisor in search of a legal tech startup to cofound.",
           "fintech blockchain advisor financial legal expert firm technology join cofound personal finance cryptocurrency developer startup insurance insurtech contract looking company"
          ],
          [
           "Healthcare professional seeking a health tech founder to partner with.",
           "health healthcare company tech telemedicine specialist public mobile expert looking telecommunications telecom start recruitment hr wanting seeking bi data join"
          ],
          [
           "Sales manager looking for a retail startup to cofound.",
           "retail online business manager sales commerce specialist startup marketing founder cofound tech need find start experienced savvy project expert seeking"
          ],
          [
           "Blockchain expert in search of a cryptocurrency company to start.",
           "fintech blockchain advisor financial legal expert firm technology join cofound personal finance cryptocurrency developer startup insurance insurtech contract looking company"
          ],
          [
           "Machine learning specialist looking to cofound an analytics firm.",
           "ai voice specialist recognition marketing ethics firm artificial seeking intelligence cofound researcher speech machine company analytics learning tech language natural"
          ],
          [
           "Cybersecurity expert seeking a security tech company to join.",
           "company marine tech expert start personalized drone technologist edtech cybersecurity medicine smart security looking seeking join searching logistics fashion veterinary"
          ],
          [
           "Cloud computing expert in search of a SaaS startup to cofound.",
           "cloud software looking cofound architect solutions security devops programmer skilled firm saas join city planner urban computing company expert engineer"
          ],
          [
           "IoT specialist looking to partner with a smart device company founder.",
           "smart home founder partner iot device specialist company ai experienced start technology scientist data seeking researcher searching looking wanting digital"
          ],
          [
           "Mobile app developer seeking a cofounder for an app-based business.",
           "designer game app developer cofounder web design studio business assistant development virtual centered human interior gaming seeking ux based video"
          ],
          [
           "Big data analyst looking to start a data analytics firm.",
           "data analyst geospatial database climate start time real big looking administrator analytics tech company firm wanting seeking cofound energy editing"
          ],
          [
           "E-commerce specialist seeking a cofounder for an online retail business.",
           "retail online business manager sales commerce specialist startup marketing founder cofound tech need find start experienced savvy project expert seeking"
          ],
          [
           "Product manager in search of a new venture to cofound.",
           "hospitality innovation market digital strategist manager agency social media product seeking new venture cofound cofounder research consultancy marketing researcher tech"
          ],
          [
           "Biotech researcher looking to join a biotech startup as a cofounder.",
           "cofound tech scientist startup seeking behavioral firm biology cofounder company bioinformatics wanting chemical exoskeleton materials neuromorphic consumer biotech computational mental"
          ],
          [
           "AR/VR developer seeking to start an augmented reality company.",
           "robotics augmented ar reality 3d printing specialist looking start startup gesture vr social company engineer developer cofound business seeking tech"
          ],
          [
           "Digital marketing strategist looking to cofound a digital agency.",
           "hospitality innovation market digital strategist manager agency social media product seeking new venture cofound cofounder research consultancy marketing researcher tech"
          ],
          [
           "AI researcher seeking to partner with a founder for an AI company.",
           "smart home founder partner iot device specialist company ai experienced start technology scientist data seeking researcher searching looking wanting digital"
          ],
          [
           "Robotics engineer looking to start a robotics tech company.",
           "robotics augmented ar reality 3d printing specialist looking start startup gesture vr social company engineer developer cofound business seeking tech"
          ],
          [
           "Sustainability expert in search of a green tech startup to join.",
           "energy renewable green electromobility proptech startup grid building expert searching sustainability cofound smart clean looking specialist tech storage seeking start"
          ],
          [
           "Web developer seeking a cofounder for a web development business.",
           "designer game app developer cofounder web design studio business assistant development virtual centered human interior gaming seeking ux based video"
          ],
          [
           "Content creator looking to start a media company.",
           "content vr sports creator media start virtual reality company pet expert technology looking seeking studio tech cofound startup searching developer"
          ],
          [
           "Social media manager seeking a cofounder for a social media agency.",
           "hospitality innovation market digital strategist manager agency social media product seeking new venture cofound cofounder research consultancy marketing researcher tech"
          ],
          [
           "Logistics expert looking to join a logistics tech startup.",
           "company marine tech expert start personalized drone technologist edtech cybersecurity medicine smart security looking seeking join searching logistics fashion veterinary"
          ],
          [
           "Educational technologist seeking a cofounder for an edtech startup.",
           "company marine tech expert start personalized drone technologist edtech cybersecurity medicine smart security looking seeking join searching logistics fashion veterinary"
          ],
          [
           "Hardware engineer looking to start a hardware tech company.",
           "engineer photonics hardware construction tech start disaster recovery company network networking need looking expert seeking specialist search firm wanting educational"
          ],
          [
           "Game developer in search of a cofounder for a gaming studio.",
           "designer game app developer cofounder web design studio business assistant development virtual centered human interior gaming seeking ux based video"
          ],
          [
           "Network engineer seeking to start a networking tech company.",
           "engineer photonics hardware construction tech start disaster recovery company network networking need looking expert seeking specialist search firm wanting educational"
          ],
          [
           "Renewable energy expert looking to join a clean energy startup.",
           "energy renewable green electromobility proptech startup grid building expert searching sustainability cofound smart clean looking specialist tech storage seeking start"
          ],
          [
           "Interior designer seeking a cofounder for a design firm.",
           "designer game app developer cofounder web design studio business assistant development virtual centered human interior gaming seeking ux based video"
          ],
          [
           "HR specialist looking to start a recruitment tech company.",
           "health healthcare company tech telemedicine specialist public mobile expert looking telecommunications telecom start recruitment hr wanting seeking bi data join"
          ],
          [
           "Drone technology expert in search of a drone tech startup.",
           "company marine tech expert start personalized drone technologist edtech cybersecurity medicine smart security looking seeking join searching logistics fashion veterinary"
          ],
          [
           "Quantum computing specialist looking to cofound a quantum tech firm.",
           "privacy quantum cryptography data firm looking specialist advocate computing cofound tech join expert search company start need searching edtech educational"
          ],
          [
           "Speech recognition expert seeking a voice tech company to join.",
           "ai voice specialist recognition marketing ethics firm artificial seeking intelligence cofound researcher speech machine company analytics learning tech language natural"
          ],
          [
           "Automotive engineer in search of a cofounder for an auto tech startup.",
           "automotive auto vehicle autonomous engineer developer firm software transportation tech cofound searching startup cofounder search looking seeking start editing web"
          ],
          [
           "Smart home technology specialist looking to start a smart home company.",
           "smart home founder partner iot device specialist company ai experienced start technology scientist data seeking researcher searching looking wanting digital"
          ],
          [
           "Wearable tech developer seeking a cofounder for a wearable tech startup.",
           "wearable cultural creative sensory tech device developer startup technologist seeking medtech medical cofound firm looking technology start join specialist company"
          ],
          [
           "Cybersecurity policy expert looking to start a security consultancy.",
           "company marine tech expert start personalized drone technologist edtech cybersecurity medicine smart security looking seeking join searching logistics fashion veterinary"
          ],
          [
           "Privacy expert in search of a privacy tech company to join.",
           "privacy quantum cryptography data firm looking specialist advocate computing cofound tech join expert search company start need searching edtech educational"
          ],
          [
           "Supply chain specialist seeking to start a supply chain tech company.",
           "company marine tech expert start personalized drone technologist edtech cybersecurity medicine smart security looking seeking join searching logistics fashion veterinary"
          ],
          [
           "Urban planner looking to cofound a smart city tech firm.",
           "cloud software looking cofound architect solutions security devops programmer skilled firm saas join city planner urban computing company expert engineer"
          ],
          [
           "3D printing specialist seeking to start a 3D printing business.",
           "robotics augmented ar reality 3d printing specialist looking start startup gesture vr social company engineer developer cofound business seeking tech"
          ],
          [
           "Aerospace engineer looking to join an aerospace tech company.",
           "space aerospace satellite technology tech engineer startup expert tourism company resource cofound exploration exoplanet looking habitat join start seeking scientist"
          ],
          [
           "Space technology expert in search of a space tech startup.",
           "space aerospace satellite technology tech engineer startup expert tourism company resource cofound exploration exoplanet looking habitat join start seeking scientist"
          ],
          [
           "Automotive software developer looking to start an auto tech firm.",
           "automotive auto vehicle autonomous engineer developer firm software transportation tech cofound searching startup cofounder search looking seeking start editing web"
          ],
          [
           "Natural language processing expert seeking a cofounder for an NLP company.",
           "ai voice specialist recognition marketing ethics firm artificial seeking intelligence cofound researcher speech machine company analytics learning tech language natural"
          ],
          [
           "Virtual reality expert looking to start a VR tech company.",
           "content vr sports creator media start virtual reality company pet expert technology looking seeking studio tech cofound startup searching developer"
          ],
          [
           "Software architect seeking to cofound a software development firm.",
           "cloud software looking cofound architect solutions security devops programmer skilled firm saas join city planner urban computing company expert engineer"
          ],
          [
           "Augmented reality specialist looking to join an AR tech startup.",
           "robotics augmented ar reality 3d printing specialist looking start startup gesture vr social company engineer developer cofound business seeking tech"
          ],
          [
           "Computer vision expert seeking a cofounder for a computer vision company.",
           "holography computer vision biometrics biometric expert technology company start searching cofounder startup seeking tech need looking cofound editing energy engineer"
          ],
          [
           "Database administrator looking to start a database tech firm.",
           "data analyst geospatial database climate start time real big looking administrator analytics tech company firm wanting seeking cofound energy editing"
          ],
          [
           "Telecommunications expert seeking to cofound a telecom tech company.",
           "health healthcare company tech telemedicine specialist public mobile expert looking telecommunications telecom start recruitment hr wanting seeking bi data join"
          ],
          [
           "Cloud security expert looking to join a cloud security firm.",
           "cloud software looking cofound architect solutions security devops programmer skilled firm saas join city planner urban computing company expert engineer"
          ],
          [
           "Video game designer seeking a cofounder for a game development studio.",
           "designer game app developer cofounder web design studio business assistant development virtual centered human interior gaming seeking ux based video"
          ],
          [
           "Fintech developer looking to join a fintech startup.",
           "fintech blockchain advisor financial legal expert firm technology join cofound personal finance cryptocurrency developer startup insurance insurtech contract looking company"
          ],
          [
           "Health informatics specialist seeking a cofounder for a health tech company.",
           "health healthcare company tech telemedicine specialist public mobile expert looking telecommunications telecom start recruitment hr wanting seeking bi data join"
          ],
          [
           "Medical device developer looking to start a medtech startup.",
           "wearable cultural creative sensory tech device developer startup technologist seeking medtech medical cofound firm looking technology start join specialist company"
          ],
          [
           "Construction tech expert in search of a construction tech company.",
           "engineer photonics hardware construction tech start disaster recovery company network networking need looking expert seeking specialist search firm wanting educational"
          ],
          [
           "Transportation engineer looking to join a transportation tech firm.",
           "company marine tech expert start personalized drone technologist edtech cybersecurity medicine smart security looking seeking join searching logistics fashion veterinary"
          ],
          [
           "E-learning specialist seeking a cofounder for an edtech company.",
           "company marine tech expert start personalized drone technologist edtech cybersecurity medicine smart security looking seeking join searching logistics fashion veterinary"
          ],
          [
           "Wearable device developer looking to join a wearable tech firm.",
           "wearable cultural creative sensory tech device developer startup technologist seeking medtech medical cofound firm looking technology start join specialist company"
          ],
          [
           "Hospitality tech expert seeking a cofounder for a hospitality tech company.",
           "hospitality innovation market digital strategist manager agency social media product seeking new venture cofound cofounder research consultancy marketing researcher tech"
          ],
          [
           "Retail tech specialist looking to join a retail tech startup.",
           "retail online business manager sales commerce specialist startup marketing founder cofound tech need find start experienced savvy project expert seeking"
          ],
          [
           "Real estate tech expert seeking to start a real estate tech company.",
           "nuclear environmental tech start estate company real hydrology water engineer expert civic looking searching wanting technology need seeking economics educational"
          ],
          [
           "Agricultural tech specialist looking to join an agtech startup.",
           "microbial agtech precision agricultural specialist tech agriculture start startup company technologist looking need hydroponics farming cell bioenergy fuel urban cofound"
          ],
          [
           "Chemical engineer seeking a cofounder for a chemical tech company.",
           "cofound tech scientist startup seeking behavioral firm biology cofounder company bioinformatics wanting chemical exoskeleton materials neuromorphic consumer biotech computational mental"
          ],
          [
           "Materials scientist looking to join a materials tech startup.",
           "cofound tech scientist startup seeking behavioral firm biology cofounder company bioinformatics wanting chemical exoskeleton materials neuromorphic consumer biotech computational mental"
          ],
          [
           "Geneticist in search of a genomics tech company to cofound.",
           "cofound tech scientist startup seeking behavioral firm biology cofounder company bioinformatics wanting chemical exoskeleton materials neuromorphic consumer biotech computational mental"
          ],
          [
           "Renewable energy engineer seeking a cofounder for a renewable tech firm.",
           "energy renewable green electromobility proptech startup grid building expert searching sustainability cofound smart clean looking specialist tech storage seeking start"
          ],
          [
           "Biometric technology expert looking to start a biometrics company.",
           "holography computer vision biometrics biometric expert technology company start searching cofounder startup seeking tech need looking cofound editing energy engineer"
          ],
          [
           "Voice recognition specialist seeking to join a voice tech firm.",
           "ai voice specialist recognition marketing ethics firm artificial seeking intelligence cofound researcher speech machine company analytics learning tech language natural"
          ],
          [
           "Geospatial analyst looking to start a geospatial tech company.",
           "data analyst geospatial database climate start time real big looking administrator analytics tech company firm wanting seeking cofound energy editing"
          ],
          [
           "Market researcher seeking a cofounder for a market research firm.",
           "hospitality innovation market digital strategist manager agency social media product seeking new venture cofound cofounder research consultancy marketing researcher tech"
          ],
          [
           "Virtual assistant developer looking to join a virtual assistant company.",
           "designer game app developer cofounder web design studio business assistant development virtual centered human interior gaming seeking ux based video"
          ],
          [
           "Smart grid technology expert seeking to start a smart grid startup.",
           "energy renewable green electromobility proptech startup grid building expert searching sustainability cofound smart clean looking specialist tech storage seeking start"
          ],
          [
           "Business intelligence specialist looking to join a BI company.",
           "health healthcare company tech telemedicine specialist public mobile expert looking telecommunications telecom start recruitment hr wanting seeking bi data join"
          ],
          [
           "Neuromorphic computing expert seeking a cofounder for a neuromorphic tech firm.",
           "cofound tech scientist startup seeking behavioral firm biology cofounder company bioinformatics wanting chemical exoskeleton materials neuromorphic consumer biotech computational mental"
          ],
          [
           "Photonics engineer looking to start a photonics tech company.",
           "engineer photonics hardware construction tech start disaster recovery company network networking need looking expert seeking specialist search firm wanting educational"
          ],
          [
           "Satellite technology expert seeking to join a satellite tech startup.",
           "space aerospace satellite technology tech engineer startup expert tourism company resource cofound exploration exoplanet looking habitat join start seeking scientist"
          ],
          [
           "Environmental engineer looking to start an environmental tech company.",
           "nuclear environmental tech start estate company real hydrology water engineer expert civic looking searching wanting technology need seeking economics educational"
          ],
          [
           "Gene editing specialist seeking to cofound a gene editing firm.",
           "cofound tech scientist startup seeking behavioral firm biology cofounder company bioinformatics wanting chemical exoskeleton materials neuromorphic consumer biotech computational mental"
          ],
          [
           "Personalized medicine expert looking to join a personalized medicine company.",
           "company marine tech expert start personalized drone technologist edtech cybersecurity medicine smart security looking seeking join searching logistics fashion veterinary"
          ],
          [
           "Marine biotechnologist seeking a cofounder for a marine biotech startup.",
           "company marine tech expert start personalized drone technologist edtech cybersecurity medicine smart security looking seeking join searching logistics fashion veterinary"
          ],
          [
           "Sports technology expert looking to start a sports tech company.",
           "content vr sports creator media start virtual reality company pet expert technology looking seeking studio tech cofound startup searching developer"
          ],
          [
           "Smart textiles developer seeking a cofounder for a smart textiles firm.",
           "company marine tech expert start personalized drone technologist edtech cybersecurity medicine smart security looking seeking join searching logistics fashion veterinary"
          ],
          [
           "Pharmaceutical scientist looking to join a pharma tech company.",
           "cofound tech scientist startup seeking behavioral firm biology cofounder company bioinformatics wanting chemical exoskeleton materials neuromorphic consumer biotech computational mental"
          ],
          [
           "VR content creator seeking to start a VR content studio.",
           "content vr sports creator media start virtual reality company pet expert technology looking seeking studio tech cofound startup searching developer"
          ],
          [
           "AI ethics specialist looking to cofound an AI ethics consultancy.",
           "ai voice specialist recognition marketing ethics firm artificial seeking intelligence cofound researcher speech machine company analytics learning tech language natural"
          ],
          [
           "Financial technology expert seeking to join a fintech firm.",
           "fintech blockchain advisor financial legal expert firm technology join cofound personal finance cryptocurrency developer startup insurance insurtech contract looking company"
          ],
          [
           "Green building specialist looking to start a green building company.",
           "energy renewable green electromobility proptech startup grid building expert searching sustainability cofound smart clean looking specialist tech storage seeking start"
          ],
          [
           "Innovation strategist seeking a cofounder for an innovation consultancy.",
           "hospitality innovation market digital strategist manager agency social media product seeking new venture cofound cofounder research consultancy marketing researcher tech"
          ],
          [
           "Public health technologist looking to join a public health tech firm.",
           "health healthcare company tech telemedicine specialist public mobile expert looking telecommunications telecom start recruitment hr wanting seeking bi data join"
          ],
          [
           "Clinical research scientist seeking a cofounder for a clinical research startup.",
           "cofound tech scientist startup seeking behavioral firm biology cofounder company bioinformatics wanting chemical exoskeleton materials neuromorphic consumer biotech computational mental"
          ],
          [
           "Veterinary technologist looking to join a veterinary tech company.",
           "company marine tech expert start personalized drone technologist edtech cybersecurity medicine smart security looking seeking join searching logistics fashion veterinary"
          ],
          [
           "Mental health tech specialist seeking to cofound a mental health startup.",
           "cofound tech scientist startup seeking behavioral firm biology cofounder company bioinformatics wanting chemical exoskeleton materials neuromorphic consumer biotech computational mental"
          ],
          [
           "Hydrology expert looking to start a water tech company.",
           "nuclear environmental tech start estate company real hydrology water engineer expert civic looking searching wanting technology need seeking economics educational"
          ],
          [
           "Computational biologist seeking a cofounder for a computational biology firm.",
           "cofound tech scientist startup seeking behavioral firm biology cofounder company bioinformatics wanting chemical exoskeleton materials neuromorphic consumer biotech computational mental"
          ],
          [
           "Nuclear engineer looking to start a nuclear tech company.",
           "nuclear environmental tech start estate company real hydrology water engineer expert civic looking searching wanting technology need seeking economics educational"
          ],
          [
           "Creative technologist seeking to join a creative tech startup.",
           "wearable cultural creative sensory tech device developer startup technologist seeking medtech medical cofound firm looking technology start join specialist company"
          ],
          [
           "Data privacy advocate looking to cofound a data privacy firm.",
           "privacy quantum cryptography data firm looking specialist advocate computing cofound tech join expert search company start need searching edtech educational"
          ],
          [
           "Personal finance advisor seeking to join a personal finance tech company.",
           "fintech blockchain advisor financial legal expert firm technology join cofound personal finance cryptocurrency developer startup insurance insurtech contract looking company"
          ],
          [
           "Disaster recovery specialist looking to start a disaster recovery firm.",
           "engineer photonics hardware construction tech start disaster recovery company network networking need looking expert seeking specialist search firm wanting educational"
          ],
          [
           "Telemedicine expert seeking a cofounder for a telemedicine startup.",
           "health healthcare company tech telemedicine specialist public mobile expert looking telecommunications telecom start recruitment hr wanting seeking bi data join"
          ],
          [
           "Cloud solutions architect looking to join a cloud solutions company.",
           "cloud software looking cofound architect solutions security devops programmer skilled firm saas join city planner urban computing company expert engineer"
          ],
          [
           "Proptech developer seeking to cofound a proptech startup.",
           "energy renewable green electromobility proptech startup grid building expert searching sustainability cofound smart clean looking specialist tech storage seeking start"
          ],
          [
           "Healthcare data analyst looking to join a healthcare data firm.",
           "health healthcare company tech telemedicine specialist public mobile expert looking telecommunications telecom start recruitment hr wanting seeking bi data join"
          ],
          [
           "Behavioral economist seeking a cofounder for a behavioral economics startup.",
           "cofound tech scientist startup seeking behavioral firm biology cofounder company bioinformatics wanting chemical exoskeleton materials neuromorphic consumer biotech computational mental"
          ],
          [
           "Consumer psychologist looking to start a consumer tech company.",
           "cofound tech scientist startup seeking behavioral firm biology cofounder company bioinformatics wanting chemical exoskeleton materials neuromorphic consumer biotech computational mental"
          ],
          [
           "Exercise scientist seeking a cofounder for a fitness tech startup.",
           "cofound tech scientist startup seeking behavioral firm biology cofounder company bioinformatics wanting chemical exoskeleton materials neuromorphic consumer biotech computational mental"
          ],
          [
           "Marine ecologist looking to join a marine tech company.",
           "company marine tech expert start personalized drone technologist edtech cybersecurity medicine smart security looking seeking join searching logistics fashion veterinary"
          ],
          [
           "Insurance technology expert seeking to cofound an insurtech firm.",
           "fintech blockchain advisor financial legal expert firm technology join cofound personal finance cryptocurrency developer startup insurance insurtech contract looking company"
          ],
          [
           "Precision agriculture specialist looking to start a precision agtech company.",
           "microbial agtech precision agricultural specialist tech agriculture start startup company technologist looking need hydroponics farming cell bioenergy fuel urban cofound"
          ],
          [
           "Human-centered designer seeking a cofounder for a human-centered design firm.",
           "designer game app developer cofounder web design studio business assistant development virtual centered human interior gaming seeking ux based video"
          ],
          [
           "Smart mobility expert looking to join a smart mobility company.",
           "health healthcare company tech telemedicine specialist public mobile expert looking telecommunications telecom start recruitment hr wanting seeking bi data join"
          ],
          [
           "Pet technology developer seeking a cofounder for a pet tech startup.",
           "company marine tech expert start personalized drone technologist edtech cybersecurity medicine smart security looking seeking join searching logistics fashion veterinary"
          ],
          [
           "Personalized nutrition expert looking to join a personalized nutrition company.",
           "company marine tech expert start personalized drone technologist edtech cybersecurity medicine smart security looking seeking join searching logistics fashion veterinary"
          ],
          [
           "Cultural technologist seeking to cofound a cultural tech firm.",
           "wearable cultural creative sensory tech device developer startup technologist seeking medtech medical cofound firm looking technology start join specialist company"
          ],
          [
           "Microbial technologist looking to start a microbial tech company.",
           "microbial agtech precision agricultural specialist tech agriculture start startup company technologist looking need hydroponics farming cell bioenergy fuel urban cofound"
          ],
          [
           "Electromobility specialist seeking a cofounder for an electromobility startup.",
           "energy renewable green electromobility proptech startup grid building expert searching sustainability cofound smart clean looking specialist tech storage seeking start"
          ],
          [
           "Civic technology expert looking to join a civic tech company.",
           "company marine tech expert start personalized drone technologist edtech cybersecurity medicine smart security looking seeking join searching logistics fashion veterinary"
          ],
          [
           "Bioinformatics specialist seeking to cofound a bioinformatics firm.",
           "cofound tech scientist startup seeking behavioral firm biology cofounder company bioinformatics wanting chemical exoskeleton materials neuromorphic consumer biotech computational mental"
          ],
          [
           "Fashion technologist looking to start a fashion tech company.",
           "company marine tech expert start personalized drone technologist edtech cybersecurity medicine smart security looking seeking join searching logistics fashion veterinary"
          ],
          [
           "Holography expert seeking a cofounder for a holography tech startup.",
           "holography computer vision biometrics biometric expert technology company start searching cofounder startup seeking tech need looking cofound editing energy engineer"
          ],
          [
           "Quantum cryptography specialist looking to join a quantum cryptography firm.",
           "privacy quantum cryptography data firm looking specialist advocate computing cofound tech join expert search company start need searching edtech educational"
          ],
          [
           "Exoskeleton technology expert seeking to cofound an exoskeleton tech company.",
           "cofound tech scientist startup seeking behavioral firm biology cofounder company bioinformatics wanting chemical exoskeleton materials neuromorphic consumer biotech computational mental"
          ],
          [
           "Climate data analyst looking to start a climate tech company.",
           "data analyst geospatial database climate start time real big looking administrator analytics tech company firm wanting seeking cofound energy editing"
          ],
          [
           "Autonomous vehicle developer seeking a cofounder for an autonomous vehicle firm.",
           "automotive auto vehicle autonomous engineer developer firm software transportation tech cofound searching startup cofounder search looking seeking start editing web"
          ],
          [
           "Mobile health technology expert looking to join a mobile health tech company.",
           "health healthcare company tech telemedicine specialist public mobile expert looking telecommunications telecom start recruitment hr wanting seeking bi data join"
          ],
          [
           "Artificial general intelligence researcher seeking a cofounder for an AGI startup.",
           "ai voice specialist recognition marketing ethics firm artificial seeking intelligence cofound researcher speech machine company analytics learning tech language natural"
          ],
          [
           "Sensory technology specialist looking to start a sensory tech company.",
           "wearable cultural creative sensory tech device developer startup technologist seeking medtech medical cofound firm looking technology start join specialist company"
          ],
          [
           "Synthetic biology expert seeking a cofounder for a synthetic biology firm.",
           "cofound tech scientist startup seeking behavioral firm biology cofounder company bioinformatics wanting chemical exoskeleton materials neuromorphic consumer biotech computational mental"
          ],
          [
           "Smart contract developer looking to join a blockchain tech company.",
           "fintech blockchain advisor financial legal expert firm technology join cofound personal finance cryptocurrency developer startup insurance insurtech contract looking company"
          ],
          [
           "AI-powered marketing specialist seeking a cofounder for a marketing tech firm.",
           "ai voice specialist recognition marketing ethics firm artificial seeking intelligence cofound researcher speech machine company analytics learning tech language natural"
          ],
          [
           "Real-time data analyst looking to start a real-time data company.",
           "data analyst geospatial database climate start time real big looking administrator analytics tech company firm wanting seeking cofound energy editing"
          ]
         ],
         "hovertemplate": "Type=talent<br>X=%{x}<br>Y=%{y}<br>Description=%{customdata[0]}<br>cluster_top_words=%{customdata[1]}<br>cluster=%{marker.color}<extra></extra>",
         "legendgroup": "talent",
         "marker": {
          "color": [
           3,
           10,
           8,
           4,
           3,
           4,
           2,
           2,
           15,
           4,
           2,
           7,
           -1,
           3,
           10,
           8,
           9,
           4,
           5,
           16,
           13,
           5,
           10,
           13,
           6,
           8,
           17,
           5,
           -1,
           -1,
           11,
           8,
           11,
           6,
           8,
           15,
           -1,
           1,
           7,
           19,
           10,
           18,
           -1,
           1,
           -1,
           3,
           13,
           20,
           20,
           19,
           7,
           17,
           3,
           13,
           14,
           9,
           15,
           3,
           8,
           2,
           15,
           18,
           11,
           -1,
           -1,
           18,
           5,
           4,
           12,
           0,
           16,
           16,
           16,
           6,
           14,
           7,
           9,
           5,
           8,
           6,
           15,
           16,
           11,
           20,
           12,
           16,
           -1,
           -1,
           17,
           -1,
           16,
           17,
           7,
           2,
           6,
           5,
           15,
           16,
           -1,
           16,
           12,
           16,
           12,
           18,
           1,
           2,
           11,
           15,
           3,
           6,
           15,
           16,
           16,
           16,
           -1,
           2,
           0,
           8,
           15,
           -1,
           -1,
           18,
           0,
           6,
           -1,
           16,
           -1,
           14,
           1,
           16,
           9,
           19,
           15,
           7,
           18,
           16,
           2,
           7,
           9
          ],
          "coloraxis": "coloraxis",
          "symbol": "diamond"
         },
         "mode": "markers",
         "name": "talent",
         "orientation": "v",
         "showlegend": true,
         "type": "scatter",
         "x": [
          -6.089962482452393,
          3.814807891845703,
          9.78165054321289,
          -3.4519290924072266,
          -5.498816013336182,
          -3.1191349029541016,
          -7.435102462768555,
          -7.518147945404053,
          2.6822891235351562,
          -2.8305842876434326,
          -7.134408950805664,
          7.173539638519287,
          -2.9964871406555176,
          -5.182803153991699,
          3.616827964782715,
          9.741479873657227,
          0.49110835790634155,
          -3.0513408184051514,
          -3.6049416065216064,
          5.8219828605651855,
          3.981440782546997,
          -3.693549633026123,
          3.8015236854553223,
          3.86572003364563,
          8.11960220336914,
          9.609780311584473,
          6.6521196365356445,
          -3.7210140228271484,
          -8.112813949584961,
          -8.406637191772461,
          5.46406888961792,
          9.595575332641602,
          5.45773983001709,
          8.600458145141602,
          9.802361488342285,
          1.8659865856170654,
          -13.256237983703613,
          -3.495861768722534,
          7.709023475646973,
          3.5658507347106934,
          3.567920207977295,
          5.1352081298828125,
          -2.9950032234191895,
          -5.0056939125061035,
          -8.183122634887695,
          -5.12933874130249,
          3.811497449874878,
          3.1123828887939453,
          2.4870657920837402,
          3.5009217262268066,
          7.482763767242432,
          6.643491268157959,
          -5.373167037963867,
          4.01036262512207,
          4.6583781242370605,
          0.801504373550415,
          2.514075994491577,
          -5.084409713745117,
          9.5905179977417,
          -7.14398193359375,
          2.4096882343292236,
          4.750192165374756,
          5.7069597244262695,
          3.2597527503967285,
          -8.406652450561523,
          5.170372486114502,
          -3.2997560501098633,
          -2.8813869953155518,
          6.524079322814941,
          20.10334587097168,
          5.705257892608643,
          5.673341274261475,
          5.497016906738281,
          8.970044136047363,
          4.623547077178955,
          7.739704608917236,
          0.5585922002792358,
          -3.604001045227051,
          9.077728271484375,
          8.606907844543457,
          1.6217819452285767,
          6.421625137329102,
          5.3972649574279785,
          2.4339349269866943,
          6.726351737976074,
          6.899169445037842,
          8.785781860351562,
          4.566636562347412,
          6.827725887298584,
          10.430573463439941,
          5.80494499206543,
          6.6421051025390625,
          7.486374378204346,
          -7.156042098999023,
          8.035032272338867,
          -3.623410224914551,
          2.683936834335327,
          5.119645118713379,
          5.090346336364746,
          3.6208033561706543,
          6.728513717651367,
          6.31948184967041,
          6.292450428009033,
          3.7997865676879883,
          -5.0056562423706055,
          -7.279965400695801,
          5.577079772949219,
          2.5787367820739746,
          -5.1701884269714355,
          9.021930694580078,
          2.049720048904419,
          4.319500923156738,
          3.6942379474639893,
          4.946640491485596,
          4.624423503875732,
          -7.118053436279297,
          20.103469848632812,
          9.831843376159668,
          2.974259376525879,
          5.124138355255127,
          8.742218971252441,
          3.8086347579956055,
          17.618160247802734,
          8.925661087036133,
          6.647976398468018,
          6.845074653625488,
          10.409663200378418,
          4.888043403625488,
          -3.495901346206665,
          4.4111528396606445,
          0.4814431071281433,
          3.7048287391662598,
          2.88686466217041,
          7.329484939575195,
          4.342939376831055,
          5.9602179527282715,
          -7.25048828125,
          7.323042869567871,
          0.44477126002311707
         ],
         "xaxis": "x",
         "y": [
          3.4156389236450195,
          6.4206109046936035,
          0.6320726275444031,
          0.13829486072063446,
          3.266772508621216,
          -0.32032105326652527,
          3.557506799697876,
          3.6687915325164795,
          7.9941725730896,
          -0.061969414353370667,
          4.42819356918335,
          3.9628591537475586,
          9.753708839416504,
          3.8212523460388184,
          6.388087272644043,
          0.8252041339874268,
          8.841113090515137,
          -0.36897972226142883,
          0.5575231313705444,
          8.05978012084961,
          0.19585007429122925,
          1.3009206056594849,
          6.400711536407471,
          0.643162727355957,
          -3.0012338161468506,
          0.9497925043106079,
          9.960182189941406,
          1.322466254234314,
          7.3629279136657715,
          14.9889554977417,
          -1.3096777200698853,
          1.1058942079544067,
          -1.3034948110580444,
          -3.3162803649902344,
          0.3627292513847351,
          7.440505027770996,
          6.307548999786377,
          -10.642890930175781,
          2.729491949081421,
          1.7439380884170532,
          6.371018886566162,
          11.616214752197266,
          9.757524490356445,
          -5.45471715927124,
          7.434108257293701,
          2.8586411476135254,
          0.46730169653892517,
          2.6419026851654053,
          3.1242284774780273,
          1.8112021684646606,
          3.1893856525421143,
          9.935763359069824,
          3.2394139766693115,
          0.20981790125370026,
          -0.0676814615726471,
          8.618547439575195,
          8.333950996398926,
          3.9489057064056396,
          1.1104371547698975,
          3.922431468963623,
          7.93907356262207,
          11.482815742492676,
          -1.8689628839492798,
          2.4122064113616943,
          14.988975524902344,
          11.639883041381836,
          0.8632234930992126,
          -0.13339757919311523,
          -1.7451432943344116,
          4.0386786460876465,
          7.274928569793701,
          7.1593499183654785,
          8.178780555725098,
          -3.6793253421783447,
          -0.04818667471408844,
          2.718782663345337,
          8.77034854888916,
          1.1731469631195068,
          1.645754098892212,
          -3.315629243850708,
          8.066231727600098,
          8.235159873962402,
          -1.2329559326171875,
          3.172635793685913,
          -2.6472249031066895,
          8.234206199645996,
          -9.307961463928223,
          -4.911664009094238,
          9.92093276977539,
          14.75831127166748,
          7.927870273590088,
          9.952143669128418,
          3.6591453552246094,
          3.845186710357666,
          -2.916591167449951,
          1.189591646194458,
          7.764735698699951,
          8.205005645751953,
          10.010085105895996,
          8.446205139160156,
          -2.648064613342285,
          8.304181098937988,
          -2.3552260398864746,
          12.350969314575195,
          -5.454685211181641,
          3.739933729171753,
          -1.958723545074463,
          8.267094612121582,
          3.8384711742401123,
          -3.785079002380371,
          7.849525451660156,
          8.48137378692627,
          8.482627868652344,
          8.142054557800293,
          -4.840417861938477,
          3.6115078926086426,
          4.038498401641846,
          0.3150910437107086,
          7.215475082397461,
          9.975017547607422,
          -9.351494789123535,
          12.343829154968262,
          -3.4509923458099365,
          -3.3992533683776855,
          -1.7501411437988281,
          8.269796371459961,
          14.737517356872559,
          -0.37973862886428833,
          -10.642945289611816,
          7.956913471221924,
          8.848099708557129,
          1.6057289838790894,
          7.425608158111572,
          3.7488365173339844,
          11.868847846984863,
          8.283616065979004,
          4.276463031768799,
          3.7553203105926514,
          8.881293296813965
         ],
         "yaxis": "y"
        },
        {
         "customdata": [
          [
           "Searching for a project manager to help lead a tech venture.",
           "company marine tech expert start personalized drone technologist edtech cybersecurity medicine smart security looking seeking join searching logistics fashion veterinary"
          ],
          [
           "Need a cybersecurity expert to start a security tech company.",
           "company marine tech expert start personalized drone technologist edtech cybersecurity medicine smart security looking seeking join searching logistics fashion veterinary"
          ],
          [
           "Looking for a logistics expert to start a logistics tech company.",
           "company marine tech expert start personalized drone technologist edtech cybersecurity medicine smart security looking seeking join searching logistics fashion veterinary"
          ],
          [
           "Searching for an educational technologist to cofound an edtech startup.",
           "company marine tech expert start personalized drone technologist edtech cybersecurity medicine smart security looking seeking join searching logistics fashion veterinary"
          ],
          [
           "Seeking a drone technology expert to start a drone tech company.",
           "company marine tech expert start personalized drone technologist edtech cybersecurity medicine smart security looking seeking join searching logistics fashion veterinary"
          ],
          [
           "Need a cybersecurity policy expert to start a security consultancy.",
           "company marine tech expert start personalized drone technologist edtech cybersecurity medicine smart security looking seeking join searching logistics fashion veterinary"
          ],
          [
           "Searching for a supply chain specialist to start a supply chain tech company.",
           "company marine tech expert start personalized drone technologist edtech cybersecurity medicine smart security looking seeking join searching logistics fashion veterinary"
          ],
          [
           "Searching for an e-learning specialist to start an edtech company.",
           "company marine tech expert start personalized drone technologist edtech cybersecurity medicine smart security looking seeking join searching logistics fashion veterinary"
          ],
          [
           "Seeking a personalized medicine expert to start a personalized medicine company.",
           "company marine tech expert start personalized drone technologist edtech cybersecurity medicine smart security looking seeking join searching logistics fashion veterinary"
          ],
          [
           "Need a marine biotechnologist to cofound a marine biotech startup.",
           "company marine tech expert start personalized drone technologist edtech cybersecurity medicine smart security looking seeking join searching logistics fashion veterinary"
          ],
          [
           "Searching for a smart textiles developer to cofound a smart textiles firm.",
           "company marine tech expert start personalized drone technologist edtech cybersecurity medicine smart security looking seeking join searching logistics fashion veterinary"
          ],
          [
           "Looking for a veterinary technologist to start a veterinary tech company.",
           "company marine tech expert start personalized drone technologist edtech cybersecurity medicine smart security looking seeking join searching logistics fashion veterinary"
          ],
          [
           "Searching for a marine ecologist to start a marine tech company.",
           "company marine tech expert start personalized drone technologist edtech cybersecurity medicine smart security looking seeking join searching logistics fashion veterinary"
          ],
          [
           "Looking for a smart mobility expert to start a smart mobility company.",
           "company marine tech expert start personalized drone technologist edtech cybersecurity medicine smart security looking seeking join searching logistics fashion veterinary"
          ],
          [
           "Wanting a personalized nutrition expert to start a personalized nutrition company.",
           "company marine tech expert start personalized drone technologist edtech cybersecurity medicine smart security looking seeking join searching logistics fashion veterinary"
          ],
          [
           "Seeking a fashion technologist to start a fashion tech company.",
           "company marine tech expert start personalized drone technologist edtech cybersecurity medicine smart security looking seeking join searching logistics fashion veterinary"
          ],
          [
           "Searching for a smart fabric developer to cofound a wearable tech company.",
           "company marine tech expert start personalized drone technologist edtech cybersecurity medicine smart security looking seeking join searching logistics fashion veterinary"
          ],
          [
           "Need an intelligent transportation systems expert to start a transportation tech firm.",
           "company marine tech expert start personalized drone technologist edtech cybersecurity medicine smart security looking seeking join searching logistics fashion veterinary"
          ],
          [
           "Seeking a precision medicine technologist to start a precision medicine company.",
           "company marine tech expert start personalized drone technologist edtech cybersecurity medicine smart security looking seeking join searching logistics fashion veterinary"
          ],
          [
           "Need an autonomous drone developer to cofound a drone tech startup.",
           "company marine tech expert start personalized drone technologist edtech cybersecurity medicine smart security looking seeking join searching logistics fashion veterinary"
          ],
          [
           "Cybersecurity expert seeking a security tech company to join.",
           "company marine tech expert start personalized drone technologist edtech cybersecurity medicine smart security looking seeking join searching logistics fashion veterinary"
          ],
          [
           "Logistics expert looking to join a logistics tech startup.",
           "company marine tech expert start personalized drone technologist edtech cybersecurity medicine smart security looking seeking join searching logistics fashion veterinary"
          ],
          [
           "Educational technologist seeking a cofounder for an edtech startup.",
           "company marine tech expert start personalized drone technologist edtech cybersecurity medicine smart security looking seeking join searching logistics fashion veterinary"
          ],
          [
           "Drone technology expert in search of a drone tech startup.",
           "company marine tech expert start personalized drone technologist edtech cybersecurity medicine smart security looking seeking join searching logistics fashion veterinary"
          ],
          [
           "Cybersecurity policy expert looking to start a security consultancy.",
           "company marine tech expert start personalized drone technologist edtech cybersecurity medicine smart security looking seeking join searching logistics fashion veterinary"
          ],
          [
           "Supply chain specialist seeking to start a supply chain tech company.",
           "company marine tech expert start personalized drone technologist edtech cybersecurity medicine smart security looking seeking join searching logistics fashion veterinary"
          ],
          [
           "Transportation engineer looking to join a transportation tech firm.",
           "company marine tech expert start personalized drone technologist edtech cybersecurity medicine smart security looking seeking join searching logistics fashion veterinary"
          ],
          [
           "E-learning specialist seeking a cofounder for an edtech company.",
           "company marine tech expert start personalized drone technologist edtech cybersecurity medicine smart security looking seeking join searching logistics fashion veterinary"
          ],
          [
           "Personalized medicine expert looking to join a personalized medicine company.",
           "company marine tech expert start personalized drone technologist edtech cybersecurity medicine smart security looking seeking join searching logistics fashion veterinary"
          ],
          [
           "Marine biotechnologist seeking a cofounder for a marine biotech startup.",
           "company marine tech expert start personalized drone technologist edtech cybersecurity medicine smart security looking seeking join searching logistics fashion veterinary"
          ],
          [
           "Smart textiles developer seeking a cofounder for a smart textiles firm.",
           "company marine tech expert start personalized drone technologist edtech cybersecurity medicine smart security looking seeking join searching logistics fashion veterinary"
          ],
          [
           "Veterinary technologist looking to join a veterinary tech company.",
           "company marine tech expert start personalized drone technologist edtech cybersecurity medicine smart security looking seeking join searching logistics fashion veterinary"
          ],
          [
           "Marine ecologist looking to join a marine tech company.",
           "company marine tech expert start personalized drone technologist edtech cybersecurity medicine smart security looking seeking join searching logistics fashion veterinary"
          ],
          [
           "Pet technology developer seeking a cofounder for a pet tech startup.",
           "company marine tech expert start personalized drone technologist edtech cybersecurity medicine smart security looking seeking join searching logistics fashion veterinary"
          ],
          [
           "Personalized nutrition expert looking to join a personalized nutrition company.",
           "company marine tech expert start personalized drone technologist edtech cybersecurity medicine smart security looking seeking join searching logistics fashion veterinary"
          ],
          [
           "Civic technology expert looking to join a civic tech company.",
           "company marine tech expert start personalized drone technologist edtech cybersecurity medicine smart security looking seeking join searching logistics fashion veterinary"
          ],
          [
           "Fashion technologist looking to start a fashion tech company.",
           "company marine tech expert start personalized drone technologist edtech cybersecurity medicine smart security looking seeking join searching logistics fashion veterinary"
          ]
         ],
         "hovertemplate": "X=%{x}<br>Y=%{y}<br>Description=%{customdata[0]}<br>cluster_top_words=%{customdata[1]}<extra></extra>",
         "legendgroup": "",
         "marker": {
          "color": "#EEEEEE",
          "symbol": "circle"
         },
         "mode": "markers",
         "name": "",
         "orientation": "v",
         "showlegend": false,
         "type": "scatter",
         "x": [
          -3.514988899230957,
          -2.9959428310394287,
          -8.130401611328125,
          -8.406763076782227,
          -13.256300926208496,
          -2.995333671569824,
          -8.15993595123291,
          -8.406583786010742,
          8.770249366760254,
          4.593074321746826,
          10.418914794921875,
          5.092594146728516,
          4.601435661315918,
          3.055201530456543,
          8.74146842956543,
          10.395255088806152,
          10.43453598022461,
          3.282991647720337,
          8.77851390838623,
          -13.256231307983398,
          -2.9964871406555176,
          -8.112813949584961,
          -8.406637191772461,
          -13.256237983703613,
          -2.9950032234191895,
          -8.183122634887695,
          3.2597527503967285,
          -8.406652450561523,
          8.785781860351562,
          4.566636562347412,
          10.430573463439941,
          5.090346336364746,
          4.624423503875732,
          5.124138355255127,
          8.742218971252441,
          6.647976398468018,
          10.409663200378418
         ],
         "xaxis": "x",
         "y": [
          0.2553223967552185,
          9.753583908081055,
          7.380816459655762,
          14.989002227783203,
          6.307604789733887,
          9.754405975341797,
          7.4108357429504395,
          14.988920211791992,
          -9.323508262634277,
          -4.8817219734191895,
          14.74669361114502,
          10.00892448425293,
          -4.869832515716553,
          7.054539680480957,
          -9.352182388305664,
          14.723082542419434,
          14.76225471496582,
          2.3638291358947754,
          -9.315001487731934,
          6.307549953460693,
          9.753708839416504,
          7.3629279136657715,
          14.9889554977417,
          6.307548999786377,
          9.757524490356445,
          7.434108257293701,
          2.4122064113616943,
          14.988975524902344,
          -9.307961463928223,
          -4.911664009094238,
          14.75831127166748,
          10.010085105895996,
          -4.840417861938477,
          9.975017547607422,
          -9.351494789123535,
          -1.7501411437988281,
          14.737517356872559
         ],
         "yaxis": "y"
        }
       ],
       "layout": {
        "autosize": false,
        "coloraxis": {
         "colorbar": {
          "title": {
           "text": "cluster"
          }
         },
         "colorscale": [
          [
           0,
           "#0d0887"
          ],
          [
           0.1111111111111111,
           "#46039f"
          ],
          [
           0.2222222222222222,
           "#7201a8"
          ],
          [
           0.3333333333333333,
           "#9c179e"
          ],
          [
           0.4444444444444444,
           "#bd3786"
          ],
          [
           0.5555555555555556,
           "#d8576b"
          ],
          [
           0.6666666666666666,
           "#ed7953"
          ],
          [
           0.7777777777777778,
           "#fb9f3a"
          ],
          [
           0.8888888888888888,
           "#fdca26"
          ],
          [
           1,
           "#f0f921"
          ]
         ]
        },
        "height": 500,
        "images": [
         {
          "layer": "below",
          "opacity": 0.8,
          "sizex": 0.8,
          "sizey": 0.8,
          "source": "rocket/landing/static/landing/Rocket Logo.png",
          "x": 0,
          "xref": "paper",
          "y": 1,
          "yref": "paper"
         },
         {
          "opacity": 0.8,
          "sizex": 0.15,
          "sizey": 0.15,
          "source": "rocket/landing/static/landing/Rocket Logo.png",
          "x": 0,
          "xref": "paper",
          "y": 0,
          "yref": "paper"
         }
        ],
        "legend": {
         "itemsizing": "constant",
         "title": {
          "font": {
           "color": "green"
          },
          "text": "Clusters & Top Words"
         },
         "tracegroupgap": 20
        },
        "margin": {
         "b": 100,
         "l": 50,
         "r": 50,
         "t": 100
        },
        "plot_bgcolor": "white",
        "showlegend": true,
        "template": {
         "data": {
          "bar": [
           {
            "error_x": {
             "color": "#2a3f5f"
            },
            "error_y": {
             "color": "#2a3f5f"
            },
            "marker": {
             "line": {
              "color": "#E5ECF6",
              "width": 0.5
             },
             "pattern": {
              "fillmode": "overlay",
              "size": 10,
              "solidity": 0.2
             }
            },
            "type": "bar"
           }
          ],
          "barpolar": [
           {
            "marker": {
             "line": {
              "color": "#E5ECF6",
              "width": 0.5
             },
             "pattern": {
              "fillmode": "overlay",
              "size": 10,
              "solidity": 0.2
             }
            },
            "type": "barpolar"
           }
          ],
          "carpet": [
           {
            "aaxis": {
             "endlinecolor": "#2a3f5f",
             "gridcolor": "white",
             "linecolor": "white",
             "minorgridcolor": "white",
             "startlinecolor": "#2a3f5f"
            },
            "baxis": {
             "endlinecolor": "#2a3f5f",
             "gridcolor": "white",
             "linecolor": "white",
             "minorgridcolor": "white",
             "startlinecolor": "#2a3f5f"
            },
            "type": "carpet"
           }
          ],
          "choropleth": [
           {
            "colorbar": {
             "outlinewidth": 0,
             "ticks": ""
            },
            "type": "choropleth"
           }
          ],
          "contour": [
           {
            "colorbar": {
             "outlinewidth": 0,
             "ticks": ""
            },
            "colorscale": [
             [
              0,
              "#0d0887"
             ],
             [
              0.1111111111111111,
              "#46039f"
             ],
             [
              0.2222222222222222,
              "#7201a8"
             ],
             [
              0.3333333333333333,
              "#9c179e"
             ],
             [
              0.4444444444444444,
              "#bd3786"
             ],
             [
              0.5555555555555556,
              "#d8576b"
             ],
             [
              0.6666666666666666,
              "#ed7953"
             ],
             [
              0.7777777777777778,
              "#fb9f3a"
             ],
             [
              0.8888888888888888,
              "#fdca26"
             ],
             [
              1,
              "#f0f921"
             ]
            ],
            "type": "contour"
           }
          ],
          "contourcarpet": [
           {
            "colorbar": {
             "outlinewidth": 0,
             "ticks": ""
            },
            "type": "contourcarpet"
           }
          ],
          "heatmap": [
           {
            "colorbar": {
             "outlinewidth": 0,
             "ticks": ""
            },
            "colorscale": [
             [
              0,
              "#0d0887"
             ],
             [
              0.1111111111111111,
              "#46039f"
             ],
             [
              0.2222222222222222,
              "#7201a8"
             ],
             [
              0.3333333333333333,
              "#9c179e"
             ],
             [
              0.4444444444444444,
              "#bd3786"
             ],
             [
              0.5555555555555556,
              "#d8576b"
             ],
             [
              0.6666666666666666,
              "#ed7953"
             ],
             [
              0.7777777777777778,
              "#fb9f3a"
             ],
             [
              0.8888888888888888,
              "#fdca26"
             ],
             [
              1,
              "#f0f921"
             ]
            ],
            "type": "heatmap"
           }
          ],
          "heatmapgl": [
           {
            "colorbar": {
             "outlinewidth": 0,
             "ticks": ""
            },
            "colorscale": [
             [
              0,
              "#0d0887"
             ],
             [
              0.1111111111111111,
              "#46039f"
             ],
             [
              0.2222222222222222,
              "#7201a8"
             ],
             [
              0.3333333333333333,
              "#9c179e"
             ],
             [
              0.4444444444444444,
              "#bd3786"
             ],
             [
              0.5555555555555556,
              "#d8576b"
             ],
             [
              0.6666666666666666,
              "#ed7953"
             ],
             [
              0.7777777777777778,
              "#fb9f3a"
             ],
             [
              0.8888888888888888,
              "#fdca26"
             ],
             [
              1,
              "#f0f921"
             ]
            ],
            "type": "heatmapgl"
           }
          ],
          "histogram": [
           {
            "marker": {
             "pattern": {
              "fillmode": "overlay",
              "size": 10,
              "solidity": 0.2
             }
            },
            "type": "histogram"
           }
          ],
          "histogram2d": [
           {
            "colorbar": {
             "outlinewidth": 0,
             "ticks": ""
            },
            "colorscale": [
             [
              0,
              "#0d0887"
             ],
             [
              0.1111111111111111,
              "#46039f"
             ],
             [
              0.2222222222222222,
              "#7201a8"
             ],
             [
              0.3333333333333333,
              "#9c179e"
             ],
             [
              0.4444444444444444,
              "#bd3786"
             ],
             [
              0.5555555555555556,
              "#d8576b"
             ],
             [
              0.6666666666666666,
              "#ed7953"
             ],
             [
              0.7777777777777778,
              "#fb9f3a"
             ],
             [
              0.8888888888888888,
              "#fdca26"
             ],
             [
              1,
              "#f0f921"
             ]
            ],
            "type": "histogram2d"
           }
          ],
          "histogram2dcontour": [
           {
            "colorbar": {
             "outlinewidth": 0,
             "ticks": ""
            },
            "colorscale": [
             [
              0,
              "#0d0887"
             ],
             [
              0.1111111111111111,
              "#46039f"
             ],
             [
              0.2222222222222222,
              "#7201a8"
             ],
             [
              0.3333333333333333,
              "#9c179e"
             ],
             [
              0.4444444444444444,
              "#bd3786"
             ],
             [
              0.5555555555555556,
              "#d8576b"
             ],
             [
              0.6666666666666666,
              "#ed7953"
             ],
             [
              0.7777777777777778,
              "#fb9f3a"
             ],
             [
              0.8888888888888888,
              "#fdca26"
             ],
             [
              1,
              "#f0f921"
             ]
            ],
            "type": "histogram2dcontour"
           }
          ],
          "mesh3d": [
           {
            "colorbar": {
             "outlinewidth": 0,
             "ticks": ""
            },
            "type": "mesh3d"
           }
          ],
          "parcoords": [
           {
            "line": {
             "colorbar": {
              "outlinewidth": 0,
              "ticks": ""
             }
            },
            "type": "parcoords"
           }
          ],
          "pie": [
           {
            "automargin": true,
            "type": "pie"
           }
          ],
          "scatter": [
           {
            "fillpattern": {
             "fillmode": "overlay",
             "size": 10,
             "solidity": 0.2
            },
            "type": "scatter"
           }
          ],
          "scatter3d": [
           {
            "line": {
             "colorbar": {
              "outlinewidth": 0,
              "ticks": ""
             }
            },
            "marker": {
             "colorbar": {
              "outlinewidth": 0,
              "ticks": ""
             }
            },
            "type": "scatter3d"
           }
          ],
          "scattercarpet": [
           {
            "marker": {
             "colorbar": {
              "outlinewidth": 0,
              "ticks": ""
             }
            },
            "type": "scattercarpet"
           }
          ],
          "scattergeo": [
           {
            "marker": {
             "colorbar": {
              "outlinewidth": 0,
              "ticks": ""
             }
            },
            "type": "scattergeo"
           }
          ],
          "scattergl": [
           {
            "marker": {
             "colorbar": {
              "outlinewidth": 0,
              "ticks": ""
             }
            },
            "type": "scattergl"
           }
          ],
          "scattermapbox": [
           {
            "marker": {
             "colorbar": {
              "outlinewidth": 0,
              "ticks": ""
             }
            },
            "type": "scattermapbox"
           }
          ],
          "scatterpolar": [
           {
            "marker": {
             "colorbar": {
              "outlinewidth": 0,
              "ticks": ""
             }
            },
            "type": "scatterpolar"
           }
          ],
          "scatterpolargl": [
           {
            "marker": {
             "colorbar": {
              "outlinewidth": 0,
              "ticks": ""
             }
            },
            "type": "scatterpolargl"
           }
          ],
          "scatterternary": [
           {
            "marker": {
             "colorbar": {
              "outlinewidth": 0,
              "ticks": ""
             }
            },
            "type": "scatterternary"
           }
          ],
          "surface": [
           {
            "colorbar": {
             "outlinewidth": 0,
             "ticks": ""
            },
            "colorscale": [
             [
              0,
              "#0d0887"
             ],
             [
              0.1111111111111111,
              "#46039f"
             ],
             [
              0.2222222222222222,
              "#7201a8"
             ],
             [
              0.3333333333333333,
              "#9c179e"
             ],
             [
              0.4444444444444444,
              "#bd3786"
             ],
             [
              0.5555555555555556,
              "#d8576b"
             ],
             [
              0.6666666666666666,
              "#ed7953"
             ],
             [
              0.7777777777777778,
              "#fb9f3a"
             ],
             [
              0.8888888888888888,
              "#fdca26"
             ],
             [
              1,
              "#f0f921"
             ]
            ],
            "type": "surface"
           }
          ],
          "table": [
           {
            "cells": {
             "fill": {
              "color": "#EBF0F8"
             },
             "line": {
              "color": "white"
             }
            },
            "header": {
             "fill": {
              "color": "#C8D4E3"
             },
             "line": {
              "color": "white"
             }
            },
            "type": "table"
           }
          ]
         },
         "layout": {
          "annotationdefaults": {
           "arrowcolor": "#2a3f5f",
           "arrowhead": 0,
           "arrowwidth": 1
          },
          "autotypenumbers": "strict",
          "coloraxis": {
           "colorbar": {
            "outlinewidth": 0,
            "ticks": ""
           }
          },
          "colorscale": {
           "diverging": [
            [
             0,
             "#8e0152"
            ],
            [
             0.1,
             "#c51b7d"
            ],
            [
             0.2,
             "#de77ae"
            ],
            [
             0.3,
             "#f1b6da"
            ],
            [
             0.4,
             "#fde0ef"
            ],
            [
             0.5,
             "#f7f7f7"
            ],
            [
             0.6,
             "#e6f5d0"
            ],
            [
             0.7,
             "#b8e186"
            ],
            [
             0.8,
             "#7fbc41"
            ],
            [
             0.9,
             "#4d9221"
            ],
            [
             1,
             "#276419"
            ]
           ],
           "sequential": [
            [
             0,
             "#0d0887"
            ],
            [
             0.1111111111111111,
             "#46039f"
            ],
            [
             0.2222222222222222,
             "#7201a8"
            ],
            [
             0.3333333333333333,
             "#9c179e"
            ],
            [
             0.4444444444444444,
             "#bd3786"
            ],
            [
             0.5555555555555556,
             "#d8576b"
            ],
            [
             0.6666666666666666,
             "#ed7953"
            ],
            [
             0.7777777777777778,
             "#fb9f3a"
            ],
            [
             0.8888888888888888,
             "#fdca26"
            ],
            [
             1,
             "#f0f921"
            ]
           ],
           "sequentialminus": [
            [
             0,
             "#0d0887"
            ],
            [
             0.1111111111111111,
             "#46039f"
            ],
            [
             0.2222222222222222,
             "#7201a8"
            ],
            [
             0.3333333333333333,
             "#9c179e"
            ],
            [
             0.4444444444444444,
             "#bd3786"
            ],
            [
             0.5555555555555556,
             "#d8576b"
            ],
            [
             0.6666666666666666,
             "#ed7953"
            ],
            [
             0.7777777777777778,
             "#fb9f3a"
            ],
            [
             0.8888888888888888,
             "#fdca26"
            ],
            [
             1,
             "#f0f921"
            ]
           ]
          },
          "colorway": [
           "#636efa",
           "#EF553B",
           "#00cc96",
           "#ab63fa",
           "#FFA15A",
           "#19d3f3",
           "#FF6692",
           "#B6E880",
           "#FF97FF",
           "#FECB52"
          ],
          "font": {
           "color": "#2a3f5f"
          },
          "geo": {
           "bgcolor": "white",
           "lakecolor": "white",
           "landcolor": "#E5ECF6",
           "showlakes": true,
           "showland": true,
           "subunitcolor": "white"
          },
          "hoverlabel": {
           "align": "left"
          },
          "hovermode": "closest",
          "mapbox": {
           "style": "light"
          },
          "paper_bgcolor": "white",
          "plot_bgcolor": "#E5ECF6",
          "polar": {
           "angularaxis": {
            "gridcolor": "white",
            "linecolor": "white",
            "ticks": ""
           },
           "bgcolor": "#E5ECF6",
           "radialaxis": {
            "gridcolor": "white",
            "linecolor": "white",
            "ticks": ""
           }
          },
          "scene": {
           "xaxis": {
            "backgroundcolor": "#E5ECF6",
            "gridcolor": "white",
            "gridwidth": 2,
            "linecolor": "white",
            "showbackground": true,
            "ticks": "",
            "zerolinecolor": "white"
           },
           "yaxis": {
            "backgroundcolor": "#E5ECF6",
            "gridcolor": "white",
            "gridwidth": 2,
            "linecolor": "white",
            "showbackground": true,
            "ticks": "",
            "zerolinecolor": "white"
           },
           "zaxis": {
            "backgroundcolor": "#E5ECF6",
            "gridcolor": "white",
            "gridwidth": 2,
            "linecolor": "white",
            "showbackground": true,
            "ticks": "",
            "zerolinecolor": "white"
           }
          },
          "shapedefaults": {
           "line": {
            "color": "#2a3f5f"
           }
          },
          "ternary": {
           "aaxis": {
            "gridcolor": "white",
            "linecolor": "white",
            "ticks": ""
           },
           "baxis": {
            "gridcolor": "white",
            "linecolor": "white",
            "ticks": ""
           },
           "bgcolor": "#E5ECF6",
           "caxis": {
            "gridcolor": "white",
            "linecolor": "white",
            "ticks": ""
           }
          },
          "title": {
           "x": 0.05
          },
          "xaxis": {
           "automargin": true,
           "gridcolor": "white",
           "linecolor": "white",
           "ticks": "",
           "title": {
            "standoff": 15
           },
           "zerolinecolor": "white",
           "zerolinewidth": 2
          },
          "yaxis": {
           "automargin": true,
           "gridcolor": "white",
           "linecolor": "white",
           "ticks": "",
           "title": {
            "standoff": 15
           },
           "zerolinecolor": "white",
           "zerolinewidth": 2
          }
         }
        },
        "width": 1000,
        "xaxis": {
         "anchor": "y",
         "autorange": true,
         "domain": [
          0,
          1
         ],
         "range": [
          -15.312658400205434,
          22.15982732262975
         ],
         "showticklabels": false,
         "title": {
          "text": ""
         },
         "type": "linear"
        },
        "yaxis": {
         "anchor": "x",
         "autorange": true,
         "domain": [
          0,
          1
         ],
         "range": [
          -12.473798683711461,
          16.819855621882848
         ],
         "showticklabels": false,
         "title": {
          "text": ""
         },
         "type": "linear"
        }
       }
      },
      "image/png": "[encoded data removed]",
      "text/html": [
       "<div>                            <div id=\"ff68f612-f9e4-411c-acc4-e4b79fdf972a\" class=\"plotly-graph-div\" style=\"height:500px; width:1000px;\"></div>            <script type=\"text/javascript\">                require([\"plotly\"], function(Plotly) {                    window.PLOTLYENV=window.PLOTLYENV || {};                                    if (document.getElementById(\"ff68f612-f9e4-411c-acc4-e4b79fdf972a\")) {                    Plotly.newPlot(                        \"ff68f612-f9e4-411c-acc4-e4b79fdf972a\",                        [{\"customdata\":[[\"I'm looking for a skilled programmer to join my startup.\",\"cloud software looking cofound architect solutions security devops programmer skilled firm saas join city planner urban computing company expert engineer\"],[\"Seeking a talented data scientist to cofound an AI company.\",\"ai voice specialist recognition marketing ethics firm artificial seeking intelligence cofound researcher speech machine company analytics learning tech language natural\"],[\"Need a UX designer to partner with for a new app.\",\"designer game app developer cofounder web design studio business assistant development virtual centered human interior gaming seeking ux based video\"],[\"Searching for a project manager to help lead a tech venture.\",\"company marine tech expert start personalized drone technologist edtech cybersecurity medicine smart security looking seeking join searching logistics fashion veterinary\"],[\"Looking for a DevOps engineer to cofound a software company.\",\"cloud software looking cofound architect solutions security devops programmer skilled firm saas join city planner urban computing company expert engineer\"],[\"Wanting to find a marketing expert to start an online business.\",\"retail online business manager sales commerce specialist startup marketing founder cofound tech need find start experienced savvy project expert seeking\"],[\"In need of a financial advisor to cofound a fintech startup.\",\"fintech blockchain advisor financial legal expert firm technology join cofound personal finance cryptocurrency developer startup insurance insurtech contract looking company\"],[\"Seeking a legal advisor to partner with for a legal tech firm.\",\"fintech blockchain advisor financial legal expert firm technology join cofound personal finance cryptocurrency developer startup insurance insurtech contract looking company\"],[\"Looking for a healthcare professional to cofound a health tech company.\",\"health healthcare company tech telemedicine specialist public mobile expert looking telecommunications telecom start recruitment hr wanting seeking bi data join\"],[\"Searching for an experienced sales manager to cofound a retail startup.\",\"retail online business manager sales commerce specialist startup marketing founder cofound tech need find start experienced savvy project expert seeking\"],[\"Wanting a blockchain expert to start a cryptocurrency company.\",\"fintech blockchain advisor financial legal expert firm technology join cofound personal finance cryptocurrency developer startup insurance insurtech contract looking company\"],[\"Seeking a machine learning specialist to cofound an analytics firm.\",\"ai voice specialist recognition marketing ethics firm artificial seeking intelligence cofound researcher speech machine company analytics learning tech language natural\"],[\"Need a cybersecurity expert to start a security tech company.\",\"company marine tech expert start personalized drone technologist edtech cybersecurity medicine smart security looking seeking join searching logistics fashion veterinary\"],[\"Looking for a cloud computing expert to cofound a SaaS company.\",\"cloud software looking cofound architect solutions security devops programmer skilled firm saas join city planner urban computing company expert engineer\"],[\"Searching for an IoT specialist to start a smart device company.\",\"smart home founder partner iot device specialist company ai experienced start technology scientist data seeking researcher searching looking wanting digital\"],[\"Wanting a mobile app developer to cofound an app-based business.\",\"designer game app developer cofounder web design studio business assistant development virtual centered human interior gaming seeking ux based video\"],[\"Seeking a big data analyst to start a data analytics firm.\",\"data analyst geospatial database climate start time real big looking administrator analytics tech company firm wanting seeking cofound energy editing\"],[\"Need an e-commerce specialist to cofound an online retail business.\",\"retail online business manager sales commerce specialist startup marketing founder cofound tech need find start experienced savvy project expert seeking\"],[\"Looking for a product manager to partner with for a new venture.\",\"hospitality innovation market digital strategist manager agency social media product seeking new venture cofound cofounder research consultancy marketing researcher tech\"],[\"Searching for a biotech researcher to cofound a biotech startup.\",\"cofound tech scientist startup seeking behavioral firm biology cofounder company bioinformatics wanting chemical exoskeleton materials neuromorphic consumer biotech computational mental\"],[\"Wanting an AR\\u002fVR developer to start an augmented reality company.\",\"robotics augmented ar reality 3d printing specialist looking start startup gesture vr social company engineer developer cofound business seeking tech\"],[\"Seeking a digital marketing strategist to cofound a digital agency.\",\"hospitality innovation market digital strategist manager agency social media product seeking new venture cofound cofounder research consultancy marketing researcher tech\"],[\"Need an AI researcher to start an artificial intelligence company.\",\"ai voice specialist recognition marketing ethics firm artificial seeking intelligence cofound researcher speech machine company analytics learning tech language natural\"],[\"Looking for a robotics engineer to cofound a robotics startup.\",\"robotics augmented ar reality 3d printing specialist looking start startup gesture vr social company engineer developer cofound business seeking tech\"],[\"Searching for a sustainability expert to start a green tech company.\",\"energy renewable green electromobility proptech startup grid building expert searching sustainability cofound smart clean looking specialist tech storage seeking start\"],[\"Wanting a web developer to cofound a web development business.\",\"designer game app developer cofounder web design studio business assistant development virtual centered human interior gaming seeking ux based video\"],[\"Seeking a content creator to start a media company.\",\"content vr sports creator media start virtual reality company pet expert technology looking seeking studio tech cofound startup searching developer\"],[\"Need a social media manager to cofound a social media agency.\",\"hospitality innovation market digital strategist manager agency social media product seeking new venture cofound cofounder research consultancy marketing researcher tech\"],[\"Looking for a logistics expert to start a logistics tech company.\",\"company marine tech expert start personalized drone technologist edtech cybersecurity medicine smart security looking seeking join searching logistics fashion veterinary\"],[\"Searching for an educational technologist to cofound an edtech startup.\",\"company marine tech expert start personalized drone technologist edtech cybersecurity medicine smart security looking seeking join searching logistics fashion veterinary\"],[\"Wanting a hardware engineer to start a hardware tech company.\",\"engineer photonics hardware construction tech start disaster recovery company network networking need looking expert seeking specialist search firm wanting educational\"],[\"Seeking a game developer to cofound a gaming studio.\",\"designer game app developer cofounder web design studio business assistant development virtual centered human interior gaming seeking ux based video\"],[\"Need a network engineer to start a networking tech company.\",\"engineer photonics hardware construction tech start disaster recovery company network networking need looking expert seeking specialist search firm wanting educational\"],[\"Looking for a renewable energy expert to cofound a clean energy startup.\",\"energy renewable green electromobility proptech startup grid building expert searching sustainability cofound smart clean looking specialist tech storage seeking start\"],[\"Searching for an interior designer to start a design firm.\",\"designer game app developer cofounder web design studio business assistant development virtual centered human interior gaming seeking ux based video\"],[\"Wanting an HR specialist to cofound a recruitment tech company.\",\"health healthcare company tech telemedicine specialist public mobile expert looking telecommunications telecom start recruitment hr wanting seeking bi data join\"],[\"Seeking a drone technology expert to start a drone tech company.\",\"company marine tech expert start personalized drone technologist edtech cybersecurity medicine smart security looking seeking join searching logistics fashion veterinary\"],[\"Need a quantum computing specialist to cofound a quantum tech firm.\",\"privacy quantum cryptography data firm looking specialist advocate computing cofound tech join expert search company start need searching edtech educational\"],[\"Looking for a speech recognition expert to start a voice tech company.\",\"ai voice specialist recognition marketing ethics firm artificial seeking intelligence cofound researcher speech machine company analytics learning tech language natural\"],[\"Searching for an automotive engineer to cofound an auto tech startup.\",\"automotive auto vehicle autonomous engineer developer firm software transportation tech cofound searching startup cofounder search looking seeking start editing web\"],[\"Wanting a smart home technology specialist to start a smart home company.\",\"smart home founder partner iot device specialist company ai experienced start technology scientist data seeking researcher searching looking wanting digital\"],[\"Seeking a wearable tech developer to cofound a wearable tech startup.\",\"wearable cultural creative sensory tech device developer startup technologist seeking medtech medical cofound firm looking technology start join specialist company\"],[\"Need a cybersecurity policy expert to start a security consultancy.\",\"company marine tech expert start personalized drone technologist edtech cybersecurity medicine smart security looking seeking join searching logistics fashion veterinary\"],[\"Looking for a privacy expert to cofound a privacy tech company.\",\"privacy quantum cryptography data firm looking specialist advocate computing cofound tech join expert search company start need searching edtech educational\"],[\"Searching for a supply chain specialist to start a supply chain tech company.\",\"company marine tech expert start personalized drone technologist edtech cybersecurity medicine smart security looking seeking join searching logistics fashion veterinary\"],[\"Wanting an urban planner to cofound a smart city tech firm.\",\"cloud software looking cofound architect solutions security devops programmer skilled firm saas join city planner urban computing company expert engineer\"],[\"Seeking a 3D printing specialist to start a 3D printing business.\",\"robotics augmented ar reality 3d printing specialist looking start startup gesture vr social company engineer developer cofound business seeking tech\"],[\"Need an aerospace engineer to cofound an aerospace tech company.\",\"space aerospace satellite technology tech engineer startup expert tourism company resource cofound exploration exoplanet looking habitat join start seeking scientist\"],[\"Looking for a space technology expert to start a space tech startup.\",\"space aerospace satellite technology tech engineer startup expert tourism company resource cofound exploration exoplanet looking habitat join start seeking scientist\"],[\"Searching for an automotive software developer to cofound an auto tech firm.\",\"automotive auto vehicle autonomous engineer developer firm software transportation tech cofound searching startup cofounder search looking seeking start editing web\"],[\"Wanting a natural language processing expert to start an NLP company.\",\"ai voice specialist recognition marketing ethics firm artificial seeking intelligence cofound researcher speech machine company analytics learning tech language natural\"],[\"Seeking a virtual reality expert to cofound a VR startup.\",\"content vr sports creator media start virtual reality company pet expert technology looking seeking studio tech cofound startup searching developer\"],[\"Need a software architect to start a software development firm.\",\"cloud software looking cofound architect solutions security devops programmer skilled firm saas join city planner urban computing company expert engineer\"],[\"Looking for an augmented reality specialist to cofound an AR startup.\",\"robotics augmented ar reality 3d printing specialist looking start startup gesture vr social company engineer developer cofound business seeking tech\"],[\"Searching for a computer vision expert to start a computer vision company.\",\"holography computer vision biometrics biometric expert technology company start searching cofounder startup seeking tech need looking cofound editing energy engineer\"],[\"Wanting a database administrator to cofound a database tech firm.\",\"data analyst geospatial database climate start time real big looking administrator analytics tech company firm wanting seeking cofound energy editing\"],[\"Seeking a telecommunications expert to start a telecom tech company.\",\"health healthcare company tech telemedicine specialist public mobile expert looking telecommunications telecom start recruitment hr wanting seeking bi data join\"],[\"Need a cloud security expert to cofound a cloud security firm.\",\"cloud software looking cofound architect solutions security devops programmer skilled firm saas join city planner urban computing company expert engineer\"],[\"Looking for a video game designer to start a game development studio.\",\"designer game app developer cofounder web design studio business assistant development virtual centered human interior gaming seeking ux based video\"],[\"Searching for a fintech developer to cofound a fintech startup.\",\"fintech blockchain advisor financial legal expert firm technology join cofound personal finance cryptocurrency developer startup insurance insurtech contract looking company\"],[\"Wanting a health informatics specialist to start a health tech company.\",\"health healthcare company tech telemedicine specialist public mobile expert looking telecommunications telecom start recruitment hr wanting seeking bi data join\"],[\"Seeking a medical device developer to cofound a medtech startup.\",\"wearable cultural creative sensory tech device developer startup technologist seeking medtech medical cofound firm looking technology start join specialist company\"],[\"Need a construction tech expert to start a construction tech company.\",\"engineer photonics hardware construction tech start disaster recovery company network networking need looking expert seeking specialist search firm wanting educational\"],[\"Looking for a transportation engineer to cofound a transportation tech firm.\",\"automotive auto vehicle autonomous engineer developer firm software transportation tech cofound searching startup cofounder search looking seeking start editing web\"],[\"Searching for an e-learning specialist to start an edtech company.\",\"company marine tech expert start personalized drone technologist edtech cybersecurity medicine smart security looking seeking join searching logistics fashion veterinary\"],[\"Wanting a wearable device developer to cofound a wearable tech firm.\",\"wearable cultural creative sensory tech device developer startup technologist seeking medtech medical cofound firm looking technology start join specialist company\"],[\"Seeking a hospitality tech expert to start a hospitality tech company.\",\"hospitality innovation market digital strategist manager agency social media product seeking new venture cofound cofounder research consultancy marketing researcher tech\"],[\"Need a retail tech specialist to cofound a retail tech startup.\",\"retail online business manager sales commerce specialist startup marketing founder cofound tech need find start experienced savvy project expert seeking\"],[\"Looking for a real estate tech expert to start a real estate tech company.\",\"nuclear environmental tech start estate company real hydrology water engineer expert civic looking searching wanting technology need seeking economics educational\"],[\"Searching for an agricultural tech specialist to cofound an agtech startup.\",\"microbial agtech precision agricultural specialist tech agriculture start startup company technologist looking need hydroponics farming cell bioenergy fuel urban cofound\"],[\"Wanting a chemical engineer to start a chemical tech company.\",\"cofound tech scientist startup seeking behavioral firm biology cofounder company bioinformatics wanting chemical exoskeleton materials neuromorphic consumer biotech computational mental\"],[\"Seeking a materials scientist to cofound a materials tech startup.\",\"cofound tech scientist startup seeking behavioral firm biology cofounder company bioinformatics wanting chemical exoskeleton materials neuromorphic consumer biotech computational mental\"],[\"Need a geneticist to start a genetic tech company.\",\"cofound tech scientist startup seeking behavioral firm biology cofounder company bioinformatics wanting chemical exoskeleton materials neuromorphic consumer biotech computational mental\"],[\"Looking for a renewable energy engineer to cofound a renewable tech firm.\",\"energy renewable green electromobility proptech startup grid building expert searching sustainability cofound smart clean looking specialist tech storage seeking start\"],[\"Searching for a biometric technology expert to start a biometrics company.\",\"holography computer vision biometrics biometric expert technology company start searching cofounder startup seeking tech need looking cofound editing energy engineer\"],[\"Wanting a voice recognition specialist to cofound a voice tech firm.\",\"ai voice specialist recognition marketing ethics firm artificial seeking intelligence cofound researcher speech machine company analytics learning tech language natural\"],[\"Seeking a geospatial analyst to start a geospatial tech company.\",\"data analyst geospatial database climate start time real big looking administrator analytics tech company firm wanting seeking cofound energy editing\"],[\"Need a market researcher to cofound a market research firm.\",\"hospitality innovation market digital strategist manager agency social media product seeking new venture cofound cofounder research consultancy marketing researcher tech\"],[\"Looking for a virtual assistant developer to start a virtual assistant company.\",\"designer game app developer cofounder web design studio business assistant development virtual centered human interior gaming seeking ux based video\"],[\"Searching for a smart grid technology expert to cofound a smart grid startup.\",\"energy renewable green electromobility proptech startup grid building expert searching sustainability cofound smart clean looking specialist tech storage seeking start\"],[\"Wanting a business intelligence specialist to start a BI company.\",\"health healthcare company tech telemedicine specialist public mobile expert looking telecommunications telecom start recruitment hr wanting seeking bi data join\"],[\"Seeking a neuromorphic computing expert to cofound a neuromorphic tech firm.\",\"cofound tech scientist startup seeking behavioral firm biology cofounder company bioinformatics wanting chemical exoskeleton materials neuromorphic consumer biotech computational mental\"],[\"Need a photonics engineer to start a photonics tech company.\",\"engineer photonics hardware construction tech start disaster recovery company network networking need looking expert seeking specialist search firm wanting educational\"],[\"Looking for a satellite technology expert to cofound a satellite tech startup.\",\"space aerospace satellite technology tech engineer startup expert tourism company resource cofound exploration exoplanet looking habitat join start seeking scientist\"],[\"Searching for an environmental engineer to start an environmental tech company.\",\"nuclear environmental tech start estate company real hydrology water engineer expert civic looking searching wanting technology need seeking economics educational\"],[\"Wanting a gene editing specialist to cofound a gene editing firm.\",\"cofound tech scientist startup seeking behavioral firm biology cofounder company bioinformatics wanting chemical exoskeleton materials neuromorphic consumer biotech computational mental\"],[\"Seeking a personalized medicine expert to start a personalized medicine company.\",\"company marine tech expert start personalized drone technologist edtech cybersecurity medicine smart security looking seeking join searching logistics fashion veterinary\"],[\"Need a marine biotechnologist to cofound a marine biotech startup.\",\"company marine tech expert start personalized drone technologist edtech cybersecurity medicine smart security looking seeking join searching logistics fashion veterinary\"],[\"Looking for a sports technology expert to start a sports tech company.\",\"content vr sports creator media start virtual reality company pet expert technology looking seeking studio tech cofound startup searching developer\"],[\"Searching for a smart textiles developer to cofound a smart textiles firm.\",\"company marine tech expert start personalized drone technologist edtech cybersecurity medicine smart security looking seeking join searching logistics fashion veterinary\"],[\"Wanting a pharmaceutical scientist to start a pharma tech company.\",\"cofound tech scientist startup seeking behavioral firm biology cofounder company bioinformatics wanting chemical exoskeleton materials neuromorphic consumer biotech computational mental\"],[\"Seeking a VR content creator to cofound a VR content studio.\",\"content vr sports creator media start virtual reality company pet expert technology looking seeking studio tech cofound startup searching developer\"],[\"Need an AI ethics specialist to start an AI ethics consultancy.\",\"ai voice specialist recognition marketing ethics firm artificial seeking intelligence cofound researcher speech machine company analytics learning tech language natural\"],[\"Looking for a financial technology expert to cofound a fintech firm.\",\"fintech blockchain advisor financial legal expert firm technology join cofound personal finance cryptocurrency developer startup insurance insurtech contract looking company\"],[\"Searching for a green building specialist to start a green building company.\",\"energy renewable green electromobility proptech startup grid building expert searching sustainability cofound smart clean looking specialist tech storage seeking start\"],[\"Wanting an innovation strategist to cofound an innovation consultancy.\",\"hospitality innovation market digital strategist manager agency social media product seeking new venture cofound cofounder research consultancy marketing researcher tech\"],[\"Seeking a public health technologist to start a public health tech firm.\",\"health healthcare company tech telemedicine specialist public mobile expert looking telecommunications telecom start recruitment hr wanting seeking bi data join\"],[\"Need a clinical research scientist to cofound a clinical research startup.\",\"cofound tech scientist startup seeking behavioral firm biology cofounder company bioinformatics wanting chemical exoskeleton materials neuromorphic consumer biotech computational mental\"],[\"Looking for a veterinary technologist to start a veterinary tech company.\",\"company marine tech expert start personalized drone technologist edtech cybersecurity medicine smart security looking seeking join searching logistics fashion veterinary\"],[\"Searching for a mental health tech specialist to cofound a mental health startup.\",\"cofound tech scientist startup seeking behavioral firm biology cofounder company bioinformatics wanting chemical exoskeleton materials neuromorphic consumer biotech computational mental\"],[\"Wanting a hydrology expert to start a water tech company.\",\"nuclear environmental tech start estate company real hydrology water engineer expert civic looking searching wanting technology need seeking economics educational\"],[\"Seeking a computational biologist to cofound a computational biology firm.\",\"cofound tech scientist startup seeking behavioral firm biology cofounder company bioinformatics wanting chemical exoskeleton materials neuromorphic consumer biotech computational mental\"],[\"Need a nuclear engineer to start a nuclear tech company.\",\"nuclear environmental tech start estate company real hydrology water engineer expert civic looking searching wanting technology need seeking economics educational\"],[\"Looking for a creative technologist to cofound a creative tech startup.\",\"wearable cultural creative sensory tech device developer startup technologist seeking medtech medical cofound firm looking technology start join specialist company\"],[\"Searching for a data privacy advocate to start a data privacy firm.\",\"privacy quantum cryptography data firm looking specialist advocate computing cofound tech join expert search company start need searching edtech educational\"],[\"Wanting a personal finance advisor to cofound a personal finance tech company.\",\"fintech blockchain advisor financial legal expert firm technology join cofound personal finance cryptocurrency developer startup insurance insurtech contract looking company\"],[\"Seeking a disaster recovery specialist to start a disaster recovery firm.\",\"engineer photonics hardware construction tech start disaster recovery company network networking need looking expert seeking specialist search firm wanting educational\"],[\"Need a telemedicine expert to cofound a telemedicine startup.\",\"health healthcare company tech telemedicine specialist public mobile expert looking telecommunications telecom start recruitment hr wanting seeking bi data join\"],[\"Looking for a cloud solutions architect to start a cloud solutions company.\",\"cloud software looking cofound architect solutions security devops programmer skilled firm saas join city planner urban computing company expert engineer\"],[\"Searching for a proptech developer to cofound a proptech startup.\",\"energy renewable green electromobility proptech startup grid building expert searching sustainability cofound smart clean looking specialist tech storage seeking start\"],[\"Wanting a healthcare data analyst to start a healthcare data firm.\",\"health healthcare company tech telemedicine specialist public mobile expert looking telecommunications telecom start recruitment hr wanting seeking bi data join\"],[\"Seeking a behavioral economist to cofound a behavioral economics startup.\",\"cofound tech scientist startup seeking behavioral firm biology cofounder company bioinformatics wanting chemical exoskeleton materials neuromorphic consumer biotech computational mental\"],[\"Need a consumer psychologist to start a consumer tech company.\",\"cofound tech scientist startup seeking behavioral firm biology cofounder company bioinformatics wanting chemical exoskeleton materials neuromorphic consumer biotech computational mental\"],[\"Looking for an exercise scientist to cofound a fitness tech startup.\",\"cofound tech scientist startup seeking behavioral firm biology cofounder company bioinformatics wanting chemical exoskeleton materials neuromorphic consumer biotech computational mental\"],[\"Searching for a marine ecologist to start a marine tech company.\",\"company marine tech expert start personalized drone technologist edtech cybersecurity medicine smart security looking seeking join searching logistics fashion veterinary\"],[\"Wanting an insurance technology expert to cofound an insurtech firm.\",\"fintech blockchain advisor financial legal expert firm technology join cofound personal finance cryptocurrency developer startup insurance insurtech contract looking company\"],[\"Seeking a precision agriculture specialist to start a precision agtech company.\",\"microbial agtech precision agricultural specialist tech agriculture start startup company technologist looking need hydroponics farming cell bioenergy fuel urban cofound\"],[\"Need a human-centered designer to cofound a human-centered design firm.\",\"designer game app developer cofounder web design studio business assistant development virtual centered human interior gaming seeking ux based video\"],[\"Looking for a smart mobility expert to start a smart mobility company.\",\"company marine tech expert start personalized drone technologist edtech cybersecurity medicine smart security looking seeking join searching logistics fashion veterinary\"],[\"Searching for a pet technology developer to cofound a pet tech startup.\",\"content vr sports creator media start virtual reality company pet expert technology looking seeking studio tech cofound startup searching developer\"],[\"Wanting a personalized nutrition expert to start a personalized nutrition company.\",\"company marine tech expert start personalized drone technologist edtech cybersecurity medicine smart security looking seeking join searching logistics fashion veterinary\"],[\"Seeking a cultural technologist to cofound a cultural tech firm.\",\"wearable cultural creative sensory tech device developer startup technologist seeking medtech medical cofound firm looking technology start join specialist company\"],[\"Need a microbial technologist to start a microbial tech company.\",\"microbial agtech precision agricultural specialist tech agriculture start startup company technologist looking need hydroponics farming cell bioenergy fuel urban cofound\"],[\"Looking for an electromobility specialist to cofound an electromobility startup.\",\"energy renewable green electromobility proptech startup grid building expert searching sustainability cofound smart clean looking specialist tech storage seeking start\"],[\"Searching for a civic technology expert to start a civic tech company.\",\"nuclear environmental tech start estate company real hydrology water engineer expert civic looking searching wanting technology need seeking economics educational\"],[\"Wanting a bioinformatics specialist to cofound a bioinformatics firm.\",\"cofound tech scientist startup seeking behavioral firm biology cofounder company bioinformatics wanting chemical exoskeleton materials neuromorphic consumer biotech computational mental\"],[\"Seeking a fashion technologist to start a fashion tech company.\",\"company marine tech expert start personalized drone technologist edtech cybersecurity medicine smart security looking seeking join searching logistics fashion veterinary\"],[\"Need a holography expert to cofound a holography tech startup.\",\"holography computer vision biometrics biometric expert technology company start searching cofounder startup seeking tech need looking cofound editing energy engineer\"],[\"Looking for a quantum cryptography specialist to start a quantum cryptography firm.\",\"privacy quantum cryptography data firm looking specialist advocate computing cofound tech join expert search company start need searching edtech educational\"],[\"Searching for an exoskeleton technology expert to cofound an exoskeleton tech company.\",\"cofound tech scientist startup seeking behavioral firm biology cofounder company bioinformatics wanting chemical exoskeleton materials neuromorphic consumer biotech computational mental\"],[\"Wanting a climate data analyst to start a climate tech company.\",\"data analyst geospatial database climate start time real big looking administrator analytics tech company firm wanting seeking cofound energy editing\"],[\"Seeking an autonomous vehicle developer to cofound an autonomous vehicle firm.\",\"automotive auto vehicle autonomous engineer developer firm software transportation tech cofound searching startup cofounder search looking seeking start editing web\"],[\"Need a mobile health technology expert to start a mobile health tech company.\",\"health healthcare company tech telemedicine specialist public mobile expert looking telecommunications telecom start recruitment hr wanting seeking bi data join\"],[\"Looking for an artificial general intelligence researcher to cofound an AGI startup.\",\"ai voice specialist recognition marketing ethics firm artificial seeking intelligence cofound researcher speech machine company analytics learning tech language natural\"],[\"Searching for a sensory technology specialist to start a sensory tech company.\",\"wearable cultural creative sensory tech device developer startup technologist seeking medtech medical cofound firm looking technology start join specialist company\"],[\"Wanting a synthetic biology expert to cofound a synthetic biology firm.\",\"cofound tech scientist startup seeking behavioral firm biology cofounder company bioinformatics wanting chemical exoskeleton materials neuromorphic consumer biotech computational mental\"],[\"Seeking a smart contract developer to start a blockchain tech company.\",\"fintech blockchain advisor financial legal expert firm technology join cofound personal finance cryptocurrency developer startup insurance insurtech contract looking company\"],[\"Need an AI-powered marketing specialist to cofound a marketing tech firm.\",\"ai voice specialist recognition marketing ethics firm artificial seeking intelligence cofound researcher speech machine company analytics learning tech language natural\"],[\"Looking for a real-time data analyst to start a real-time data company.\",\"data analyst geospatial database climate start time real big looking administrator analytics tech company firm wanting seeking cofound energy editing\"],[\"Searching for an energy storage expert to cofound an energy storage tech firm.\",\"energy renewable green electromobility proptech startup grid building expert searching sustainability cofound smart clean looking specialist tech storage seeking start\"],[\"Wanting a space tourism developer to start a space tourism company.\",\"space aerospace satellite technology tech engineer startup expert tourism company resource cofound exploration exoplanet looking habitat join start seeking scientist\"],[\"Seeking a space resource utilization specialist to cofound a space resource tech firm.\",\"space aerospace satellite technology tech engineer startup expert tourism company resource cofound exploration exoplanet looking habitat join start seeking scientist\"],[\"Need a social robotics expert to start a social robotics company.\",\"robotics augmented ar reality 3d printing specialist looking start startup gesture vr social company engineer developer cofound business seeking tech\"],[\"Looking for a gesture recognition specialist to cofound a gesture tech startup.\",\"robotics augmented ar reality 3d printing specialist looking start startup gesture vr social company engineer developer cofound business seeking tech\"],[\"Searching for an exoplanet scientist to start a space exploration company.\",\"space aerospace satellite technology tech engineer startup expert tourism company resource cofound exploration exoplanet looking habitat join start seeking scientist\"],[\"Wanting a bioethicist to cofound a bioethics tech firm.\",\"cofound tech scientist startup seeking behavioral firm biology cofounder company bioinformatics wanting chemical exoskeleton materials neuromorphic consumer biotech computational mental\"],[\"Seeking a microbial fuel cell specialist to start a bioenergy tech company.\",\"microbial agtech precision agricultural specialist tech agriculture start startup company technologist looking need hydroponics farming cell bioenergy fuel urban cofound\"],[\"Need a hydroponics expert to cofound an urban farming tech startup.\",\"microbial agtech precision agricultural specialist tech agriculture start startup company technologist looking need hydroponics farming cell bioenergy fuel urban cofound\"],[\"Looking for a distributed ledger technologist to start a blockchain tech firm.\",\"fintech blockchain advisor financial legal expert firm technology join cofound personal finance cryptocurrency developer startup insurance insurtech contract looking company\"],[\"Searching for a smart fabric developer to cofound a wearable tech company.\",\"company marine tech expert start personalized drone technologist edtech cybersecurity medicine smart security looking seeking join searching logistics fashion veterinary\"],[\"Wanting a cognitive computing specialist to start a cognitive tech firm.\",\"ai voice specialist recognition marketing ethics firm artificial seeking intelligence cofound researcher speech machine company analytics learning tech language natural\"],[\"Seeking a space habitat engineer to cofound a space tech company.\",\"space aerospace satellite technology tech engineer startup expert tourism company resource cofound exploration exoplanet looking habitat join start seeking scientist\"],[\"Need an intelligent transportation systems expert to start a transportation tech firm.\",\"company marine tech expert start personalized drone technologist edtech cybersecurity medicine smart security looking seeking join searching logistics fashion veterinary\"],[\"Looking for a biosensor developer to cofound a biosensor tech startup.\",\"cofound tech scientist startup seeking behavioral firm biology cofounder company bioinformatics wanting chemical exoskeleton materials neuromorphic consumer biotech computational mental\"],[\"Searching for a nanoengineering expert to start a nanotech company.\",\"cofound tech scientist startup seeking behavioral firm biology cofounder company bioinformatics wanting chemical exoskeleton materials neuromorphic consumer biotech computational mental\"],[\"Wanting a behavioral data analyst to cofound a behavioral tech firm.\",\"cofound tech scientist startup seeking behavioral firm biology cofounder company bioinformatics wanting chemical exoskeleton materials neuromorphic consumer biotech computational mental\"],[\"Seeking a precision medicine technologist to start a precision medicine company.\",\"company marine tech expert start personalized drone technologist edtech cybersecurity medicine smart security looking seeking join searching logistics fashion veterinary\"],[\"Need an autonomous drone developer to cofound a drone tech startup.\",\"company marine tech expert start personalized drone technologist edtech cybersecurity medicine smart security looking seeking join searching logistics fashion veterinary\"]],\"hovertemplate\":\"Type=founder\\u003cbr\\u003eX=%{x}\\u003cbr\\u003eY=%{y}\\u003cbr\\u003eDescription=%{customdata[0]}\\u003cbr\\u003ecluster_top_words=%{customdata[1]}\\u003cbr\\u003ecluster=%{marker.color}\\u003cextra\\u003e\\u003c\\u002fextra\\u003e\",\"legendgroup\":\"founder\",\"marker\":{\"color\":[3,7,8,-1,3,4,2,2,15,4,2,7,-1,3,10,8,9,4,5,16,13,5,7,13,6,8,17,5,-1,-1,11,8,11,6,8,15,-1,1,7,19,10,18,-1,1,-1,3,13,20,20,19,7,17,3,13,14,9,15,3,8,2,15,18,11,19,-1,18,5,4,12,0,16,16,16,6,14,7,9,5,8,6,15,16,11,20,12,16,-1,-1,17,-1,16,17,7,2,6,5,15,16,-1,16,12,16,12,18,1,2,11,15,3,6,15,16,16,16,-1,2,0,8,-1,17,-1,18,0,6,12,16,-1,14,1,16,9,19,15,7,18,16,2,7,9,6,20,20,13,13,20,16,0,0,2,-1,7,20,-1,16,16,16,-1,-1],\"coloraxis\":\"coloraxis\",\"symbol\":\"circle\"},\"mode\":\"markers\",\"name\":\"founder\",\"orientation\":\"v\",\"showlegend\":true,\"x\":[-6.0247321128845215,7.186489105224609,9.778787612915039,-3.514988899230957,-5.589098930358887,-3.0735559463500977,-7.345540523529053,-7.528951168060303,2.8490490913391113,-2.8192455768585205,-7.134093761444092,7.157840728759766,-2.9959428310394287,-5.1803388595581055,3.5161020755767822,9.742386817932129,0.44470933079719543,-3.033620595932007,-3.578404188156128,5.559676647186279,3.9567015171051025,-3.6880393028259277,7.348479747772217,3.861314535140991,8.074373245239258,9.643012046813965,6.650816440582275,-3.7242071628570557,-8.130401611328125,-8.406763076782227,5.51326322555542,9.592059135437012,5.448360919952393,8.732414245605469,9.845481872558594,1.8596690893173218,-13.256300926208496,-3.4958720207214355,7.6660566329956055,3.5215790271759033,3.553880453109741,5.109486103057861,-2.995333671569824,-5.005626201629639,-8.15993595123291,-5.065016746520996,3.8043935298919678,2.9003195762634277,2.53979754447937,3.488837480545044,7.519372463226318,6.604638576507568,-5.308638572692871,3.9807631969451904,4.600812911987305,0.889123260974884,2.542231798171997,-5.102285385131836,9.552833557128906,-7.296236991882324,2.1703593730926514,4.849565505981445,5.64491605758667,3.3005268573760986,-8.406583786010742,5.158554553985596,-3.285999059677124,-2.882406234741211,6.541582107543945,20.103286743164062,5.7495880126953125,5.671202182769775,5.502754211425781,8.851531982421875,4.621335029602051,7.682657718658447,0.5990052223205566,-3.613969087600708,9.109431266784668,8.641474723815918,1.5897046327590942,6.422974586486816,5.360763072967529,2.474334955215454,6.765591144561768,6.910088062286377,8.770249366760254,4.593074321746826,6.857954978942871,10.418914794921875,5.798868656158447,6.623491287231445,7.5460052490234375,-7.308396339416504,8.033769607543945,-3.758751392364502,2.7359137535095215,5.154542446136475,5.092594146728516,3.544569730758667,6.755486011505127,6.3961334228515625,6.232245445251465,3.8000190258026123,-5.0056610107421875,-7.343116283416748,5.5786848068237305,2.574028730392456,-5.182093620300293,9.005701065063477,2.11582350730896,4.271235942840576,3.804324150085449,4.968902587890625,4.601435661315918,-7.055095195770264,20.10332489013672,9.836624145507812,3.055201530456543,5.115471363067627,8.74146842956543,3.8089311122894287,17.6181640625,8.885834693908691,6.6360979080200195,6.806694030761719,10.395255088806152,4.8893280029296875,-3.4958744049072266,4.359745979309082,0.4414394199848175,3.7014963626861572,2.8705813884735107,7.325812339782715,4.279111862182617,5.8900532722473145,-7.154700756072998,7.289262294769287,0.4695545434951782,8.711607933044434,2.6989965438842773,2.7013745307922363,3.8702661991119385,3.8772215843200684,2.5285532474517822,5.4168219566345215,17.61815643310547,20.103309631347656,-7.137058258056641,10.43453598022461,7.334673881530762,2.7411742210388184,3.282991647720337,5.519061088562012,5.662172317504883,4.267069339752197,8.77851390838623,-13.256231307983398],\"xaxis\":\"x\",\"y\":[3.384836435317993,3.9154088497161865,0.6787436604499817,0.2553223967552185,3.364309787750244,-0.36133354902267456,3.6555120944976807,3.678854465484619,8.00428295135498,-0.04179007187485695,4.427160739898682,3.973506450653076,9.753583908081055,3.828688859939575,6.397861003875732,0.8275420069694519,8.885313987731934,-0.3379477858543396,0.4281303286552429,8.238996505737305,0.19596520066261292,1.295714020729065,3.679388999938965,0.7767974138259888,-2.969649314880371,1.001365065574646,9.961373329162598,1.3298375606536865,7.380816459655762,14.989002227783203,-1.3648731708526611,1.110756278038025,-1.3051828145980835,-3.461256265640259,0.2681935727596283,7.432288646697998,6.307604789733887,-10.642906188964844,2.711876392364502,1.803302526473999,6.384943008422852,11.59168815612793,9.754405975341797,-5.454661846160889,7.4108357429504395,2.779214382171631,0.349533349275589,2.8224570751190186,3.0767428874969482,1.74643075466156,3.135570764541626,9.956960678100586,3.2996764183044434,0.2289172261953354,-0.026530863717198372,8.560229301452637,8.324400901794434,3.931457757949829,1.1575732231140137,3.7054929733276367,7.7636494636535645,11.459476470947266,-1.8968751430511475,2.3340084552764893,14.988920211791992,11.631102561950684,0.8142309188842773,-0.13032597303390503,-1.7491780519485474,4.03865909576416,7.409786701202393,7.21079158782959,8.1769380569458,-3.589172124862671,-0.04774804413318634,2.7624998092651367,8.730069160461426,1.189153790473938,1.6163418292999268,-3.3551383018493652,8.080438613891602,8.245417594909668,-1.1910215616226196,3.136443853378296,-2.6735761165618896,8.232701301574707,-9.323508262634277,-4.8817219734191895,9.881400108337402,14.74669361114502,7.908026218414307,9.96791934967041,3.7129080295562744,3.695127487182617,-2.9137959480285645,1.3578753471374512,7.83345890045166,8.180787086486816,10.00892448425293,8.400276184082031,-2.6744072437286377,8.29742431640625,-2.296424150466919,12.350668907165527,-5.454701900482178,3.6966044902801514,-1.9596055746078491,8.26464557647705,3.8180131912231445,-3.7720370292663574,7.739800930023193,8.4901704788208,8.531618118286133,8.15107536315918,-4.869832515716553,3.5875048637390137,4.038662910461426,0.3053734004497528,7.054539680480957,9.98477840423584,-9.352182388305664,12.34332275390625,-3.450993299484253,-3.3723361492156982,-1.7741005420684814,8.29141902923584,14.723082542419434,-0.38625961542129517,-10.642918586730957,7.940767288208008,8.882655143737793,1.6102051734924316,7.512123107910156,3.752786874771118,11.924622535705566,8.282949447631836,4.389533042907715,3.7910056114196777,8.858099937438965,-3.5077192783355713,2.9574573040008545,2.945896863937378,0.805709719657898,0.7437511086463928,3.0892515182495117,8.230033874511719,-3.4510157108306885,4.038680076599121,4.384410858154297,14.76225471496582,3.4609804153442383,2.942417860031128,2.3638291358947754,8.26382827758789,7.278026580810547,8.49545955657959,-9.315001487731934,6.307549953460693],\"yaxis\":\"y\",\"type\":\"scatter\"},{\"customdata\":[[\"I'm a skilled programmer looking to join a startup.\",\"cloud software looking cofound architect solutions security devops programmer skilled firm saas join city planner urban computing company expert engineer\"],[\"Experienced data scientist seeking to partner with a founder.\",\"smart home founder partner iot device specialist company ai experienced start technology scientist data seeking researcher searching looking wanting digital\"],[\"Talented UX designer looking for a cofounder with a strong business plan.\",\"designer game app developer cofounder web design studio business assistant development virtual centered human interior gaming seeking ux based video\"],[\"Project manager in search of a tech-savvy founder to start a business.\",\"retail online business manager sales commerce specialist startup marketing founder cofound tech need find start experienced savvy project expert seeking\"],[\"DevOps engineer looking to cofound a software company.\",\"cloud software looking cofound architect solutions security devops programmer skilled firm saas join city planner urban computing company expert engineer\"],[\"Marketing expert seeking a founder to start an online business.\",\"retail online business manager sales commerce specialist startup marketing founder cofound tech need find start experienced savvy project expert seeking\"],[\"Financial advisor looking for a fintech startup to join.\",\"fintech blockchain advisor financial legal expert firm technology join cofound personal finance cryptocurrency developer startup insurance insurtech contract looking company\"],[\"Legal advisor in search of a legal tech startup to cofound.\",\"fintech blockchain advisor financial legal expert firm technology join cofound personal finance cryptocurrency developer startup insurance insurtech contract looking company\"],[\"Healthcare professional seeking a health tech founder to partner with.\",\"health healthcare company tech telemedicine specialist public mobile expert looking telecommunications telecom start recruitment hr wanting seeking bi data join\"],[\"Sales manager looking for a retail startup to cofound.\",\"retail online business manager sales commerce specialist startup marketing founder cofound tech need find start experienced savvy project expert seeking\"],[\"Blockchain expert in search of a cryptocurrency company to start.\",\"fintech blockchain advisor financial legal expert firm technology join cofound personal finance cryptocurrency developer startup insurance insurtech contract looking company\"],[\"Machine learning specialist looking to cofound an analytics firm.\",\"ai voice specialist recognition marketing ethics firm artificial seeking intelligence cofound researcher speech machine company analytics learning tech language natural\"],[\"Cybersecurity expert seeking a security tech company to join.\",\"company marine tech expert start personalized drone technologist edtech cybersecurity medicine smart security looking seeking join searching logistics fashion veterinary\"],[\"Cloud computing expert in search of a SaaS startup to cofound.\",\"cloud software looking cofound architect solutions security devops programmer skilled firm saas join city planner urban computing company expert engineer\"],[\"IoT specialist looking to partner with a smart device company founder.\",\"smart home founder partner iot device specialist company ai experienced start technology scientist data seeking researcher searching looking wanting digital\"],[\"Mobile app developer seeking a cofounder for an app-based business.\",\"designer game app developer cofounder web design studio business assistant development virtual centered human interior gaming seeking ux based video\"],[\"Big data analyst looking to start a data analytics firm.\",\"data analyst geospatial database climate start time real big looking administrator analytics tech company firm wanting seeking cofound energy editing\"],[\"E-commerce specialist seeking a cofounder for an online retail business.\",\"retail online business manager sales commerce specialist startup marketing founder cofound tech need find start experienced savvy project expert seeking\"],[\"Product manager in search of a new venture to cofound.\",\"hospitality innovation market digital strategist manager agency social media product seeking new venture cofound cofounder research consultancy marketing researcher tech\"],[\"Biotech researcher looking to join a biotech startup as a cofounder.\",\"cofound tech scientist startup seeking behavioral firm biology cofounder company bioinformatics wanting chemical exoskeleton materials neuromorphic consumer biotech computational mental\"],[\"AR\\u002fVR developer seeking to start an augmented reality company.\",\"robotics augmented ar reality 3d printing specialist looking start startup gesture vr social company engineer developer cofound business seeking tech\"],[\"Digital marketing strategist looking to cofound a digital agency.\",\"hospitality innovation market digital strategist manager agency social media product seeking new venture cofound cofounder research consultancy marketing researcher tech\"],[\"AI researcher seeking to partner with a founder for an AI company.\",\"smart home founder partner iot device specialist company ai experienced start technology scientist data seeking researcher searching looking wanting digital\"],[\"Robotics engineer looking to start a robotics tech company.\",\"robotics augmented ar reality 3d printing specialist looking start startup gesture vr social company engineer developer cofound business seeking tech\"],[\"Sustainability expert in search of a green tech startup to join.\",\"energy renewable green electromobility proptech startup grid building expert searching sustainability cofound smart clean looking specialist tech storage seeking start\"],[\"Web developer seeking a cofounder for a web development business.\",\"designer game app developer cofounder web design studio business assistant development virtual centered human interior gaming seeking ux based video\"],[\"Content creator looking to start a media company.\",\"content vr sports creator media start virtual reality company pet expert technology looking seeking studio tech cofound startup searching developer\"],[\"Social media manager seeking a cofounder for a social media agency.\",\"hospitality innovation market digital strategist manager agency social media product seeking new venture cofound cofounder research consultancy marketing researcher tech\"],[\"Logistics expert looking to join a logistics tech startup.\",\"company marine tech expert start personalized drone technologist edtech cybersecurity medicine smart security looking seeking join searching logistics fashion veterinary\"],[\"Educational technologist seeking a cofounder for an edtech startup.\",\"company marine tech expert start personalized drone technologist edtech cybersecurity medicine smart security looking seeking join searching logistics fashion veterinary\"],[\"Hardware engineer looking to start a hardware tech company.\",\"engineer photonics hardware construction tech start disaster recovery company network networking need looking expert seeking specialist search firm wanting educational\"],[\"Game developer in search of a cofounder for a gaming studio.\",\"designer game app developer cofounder web design studio business assistant development virtual centered human interior gaming seeking ux based video\"],[\"Network engineer seeking to start a networking tech company.\",\"engineer photonics hardware construction tech start disaster recovery company network networking need looking expert seeking specialist search firm wanting educational\"],[\"Renewable energy expert looking to join a clean energy startup.\",\"energy renewable green electromobility proptech startup grid building expert searching sustainability cofound smart clean looking specialist tech storage seeking start\"],[\"Interior designer seeking a cofounder for a design firm.\",\"designer game app developer cofounder web design studio business assistant development virtual centered human interior gaming seeking ux based video\"],[\"HR specialist looking to start a recruitment tech company.\",\"health healthcare company tech telemedicine specialist public mobile expert looking telecommunications telecom start recruitment hr wanting seeking bi data join\"],[\"Drone technology expert in search of a drone tech startup.\",\"company marine tech expert start personalized drone technologist edtech cybersecurity medicine smart security looking seeking join searching logistics fashion veterinary\"],[\"Quantum computing specialist looking to cofound a quantum tech firm.\",\"privacy quantum cryptography data firm looking specialist advocate computing cofound tech join expert search company start need searching edtech educational\"],[\"Speech recognition expert seeking a voice tech company to join.\",\"ai voice specialist recognition marketing ethics firm artificial seeking intelligence cofound researcher speech machine company analytics learning tech language natural\"],[\"Automotive engineer in search of a cofounder for an auto tech startup.\",\"automotive auto vehicle autonomous engineer developer firm software transportation tech cofound searching startup cofounder search looking seeking start editing web\"],[\"Smart home technology specialist looking to start a smart home company.\",\"smart home founder partner iot device specialist company ai experienced start technology scientist data seeking researcher searching looking wanting digital\"],[\"Wearable tech developer seeking a cofounder for a wearable tech startup.\",\"wearable cultural creative sensory tech device developer startup technologist seeking medtech medical cofound firm looking technology start join specialist company\"],[\"Cybersecurity policy expert looking to start a security consultancy.\",\"company marine tech expert start personalized drone technologist edtech cybersecurity medicine smart security looking seeking join searching logistics fashion veterinary\"],[\"Privacy expert in search of a privacy tech company to join.\",\"privacy quantum cryptography data firm looking specialist advocate computing cofound tech join expert search company start need searching edtech educational\"],[\"Supply chain specialist seeking to start a supply chain tech company.\",\"company marine tech expert start personalized drone technologist edtech cybersecurity medicine smart security looking seeking join searching logistics fashion veterinary\"],[\"Urban planner looking to cofound a smart city tech firm.\",\"cloud software looking cofound architect solutions security devops programmer skilled firm saas join city planner urban computing company expert engineer\"],[\"3D printing specialist seeking to start a 3D printing business.\",\"robotics augmented ar reality 3d printing specialist looking start startup gesture vr social company engineer developer cofound business seeking tech\"],[\"Aerospace engineer looking to join an aerospace tech company.\",\"space aerospace satellite technology tech engineer startup expert tourism company resource cofound exploration exoplanet looking habitat join start seeking scientist\"],[\"Space technology expert in search of a space tech startup.\",\"space aerospace satellite technology tech engineer startup expert tourism company resource cofound exploration exoplanet looking habitat join start seeking scientist\"],[\"Automotive software developer looking to start an auto tech firm.\",\"automotive auto vehicle autonomous engineer developer firm software transportation tech cofound searching startup cofounder search looking seeking start editing web\"],[\"Natural language processing expert seeking a cofounder for an NLP company.\",\"ai voice specialist recognition marketing ethics firm artificial seeking intelligence cofound researcher speech machine company analytics learning tech language natural\"],[\"Virtual reality expert looking to start a VR tech company.\",\"content vr sports creator media start virtual reality company pet expert technology looking seeking studio tech cofound startup searching developer\"],[\"Software architect seeking to cofound a software development firm.\",\"cloud software looking cofound architect solutions security devops programmer skilled firm saas join city planner urban computing company expert engineer\"],[\"Augmented reality specialist looking to join an AR tech startup.\",\"robotics augmented ar reality 3d printing specialist looking start startup gesture vr social company engineer developer cofound business seeking tech\"],[\"Computer vision expert seeking a cofounder for a computer vision company.\",\"holography computer vision biometrics biometric expert technology company start searching cofounder startup seeking tech need looking cofound editing energy engineer\"],[\"Database administrator looking to start a database tech firm.\",\"data analyst geospatial database climate start time real big looking administrator analytics tech company firm wanting seeking cofound energy editing\"],[\"Telecommunications expert seeking to cofound a telecom tech company.\",\"health healthcare company tech telemedicine specialist public mobile expert looking telecommunications telecom start recruitment hr wanting seeking bi data join\"],[\"Cloud security expert looking to join a cloud security firm.\",\"cloud software looking cofound architect solutions security devops programmer skilled firm saas join city planner urban computing company expert engineer\"],[\"Video game designer seeking a cofounder for a game development studio.\",\"designer game app developer cofounder web design studio business assistant development virtual centered human interior gaming seeking ux based video\"],[\"Fintech developer looking to join a fintech startup.\",\"fintech blockchain advisor financial legal expert firm technology join cofound personal finance cryptocurrency developer startup insurance insurtech contract looking company\"],[\"Health informatics specialist seeking a cofounder for a health tech company.\",\"health healthcare company tech telemedicine specialist public mobile expert looking telecommunications telecom start recruitment hr wanting seeking bi data join\"],[\"Medical device developer looking to start a medtech startup.\",\"wearable cultural creative sensory tech device developer startup technologist seeking medtech medical cofound firm looking technology start join specialist company\"],[\"Construction tech expert in search of a construction tech company.\",\"engineer photonics hardware construction tech start disaster recovery company network networking need looking expert seeking specialist search firm wanting educational\"],[\"Transportation engineer looking to join a transportation tech firm.\",\"company marine tech expert start personalized drone technologist edtech cybersecurity medicine smart security looking seeking join searching logistics fashion veterinary\"],[\"E-learning specialist seeking a cofounder for an edtech company.\",\"company marine tech expert start personalized drone technologist edtech cybersecurity medicine smart security looking seeking join searching logistics fashion veterinary\"],[\"Wearable device developer looking to join a wearable tech firm.\",\"wearable cultural creative sensory tech device developer startup technologist seeking medtech medical cofound firm looking technology start join specialist company\"],[\"Hospitality tech expert seeking a cofounder for a hospitality tech company.\",\"hospitality innovation market digital strategist manager agency social media product seeking new venture cofound cofounder research consultancy marketing researcher tech\"],[\"Retail tech specialist looking to join a retail tech startup.\",\"retail online business manager sales commerce specialist startup marketing founder cofound tech need find start experienced savvy project expert seeking\"],[\"Real estate tech expert seeking to start a real estate tech company.\",\"nuclear environmental tech start estate company real hydrology water engineer expert civic looking searching wanting technology need seeking economics educational\"],[\"Agricultural tech specialist looking to join an agtech startup.\",\"microbial agtech precision agricultural specialist tech agriculture start startup company technologist looking need hydroponics farming cell bioenergy fuel urban cofound\"],[\"Chemical engineer seeking a cofounder for a chemical tech company.\",\"cofound tech scientist startup seeking behavioral firm biology cofounder company bioinformatics wanting chemical exoskeleton materials neuromorphic consumer biotech computational mental\"],[\"Materials scientist looking to join a materials tech startup.\",\"cofound tech scientist startup seeking behavioral firm biology cofounder company bioinformatics wanting chemical exoskeleton materials neuromorphic consumer biotech computational mental\"],[\"Geneticist in search of a genomics tech company to cofound.\",\"cofound tech scientist startup seeking behavioral firm biology cofounder company bioinformatics wanting chemical exoskeleton materials neuromorphic consumer biotech computational mental\"],[\"Renewable energy engineer seeking a cofounder for a renewable tech firm.\",\"energy renewable green electromobility proptech startup grid building expert searching sustainability cofound smart clean looking specialist tech storage seeking start\"],[\"Biometric technology expert looking to start a biometrics company.\",\"holography computer vision biometrics biometric expert technology company start searching cofounder startup seeking tech need looking cofound editing energy engineer\"],[\"Voice recognition specialist seeking to join a voice tech firm.\",\"ai voice specialist recognition marketing ethics firm artificial seeking intelligence cofound researcher speech machine company analytics learning tech language natural\"],[\"Geospatial analyst looking to start a geospatial tech company.\",\"data analyst geospatial database climate start time real big looking administrator analytics tech company firm wanting seeking cofound energy editing\"],[\"Market researcher seeking a cofounder for a market research firm.\",\"hospitality innovation market digital strategist manager agency social media product seeking new venture cofound cofounder research consultancy marketing researcher tech\"],[\"Virtual assistant developer looking to join a virtual assistant company.\",\"designer game app developer cofounder web design studio business assistant development virtual centered human interior gaming seeking ux based video\"],[\"Smart grid technology expert seeking to start a smart grid startup.\",\"energy renewable green electromobility proptech startup grid building expert searching sustainability cofound smart clean looking specialist tech storage seeking start\"],[\"Business intelligence specialist looking to join a BI company.\",\"health healthcare company tech telemedicine specialist public mobile expert looking telecommunications telecom start recruitment hr wanting seeking bi data join\"],[\"Neuromorphic computing expert seeking a cofounder for a neuromorphic tech firm.\",\"cofound tech scientist startup seeking behavioral firm biology cofounder company bioinformatics wanting chemical exoskeleton materials neuromorphic consumer biotech computational mental\"],[\"Photonics engineer looking to start a photonics tech company.\",\"engineer photonics hardware construction tech start disaster recovery company network networking need looking expert seeking specialist search firm wanting educational\"],[\"Satellite technology expert seeking to join a satellite tech startup.\",\"space aerospace satellite technology tech engineer startup expert tourism company resource cofound exploration exoplanet looking habitat join start seeking scientist\"],[\"Environmental engineer looking to start an environmental tech company.\",\"nuclear environmental tech start estate company real hydrology water engineer expert civic looking searching wanting technology need seeking economics educational\"],[\"Gene editing specialist seeking to cofound a gene editing firm.\",\"cofound tech scientist startup seeking behavioral firm biology cofounder company bioinformatics wanting chemical exoskeleton materials neuromorphic consumer biotech computational mental\"],[\"Personalized medicine expert looking to join a personalized medicine company.\",\"company marine tech expert start personalized drone technologist edtech cybersecurity medicine smart security looking seeking join searching logistics fashion veterinary\"],[\"Marine biotechnologist seeking a cofounder for a marine biotech startup.\",\"company marine tech expert start personalized drone technologist edtech cybersecurity medicine smart security looking seeking join searching logistics fashion veterinary\"],[\"Sports technology expert looking to start a sports tech company.\",\"content vr sports creator media start virtual reality company pet expert technology looking seeking studio tech cofound startup searching developer\"],[\"Smart textiles developer seeking a cofounder for a smart textiles firm.\",\"company marine tech expert start personalized drone technologist edtech cybersecurity medicine smart security looking seeking join searching logistics fashion veterinary\"],[\"Pharmaceutical scientist looking to join a pharma tech company.\",\"cofound tech scientist startup seeking behavioral firm biology cofounder company bioinformatics wanting chemical exoskeleton materials neuromorphic consumer biotech computational mental\"],[\"VR content creator seeking to start a VR content studio.\",\"content vr sports creator media start virtual reality company pet expert technology looking seeking studio tech cofound startup searching developer\"],[\"AI ethics specialist looking to cofound an AI ethics consultancy.\",\"ai voice specialist recognition marketing ethics firm artificial seeking intelligence cofound researcher speech machine company analytics learning tech language natural\"],[\"Financial technology expert seeking to join a fintech firm.\",\"fintech blockchain advisor financial legal expert firm technology join cofound personal finance cryptocurrency developer startup insurance insurtech contract looking company\"],[\"Green building specialist looking to start a green building company.\",\"energy renewable green electromobility proptech startup grid building expert searching sustainability cofound smart clean looking specialist tech storage seeking start\"],[\"Innovation strategist seeking a cofounder for an innovation consultancy.\",\"hospitality innovation market digital strategist manager agency social media product seeking new venture cofound cofounder research consultancy marketing researcher tech\"],[\"Public health technologist looking to join a public health tech firm.\",\"health healthcare company tech telemedicine specialist public mobile expert looking telecommunications telecom start recruitment hr wanting seeking bi data join\"],[\"Clinical research scientist seeking a cofounder for a clinical research startup.\",\"cofound tech scientist startup seeking behavioral firm biology cofounder company bioinformatics wanting chemical exoskeleton materials neuromorphic consumer biotech computational mental\"],[\"Veterinary technologist looking to join a veterinary tech company.\",\"company marine tech expert start personalized drone technologist edtech cybersecurity medicine smart security looking seeking join searching logistics fashion veterinary\"],[\"Mental health tech specialist seeking to cofound a mental health startup.\",\"cofound tech scientist startup seeking behavioral firm biology cofounder company bioinformatics wanting chemical exoskeleton materials neuromorphic consumer biotech computational mental\"],[\"Hydrology expert looking to start a water tech company.\",\"nuclear environmental tech start estate company real hydrology water engineer expert civic looking searching wanting technology need seeking economics educational\"],[\"Computational biologist seeking a cofounder for a computational biology firm.\",\"cofound tech scientist startup seeking behavioral firm biology cofounder company bioinformatics wanting chemical exoskeleton materials neuromorphic consumer biotech computational mental\"],[\"Nuclear engineer looking to start a nuclear tech company.\",\"nuclear environmental tech start estate company real hydrology water engineer expert civic looking searching wanting technology need seeking economics educational\"],[\"Creative technologist seeking to join a creative tech startup.\",\"wearable cultural creative sensory tech device developer startup technologist seeking medtech medical cofound firm looking technology start join specialist company\"],[\"Data privacy advocate looking to cofound a data privacy firm.\",\"privacy quantum cryptography data firm looking specialist advocate computing cofound tech join expert search company start need searching edtech educational\"],[\"Personal finance advisor seeking to join a personal finance tech company.\",\"fintech blockchain advisor financial legal expert firm technology join cofound personal finance cryptocurrency developer startup insurance insurtech contract looking company\"],[\"Disaster recovery specialist looking to start a disaster recovery firm.\",\"engineer photonics hardware construction tech start disaster recovery company network networking need looking expert seeking specialist search firm wanting educational\"],[\"Telemedicine expert seeking a cofounder for a telemedicine startup.\",\"health healthcare company tech telemedicine specialist public mobile expert looking telecommunications telecom start recruitment hr wanting seeking bi data join\"],[\"Cloud solutions architect looking to join a cloud solutions company.\",\"cloud software looking cofound architect solutions security devops programmer skilled firm saas join city planner urban computing company expert engineer\"],[\"Proptech developer seeking to cofound a proptech startup.\",\"energy renewable green electromobility proptech startup grid building expert searching sustainability cofound smart clean looking specialist tech storage seeking start\"],[\"Healthcare data analyst looking to join a healthcare data firm.\",\"health healthcare company tech telemedicine specialist public mobile expert looking telecommunications telecom start recruitment hr wanting seeking bi data join\"],[\"Behavioral economist seeking a cofounder for a behavioral economics startup.\",\"cofound tech scientist startup seeking behavioral firm biology cofounder company bioinformatics wanting chemical exoskeleton materials neuromorphic consumer biotech computational mental\"],[\"Consumer psychologist looking to start a consumer tech company.\",\"cofound tech scientist startup seeking behavioral firm biology cofounder company bioinformatics wanting chemical exoskeleton materials neuromorphic consumer biotech computational mental\"],[\"Exercise scientist seeking a cofounder for a fitness tech startup.\",\"cofound tech scientist startup seeking behavioral firm biology cofounder company bioinformatics wanting chemical exoskeleton materials neuromorphic consumer biotech computational mental\"],[\"Marine ecologist looking to join a marine tech company.\",\"company marine tech expert start personalized drone technologist edtech cybersecurity medicine smart security looking seeking join searching logistics fashion veterinary\"],[\"Insurance technology expert seeking to cofound an insurtech firm.\",\"fintech blockchain advisor financial legal expert firm technology join cofound personal finance cryptocurrency developer startup insurance insurtech contract looking company\"],[\"Precision agriculture specialist looking to start a precision agtech company.\",\"microbial agtech precision agricultural specialist tech agriculture start startup company technologist looking need hydroponics farming cell bioenergy fuel urban cofound\"],[\"Human-centered designer seeking a cofounder for a human-centered design firm.\",\"designer game app developer cofounder web design studio business assistant development virtual centered human interior gaming seeking ux based video\"],[\"Smart mobility expert looking to join a smart mobility company.\",\"health healthcare company tech telemedicine specialist public mobile expert looking telecommunications telecom start recruitment hr wanting seeking bi data join\"],[\"Pet technology developer seeking a cofounder for a pet tech startup.\",\"company marine tech expert start personalized drone technologist edtech cybersecurity medicine smart security looking seeking join searching logistics fashion veterinary\"],[\"Personalized nutrition expert looking to join a personalized nutrition company.\",\"company marine tech expert start personalized drone technologist edtech cybersecurity medicine smart security looking seeking join searching logistics fashion veterinary\"],[\"Cultural technologist seeking to cofound a cultural tech firm.\",\"wearable cultural creative sensory tech device developer startup technologist seeking medtech medical cofound firm looking technology start join specialist company\"],[\"Microbial technologist looking to start a microbial tech company.\",\"microbial agtech precision agricultural specialist tech agriculture start startup company technologist looking need hydroponics farming cell bioenergy fuel urban cofound\"],[\"Electromobility specialist seeking a cofounder for an electromobility startup.\",\"energy renewable green electromobility proptech startup grid building expert searching sustainability cofound smart clean looking specialist tech storage seeking start\"],[\"Civic technology expert looking to join a civic tech company.\",\"company marine tech expert start personalized drone technologist edtech cybersecurity medicine smart security looking seeking join searching logistics fashion veterinary\"],[\"Bioinformatics specialist seeking to cofound a bioinformatics firm.\",\"cofound tech scientist startup seeking behavioral firm biology cofounder company bioinformatics wanting chemical exoskeleton materials neuromorphic consumer biotech computational mental\"],[\"Fashion technologist looking to start a fashion tech company.\",\"company marine tech expert start personalized drone technologist edtech cybersecurity medicine smart security looking seeking join searching logistics fashion veterinary\"],[\"Holography expert seeking a cofounder for a holography tech startup.\",\"holography computer vision biometrics biometric expert technology company start searching cofounder startup seeking tech need looking cofound editing energy engineer\"],[\"Quantum cryptography specialist looking to join a quantum cryptography firm.\",\"privacy quantum cryptography data firm looking specialist advocate computing cofound tech join expert search company start need searching edtech educational\"],[\"Exoskeleton technology expert seeking to cofound an exoskeleton tech company.\",\"cofound tech scientist startup seeking behavioral firm biology cofounder company bioinformatics wanting chemical exoskeleton materials neuromorphic consumer biotech computational mental\"],[\"Climate data analyst looking to start a climate tech company.\",\"data analyst geospatial database climate start time real big looking administrator analytics tech company firm wanting seeking cofound energy editing\"],[\"Autonomous vehicle developer seeking a cofounder for an autonomous vehicle firm.\",\"automotive auto vehicle autonomous engineer developer firm software transportation tech cofound searching startup cofounder search looking seeking start editing web\"],[\"Mobile health technology expert looking to join a mobile health tech company.\",\"health healthcare company tech telemedicine specialist public mobile expert looking telecommunications telecom start recruitment hr wanting seeking bi data join\"],[\"Artificial general intelligence researcher seeking a cofounder for an AGI startup.\",\"ai voice specialist recognition marketing ethics firm artificial seeking intelligence cofound researcher speech machine company analytics learning tech language natural\"],[\"Sensory technology specialist looking to start a sensory tech company.\",\"wearable cultural creative sensory tech device developer startup technologist seeking medtech medical cofound firm looking technology start join specialist company\"],[\"Synthetic biology expert seeking a cofounder for a synthetic biology firm.\",\"cofound tech scientist startup seeking behavioral firm biology cofounder company bioinformatics wanting chemical exoskeleton materials neuromorphic consumer biotech computational mental\"],[\"Smart contract developer looking to join a blockchain tech company.\",\"fintech blockchain advisor financial legal expert firm technology join cofound personal finance cryptocurrency developer startup insurance insurtech contract looking company\"],[\"AI-powered marketing specialist seeking a cofounder for a marketing tech firm.\",\"ai voice specialist recognition marketing ethics firm artificial seeking intelligence cofound researcher speech machine company analytics learning tech language natural\"],[\"Real-time data analyst looking to start a real-time data company.\",\"data analyst geospatial database climate start time real big looking administrator analytics tech company firm wanting seeking cofound energy editing\"]],\"hovertemplate\":\"Type=talent\\u003cbr\\u003eX=%{x}\\u003cbr\\u003eY=%{y}\\u003cbr\\u003eDescription=%{customdata[0]}\\u003cbr\\u003ecluster_top_words=%{customdata[1]}\\u003cbr\\u003ecluster=%{marker.color}\\u003cextra\\u003e\\u003c\\u002fextra\\u003e\",\"legendgroup\":\"talent\",\"marker\":{\"color\":[3,10,8,4,3,4,2,2,15,4,2,7,-1,3,10,8,9,4,5,16,13,5,10,13,6,8,17,5,-1,-1,11,8,11,6,8,15,-1,1,7,19,10,18,-1,1,-1,3,13,20,20,19,7,17,3,13,14,9,15,3,8,2,15,18,11,-1,-1,18,5,4,12,0,16,16,16,6,14,7,9,5,8,6,15,16,11,20,12,16,-1,-1,17,-1,16,17,7,2,6,5,15,16,-1,16,12,16,12,18,1,2,11,15,3,6,15,16,16,16,-1,2,0,8,15,-1,-1,18,0,6,-1,16,-1,14,1,16,9,19,15,7,18,16,2,7,9],\"coloraxis\":\"coloraxis\",\"symbol\":\"diamond\"},\"mode\":\"markers\",\"name\":\"talent\",\"orientation\":\"v\",\"showlegend\":true,\"x\":[-6.089962482452393,3.814807891845703,9.78165054321289,-3.4519290924072266,-5.498816013336182,-3.1191349029541016,-7.435102462768555,-7.518147945404053,2.6822891235351562,-2.8305842876434326,-7.134408950805664,7.173539638519287,-2.9964871406555176,-5.182803153991699,3.616827964782715,9.741479873657227,0.49110835790634155,-3.0513408184051514,-3.6049416065216064,5.8219828605651855,3.981440782546997,-3.693549633026123,3.8015236854553223,3.86572003364563,8.11960220336914,9.609780311584473,6.6521196365356445,-3.7210140228271484,-8.112813949584961,-8.406637191772461,5.46406888961792,9.595575332641602,5.45773983001709,8.600458145141602,9.802361488342285,1.8659865856170654,-13.256237983703613,-3.495861768722534,7.709023475646973,3.5658507347106934,3.567920207977295,5.1352081298828125,-2.9950032234191895,-5.0056939125061035,-8.183122634887695,-5.12933874130249,3.811497449874878,3.1123828887939453,2.4870657920837402,3.5009217262268066,7.482763767242432,6.643491268157959,-5.373167037963867,4.01036262512207,4.6583781242370605,0.801504373550415,2.514075994491577,-5.084409713745117,9.5905179977417,-7.14398193359375,2.4096882343292236,4.750192165374756,5.7069597244262695,3.2597527503967285,-8.406652450561523,5.170372486114502,-3.2997560501098633,-2.8813869953155518,6.524079322814941,20.10334587097168,5.705257892608643,5.673341274261475,5.497016906738281,8.970044136047363,4.623547077178955,7.739704608917236,0.5585922002792358,-3.604001045227051,9.077728271484375,8.606907844543457,1.6217819452285767,6.421625137329102,5.3972649574279785,2.4339349269866943,6.726351737976074,6.899169445037842,8.785781860351562,4.566636562347412,6.827725887298584,10.430573463439941,5.80494499206543,6.6421051025390625,7.486374378204346,-7.156042098999023,8.035032272338867,-3.623410224914551,2.683936834335327,5.119645118713379,5.090346336364746,3.6208033561706543,6.728513717651367,6.31948184967041,6.292450428009033,3.7997865676879883,-5.0056562423706055,-7.279965400695801,5.577079772949219,2.5787367820739746,-5.1701884269714355,9.021930694580078,2.049720048904419,4.319500923156738,3.6942379474639893,4.946640491485596,4.624423503875732,-7.118053436279297,20.103469848632812,9.831843376159668,2.974259376525879,5.124138355255127,8.742218971252441,3.8086347579956055,17.618160247802734,8.925661087036133,6.647976398468018,6.845074653625488,10.409663200378418,4.888043403625488,-3.495901346206665,4.4111528396606445,0.4814431071281433,3.7048287391662598,2.88686466217041,7.329484939575195,4.342939376831055,5.9602179527282715,-7.25048828125,7.323042869567871,0.44477126002311707],\"xaxis\":\"x\",\"y\":[3.4156389236450195,6.4206109046936035,0.6320726275444031,0.13829486072063446,3.266772508621216,-0.32032105326652527,3.557506799697876,3.6687915325164795,7.9941725730896,-0.061969414353370667,4.42819356918335,3.9628591537475586,9.753708839416504,3.8212523460388184,6.388087272644043,0.8252041339874268,8.841113090515137,-0.36897972226142883,0.5575231313705444,8.05978012084961,0.19585007429122925,1.3009206056594849,6.400711536407471,0.643162727355957,-3.0012338161468506,0.9497925043106079,9.960182189941406,1.322466254234314,7.3629279136657715,14.9889554977417,-1.3096777200698853,1.1058942079544067,-1.3034948110580444,-3.3162803649902344,0.3627292513847351,7.440505027770996,6.307548999786377,-10.642890930175781,2.729491949081421,1.7439380884170532,6.371018886566162,11.616214752197266,9.757524490356445,-5.45471715927124,7.434108257293701,2.8586411476135254,0.46730169653892517,2.6419026851654053,3.1242284774780273,1.8112021684646606,3.1893856525421143,9.935763359069824,3.2394139766693115,0.20981790125370026,-0.0676814615726471,8.618547439575195,8.333950996398926,3.9489057064056396,1.1104371547698975,3.922431468963623,7.93907356262207,11.482815742492676,-1.8689628839492798,2.4122064113616943,14.988975524902344,11.639883041381836,0.8632234930992126,-0.13339757919311523,-1.7451432943344116,4.0386786460876465,7.274928569793701,7.1593499183654785,8.178780555725098,-3.6793253421783447,-0.04818667471408844,2.718782663345337,8.77034854888916,1.1731469631195068,1.645754098892212,-3.315629243850708,8.066231727600098,8.235159873962402,-1.2329559326171875,3.172635793685913,-2.6472249031066895,8.234206199645996,-9.307961463928223,-4.911664009094238,9.92093276977539,14.75831127166748,7.927870273590088,9.952143669128418,3.6591453552246094,3.845186710357666,-2.916591167449951,1.189591646194458,7.764735698699951,8.205005645751953,10.010085105895996,8.446205139160156,-2.648064613342285,8.304181098937988,-2.3552260398864746,12.350969314575195,-5.454685211181641,3.739933729171753,-1.958723545074463,8.267094612121582,3.8384711742401123,-3.785079002380371,7.849525451660156,8.48137378692627,8.482627868652344,8.142054557800293,-4.840417861938477,3.6115078926086426,4.038498401641846,0.3150910437107086,7.215475082397461,9.975017547607422,-9.351494789123535,12.343829154968262,-3.4509923458099365,-3.3992533683776855,-1.7501411437988281,8.269796371459961,14.737517356872559,-0.37973862886428833,-10.642945289611816,7.956913471221924,8.848099708557129,1.6057289838790894,7.425608158111572,3.7488365173339844,11.868847846984863,8.283616065979004,4.276463031768799,3.7553203105926514,8.881293296813965],\"yaxis\":\"y\",\"type\":\"scatter\"},{\"customdata\":[[\"Searching for a project manager to help lead a tech venture.\",\"company marine tech expert start personalized drone technologist edtech cybersecurity medicine smart security looking seeking join searching logistics fashion veterinary\"],[\"Need a cybersecurity expert to start a security tech company.\",\"company marine tech expert start personalized drone technologist edtech cybersecurity medicine smart security looking seeking join searching logistics fashion veterinary\"],[\"Looking for a logistics expert to start a logistics tech company.\",\"company marine tech expert start personalized drone technologist edtech cybersecurity medicine smart security looking seeking join searching logistics fashion veterinary\"],[\"Searching for an educational technologist to cofound an edtech startup.\",\"company marine tech expert start personalized drone technologist edtech cybersecurity medicine smart security looking seeking join searching logistics fashion veterinary\"],[\"Seeking a drone technology expert to start a drone tech company.\",\"company marine tech expert start personalized drone technologist edtech cybersecurity medicine smart security looking seeking join searching logistics fashion veterinary\"],[\"Need a cybersecurity policy expert to start a security consultancy.\",\"company marine tech expert start personalized drone technologist edtech cybersecurity medicine smart security looking seeking join searching logistics fashion veterinary\"],[\"Searching for a supply chain specialist to start a supply chain tech company.\",\"company marine tech expert start personalized drone technologist edtech cybersecurity medicine smart security looking seeking join searching logistics fashion veterinary\"],[\"Searching for an e-learning specialist to start an edtech company.\",\"company marine tech expert start personalized drone technologist edtech cybersecurity medicine smart security looking seeking join searching logistics fashion veterinary\"],[\"Seeking a personalized medicine expert to start a personalized medicine company.\",\"company marine tech expert start personalized drone technologist edtech cybersecurity medicine smart security looking seeking join searching logistics fashion veterinary\"],[\"Need a marine biotechnologist to cofound a marine biotech startup.\",\"company marine tech expert start personalized drone technologist edtech cybersecurity medicine smart security looking seeking join searching logistics fashion veterinary\"],[\"Searching for a smart textiles developer to cofound a smart textiles firm.\",\"company marine tech expert start personalized drone technologist edtech cybersecurity medicine smart security looking seeking join searching logistics fashion veterinary\"],[\"Looking for a veterinary technologist to start a veterinary tech company.\",\"company marine tech expert start personalized drone technologist edtech cybersecurity medicine smart security looking seeking join searching logistics fashion veterinary\"],[\"Searching for a marine ecologist to start a marine tech company.\",\"company marine tech expert start personalized drone technologist edtech cybersecurity medicine smart security looking seeking join searching logistics fashion veterinary\"],[\"Looking for a smart mobility expert to start a smart mobility company.\",\"company marine tech expert start personalized drone technologist edtech cybersecurity medicine smart security looking seeking join searching logistics fashion veterinary\"],[\"Wanting a personalized nutrition expert to start a personalized nutrition company.\",\"company marine tech expert start personalized drone technologist edtech cybersecurity medicine smart security looking seeking join searching logistics fashion veterinary\"],[\"Seeking a fashion technologist to start a fashion tech company.\",\"company marine tech expert start personalized drone technologist edtech cybersecurity medicine smart security looking seeking join searching logistics fashion veterinary\"],[\"Searching for a smart fabric developer to cofound a wearable tech company.\",\"company marine tech expert start personalized drone technologist edtech cybersecurity medicine smart security looking seeking join searching logistics fashion veterinary\"],[\"Need an intelligent transportation systems expert to start a transportation tech firm.\",\"company marine tech expert start personalized drone technologist edtech cybersecurity medicine smart security looking seeking join searching logistics fashion veterinary\"],[\"Seeking a precision medicine technologist to start a precision medicine company.\",\"company marine tech expert start personalized drone technologist edtech cybersecurity medicine smart security looking seeking join searching logistics fashion veterinary\"],[\"Need an autonomous drone developer to cofound a drone tech startup.\",\"company marine tech expert start personalized drone technologist edtech cybersecurity medicine smart security looking seeking join searching logistics fashion veterinary\"],[\"Cybersecurity expert seeking a security tech company to join.\",\"company marine tech expert start personalized drone technologist edtech cybersecurity medicine smart security looking seeking join searching logistics fashion veterinary\"],[\"Logistics expert looking to join a logistics tech startup.\",\"company marine tech expert start personalized drone technologist edtech cybersecurity medicine smart security looking seeking join searching logistics fashion veterinary\"],[\"Educational technologist seeking a cofounder for an edtech startup.\",\"company marine tech expert start personalized drone technologist edtech cybersecurity medicine smart security looking seeking join searching logistics fashion veterinary\"],[\"Drone technology expert in search of a drone tech startup.\",\"company marine tech expert start personalized drone technologist edtech cybersecurity medicine smart security looking seeking join searching logistics fashion veterinary\"],[\"Cybersecurity policy expert looking to start a security consultancy.\",\"company marine tech expert start personalized drone technologist edtech cybersecurity medicine smart security looking seeking join searching logistics fashion veterinary\"],[\"Supply chain specialist seeking to start a supply chain tech company.\",\"company marine tech expert start personalized drone technologist edtech cybersecurity medicine smart security looking seeking join searching logistics fashion veterinary\"],[\"Transportation engineer looking to join a transportation tech firm.\",\"company marine tech expert start personalized drone technologist edtech cybersecurity medicine smart security looking seeking join searching logistics fashion veterinary\"],[\"E-learning specialist seeking a cofounder for an edtech company.\",\"company marine tech expert start personalized drone technologist edtech cybersecurity medicine smart security looking seeking join searching logistics fashion veterinary\"],[\"Personalized medicine expert looking to join a personalized medicine company.\",\"company marine tech expert start personalized drone technologist edtech cybersecurity medicine smart security looking seeking join searching logistics fashion veterinary\"],[\"Marine biotechnologist seeking a cofounder for a marine biotech startup.\",\"company marine tech expert start personalized drone technologist edtech cybersecurity medicine smart security looking seeking join searching logistics fashion veterinary\"],[\"Smart textiles developer seeking a cofounder for a smart textiles firm.\",\"company marine tech expert start personalized drone technologist edtech cybersecurity medicine smart security looking seeking join searching logistics fashion veterinary\"],[\"Veterinary technologist looking to join a veterinary tech company.\",\"company marine tech expert start personalized drone technologist edtech cybersecurity medicine smart security looking seeking join searching logistics fashion veterinary\"],[\"Marine ecologist looking to join a marine tech company.\",\"company marine tech expert start personalized drone technologist edtech cybersecurity medicine smart security looking seeking join searching logistics fashion veterinary\"],[\"Pet technology developer seeking a cofounder for a pet tech startup.\",\"company marine tech expert start personalized drone technologist edtech cybersecurity medicine smart security looking seeking join searching logistics fashion veterinary\"],[\"Personalized nutrition expert looking to join a personalized nutrition company.\",\"company marine tech expert start personalized drone technologist edtech cybersecurity medicine smart security looking seeking join searching logistics fashion veterinary\"],[\"Civic technology expert looking to join a civic tech company.\",\"company marine tech expert start personalized drone technologist edtech cybersecurity medicine smart security looking seeking join searching logistics fashion veterinary\"],[\"Fashion technologist looking to start a fashion tech company.\",\"company marine tech expert start personalized drone technologist edtech cybersecurity medicine smart security looking seeking join searching logistics fashion veterinary\"]],\"hovertemplate\":\"X=%{x}\\u003cbr\\u003eY=%{y}\\u003cbr\\u003eDescription=%{customdata[0]}\\u003cbr\\u003ecluster_top_words=%{customdata[1]}\\u003cextra\\u003e\\u003c\\u002fextra\\u003e\",\"legendgroup\":\"\",\"marker\":{\"color\":\"#EEEEEE\",\"symbol\":\"circle\"},\"mode\":\"markers\",\"name\":\"\",\"orientation\":\"v\",\"showlegend\":false,\"x\":[-3.514988899230957,-2.9959428310394287,-8.130401611328125,-8.406763076782227,-13.256300926208496,-2.995333671569824,-8.15993595123291,-8.406583786010742,8.770249366760254,4.593074321746826,10.418914794921875,5.092594146728516,4.601435661315918,3.055201530456543,8.74146842956543,10.395255088806152,10.43453598022461,3.282991647720337,8.77851390838623,-13.256231307983398,-2.9964871406555176,-8.112813949584961,-8.406637191772461,-13.256237983703613,-2.9950032234191895,-8.183122634887695,3.2597527503967285,-8.406652450561523,8.785781860351562,4.566636562347412,10.430573463439941,5.090346336364746,4.624423503875732,5.124138355255127,8.742218971252441,6.647976398468018,10.409663200378418],\"xaxis\":\"x\",\"y\":[0.2553223967552185,9.753583908081055,7.380816459655762,14.989002227783203,6.307604789733887,9.754405975341797,7.4108357429504395,14.988920211791992,-9.323508262634277,-4.8817219734191895,14.74669361114502,10.00892448425293,-4.869832515716553,7.054539680480957,-9.352182388305664,14.723082542419434,14.76225471496582,2.3638291358947754,-9.315001487731934,6.307549953460693,9.753708839416504,7.3629279136657715,14.9889554977417,6.307548999786377,9.757524490356445,7.434108257293701,2.4122064113616943,14.988975524902344,-9.307961463928223,-4.911664009094238,14.75831127166748,10.010085105895996,-4.840417861938477,9.975017547607422,-9.351494789123535,-1.7501411437988281,14.737517356872559],\"yaxis\":\"y\",\"type\":\"scatter\"}],                        {\"template\":{\"data\":{\"histogram2dcontour\":[{\"type\":\"histogram2dcontour\",\"colorbar\":{\"outlinewidth\":0,\"ticks\":\"\"},\"colorscale\":[[0.0,\"#0d0887\"],[0.1111111111111111,\"#46039f\"],[0.2222222222222222,\"#7201a8\"],[0.3333333333333333,\"#9c179e\"],[0.4444444444444444,\"#bd3786\"],[0.5555555555555556,\"#d8576b\"],[0.6666666666666666,\"#ed7953\"],[0.7777777777777778,\"#fb9f3a\"],[0.8888888888888888,\"#fdca26\"],[1.0,\"#f0f921\"]]}],\"choropleth\":[{\"type\":\"choropleth\",\"colorbar\":{\"outlinewidth\":0,\"ticks\":\"\"}}],\"histogram2d\":[{\"type\":\"histogram2d\",\"colorbar\":{\"outlinewidth\":0,\"ticks\":\"\"},\"colorscale\":[[0.0,\"#0d0887\"],[0.1111111111111111,\"#46039f\"],[0.2222222222222222,\"#7201a8\"],[0.3333333333333333,\"#9c179e\"],[0.4444444444444444,\"#bd3786\"],[0.5555555555555556,\"#d8576b\"],[0.6666666666666666,\"#ed7953\"],[0.7777777777777778,\"#fb9f3a\"],[0.8888888888888888,\"#fdca26\"],[1.0,\"#f0f921\"]]}],\"heatmap\":[{\"type\":\"heatmap\",\"colorbar\":{\"outlinewidth\":0,\"ticks\":\"\"},\"colorscale\":[[0.0,\"#0d0887\"],[0.1111111111111111,\"#46039f\"],[0.2222222222222222,\"#7201a8\"],[0.3333333333333333,\"#9c179e\"],[0.4444444444444444,\"#bd3786\"],[0.5555555555555556,\"#d8576b\"],[0.6666666666666666,\"#ed7953\"],[0.7777777777777778,\"#fb9f3a\"],[0.8888888888888888,\"#fdca26\"],[1.0,\"#f0f921\"]]}],\"heatmapgl\":[{\"type\":\"heatmapgl\",\"colorbar\":{\"outlinewidth\":0,\"ticks\":\"\"},\"colorscale\":[[0.0,\"#0d0887\"],[0.1111111111111111,\"#46039f\"],[0.2222222222222222,\"#7201a8\"],[0.3333333333333333,\"#9c179e\"],[0.4444444444444444,\"#bd3786\"],[0.5555555555555556,\"#d8576b\"],[0.6666666666666666,\"#ed7953\"],[0.7777777777777778,\"#fb9f3a\"],[0.8888888888888888,\"#fdca26\"],[1.0,\"#f0f921\"]]}],\"contourcarpet\":[{\"type\":\"contourcarpet\",\"colorbar\":{\"outlinewidth\":0,\"ticks\":\"\"}}],\"contour\":[{\"type\":\"contour\",\"colorbar\":{\"outlinewidth\":0,\"ticks\":\"\"},\"colorscale\":[[0.0,\"#0d0887\"],[0.1111111111111111,\"#46039f\"],[0.2222222222222222,\"#7201a8\"],[0.3333333333333333,\"#9c179e\"],[0.4444444444444444,\"#bd3786\"],[0.5555555555555556,\"#d8576b\"],[0.6666666666666666,\"#ed7953\"],[0.7777777777777778,\"#fb9f3a\"],[0.8888888888888888,\"#fdca26\"],[1.0,\"#f0f921\"]]}],\"surface\":[{\"type\":\"surface\",\"colorbar\":{\"outlinewidth\":0,\"ticks\":\"\"},\"colorscale\":[[0.0,\"#0d0887\"],[0.1111111111111111,\"#46039f\"],[0.2222222222222222,\"#7201a8\"],[0.3333333333333333,\"#9c179e\"],[0.4444444444444444,\"#bd3786\"],[0.5555555555555556,\"#d8576b\"],[0.6666666666666666,\"#ed7953\"],[0.7777777777777778,\"#fb9f3a\"],[0.8888888888888888,\"#fdca26\"],[1.0,\"#f0f921\"]]}],\"mesh3d\":[{\"type\":\"mesh3d\",\"colorbar\":{\"outlinewidth\":0,\"ticks\":\"\"}}],\"scatter\":[{\"fillpattern\":{\"fillmode\":\"overlay\",\"size\":10,\"solidity\":0.2},\"type\":\"scatter\"}],\"parcoords\":[{\"type\":\"parcoords\",\"line\":{\"colorbar\":{\"outlinewidth\":0,\"ticks\":\"\"}}}],\"scatterpolargl\":[{\"type\":\"scatterpolargl\",\"marker\":{\"colorbar\":{\"outlinewidth\":0,\"ticks\":\"\"}}}],\"bar\":[{\"error_x\":{\"color\":\"#2a3f5f\"},\"error_y\":{\"color\":\"#2a3f5f\"},\"marker\":{\"line\":{\"color\":\"#E5ECF6\",\"width\":0.5},\"pattern\":{\"fillmode\":\"overlay\",\"size\":10,\"solidity\":0.2}},\"type\":\"bar\"}],\"scattergeo\":[{\"type\":\"scattergeo\",\"marker\":{\"colorbar\":{\"outlinewidth\":0,\"ticks\":\"\"}}}],\"scatterpolar\":[{\"type\":\"scatterpolar\",\"marker\":{\"colorbar\":{\"outlinewidth\":0,\"ticks\":\"\"}}}],\"histogram\":[{\"marker\":{\"pattern\":{\"fillmode\":\"overlay\",\"size\":10,\"solidity\":0.2}},\"type\":\"histogram\"}],\"scattergl\":[{\"type\":\"scattergl\",\"marker\":{\"colorbar\":{\"outlinewidth\":0,\"ticks\":\"\"}}}],\"scatter3d\":[{\"type\":\"scatter3d\",\"line\":{\"colorbar\":{\"outlinewidth\":0,\"ticks\":\"\"}},\"marker\":{\"colorbar\":{\"outlinewidth\":0,\"ticks\":\"\"}}}],\"scattermapbox\":[{\"type\":\"scattermapbox\",\"marker\":{\"colorbar\":{\"outlinewidth\":0,\"ticks\":\"\"}}}],\"scatterternary\":[{\"type\":\"scatterternary\",\"marker\":{\"colorbar\":{\"outlinewidth\":0,\"ticks\":\"\"}}}],\"scattercarpet\":[{\"type\":\"scattercarpet\",\"marker\":{\"colorbar\":{\"outlinewidth\":0,\"ticks\":\"\"}}}],\"carpet\":[{\"aaxis\":{\"endlinecolor\":\"#2a3f5f\",\"gridcolor\":\"white\",\"linecolor\":\"white\",\"minorgridcolor\":\"white\",\"startlinecolor\":\"#2a3f5f\"},\"baxis\":{\"endlinecolor\":\"#2a3f5f\",\"gridcolor\":\"white\",\"linecolor\":\"white\",\"minorgridcolor\":\"white\",\"startlinecolor\":\"#2a3f5f\"},\"type\":\"carpet\"}],\"table\":[{\"cells\":{\"fill\":{\"color\":\"#EBF0F8\"},\"line\":{\"color\":\"white\"}},\"header\":{\"fill\":{\"color\":\"#C8D4E3\"},\"line\":{\"color\":\"white\"}},\"type\":\"table\"}],\"barpolar\":[{\"marker\":{\"line\":{\"color\":\"#E5ECF6\",\"width\":0.5},\"pattern\":{\"fillmode\":\"overlay\",\"size\":10,\"solidity\":0.2}},\"type\":\"barpolar\"}],\"pie\":[{\"automargin\":true,\"type\":\"pie\"}]},\"layout\":{\"autotypenumbers\":\"strict\",\"colorway\":[\"#636efa\",\"#EF553B\",\"#00cc96\",\"#ab63fa\",\"#FFA15A\",\"#19d3f3\",\"#FF6692\",\"#B6E880\",\"#FF97FF\",\"#FECB52\"],\"font\":{\"color\":\"#2a3f5f\"},\"hovermode\":\"closest\",\"hoverlabel\":{\"align\":\"left\"},\"paper_bgcolor\":\"white\",\"plot_bgcolor\":\"#E5ECF6\",\"polar\":{\"bgcolor\":\"#E5ECF6\",\"angularaxis\":{\"gridcolor\":\"white\",\"linecolor\":\"white\",\"ticks\":\"\"},\"radialaxis\":{\"gridcolor\":\"white\",\"linecolor\":\"white\",\"ticks\":\"\"}},\"ternary\":{\"bgcolor\":\"#E5ECF6\",\"aaxis\":{\"gridcolor\":\"white\",\"linecolor\":\"white\",\"ticks\":\"\"},\"baxis\":{\"gridcolor\":\"white\",\"linecolor\":\"white\",\"ticks\":\"\"},\"caxis\":{\"gridcolor\":\"white\",\"linecolor\":\"white\",\"ticks\":\"\"}},\"coloraxis\":{\"colorbar\":{\"outlinewidth\":0,\"ticks\":\"\"}},\"colorscale\":{\"sequential\":[[0.0,\"#0d0887\"],[0.1111111111111111,\"#46039f\"],[0.2222222222222222,\"#7201a8\"],[0.3333333333333333,\"#9c179e\"],[0.4444444444444444,\"#bd3786\"],[0.5555555555555556,\"#d8576b\"],[0.6666666666666666,\"#ed7953\"],[0.7777777777777778,\"#fb9f3a\"],[0.8888888888888888,\"#fdca26\"],[1.0,\"#f0f921\"]],\"sequentialminus\":[[0.0,\"#0d0887\"],[0.1111111111111111,\"#46039f\"],[0.2222222222222222,\"#7201a8\"],[0.3333333333333333,\"#9c179e\"],[0.4444444444444444,\"#bd3786\"],[0.5555555555555556,\"#d8576b\"],[0.6666666666666666,\"#ed7953\"],[0.7777777777777778,\"#fb9f3a\"],[0.8888888888888888,\"#fdca26\"],[1.0,\"#f0f921\"]],\"diverging\":[[0,\"#8e0152\"],[0.1,\"#c51b7d\"],[0.2,\"#de77ae\"],[0.3,\"#f1b6da\"],[0.4,\"#fde0ef\"],[0.5,\"#f7f7f7\"],[0.6,\"#e6f5d0\"],[0.7,\"#b8e186\"],[0.8,\"#7fbc41\"],[0.9,\"#4d9221\"],[1,\"#276419\"]]},\"xaxis\":{\"gridcolor\":\"white\",\"linecolor\":\"white\",\"ticks\":\"\",\"title\":{\"standoff\":15},\"zerolinecolor\":\"white\",\"automargin\":true,\"zerolinewidth\":2},\"yaxis\":{\"gridcolor\":\"white\",\"linecolor\":\"white\",\"ticks\":\"\",\"title\":{\"standoff\":15},\"zerolinecolor\":\"white\",\"automargin\":true,\"zerolinewidth\":2},\"scene\":{\"xaxis\":{\"backgroundcolor\":\"#E5ECF6\",\"gridcolor\":\"white\",\"linecolor\":\"white\",\"showbackground\":true,\"ticks\":\"\",\"zerolinecolor\":\"white\",\"gridwidth\":2},\"yaxis\":{\"backgroundcolor\":\"#E5ECF6\",\"gridcolor\":\"white\",\"linecolor\":\"white\",\"showbackground\":true,\"ticks\":\"\",\"zerolinecolor\":\"white\",\"gridwidth\":2},\"zaxis\":{\"backgroundcolor\":\"#E5ECF6\",\"gridcolor\":\"white\",\"linecolor\":\"white\",\"showbackground\":true,\"ticks\":\"\",\"zerolinecolor\":\"white\",\"gridwidth\":2}},\"shapedefaults\":{\"line\":{\"color\":\"#2a3f5f\"}},\"annotationdefaults\":{\"arrowcolor\":\"#2a3f5f\",\"arrowhead\":0,\"arrowwidth\":1},\"geo\":{\"bgcolor\":\"white\",\"landcolor\":\"#E5ECF6\",\"subunitcolor\":\"white\",\"showland\":true,\"showlakes\":true,\"lakecolor\":\"white\"},\"title\":{\"x\":0.05},\"mapbox\":{\"style\":\"light\"}}},\"xaxis\":{\"anchor\":\"y\",\"domain\":[0.0,1.0],\"title\":{\"text\":\"\"},\"showticklabels\":false},\"yaxis\":{\"anchor\":\"x\",\"domain\":[0.0,1.0],\"title\":{\"text\":\"\"},\"showticklabels\":false},\"coloraxis\":{\"colorbar\":{\"title\":{\"text\":\"cluster\"}},\"colorscale\":[[0.0,\"#0d0887\"],[0.1111111111111111,\"#46039f\"],[0.2222222222222222,\"#7201a8\"],[0.3333333333333333,\"#9c179e\"],[0.4444444444444444,\"#bd3786\"],[0.5555555555555556,\"#d8576b\"],[0.6666666666666666,\"#ed7953\"],[0.7777777777777778,\"#fb9f3a\"],[0.8888888888888888,\"#fdca26\"],[1.0,\"#f0f921\"]]},\"legend\":{\"title\":{\"text\":\"Clusters & Top Words\",\"font\":{\"color\":\"green\"}},\"tracegroupgap\":20,\"itemsizing\":\"constant\"},\"margin\":{\"t\":100,\"l\":50,\"r\":50,\"b\":100},\"showlegend\":true,\"plot_bgcolor\":\"white\",\"images\":[{\"layer\":\"below\",\"opacity\":0.8,\"sizex\":0.8,\"sizey\":0.8,\"source\":\"rocket\\u002flanding\\u002fstatic\\u002flanding\\u002fRocket Logo.png\",\"x\":0,\"xref\":\"paper\",\"y\":1,\"yref\":\"paper\"},{\"opacity\":0.8,\"sizex\":0.15,\"sizey\":0.15,\"source\":\"rocket\\u002flanding\\u002fstatic\\u002flanding\\u002fRocket Logo.png\",\"x\":0,\"xref\":\"paper\",\"y\":0,\"yref\":\"paper\"}],\"width\":1000,\"height\":500,\"autosize\":false},                        {\"responsive\": true}                    ).then(function(){\n",
       "                            \n",
       "var gd = document.getElementById('ff68f612-f9e4-411c-acc4-e4b79fdf972a');\n",
       "var x = new MutationObserver(function (mutations, observer) {{\n",
       "        var display = window.getComputedStyle(gd).display;\n",
       "        if (!display || display === 'none') {{\n",
       "            console.log([gd, 'removed!']);\n",
       "            Plotly.purge(gd);\n",
       "            observer.disconnect();\n",
       "        }}\n",
       "}});\n",
       "\n",
       "// Listen for the removal of the full notebook cells\n",
       "var notebookContainer = gd.closest('#notebook-container');\n",
       "if (notebookContainer) {{\n",
       "    x.observe(notebookContainer, {childList: true});\n",
       "}}\n",
       "\n",
       "// Listen for the clearing of the current output cell\n",
       "var outputEl = gd.closest('.output');\n",
       "if (outputEl) {{\n",
       "    x.observe(outputEl, {childList: true});\n",
       "}}\n",
       "\n",
       "                        })                };                });            </script>        </div>"
      ]
     },
     "metadata": {},
     "output_type": "display_data"
    }
   ],
   "source": [
    "fig = px.scatter(df,\n",
    "    x='X',\n",
    "    y='Y',\n",
    "    #z='vader_sentiment_score',\n",
    "    color='cluster',\n",
    "    symbol = 'Type',\n",
    "    #size = 'length_answer',\n",
    "    size_max = 50,\n",
    "    hover_data=['Description', 'cluster_top_words'],\n",
    "    color_discrete_sequence=list(cluster_colors.values())\n",
    "    )\n",
    "\n",
    "# for trace in fig.data:\n",
    "#     trace.marker.line.color = trace.marker.color\n",
    "\n",
    "# Adding in poorly clustered topics\n",
    "unclustered_indices = df[df['cluster'] == -1].index\n",
    "unclustered_df = df.loc[unclustered_indices]\n",
    "\n",
    "\"\"\"\n",
    "Add unclustered documents as a separate trace with a fixed color\n",
    "\"\"\"\n",
    "unclustered_trace = px.scatter(unclustered_df, x='X', y='Y',#z = 'vader_sentiment_score',\n",
    "                               size_max = 2,\n",
    "                               #z='bert_sentiment_score',\n",
    "                               color_discrete_sequence=['#EEEEEE'], hover_data=['Description', 'cluster_top_words'],\n",
    ").data[0]\n",
    "fig.add_trace(unclustered_trace)\n",
    "\n",
    "\n",
    "custom_legend_items = []\n",
    "for cluster_label, color in cluster_colors.items():\n",
    "    top_words = cluster_top_words.get(cluster_label, \"Unclustered\")  # Handle unclustered points\n",
    "    legend_item = dict(\n",
    "        name=f\"Cluster {cluster_label}: {top_words}\",\n",
    "        marker=dict(color=color)\n",
    "    )\n",
    "    custom_legend_items.append(legend_item)\n",
    "\n",
    "# Update Layout\n",
    "fig.update_layout(\n",
    "    showlegend=True,\n",
    "    legend=dict(\n",
    "        title=\"Clusters & Top Words\",\n",
    "        itemsizing='constant',\n",
    "        tracegroupgap=20\n",
    "    ),\n",
    "    legend_title_font_color=\"green\"\n",
    ")\n",
    "\n",
    "# Manually Set Legend Items\n",
    "#fig.for_each_trace(lambda trace: trace.update(showlegend=True) if trace.name != unclustered_trace.name else ())  # Exclude the unclustered trace from the legend\n",
    "#fig.update_layout(legend_title_text='Clusters & Top Words')\n",
    "#fig.update_layout(legend_itemsizing='constant')\n",
    "#fig.update_layout(legend_tracegroupgap=20)\n",
    "#fig.update_layout(legend_title_font_color='green')\n",
    "#fig.update_layout(legend_itemclick=False, legend_itemdoubleclick=False)  # Disable legend interactions\n",
    "\n",
    "\n",
    "\n",
    "\n",
    "# hover_template = \"\"\"\n",
    "# <extra></extra>\n",
    "# Nudge Content: %{customdata[1]}<br>\n",
    "# Cluster: %{customdata[4]}<br>\n",
    "# Cluster Colour: %{customdata[5]}\n",
    "# \"\"\"\n",
    "\n",
    "# fig.update_traces(hovertemplate=hover_template)\n",
    "\n",
    "fig.update_layout(\n",
    "    showlegend=True,\n",
    "    #annotations=custom_legend,\n",
    "    plot_bgcolor= 'white'#'rgb(238,238,238)'#'#252d2',\n",
    ")\n",
    "\n",
    "fig.update_xaxes(title='')\n",
    "fig.update_yaxes(title='')\n",
    "fig.update_xaxes(showticklabels=False)\n",
    "fig.update_yaxes(showticklabels=False)\n",
    "rocket_logo = \"rocket/landing/static/landing/Rocket Logo.png\"\n",
    "# Add the logo as a layout image\n",
    "fig.add_layout_image(\n",
    "    go.layout.Image(\n",
    "        source=rocket_logo,\n",
    "        x=0, y=1,  # Position at top left\n",
    "        xref=\"paper\", yref=\"paper\",\n",
    "        sizex=0.8, sizey=0.8,\n",
    "        opacity=0.8,\n",
    "        layer=\"below\"\n",
    "    )\n",
    ")\n",
    "\n",
    "# # bottom Logo Annotation\n",
    "rocket_logo_annotation = go.layout.Image(\n",
    "    source=rocket_logo,\n",
    "    x=0, y=0,\n",
    "    xref=\"paper\", yref=\"paper\",\n",
    "    sizex=0.15, sizey=0.15,\n",
    "    opacity=0.8\n",
    ")\n",
    "\n",
    "fig.add_layout_image(rocket_logo_annotation)\n",
    "\n",
    "fig.update_layout(\n",
    "    width=1000,\n",
    "    height=500,\n",
    "    autosize=False,\n",
    "    margin=dict(l=50, r=50, t=100, b=100),  # Adjust margins as needed\n",
    ")\n"
   ]
  },
  {
   "cell_type": "code",
   "execution_count": 69,
   "id": "f40938de-4007-4be1-92ea-6450d1612416",
   "metadata": {},
   "outputs": [
    {
     "data": {
      "application/vnd.plotly.v1+json": {
       "config": {
        "plotlyServerURL": "https://plot.ly"
       },
       "data": [
        {
         "fill": "toself",
         "hovertemplate": "X=%{r}<br>cluster_top_words=%{theta}<extra></extra>",
         "legendgroup": "",
         "line": {
          "color": "#636efa",
          "dash": "solid"
         },
         "marker": {
          "symbol": "circle"
         },
         "mode": "lines",
         "name": "",
         "r": [
          -6.0247321128845215,
          7.186489105224609,
          9.778787612915039,
          -3.514988899230957,
          -5.589098930358887,
          -3.0735559463500977,
          -7.345540523529053,
          -7.528951168060303,
          2.8490490913391113,
          -2.8192455768585205,
          -7.134093761444092,
          7.157840728759766,
          -2.9959428310394287,
          -5.1803388595581055,
          3.5161020755767822,
          9.742386817932129,
          0.44470933079719543,
          -3.033620595932007,
          -3.578404188156128,
          5.559676647186279,
          3.9567015171051025,
          -3.6880393028259277,
          7.348479747772217,
          3.861314535140991,
          8.074373245239258,
          9.643012046813965,
          6.650816440582275,
          -3.7242071628570557,
          -8.130401611328125,
          -8.406763076782227,
          5.51326322555542,
          9.592059135437012,
          5.448360919952393,
          8.732414245605469,
          9.845481872558594,
          1.8596690893173218,
          -13.256300926208496,
          -3.4958720207214355,
          7.6660566329956055,
          3.5215790271759033,
          3.553880453109741,
          5.109486103057861,
          -2.995333671569824,
          -5.005626201629639,
          -8.15993595123291,
          -5.065016746520996,
          3.8043935298919678,
          2.9003195762634277,
          2.53979754447937,
          3.488837480545044,
          7.519372463226318,
          6.604638576507568,
          -5.308638572692871,
          3.9807631969451904,
          4.600812911987305,
          0.889123260974884,
          2.542231798171997,
          -5.102285385131836,
          9.552833557128906,
          -7.296236991882324,
          2.1703593730926514,
          4.849565505981445,
          5.64491605758667,
          3.3005268573760986,
          -8.406583786010742,
          5.158554553985596,
          -3.285999059677124,
          -2.882406234741211,
          6.541582107543945,
          20.103286743164062,
          5.7495880126953125,
          5.671202182769775,
          5.502754211425781,
          8.851531982421875,
          4.621335029602051,
          7.682657718658447,
          0.5990052223205566,
          -3.613969087600708,
          9.109431266784668,
          8.641474723815918,
          1.5897046327590942,
          6.422974586486816,
          5.360763072967529,
          2.474334955215454,
          6.765591144561768,
          6.910088062286377,
          8.770249366760254,
          4.593074321746826,
          6.857954978942871,
          10.418914794921875,
          5.798868656158447,
          6.623491287231445,
          7.5460052490234375,
          -7.308396339416504,
          8.033769607543945,
          -3.758751392364502,
          2.7359137535095215,
          5.154542446136475,
          5.092594146728516,
          3.544569730758667,
          6.755486011505127,
          6.3961334228515625,
          6.232245445251465,
          3.8000190258026123,
          -5.0056610107421875,
          -7.343116283416748,
          5.5786848068237305,
          2.574028730392456,
          -5.182093620300293,
          9.005701065063477,
          2.11582350730896,
          4.271235942840576,
          3.804324150085449,
          4.968902587890625,
          4.601435661315918,
          -7.055095195770264,
          20.10332489013672,
          9.836624145507812,
          3.055201530456543,
          5.115471363067627,
          8.74146842956543,
          3.8089311122894287,
          17.6181640625,
          8.885834693908691,
          6.6360979080200195,
          6.806694030761719,
          10.395255088806152,
          4.8893280029296875,
          -3.4958744049072266,
          4.359745979309082,
          0.4414394199848175,
          3.7014963626861572,
          2.8705813884735107,
          7.325812339782715,
          4.279111862182617,
          5.8900532722473145,
          -7.154700756072998,
          7.289262294769287,
          0.4695545434951782,
          8.711607933044434,
          2.6989965438842773,
          2.7013745307922363,
          3.8702661991119385,
          3.8772215843200684,
          2.5285532474517822,
          5.4168219566345215,
          17.61815643310547,
          20.103309631347656,
          -7.137058258056641,
          10.43453598022461,
          7.334673881530762,
          2.7411742210388184,
          3.282991647720337,
          5.519061088562012,
          5.662172317504883,
          4.267069339752197,
          8.77851390838623,
          -13.256231307983398,
          -6.089962482452393,
          3.814807891845703,
          9.78165054321289,
          -3.4519290924072266,
          -5.498816013336182,
          -3.1191349029541016,
          -7.435102462768555,
          -7.518147945404053,
          2.6822891235351562,
          -2.8305842876434326,
          -7.134408950805664,
          7.173539638519287,
          -2.9964871406555176,
          -5.182803153991699,
          3.616827964782715,
          9.741479873657227,
          0.49110835790634155,
          -3.0513408184051514,
          -3.6049416065216064,
          5.8219828605651855,
          3.981440782546997,
          -3.693549633026123,
          3.8015236854553223,
          3.86572003364563,
          8.11960220336914,
          9.609780311584473,
          6.6521196365356445,
          -3.7210140228271484,
          -8.112813949584961,
          -8.406637191772461,
          5.46406888961792,
          9.595575332641602,
          5.45773983001709,
          8.600458145141602,
          9.802361488342285,
          1.8659865856170654,
          -13.256237983703613,
          -3.495861768722534,
          7.709023475646973,
          3.5658507347106934,
          3.567920207977295,
          5.1352081298828125,
          -2.9950032234191895,
          -5.0056939125061035,
          -8.183122634887695,
          -5.12933874130249,
          3.811497449874878,
          3.1123828887939453,
          2.4870657920837402,
          3.5009217262268066,
          7.482763767242432,
          6.643491268157959,
          -5.373167037963867,
          4.01036262512207,
          4.6583781242370605,
          0.801504373550415,
          2.514075994491577,
          -5.084409713745117,
          9.5905179977417,
          -7.14398193359375,
          2.4096882343292236,
          4.750192165374756,
          5.7069597244262695,
          3.2597527503967285,
          -8.406652450561523,
          5.170372486114502,
          -3.2997560501098633,
          -2.8813869953155518,
          6.524079322814941,
          20.10334587097168,
          5.705257892608643,
          5.673341274261475,
          5.497016906738281,
          8.970044136047363,
          4.623547077178955,
          7.739704608917236,
          0.5585922002792358,
          -3.604001045227051,
          9.077728271484375,
          8.606907844543457,
          1.6217819452285767,
          6.421625137329102,
          5.3972649574279785,
          2.4339349269866943,
          6.726351737976074,
          6.899169445037842,
          8.785781860351562,
          4.566636562347412,
          6.827725887298584,
          10.430573463439941,
          5.80494499206543,
          6.6421051025390625,
          7.486374378204346,
          -7.156042098999023,
          8.035032272338867,
          -3.623410224914551,
          2.683936834335327,
          5.119645118713379,
          5.090346336364746,
          3.6208033561706543,
          6.728513717651367,
          6.31948184967041,
          6.292450428009033,
          3.7997865676879883,
          -5.0056562423706055,
          -7.279965400695801,
          5.577079772949219,
          2.5787367820739746,
          -5.1701884269714355,
          9.021930694580078,
          2.049720048904419,
          4.319500923156738,
          3.6942379474639893,
          4.946640491485596,
          4.624423503875732,
          -7.118053436279297,
          20.103469848632812,
          9.831843376159668,
          2.974259376525879,
          5.124138355255127,
          8.742218971252441,
          3.8086347579956055,
          17.618160247802734,
          8.925661087036133,
          6.647976398468018,
          6.845074653625488,
          10.409663200378418,
          4.888043403625488,
          -3.495901346206665,
          4.4111528396606445,
          0.4814431071281433,
          3.7048287391662598,
          2.88686466217041,
          7.329484939575195,
          4.342939376831055,
          5.9602179527282715,
          -7.25048828125,
          7.323042869567871,
          0.44477126002311707,
          -6.0247321128845215
         ],
         "showlegend": false,
         "subplot": "polar",
         "theta": [
          "cloud software looking cofound architect solutions security devops programmer skilled firm saas join city planner urban computing company expert engineer",
          "ai voice specialist recognition marketing ethics firm artificial seeking intelligence cofound researcher speech machine company analytics learning tech language natural",
          "designer game app developer cofounder web design studio business assistant development virtual centered human interior gaming seeking ux based video",
          "company marine tech expert start personalized drone technologist edtech cybersecurity medicine smart security looking seeking join searching logistics fashion veterinary",
          "cloud software looking cofound architect solutions security devops programmer skilled firm saas join city planner urban computing company expert engineer",
          "retail online business manager sales commerce specialist startup marketing founder cofound tech need find start experienced savvy project expert seeking",
          "fintech blockchain advisor financial legal expert firm technology join cofound personal finance cryptocurrency developer startup insurance insurtech contract looking company",
          "fintech blockchain advisor financial legal expert firm technology join cofound personal finance cryptocurrency developer startup insurance insurtech contract looking company",
          "health healthcare company tech telemedicine specialist public mobile expert looking telecommunications telecom start recruitment hr wanting seeking bi data join",
          "retail online business manager sales commerce specialist startup marketing founder cofound tech need find start experienced savvy project expert seeking",
          "fintech blockchain advisor financial legal expert firm technology join cofound personal finance cryptocurrency developer startup insurance insurtech contract looking company",
          "ai voice specialist recognition marketing ethics firm artificial seeking intelligence cofound researcher speech machine company analytics learning tech language natural",
          "company marine tech expert start personalized drone technologist edtech cybersecurity medicine smart security looking seeking join searching logistics fashion veterinary",
          "cloud software looking cofound architect solutions security devops programmer skilled firm saas join city planner urban computing company expert engineer",
          "smart home founder partner iot device specialist company ai experienced start technology scientist data seeking researcher searching looking wanting digital",
          "designer game app developer cofounder web design studio business assistant development virtual centered human interior gaming seeking ux based video",
          "data analyst geospatial database climate start time real big looking administrator analytics tech company firm wanting seeking cofound energy editing",
          "retail online business manager sales commerce specialist startup marketing founder cofound tech need find start experienced savvy project expert seeking",
          "hospitality innovation market digital strategist manager agency social media product seeking new venture cofound cofounder research consultancy marketing researcher tech",
          "cofound tech scientist startup seeking behavioral firm biology cofounder company bioinformatics wanting chemical exoskeleton materials neuromorphic consumer biotech computational mental",
          "robotics augmented ar reality 3d printing specialist looking start startup gesture vr social company engineer developer cofound business seeking tech",
          "hospitality innovation market digital strategist manager agency social media product seeking new venture cofound cofounder research consultancy marketing researcher tech",
          "ai voice specialist recognition marketing ethics firm artificial seeking intelligence cofound researcher speech machine company analytics learning tech language natural",
          "robotics augmented ar reality 3d printing specialist looking start startup gesture vr social company engineer developer cofound business seeking tech",
          "energy renewable green electromobility proptech startup grid building expert searching sustainability cofound smart clean looking specialist tech storage seeking start",
          "designer game app developer cofounder web design studio business assistant development virtual centered human interior gaming seeking ux based video",
          "content vr sports creator media start virtual reality company pet expert technology looking seeking studio tech cofound startup searching developer",
          "hospitality innovation market digital strategist manager agency social media product seeking new venture cofound cofounder research consultancy marketing researcher tech",
          "company marine tech expert start personalized drone technologist edtech cybersecurity medicine smart security looking seeking join searching logistics fashion veterinary",
          "company marine tech expert start personalized drone technologist edtech cybersecurity medicine smart security looking seeking join searching logistics fashion veterinary",
          "engineer photonics hardware construction tech start disaster recovery company network networking need looking expert seeking specialist search firm wanting educational",
          "designer game app developer cofounder web design studio business assistant development virtual centered human interior gaming seeking ux based video",
          "engineer photonics hardware construction tech start disaster recovery company network networking need looking expert seeking specialist search firm wanting educational",
          "energy renewable green electromobility proptech startup grid building expert searching sustainability cofound smart clean looking specialist tech storage seeking start",
          "designer game app developer cofounder web design studio business assistant development virtual centered human interior gaming seeking ux based video",
          "health healthcare company tech telemedicine specialist public mobile expert looking telecommunications telecom start recruitment hr wanting seeking bi data join",
          "company marine tech expert start personalized drone technologist edtech cybersecurity medicine smart security looking seeking join searching logistics fashion veterinary",
          "privacy quantum cryptography data firm looking specialist advocate computing cofound tech join expert search company start need searching edtech educational",
          "ai voice specialist recognition marketing ethics firm artificial seeking intelligence cofound researcher speech machine company analytics learning tech language natural",
          "automotive auto vehicle autonomous engineer developer firm software transportation tech cofound searching startup cofounder search looking seeking start editing web",
          "smart home founder partner iot device specialist company ai experienced start technology scientist data seeking researcher searching looking wanting digital",
          "wearable cultural creative sensory tech device developer startup technologist seeking medtech medical cofound firm looking technology start join specialist company",
          "company marine tech expert start personalized drone technologist edtech cybersecurity medicine smart security looking seeking join searching logistics fashion veterinary",
          "privacy quantum cryptography data firm looking specialist advocate computing cofound tech join expert search company start need searching edtech educational",
          "company marine tech expert start personalized drone technologist edtech cybersecurity medicine smart security looking seeking join searching logistics fashion veterinary",
          "cloud software looking cofound architect solutions security devops programmer skilled firm saas join city planner urban computing company expert engineer",
          "robotics augmented ar reality 3d printing specialist looking start startup gesture vr social company engineer developer cofound business seeking tech",
          "space aerospace satellite technology tech engineer startup expert tourism company resource cofound exploration exoplanet looking habitat join start seeking scientist",
          "space aerospace satellite technology tech engineer startup expert tourism company resource cofound exploration exoplanet looking habitat join start seeking scientist",
          "automotive auto vehicle autonomous engineer developer firm software transportation tech cofound searching startup cofounder search looking seeking start editing web",
          "ai voice specialist recognition marketing ethics firm artificial seeking intelligence cofound researcher speech machine company analytics learning tech language natural",
          "content vr sports creator media start virtual reality company pet expert technology looking seeking studio tech cofound startup searching developer",
          "cloud software looking cofound architect solutions security devops programmer skilled firm saas join city planner urban computing company expert engineer",
          "robotics augmented ar reality 3d printing specialist looking start startup gesture vr social company engineer developer cofound business seeking tech",
          "holography computer vision biometrics biometric expert technology company start searching cofounder startup seeking tech need looking cofound editing energy engineer",
          "data analyst geospatial database climate start time real big looking administrator analytics tech company firm wanting seeking cofound energy editing",
          "health healthcare company tech telemedicine specialist public mobile expert looking telecommunications telecom start recruitment hr wanting seeking bi data join",
          "cloud software looking cofound architect solutions security devops programmer skilled firm saas join city planner urban computing company expert engineer",
          "designer game app developer cofounder web design studio business assistant development virtual centered human interior gaming seeking ux based video",
          "fintech blockchain advisor financial legal expert firm technology join cofound personal finance cryptocurrency developer startup insurance insurtech contract looking company",
          "health healthcare company tech telemedicine specialist public mobile expert looking telecommunications telecom start recruitment hr wanting seeking bi data join",
          "wearable cultural creative sensory tech device developer startup technologist seeking medtech medical cofound firm looking technology start join specialist company",
          "engineer photonics hardware construction tech start disaster recovery company network networking need looking expert seeking specialist search firm wanting educational",
          "automotive auto vehicle autonomous engineer developer firm software transportation tech cofound searching startup cofounder search looking seeking start editing web",
          "company marine tech expert start personalized drone technologist edtech cybersecurity medicine smart security looking seeking join searching logistics fashion veterinary",
          "wearable cultural creative sensory tech device developer startup technologist seeking medtech medical cofound firm looking technology start join specialist company",
          "hospitality innovation market digital strategist manager agency social media product seeking new venture cofound cofounder research consultancy marketing researcher tech",
          "retail online business manager sales commerce specialist startup marketing founder cofound tech need find start experienced savvy project expert seeking",
          "nuclear environmental tech start estate company real hydrology water engineer expert civic looking searching wanting technology need seeking economics educational",
          "microbial agtech precision agricultural specialist tech agriculture start startup company technologist looking need hydroponics farming cell bioenergy fuel urban cofound",
          "cofound tech scientist startup seeking behavioral firm biology cofounder company bioinformatics wanting chemical exoskeleton materials neuromorphic consumer biotech computational mental",
          "cofound tech scientist startup seeking behavioral firm biology cofounder company bioinformatics wanting chemical exoskeleton materials neuromorphic consumer biotech computational mental",
          "cofound tech scientist startup seeking behavioral firm biology cofounder company bioinformatics wanting chemical exoskeleton materials neuromorphic consumer biotech computational mental",
          "energy renewable green electromobility proptech startup grid building expert searching sustainability cofound smart clean looking specialist tech storage seeking start",
          "holography computer vision biometrics biometric expert technology company start searching cofounder startup seeking tech need looking cofound editing energy engineer",
          "ai voice specialist recognition marketing ethics firm artificial seeking intelligence cofound researcher speech machine company analytics learning tech language natural",
          "data analyst geospatial database climate start time real big looking administrator analytics tech company firm wanting seeking cofound energy editing",
          "hospitality innovation market digital strategist manager agency social media product seeking new venture cofound cofounder research consultancy marketing researcher tech",
          "designer game app developer cofounder web design studio business assistant development virtual centered human interior gaming seeking ux based video",
          "energy renewable green electromobility proptech startup grid building expert searching sustainability cofound smart clean looking specialist tech storage seeking start",
          "health healthcare company tech telemedicine specialist public mobile expert looking telecommunications telecom start recruitment hr wanting seeking bi data join",
          "cofound tech scientist startup seeking behavioral firm biology cofounder company bioinformatics wanting chemical exoskeleton materials neuromorphic consumer biotech computational mental",
          "engineer photonics hardware construction tech start disaster recovery company network networking need looking expert seeking specialist search firm wanting educational",
          "space aerospace satellite technology tech engineer startup expert tourism company resource cofound exploration exoplanet looking habitat join start seeking scientist",
          "nuclear environmental tech start estate company real hydrology water engineer expert civic looking searching wanting technology need seeking economics educational",
          "cofound tech scientist startup seeking behavioral firm biology cofounder company bioinformatics wanting chemical exoskeleton materials neuromorphic consumer biotech computational mental",
          "company marine tech expert start personalized drone technologist edtech cybersecurity medicine smart security looking seeking join searching logistics fashion veterinary",
          "company marine tech expert start personalized drone technologist edtech cybersecurity medicine smart security looking seeking join searching logistics fashion veterinary",
          "content vr sports creator media start virtual reality company pet expert technology looking seeking studio tech cofound startup searching developer",
          "company marine tech expert start personalized drone technologist edtech cybersecurity medicine smart security looking seeking join searching logistics fashion veterinary",
          "cofound tech scientist startup seeking behavioral firm biology cofounder company bioinformatics wanting chemical exoskeleton materials neuromorphic consumer biotech computational mental",
          "content vr sports creator media start virtual reality company pet expert technology looking seeking studio tech cofound startup searching developer",
          "ai voice specialist recognition marketing ethics firm artificial seeking intelligence cofound researcher speech machine company analytics learning tech language natural",
          "fintech blockchain advisor financial legal expert firm technology join cofound personal finance cryptocurrency developer startup insurance insurtech contract looking company",
          "energy renewable green electromobility proptech startup grid building expert searching sustainability cofound smart clean looking specialist tech storage seeking start",
          "hospitality innovation market digital strategist manager agency social media product seeking new venture cofound cofounder research consultancy marketing researcher tech",
          "health healthcare company tech telemedicine specialist public mobile expert looking telecommunications telecom start recruitment hr wanting seeking bi data join",
          "cofound tech scientist startup seeking behavioral firm biology cofounder company bioinformatics wanting chemical exoskeleton materials neuromorphic consumer biotech computational mental",
          "company marine tech expert start personalized drone technologist edtech cybersecurity medicine smart security looking seeking join searching logistics fashion veterinary",
          "cofound tech scientist startup seeking behavioral firm biology cofounder company bioinformatics wanting chemical exoskeleton materials neuromorphic consumer biotech computational mental",
          "nuclear environmental tech start estate company real hydrology water engineer expert civic looking searching wanting technology need seeking economics educational",
          "cofound tech scientist startup seeking behavioral firm biology cofounder company bioinformatics wanting chemical exoskeleton materials neuromorphic consumer biotech computational mental",
          "nuclear environmental tech start estate company real hydrology water engineer expert civic looking searching wanting technology need seeking economics educational",
          "wearable cultural creative sensory tech device developer startup technologist seeking medtech medical cofound firm looking technology start join specialist company",
          "privacy quantum cryptography data firm looking specialist advocate computing cofound tech join expert search company start need searching edtech educational",
          "fintech blockchain advisor financial legal expert firm technology join cofound personal finance cryptocurrency developer startup insurance insurtech contract looking company",
          "engineer photonics hardware construction tech start disaster recovery company network networking need looking expert seeking specialist search firm wanting educational",
          "health healthcare company tech telemedicine specialist public mobile expert looking telecommunications telecom start recruitment hr wanting seeking bi data join",
          "cloud software looking cofound architect solutions security devops programmer skilled firm saas join city planner urban computing company expert engineer",
          "energy renewable green electromobility proptech startup grid building expert searching sustainability cofound smart clean looking specialist tech storage seeking start",
          "health healthcare company tech telemedicine specialist public mobile expert looking telecommunications telecom start recruitment hr wanting seeking bi data join",
          "cofound tech scientist startup seeking behavioral firm biology cofounder company bioinformatics wanting chemical exoskeleton materials neuromorphic consumer biotech computational mental",
          "cofound tech scientist startup seeking behavioral firm biology cofounder company bioinformatics wanting chemical exoskeleton materials neuromorphic consumer biotech computational mental",
          "cofound tech scientist startup seeking behavioral firm biology cofounder company bioinformatics wanting chemical exoskeleton materials neuromorphic consumer biotech computational mental",
          "company marine tech expert start personalized drone technologist edtech cybersecurity medicine smart security looking seeking join searching logistics fashion veterinary",
          "fintech blockchain advisor financial legal expert firm technology join cofound personal finance cryptocurrency developer startup insurance insurtech contract looking company",
          "microbial agtech precision agricultural specialist tech agriculture start startup company technologist looking need hydroponics farming cell bioenergy fuel urban cofound",
          "designer game app developer cofounder web design studio business assistant development virtual centered human interior gaming seeking ux based video",
          "company marine tech expert start personalized drone technologist edtech cybersecurity medicine smart security looking seeking join searching logistics fashion veterinary",
          "content vr sports creator media start virtual reality company pet expert technology looking seeking studio tech cofound startup searching developer",
          "company marine tech expert start personalized drone technologist edtech cybersecurity medicine smart security looking seeking join searching logistics fashion veterinary",
          "wearable cultural creative sensory tech device developer startup technologist seeking medtech medical cofound firm looking technology start join specialist company",
          "microbial agtech precision agricultural specialist tech agriculture start startup company technologist looking need hydroponics farming cell bioenergy fuel urban cofound",
          "energy renewable green electromobility proptech startup grid building expert searching sustainability cofound smart clean looking specialist tech storage seeking start",
          "nuclear environmental tech start estate company real hydrology water engineer expert civic looking searching wanting technology need seeking economics educational",
          "cofound tech scientist startup seeking behavioral firm biology cofounder company bioinformatics wanting chemical exoskeleton materials neuromorphic consumer biotech computational mental",
          "company marine tech expert start personalized drone technologist edtech cybersecurity medicine smart security looking seeking join searching logistics fashion veterinary",
          "holography computer vision biometrics biometric expert technology company start searching cofounder startup seeking tech need looking cofound editing energy engineer",
          "privacy quantum cryptography data firm looking specialist advocate computing cofound tech join expert search company start need searching edtech educational",
          "cofound tech scientist startup seeking behavioral firm biology cofounder company bioinformatics wanting chemical exoskeleton materials neuromorphic consumer biotech computational mental",
          "data analyst geospatial database climate start time real big looking administrator analytics tech company firm wanting seeking cofound energy editing",
          "automotive auto vehicle autonomous engineer developer firm software transportation tech cofound searching startup cofounder search looking seeking start editing web",
          "health healthcare company tech telemedicine specialist public mobile expert looking telecommunications telecom start recruitment hr wanting seeking bi data join",
          "ai voice specialist recognition marketing ethics firm artificial seeking intelligence cofound researcher speech machine company analytics learning tech language natural",
          "wearable cultural creative sensory tech device developer startup technologist seeking medtech medical cofound firm looking technology start join specialist company",
          "cofound tech scientist startup seeking behavioral firm biology cofounder company bioinformatics wanting chemical exoskeleton materials neuromorphic consumer biotech computational mental",
          "fintech blockchain advisor financial legal expert firm technology join cofound personal finance cryptocurrency developer startup insurance insurtech contract looking company",
          "ai voice specialist recognition marketing ethics firm artificial seeking intelligence cofound researcher speech machine company analytics learning tech language natural",
          "data analyst geospatial database climate start time real big looking administrator analytics tech company firm wanting seeking cofound energy editing",
          "energy renewable green electromobility proptech startup grid building expert searching sustainability cofound smart clean looking specialist tech storage seeking start",
          "space aerospace satellite technology tech engineer startup expert tourism company resource cofound exploration exoplanet looking habitat join start seeking scientist",
          "space aerospace satellite technology tech engineer startup expert tourism company resource cofound exploration exoplanet looking habitat join start seeking scientist",
          "robotics augmented ar reality 3d printing specialist looking start startup gesture vr social company engineer developer cofound business seeking tech",
          "robotics augmented ar reality 3d printing specialist looking start startup gesture vr social company engineer developer cofound business seeking tech",
          "space aerospace satellite technology tech engineer startup expert tourism company resource cofound exploration exoplanet looking habitat join start seeking scientist",
          "cofound tech scientist startup seeking behavioral firm biology cofounder company bioinformatics wanting chemical exoskeleton materials neuromorphic consumer biotech computational mental",
          "microbial agtech precision agricultural specialist tech agriculture start startup company technologist looking need hydroponics farming cell bioenergy fuel urban cofound",
          "microbial agtech precision agricultural specialist tech agriculture start startup company technologist looking need hydroponics farming cell bioenergy fuel urban cofound",
          "fintech blockchain advisor financial legal expert firm technology join cofound personal finance cryptocurrency developer startup insurance insurtech contract looking company",
          "company marine tech expert start personalized drone technologist edtech cybersecurity medicine smart security looking seeking join searching logistics fashion veterinary",
          "ai voice specialist recognition marketing ethics firm artificial seeking intelligence cofound researcher speech machine company analytics learning tech language natural",
          "space aerospace satellite technology tech engineer startup expert tourism company resource cofound exploration exoplanet looking habitat join start seeking scientist",
          "company marine tech expert start personalized drone technologist edtech cybersecurity medicine smart security looking seeking join searching logistics fashion veterinary",
          "cofound tech scientist startup seeking behavioral firm biology cofounder company bioinformatics wanting chemical exoskeleton materials neuromorphic consumer biotech computational mental",
          "cofound tech scientist startup seeking behavioral firm biology cofounder company bioinformatics wanting chemical exoskeleton materials neuromorphic consumer biotech computational mental",
          "cofound tech scientist startup seeking behavioral firm biology cofounder company bioinformatics wanting chemical exoskeleton materials neuromorphic consumer biotech computational mental",
          "company marine tech expert start personalized drone technologist edtech cybersecurity medicine smart security looking seeking join searching logistics fashion veterinary",
          "company marine tech expert start personalized drone technologist edtech cybersecurity medicine smart security looking seeking join searching logistics fashion veterinary",
          "cloud software looking cofound architect solutions security devops programmer skilled firm saas join city planner urban computing company expert engineer",
          "smart home founder partner iot device specialist company ai experienced start technology scientist data seeking researcher searching looking wanting digital",
          "designer game app developer cofounder web design studio business assistant development virtual centered human interior gaming seeking ux based video",
          "retail online business manager sales commerce specialist startup marketing founder cofound tech need find start experienced savvy project expert seeking",
          "cloud software looking cofound architect solutions security devops programmer skilled firm saas join city planner urban computing company expert engineer",
          "retail online business manager sales commerce specialist startup marketing founder cofound tech need find start experienced savvy project expert seeking",
          "fintech blockchain advisor financial legal expert firm technology join cofound personal finance cryptocurrency developer startup insurance insurtech contract looking company",
          "fintech blockchain advisor financial legal expert firm technology join cofound personal finance cryptocurrency developer startup insurance insurtech contract looking company",
          "health healthcare company tech telemedicine specialist public mobile expert looking telecommunications telecom start recruitment hr wanting seeking bi data join",
          "retail online business manager sales commerce specialist startup marketing founder cofound tech need find start experienced savvy project expert seeking",
          "fintech blockchain advisor financial legal expert firm technology join cofound personal finance cryptocurrency developer startup insurance insurtech contract looking company",
          "ai voice specialist recognition marketing ethics firm artificial seeking intelligence cofound researcher speech machine company analytics learning tech language natural",
          "company marine tech expert start personalized drone technologist edtech cybersecurity medicine smart security looking seeking join searching logistics fashion veterinary",
          "cloud software looking cofound architect solutions security devops programmer skilled firm saas join city planner urban computing company expert engineer",
          "smart home founder partner iot device specialist company ai experienced start technology scientist data seeking researcher searching looking wanting digital",
          "designer game app developer cofounder web design studio business assistant development virtual centered human interior gaming seeking ux based video",
          "data analyst geospatial database climate start time real big looking administrator analytics tech company firm wanting seeking cofound energy editing",
          "retail online business manager sales commerce specialist startup marketing founder cofound tech need find start experienced savvy project expert seeking",
          "hospitality innovation market digital strategist manager agency social media product seeking new venture cofound cofounder research consultancy marketing researcher tech",
          "cofound tech scientist startup seeking behavioral firm biology cofounder company bioinformatics wanting chemical exoskeleton materials neuromorphic consumer biotech computational mental",
          "robotics augmented ar reality 3d printing specialist looking start startup gesture vr social company engineer developer cofound business seeking tech",
          "hospitality innovation market digital strategist manager agency social media product seeking new venture cofound cofounder research consultancy marketing researcher tech",
          "smart home founder partner iot device specialist company ai experienced start technology scientist data seeking researcher searching looking wanting digital",
          "robotics augmented ar reality 3d printing specialist looking start startup gesture vr social company engineer developer cofound business seeking tech",
          "energy renewable green electromobility proptech startup grid building expert searching sustainability cofound smart clean looking specialist tech storage seeking start",
          "designer game app developer cofounder web design studio business assistant development virtual centered human interior gaming seeking ux based video",
          "content vr sports creator media start virtual reality company pet expert technology looking seeking studio tech cofound startup searching developer",
          "hospitality innovation market digital strategist manager agency social media product seeking new venture cofound cofounder research consultancy marketing researcher tech",
          "company marine tech expert start personalized drone technologist edtech cybersecurity medicine smart security looking seeking join searching logistics fashion veterinary",
          "company marine tech expert start personalized drone technologist edtech cybersecurity medicine smart security looking seeking join searching logistics fashion veterinary",
          "engineer photonics hardware construction tech start disaster recovery company network networking need looking expert seeking specialist search firm wanting educational",
          "designer game app developer cofounder web design studio business assistant development virtual centered human interior gaming seeking ux based video",
          "engineer photonics hardware construction tech start disaster recovery company network networking need looking expert seeking specialist search firm wanting educational",
          "energy renewable green electromobility proptech startup grid building expert searching sustainability cofound smart clean looking specialist tech storage seeking start",
          "designer game app developer cofounder web design studio business assistant development virtual centered human interior gaming seeking ux based video",
          "health healthcare company tech telemedicine specialist public mobile expert looking telecommunications telecom start recruitment hr wanting seeking bi data join",
          "company marine tech expert start personalized drone technologist edtech cybersecurity medicine smart security looking seeking join searching logistics fashion veterinary",
          "privacy quantum cryptography data firm looking specialist advocate computing cofound tech join expert search company start need searching edtech educational",
          "ai voice specialist recognition marketing ethics firm artificial seeking intelligence cofound researcher speech machine company analytics learning tech language natural",
          "automotive auto vehicle autonomous engineer developer firm software transportation tech cofound searching startup cofounder search looking seeking start editing web",
          "smart home founder partner iot device specialist company ai experienced start technology scientist data seeking researcher searching looking wanting digital",
          "wearable cultural creative sensory tech device developer startup technologist seeking medtech medical cofound firm looking technology start join specialist company",
          "company marine tech expert start personalized drone technologist edtech cybersecurity medicine smart security looking seeking join searching logistics fashion veterinary",
          "privacy quantum cryptography data firm looking specialist advocate computing cofound tech join expert search company start need searching edtech educational",
          "company marine tech expert start personalized drone technologist edtech cybersecurity medicine smart security looking seeking join searching logistics fashion veterinary",
          "cloud software looking cofound architect solutions security devops programmer skilled firm saas join city planner urban computing company expert engineer",
          "robotics augmented ar reality 3d printing specialist looking start startup gesture vr social company engineer developer cofound business seeking tech",
          "space aerospace satellite technology tech engineer startup expert tourism company resource cofound exploration exoplanet looking habitat join start seeking scientist",
          "space aerospace satellite technology tech engineer startup expert tourism company resource cofound exploration exoplanet looking habitat join start seeking scientist",
          "automotive auto vehicle autonomous engineer developer firm software transportation tech cofound searching startup cofounder search looking seeking start editing web",
          "ai voice specialist recognition marketing ethics firm artificial seeking intelligence cofound researcher speech machine company analytics learning tech language natural",
          "content vr sports creator media start virtual reality company pet expert technology looking seeking studio tech cofound startup searching developer",
          "cloud software looking cofound architect solutions security devops programmer skilled firm saas join city planner urban computing company expert engineer",
          "robotics augmented ar reality 3d printing specialist looking start startup gesture vr social company engineer developer cofound business seeking tech",
          "holography computer vision biometrics biometric expert technology company start searching cofounder startup seeking tech need looking cofound editing energy engineer",
          "data analyst geospatial database climate start time real big looking administrator analytics tech company firm wanting seeking cofound energy editing",
          "health healthcare company tech telemedicine specialist public mobile expert looking telecommunications telecom start recruitment hr wanting seeking bi data join",
          "cloud software looking cofound architect solutions security devops programmer skilled firm saas join city planner urban computing company expert engineer",
          "designer game app developer cofounder web design studio business assistant development virtual centered human interior gaming seeking ux based video",
          "fintech blockchain advisor financial legal expert firm technology join cofound personal finance cryptocurrency developer startup insurance insurtech contract looking company",
          "health healthcare company tech telemedicine specialist public mobile expert looking telecommunications telecom start recruitment hr wanting seeking bi data join",
          "wearable cultural creative sensory tech device developer startup technologist seeking medtech medical cofound firm looking technology start join specialist company",
          "engineer photonics hardware construction tech start disaster recovery company network networking need looking expert seeking specialist search firm wanting educational",
          "company marine tech expert start personalized drone technologist edtech cybersecurity medicine smart security looking seeking join searching logistics fashion veterinary",
          "company marine tech expert start personalized drone technologist edtech cybersecurity medicine smart security looking seeking join searching logistics fashion veterinary",
          "wearable cultural creative sensory tech device developer startup technologist seeking medtech medical cofound firm looking technology start join specialist company",
          "hospitality innovation market digital strategist manager agency social media product seeking new venture cofound cofounder research consultancy marketing researcher tech",
          "retail online business manager sales commerce specialist startup marketing founder cofound tech need find start experienced savvy project expert seeking",
          "nuclear environmental tech start estate company real hydrology water engineer expert civic looking searching wanting technology need seeking economics educational",
          "microbial agtech precision agricultural specialist tech agriculture start startup company technologist looking need hydroponics farming cell bioenergy fuel urban cofound",
          "cofound tech scientist startup seeking behavioral firm biology cofounder company bioinformatics wanting chemical exoskeleton materials neuromorphic consumer biotech computational mental",
          "cofound tech scientist startup seeking behavioral firm biology cofounder company bioinformatics wanting chemical exoskeleton materials neuromorphic consumer biotech computational mental",
          "cofound tech scientist startup seeking behavioral firm biology cofounder company bioinformatics wanting chemical exoskeleton materials neuromorphic consumer biotech computational mental",
          "energy renewable green electromobility proptech startup grid building expert searching sustainability cofound smart clean looking specialist tech storage seeking start",
          "holography computer vision biometrics biometric expert technology company start searching cofounder startup seeking tech need looking cofound editing energy engineer",
          "ai voice specialist recognition marketing ethics firm artificial seeking intelligence cofound researcher speech machine company analytics learning tech language natural",
          "data analyst geospatial database climate start time real big looking administrator analytics tech company firm wanting seeking cofound energy editing",
          "hospitality innovation market digital strategist manager agency social media product seeking new venture cofound cofounder research consultancy marketing researcher tech",
          "designer game app developer cofounder web design studio business assistant development virtual centered human interior gaming seeking ux based video",
          "energy renewable green electromobility proptech startup grid building expert searching sustainability cofound smart clean looking specialist tech storage seeking start",
          "health healthcare company tech telemedicine specialist public mobile expert looking telecommunications telecom start recruitment hr wanting seeking bi data join",
          "cofound tech scientist startup seeking behavioral firm biology cofounder company bioinformatics wanting chemical exoskeleton materials neuromorphic consumer biotech computational mental",
          "engineer photonics hardware construction tech start disaster recovery company network networking need looking expert seeking specialist search firm wanting educational",
          "space aerospace satellite technology tech engineer startup expert tourism company resource cofound exploration exoplanet looking habitat join start seeking scientist",
          "nuclear environmental tech start estate company real hydrology water engineer expert civic looking searching wanting technology need seeking economics educational",
          "cofound tech scientist startup seeking behavioral firm biology cofounder company bioinformatics wanting chemical exoskeleton materials neuromorphic consumer biotech computational mental",
          "company marine tech expert start personalized drone technologist edtech cybersecurity medicine smart security looking seeking join searching logistics fashion veterinary",
          "company marine tech expert start personalized drone technologist edtech cybersecurity medicine smart security looking seeking join searching logistics fashion veterinary",
          "content vr sports creator media start virtual reality company pet expert technology looking seeking studio tech cofound startup searching developer",
          "company marine tech expert start personalized drone technologist edtech cybersecurity medicine smart security looking seeking join searching logistics fashion veterinary",
          "cofound tech scientist startup seeking behavioral firm biology cofounder company bioinformatics wanting chemical exoskeleton materials neuromorphic consumer biotech computational mental",
          "content vr sports creator media start virtual reality company pet expert technology looking seeking studio tech cofound startup searching developer",
          "ai voice specialist recognition marketing ethics firm artificial seeking intelligence cofound researcher speech machine company analytics learning tech language natural",
          "fintech blockchain advisor financial legal expert firm technology join cofound personal finance cryptocurrency developer startup insurance insurtech contract looking company",
          "energy renewable green electromobility proptech startup grid building expert searching sustainability cofound smart clean looking specialist tech storage seeking start",
          "hospitality innovation market digital strategist manager agency social media product seeking new venture cofound cofounder research consultancy marketing researcher tech",
          "health healthcare company tech telemedicine specialist public mobile expert looking telecommunications telecom start recruitment hr wanting seeking bi data join",
          "cofound tech scientist startup seeking behavioral firm biology cofounder company bioinformatics wanting chemical exoskeleton materials neuromorphic consumer biotech computational mental",
          "company marine tech expert start personalized drone technologist edtech cybersecurity medicine smart security looking seeking join searching logistics fashion veterinary",
          "cofound tech scientist startup seeking behavioral firm biology cofounder company bioinformatics wanting chemical exoskeleton materials neuromorphic consumer biotech computational mental",
          "nuclear environmental tech start estate company real hydrology water engineer expert civic looking searching wanting technology need seeking economics educational",
          "cofound tech scientist startup seeking behavioral firm biology cofounder company bioinformatics wanting chemical exoskeleton materials neuromorphic consumer biotech computational mental",
          "nuclear environmental tech start estate company real hydrology water engineer expert civic looking searching wanting technology need seeking economics educational",
          "wearable cultural creative sensory tech device developer startup technologist seeking medtech medical cofound firm looking technology start join specialist company",
          "privacy quantum cryptography data firm looking specialist advocate computing cofound tech join expert search company start need searching edtech educational",
          "fintech blockchain advisor financial legal expert firm technology join cofound personal finance cryptocurrency developer startup insurance insurtech contract looking company",
          "engineer photonics hardware construction tech start disaster recovery company network networking need looking expert seeking specialist search firm wanting educational",
          "health healthcare company tech telemedicine specialist public mobile expert looking telecommunications telecom start recruitment hr wanting seeking bi data join",
          "cloud software looking cofound architect solutions security devops programmer skilled firm saas join city planner urban computing company expert engineer",
          "energy renewable green electromobility proptech startup grid building expert searching sustainability cofound smart clean looking specialist tech storage seeking start",
          "health healthcare company tech telemedicine specialist public mobile expert looking telecommunications telecom start recruitment hr wanting seeking bi data join",
          "cofound tech scientist startup seeking behavioral firm biology cofounder company bioinformatics wanting chemical exoskeleton materials neuromorphic consumer biotech computational mental",
          "cofound tech scientist startup seeking behavioral firm biology cofounder company bioinformatics wanting chemical exoskeleton materials neuromorphic consumer biotech computational mental",
          "cofound tech scientist startup seeking behavioral firm biology cofounder company bioinformatics wanting chemical exoskeleton materials neuromorphic consumer biotech computational mental",
          "company marine tech expert start personalized drone technologist edtech cybersecurity medicine smart security looking seeking join searching logistics fashion veterinary",
          "fintech blockchain advisor financial legal expert firm technology join cofound personal finance cryptocurrency developer startup insurance insurtech contract looking company",
          "microbial agtech precision agricultural specialist tech agriculture start startup company technologist looking need hydroponics farming cell bioenergy fuel urban cofound",
          "designer game app developer cofounder web design studio business assistant development virtual centered human interior gaming seeking ux based video",
          "health healthcare company tech telemedicine specialist public mobile expert looking telecommunications telecom start recruitment hr wanting seeking bi data join",
          "company marine tech expert start personalized drone technologist edtech cybersecurity medicine smart security looking seeking join searching logistics fashion veterinary",
          "company marine tech expert start personalized drone technologist edtech cybersecurity medicine smart security looking seeking join searching logistics fashion veterinary",
          "wearable cultural creative sensory tech device developer startup technologist seeking medtech medical cofound firm looking technology start join specialist company",
          "microbial agtech precision agricultural specialist tech agriculture start startup company technologist looking need hydroponics farming cell bioenergy fuel urban cofound",
          "energy renewable green electromobility proptech startup grid building expert searching sustainability cofound smart clean looking specialist tech storage seeking start",
          "company marine tech expert start personalized drone technologist edtech cybersecurity medicine smart security looking seeking join searching logistics fashion veterinary",
          "cofound tech scientist startup seeking behavioral firm biology cofounder company bioinformatics wanting chemical exoskeleton materials neuromorphic consumer biotech computational mental",
          "company marine tech expert start personalized drone technologist edtech cybersecurity medicine smart security looking seeking join searching logistics fashion veterinary",
          "holography computer vision biometrics biometric expert technology company start searching cofounder startup seeking tech need looking cofound editing energy engineer",
          "privacy quantum cryptography data firm looking specialist advocate computing cofound tech join expert search company start need searching edtech educational",
          "cofound tech scientist startup seeking behavioral firm biology cofounder company bioinformatics wanting chemical exoskeleton materials neuromorphic consumer biotech computational mental",
          "data analyst geospatial database climate start time real big looking administrator analytics tech company firm wanting seeking cofound energy editing",
          "automotive auto vehicle autonomous engineer developer firm software transportation tech cofound searching startup cofounder search looking seeking start editing web",
          "health healthcare company tech telemedicine specialist public mobile expert looking telecommunications telecom start recruitment hr wanting seeking bi data join",
          "ai voice specialist recognition marketing ethics firm artificial seeking intelligence cofound researcher speech machine company analytics learning tech language natural",
          "wearable cultural creative sensory tech device developer startup technologist seeking medtech medical cofound firm looking technology start join specialist company",
          "cofound tech scientist startup seeking behavioral firm biology cofounder company bioinformatics wanting chemical exoskeleton materials neuromorphic consumer biotech computational mental",
          "fintech blockchain advisor financial legal expert firm technology join cofound personal finance cryptocurrency developer startup insurance insurtech contract looking company",
          "ai voice specialist recognition marketing ethics firm artificial seeking intelligence cofound researcher speech machine company analytics learning tech language natural",
          "data analyst geospatial database climate start time real big looking administrator analytics tech company firm wanting seeking cofound energy editing",
          "cloud software looking cofound architect solutions security devops programmer skilled firm saas join city planner urban computing company expert engineer"
         ],
         "type": "scatterpolar"
        }
       ],
       "layout": {
        "autosize": true,
        "legend": {
         "tracegroupgap": 0
        },
        "margin": {
         "t": 60
        },
        "polar": {
         "angularaxis": {
          "direction": "clockwise",
          "rotation": 90,
          "type": "category"
         },
         "domain": {
          "x": [
           0,
           1
          ],
          "y": [
           0,
           1
          ]
         },
         "radialaxis": {
          "angle": 0,
          "autorange": false,
          "range": [
           -13.256300926208496,
           20.103469848632812
          ],
          "type": "linear"
         }
        },
        "template": {
         "data": {
          "bar": [
           {
            "error_x": {
             "color": "#2a3f5f"
            },
            "error_y": {
             "color": "#2a3f5f"
            },
            "marker": {
             "line": {
              "color": "#E5ECF6",
              "width": 0.5
             },
             "pattern": {
              "fillmode": "overlay",
              "size": 10,
              "solidity": 0.2
             }
            },
            "type": "bar"
           }
          ],
          "barpolar": [
           {
            "marker": {
             "line": {
              "color": "#E5ECF6",
              "width": 0.5
             },
             "pattern": {
              "fillmode": "overlay",
              "size": 10,
              "solidity": 0.2
             }
            },
            "type": "barpolar"
           }
          ],
          "carpet": [
           {
            "aaxis": {
             "endlinecolor": "#2a3f5f",
             "gridcolor": "white",
             "linecolor": "white",
             "minorgridcolor": "white",
             "startlinecolor": "#2a3f5f"
            },
            "baxis": {
             "endlinecolor": "#2a3f5f",
             "gridcolor": "white",
             "linecolor": "white",
             "minorgridcolor": "white",
             "startlinecolor": "#2a3f5f"
            },
            "type": "carpet"
           }
          ],
          "choropleth": [
           {
            "colorbar": {
             "outlinewidth": 0,
             "ticks": ""
            },
            "type": "choropleth"
           }
          ],
          "contour": [
           {
            "colorbar": {
             "outlinewidth": 0,
             "ticks": ""
            },
            "colorscale": [
             [
              0,
              "#0d0887"
             ],
             [
              0.1111111111111111,
              "#46039f"
             ],
             [
              0.2222222222222222,
              "#7201a8"
             ],
             [
              0.3333333333333333,
              "#9c179e"
             ],
             [
              0.4444444444444444,
              "#bd3786"
             ],
             [
              0.5555555555555556,
              "#d8576b"
             ],
             [
              0.6666666666666666,
              "#ed7953"
             ],
             [
              0.7777777777777778,
              "#fb9f3a"
             ],
             [
              0.8888888888888888,
              "#fdca26"
             ],
             [
              1,
              "#f0f921"
             ]
            ],
            "type": "contour"
           }
          ],
          "contourcarpet": [
           {
            "colorbar": {
             "outlinewidth": 0,
             "ticks": ""
            },
            "type": "contourcarpet"
           }
          ],
          "heatmap": [
           {
            "colorbar": {
             "outlinewidth": 0,
             "ticks": ""
            },
            "colorscale": [
             [
              0,
              "#0d0887"
             ],
             [
              0.1111111111111111,
              "#46039f"
             ],
             [
              0.2222222222222222,
              "#7201a8"
             ],
             [
              0.3333333333333333,
              "#9c179e"
             ],
             [
              0.4444444444444444,
              "#bd3786"
             ],
             [
              0.5555555555555556,
              "#d8576b"
             ],
             [
              0.6666666666666666,
              "#ed7953"
             ],
             [
              0.7777777777777778,
              "#fb9f3a"
             ],
             [
              0.8888888888888888,
              "#fdca26"
             ],
             [
              1,
              "#f0f921"
             ]
            ],
            "type": "heatmap"
           }
          ],
          "heatmapgl": [
           {
            "colorbar": {
             "outlinewidth": 0,
             "ticks": ""
            },
            "colorscale": [
             [
              0,
              "#0d0887"
             ],
             [
              0.1111111111111111,
              "#46039f"
             ],
             [
              0.2222222222222222,
              "#7201a8"
             ],
             [
              0.3333333333333333,
              "#9c179e"
             ],
             [
              0.4444444444444444,
              "#bd3786"
             ],
             [
              0.5555555555555556,
              "#d8576b"
             ],
             [
              0.6666666666666666,
              "#ed7953"
             ],
             [
              0.7777777777777778,
              "#fb9f3a"
             ],
             [
              0.8888888888888888,
              "#fdca26"
             ],
             [
              1,
              "#f0f921"
             ]
            ],
            "type": "heatmapgl"
           }
          ],
          "histogram": [
           {
            "marker": {
             "pattern": {
              "fillmode": "overlay",
              "size": 10,
              "solidity": 0.2
             }
            },
            "type": "histogram"
           }
          ],
          "histogram2d": [
           {
            "colorbar": {
             "outlinewidth": 0,
             "ticks": ""
            },
            "colorscale": [
             [
              0,
              "#0d0887"
             ],
             [
              0.1111111111111111,
              "#46039f"
             ],
             [
              0.2222222222222222,
              "#7201a8"
             ],
             [
              0.3333333333333333,
              "#9c179e"
             ],
             [
              0.4444444444444444,
              "#bd3786"
             ],
             [
              0.5555555555555556,
              "#d8576b"
             ],
             [
              0.6666666666666666,
              "#ed7953"
             ],
             [
              0.7777777777777778,
              "#fb9f3a"
             ],
             [
              0.8888888888888888,
              "#fdca26"
             ],
             [
              1,
              "#f0f921"
             ]
            ],
            "type": "histogram2d"
           }
          ],
          "histogram2dcontour": [
           {
            "colorbar": {
             "outlinewidth": 0,
             "ticks": ""
            },
            "colorscale": [
             [
              0,
              "#0d0887"
             ],
             [
              0.1111111111111111,
              "#46039f"
             ],
             [
              0.2222222222222222,
              "#7201a8"
             ],
             [
              0.3333333333333333,
              "#9c179e"
             ],
             [
              0.4444444444444444,
              "#bd3786"
             ],
             [
              0.5555555555555556,
              "#d8576b"
             ],
             [
              0.6666666666666666,
              "#ed7953"
             ],
             [
              0.7777777777777778,
              "#fb9f3a"
             ],
             [
              0.8888888888888888,
              "#fdca26"
             ],
             [
              1,
              "#f0f921"
             ]
            ],
            "type": "histogram2dcontour"
           }
          ],
          "mesh3d": [
           {
            "colorbar": {
             "outlinewidth": 0,
             "ticks": ""
            },
            "type": "mesh3d"
           }
          ],
          "parcoords": [
           {
            "line": {
             "colorbar": {
              "outlinewidth": 0,
              "ticks": ""
             }
            },
            "type": "parcoords"
           }
          ],
          "pie": [
           {
            "automargin": true,
            "type": "pie"
           }
          ],
          "scatter": [
           {
            "fillpattern": {
             "fillmode": "overlay",
             "size": 10,
             "solidity": 0.2
            },
            "type": "scatter"
           }
          ],
          "scatter3d": [
           {
            "line": {
             "colorbar": {
              "outlinewidth": 0,
              "ticks": ""
             }
            },
            "marker": {
             "colorbar": {
              "outlinewidth": 0,
              "ticks": ""
             }
            },
            "type": "scatter3d"
           }
          ],
          "scattercarpet": [
           {
            "marker": {
             "colorbar": {
              "outlinewidth": 0,
              "ticks": ""
             }
            },
            "type": "scattercarpet"
           }
          ],
          "scattergeo": [
           {
            "marker": {
             "colorbar": {
              "outlinewidth": 0,
              "ticks": ""
             }
            },
            "type": "scattergeo"
           }
          ],
          "scattergl": [
           {
            "marker": {
             "colorbar": {
              "outlinewidth": 0,
              "ticks": ""
             }
            },
            "type": "scattergl"
           }
          ],
          "scattermapbox": [
           {
            "marker": {
             "colorbar": {
              "outlinewidth": 0,
              "ticks": ""
             }
            },
            "type": "scattermapbox"
           }
          ],
          "scatterpolar": [
           {
            "marker": {
             "colorbar": {
              "outlinewidth": 0,
              "ticks": ""
             }
            },
            "type": "scatterpolar"
           }
          ],
          "scatterpolargl": [
           {
            "marker": {
             "colorbar": {
              "outlinewidth": 0,
              "ticks": ""
             }
            },
            "type": "scatterpolargl"
           }
          ],
          "scatterternary": [
           {
            "marker": {
             "colorbar": {
              "outlinewidth": 0,
              "ticks": ""
             }
            },
            "type": "scatterternary"
           }
          ],
          "surface": [
           {
            "colorbar": {
             "outlinewidth": 0,
             "ticks": ""
            },
            "colorscale": [
             [
              0,
              "#0d0887"
             ],
             [
              0.1111111111111111,
              "#46039f"
             ],
             [
              0.2222222222222222,
              "#7201a8"
             ],
             [
              0.3333333333333333,
              "#9c179e"
             ],
             [
              0.4444444444444444,
              "#bd3786"
             ],
             [
              0.5555555555555556,
              "#d8576b"
             ],
             [
              0.6666666666666666,
              "#ed7953"
             ],
             [
              0.7777777777777778,
              "#fb9f3a"
             ],
             [
              0.8888888888888888,
              "#fdca26"
             ],
             [
              1,
              "#f0f921"
             ]
            ],
            "type": "surface"
           }
          ],
          "table": [
           {
            "cells": {
             "fill": {
              "color": "#EBF0F8"
             },
             "line": {
              "color": "white"
             }
            },
            "header": {
             "fill": {
              "color": "#C8D4E3"
             },
             "line": {
              "color": "white"
             }
            },
            "type": "table"
           }
          ]
         },
         "layout": {
          "annotationdefaults": {
           "arrowcolor": "#2a3f5f",
           "arrowhead": 0,
           "arrowwidth": 1
          },
          "autotypenumbers": "strict",
          "coloraxis": {
           "colorbar": {
            "outlinewidth": 0,
            "ticks": ""
           }
          },
          "colorscale": {
           "diverging": [
            [
             0,
             "#8e0152"
            ],
            [
             0.1,
             "#c51b7d"
            ],
            [
             0.2,
             "#de77ae"
            ],
            [
             0.3,
             "#f1b6da"
            ],
            [
             0.4,
             "#fde0ef"
            ],
            [
             0.5,
             "#f7f7f7"
            ],
            [
             0.6,
             "#e6f5d0"
            ],
            [
             0.7,
             "#b8e186"
            ],
            [
             0.8,
             "#7fbc41"
            ],
            [
             0.9,
             "#4d9221"
            ],
            [
             1,
             "#276419"
            ]
           ],
           "sequential": [
            [
             0,
             "#0d0887"
            ],
            [
             0.1111111111111111,
             "#46039f"
            ],
            [
             0.2222222222222222,
             "#7201a8"
            ],
            [
             0.3333333333333333,
             "#9c179e"
            ],
            [
             0.4444444444444444,
             "#bd3786"
            ],
            [
             0.5555555555555556,
             "#d8576b"
            ],
            [
             0.6666666666666666,
             "#ed7953"
            ],
            [
             0.7777777777777778,
             "#fb9f3a"
            ],
            [
             0.8888888888888888,
             "#fdca26"
            ],
            [
             1,
             "#f0f921"
            ]
           ],
           "sequentialminus": [
            [
             0,
             "#0d0887"
            ],
            [
             0.1111111111111111,
             "#46039f"
            ],
            [
             0.2222222222222222,
             "#7201a8"
            ],
            [
             0.3333333333333333,
             "#9c179e"
            ],
            [
             0.4444444444444444,
             "#bd3786"
            ],
            [
             0.5555555555555556,
             "#d8576b"
            ],
            [
             0.6666666666666666,
             "#ed7953"
            ],
            [
             0.7777777777777778,
             "#fb9f3a"
            ],
            [
             0.8888888888888888,
             "#fdca26"
            ],
            [
             1,
             "#f0f921"
            ]
           ]
          },
          "colorway": [
           "#636efa",
           "#EF553B",
           "#00cc96",
           "#ab63fa",
           "#FFA15A",
           "#19d3f3",
           "#FF6692",
           "#B6E880",
           "#FF97FF",
           "#FECB52"
          ],
          "font": {
           "color": "#2a3f5f"
          },
          "geo": {
           "bgcolor": "white",
           "lakecolor": "white",
           "landcolor": "#E5ECF6",
           "showlakes": true,
           "showland": true,
           "subunitcolor": "white"
          },
          "hoverlabel": {
           "align": "left"
          },
          "hovermode": "closest",
          "mapbox": {
           "style": "light"
          },
          "paper_bgcolor": "white",
          "plot_bgcolor": "#E5ECF6",
          "polar": {
           "angularaxis": {
            "gridcolor": "white",
            "linecolor": "white",
            "ticks": ""
           },
           "bgcolor": "#E5ECF6",
           "radialaxis": {
            "gridcolor": "white",
            "linecolor": "white",
            "ticks": ""
           }
          },
          "scene": {
           "xaxis": {
            "backgroundcolor": "#E5ECF6",
            "gridcolor": "white",
            "gridwidth": 2,
            "linecolor": "white",
            "showbackground": true,
            "ticks": "",
            "zerolinecolor": "white"
           },
           "yaxis": {
            "backgroundcolor": "#E5ECF6",
            "gridcolor": "white",
            "gridwidth": 2,
            "linecolor": "white",
            "showbackground": true,
            "ticks": "",
            "zerolinecolor": "white"
           },
           "zaxis": {
            "backgroundcolor": "#E5ECF6",
            "gridcolor": "white",
            "gridwidth": 2,
            "linecolor": "white",
            "showbackground": true,
            "ticks": "",
            "zerolinecolor": "white"
           }
          },
          "shapedefaults": {
           "line": {
            "color": "#2a3f5f"
           }
          },
          "ternary": {
           "aaxis": {
            "gridcolor": "white",
            "linecolor": "white",
            "ticks": ""
           },
           "baxis": {
            "gridcolor": "white",
            "linecolor": "white",
            "ticks": ""
           },
           "bgcolor": "#E5ECF6",
           "caxis": {
            "gridcolor": "white",
            "linecolor": "white",
            "ticks": ""
           }
          },
          "title": {
           "x": 0.05
          },
          "xaxis": {
           "automargin": true,
           "gridcolor": "white",
           "linecolor": "white",
           "ticks": "",
           "title": {
            "standoff": 15
           },
           "zerolinecolor": "white",
           "zerolinewidth": 2
          },
          "yaxis": {
           "automargin": true,
           "gridcolor": "white",
           "linecolor": "white",
           "ticks": "",
           "title": {
            "standoff": 15
           },
           "zerolinecolor": "white",
           "zerolinewidth": 2
          }
         }
        }
       }
      },
      "image/png": "[encoded data removed]",
      "text/html": [
       "<div>                            <div id=\"0e00bb5c-9291-40f4-8fe9-23e7582bf3e3\" class=\"plotly-graph-div\" style=\"height:525px; width:100%;\"></div>            <script type=\"text/javascript\">                require([\"plotly\"], function(Plotly) {                    window.PLOTLYENV=window.PLOTLYENV || {};                                    if (document.getElementById(\"0e00bb5c-9291-40f4-8fe9-23e7582bf3e3\")) {                    Plotly.newPlot(                        \"0e00bb5c-9291-40f4-8fe9-23e7582bf3e3\",                        [{\"hovertemplate\":\"X=%{r}\\u003cbr\\u003ecluster_top_words=%{theta}\\u003cextra\\u003e\\u003c\\u002fextra\\u003e\",\"legendgroup\":\"\",\"line\":{\"color\":\"#636efa\",\"dash\":\"solid\"},\"marker\":{\"symbol\":\"circle\"},\"mode\":\"lines\",\"name\":\"\",\"r\":[-6.0247321128845215,7.186489105224609,9.778787612915039,-3.514988899230957,-5.589098930358887,-3.0735559463500977,-7.345540523529053,-7.528951168060303,2.8490490913391113,-2.8192455768585205,-7.134093761444092,7.157840728759766,-2.9959428310394287,-5.1803388595581055,3.5161020755767822,9.742386817932129,0.44470933079719543,-3.033620595932007,-3.578404188156128,5.559676647186279,3.9567015171051025,-3.6880393028259277,7.348479747772217,3.861314535140991,8.074373245239258,9.643012046813965,6.650816440582275,-3.7242071628570557,-8.130401611328125,-8.406763076782227,5.51326322555542,9.592059135437012,5.448360919952393,8.732414245605469,9.845481872558594,1.8596690893173218,-13.256300926208496,-3.4958720207214355,7.6660566329956055,3.5215790271759033,3.553880453109741,5.109486103057861,-2.995333671569824,-5.005626201629639,-8.15993595123291,-5.065016746520996,3.8043935298919678,2.9003195762634277,2.53979754447937,3.488837480545044,7.519372463226318,6.604638576507568,-5.308638572692871,3.9807631969451904,4.600812911987305,0.889123260974884,2.542231798171997,-5.102285385131836,9.552833557128906,-7.296236991882324,2.1703593730926514,4.849565505981445,5.64491605758667,3.3005268573760986,-8.406583786010742,5.158554553985596,-3.285999059677124,-2.882406234741211,6.541582107543945,20.103286743164062,5.7495880126953125,5.671202182769775,5.502754211425781,8.851531982421875,4.621335029602051,7.682657718658447,0.5990052223205566,-3.613969087600708,9.109431266784668,8.641474723815918,1.5897046327590942,6.422974586486816,5.360763072967529,2.474334955215454,6.765591144561768,6.910088062286377,8.770249366760254,4.593074321746826,6.857954978942871,10.418914794921875,5.798868656158447,6.623491287231445,7.5460052490234375,-7.308396339416504,8.033769607543945,-3.758751392364502,2.7359137535095215,5.154542446136475,5.092594146728516,3.544569730758667,6.755486011505127,6.3961334228515625,6.232245445251465,3.8000190258026123,-5.0056610107421875,-7.343116283416748,5.5786848068237305,2.574028730392456,-5.182093620300293,9.005701065063477,2.11582350730896,4.271235942840576,3.804324150085449,4.968902587890625,4.601435661315918,-7.055095195770264,20.10332489013672,9.836624145507812,3.055201530456543,5.115471363067627,8.74146842956543,3.8089311122894287,17.6181640625,8.885834693908691,6.6360979080200195,6.806694030761719,10.395255088806152,4.8893280029296875,-3.4958744049072266,4.359745979309082,0.4414394199848175,3.7014963626861572,2.8705813884735107,7.325812339782715,4.279111862182617,5.8900532722473145,-7.154700756072998,7.289262294769287,0.4695545434951782,8.711607933044434,2.6989965438842773,2.7013745307922363,3.8702661991119385,3.8772215843200684,2.5285532474517822,5.4168219566345215,17.61815643310547,20.103309631347656,-7.137058258056641,10.43453598022461,7.334673881530762,2.7411742210388184,3.282991647720337,5.519061088562012,5.662172317504883,4.267069339752197,8.77851390838623,-13.256231307983398,-6.089962482452393,3.814807891845703,9.78165054321289,-3.4519290924072266,-5.498816013336182,-3.1191349029541016,-7.435102462768555,-7.518147945404053,2.6822891235351562,-2.8305842876434326,-7.134408950805664,7.173539638519287,-2.9964871406555176,-5.182803153991699,3.616827964782715,9.741479873657227,0.49110835790634155,-3.0513408184051514,-3.6049416065216064,5.8219828605651855,3.981440782546997,-3.693549633026123,3.8015236854553223,3.86572003364563,8.11960220336914,9.609780311584473,6.6521196365356445,-3.7210140228271484,-8.112813949584961,-8.406637191772461,5.46406888961792,9.595575332641602,5.45773983001709,8.600458145141602,9.802361488342285,1.8659865856170654,-13.256237983703613,-3.495861768722534,7.709023475646973,3.5658507347106934,3.567920207977295,5.1352081298828125,-2.9950032234191895,-5.0056939125061035,-8.183122634887695,-5.12933874130249,3.811497449874878,3.1123828887939453,2.4870657920837402,3.5009217262268066,7.482763767242432,6.643491268157959,-5.373167037963867,4.01036262512207,4.6583781242370605,0.801504373550415,2.514075994491577,-5.084409713745117,9.5905179977417,-7.14398193359375,2.4096882343292236,4.750192165374756,5.7069597244262695,3.2597527503967285,-8.406652450561523,5.170372486114502,-3.2997560501098633,-2.8813869953155518,6.524079322814941,20.10334587097168,5.705257892608643,5.673341274261475,5.497016906738281,8.970044136047363,4.623547077178955,7.739704608917236,0.5585922002792358,-3.604001045227051,9.077728271484375,8.606907844543457,1.6217819452285767,6.421625137329102,5.3972649574279785,2.4339349269866943,6.726351737976074,6.899169445037842,8.785781860351562,4.566636562347412,6.827725887298584,10.430573463439941,5.80494499206543,6.6421051025390625,7.486374378204346,-7.156042098999023,8.035032272338867,-3.623410224914551,2.683936834335327,5.119645118713379,5.090346336364746,3.6208033561706543,6.728513717651367,6.31948184967041,6.292450428009033,3.7997865676879883,-5.0056562423706055,-7.279965400695801,5.577079772949219,2.5787367820739746,-5.1701884269714355,9.021930694580078,2.049720048904419,4.319500923156738,3.6942379474639893,4.946640491485596,4.624423503875732,-7.118053436279297,20.103469848632812,9.831843376159668,2.974259376525879,5.124138355255127,8.742218971252441,3.8086347579956055,17.618160247802734,8.925661087036133,6.647976398468018,6.845074653625488,10.409663200378418,4.888043403625488,-3.495901346206665,4.4111528396606445,0.4814431071281433,3.7048287391662598,2.88686466217041,7.329484939575195,4.342939376831055,5.9602179527282715,-7.25048828125,7.323042869567871,0.44477126002311707,-6.0247321128845215],\"showlegend\":false,\"subplot\":\"polar\",\"theta\":[\"cloud software looking cofound architect solutions security devops programmer skilled firm saas join city planner urban computing company expert engineer\",\"ai voice specialist recognition marketing ethics firm artificial seeking intelligence cofound researcher speech machine company analytics learning tech language natural\",\"designer game app developer cofounder web design studio business assistant development virtual centered human interior gaming seeking ux based video\",\"company marine tech expert start personalized drone technologist edtech cybersecurity medicine smart security looking seeking join searching logistics fashion veterinary\",\"cloud software looking cofound architect solutions security devops programmer skilled firm saas join city planner urban computing company expert engineer\",\"retail online business manager sales commerce specialist startup marketing founder cofound tech need find start experienced savvy project expert seeking\",\"fintech blockchain advisor financial legal expert firm technology join cofound personal finance cryptocurrency developer startup insurance insurtech contract looking company\",\"fintech blockchain advisor financial legal expert firm technology join cofound personal finance cryptocurrency developer startup insurance insurtech contract looking company\",\"health healthcare company tech telemedicine specialist public mobile expert looking telecommunications telecom start recruitment hr wanting seeking bi data join\",\"retail online business manager sales commerce specialist startup marketing founder cofound tech need find start experienced savvy project expert seeking\",\"fintech blockchain advisor financial legal expert firm technology join cofound personal finance cryptocurrency developer startup insurance insurtech contract looking company\",\"ai voice specialist recognition marketing ethics firm artificial seeking intelligence cofound researcher speech machine company analytics learning tech language natural\",\"company marine tech expert start personalized drone technologist edtech cybersecurity medicine smart security looking seeking join searching logistics fashion veterinary\",\"cloud software looking cofound architect solutions security devops programmer skilled firm saas join city planner urban computing company expert engineer\",\"smart home founder partner iot device specialist company ai experienced start technology scientist data seeking researcher searching looking wanting digital\",\"designer game app developer cofounder web design studio business assistant development virtual centered human interior gaming seeking ux based video\",\"data analyst geospatial database climate start time real big looking administrator analytics tech company firm wanting seeking cofound energy editing\",\"retail online business manager sales commerce specialist startup marketing founder cofound tech need find start experienced savvy project expert seeking\",\"hospitality innovation market digital strategist manager agency social media product seeking new venture cofound cofounder research consultancy marketing researcher tech\",\"cofound tech scientist startup seeking behavioral firm biology cofounder company bioinformatics wanting chemical exoskeleton materials neuromorphic consumer biotech computational mental\",\"robotics augmented ar reality 3d printing specialist looking start startup gesture vr social company engineer developer cofound business seeking tech\",\"hospitality innovation market digital strategist manager agency social media product seeking new venture cofound cofounder research consultancy marketing researcher tech\",\"ai voice specialist recognition marketing ethics firm artificial seeking intelligence cofound researcher speech machine company analytics learning tech language natural\",\"robotics augmented ar reality 3d printing specialist looking start startup gesture vr social company engineer developer cofound business seeking tech\",\"energy renewable green electromobility proptech startup grid building expert searching sustainability cofound smart clean looking specialist tech storage seeking start\",\"designer game app developer cofounder web design studio business assistant development virtual centered human interior gaming seeking ux based video\",\"content vr sports creator media start virtual reality company pet expert technology looking seeking studio tech cofound startup searching developer\",\"hospitality innovation market digital strategist manager agency social media product seeking new venture cofound cofounder research consultancy marketing researcher tech\",\"company marine tech expert start personalized drone technologist edtech cybersecurity medicine smart security looking seeking join searching logistics fashion veterinary\",\"company marine tech expert start personalized drone technologist edtech cybersecurity medicine smart security looking seeking join searching logistics fashion veterinary\",\"engineer photonics hardware construction tech start disaster recovery company network networking need looking expert seeking specialist search firm wanting educational\",\"designer game app developer cofounder web design studio business assistant development virtual centered human interior gaming seeking ux based video\",\"engineer photonics hardware construction tech start disaster recovery company network networking need looking expert seeking specialist search firm wanting educational\",\"energy renewable green electromobility proptech startup grid building expert searching sustainability cofound smart clean looking specialist tech storage seeking start\",\"designer game app developer cofounder web design studio business assistant development virtual centered human interior gaming seeking ux based video\",\"health healthcare company tech telemedicine specialist public mobile expert looking telecommunications telecom start recruitment hr wanting seeking bi data join\",\"company marine tech expert start personalized drone technologist edtech cybersecurity medicine smart security looking seeking join searching logistics fashion veterinary\",\"privacy quantum cryptography data firm looking specialist advocate computing cofound tech join expert search company start need searching edtech educational\",\"ai voice specialist recognition marketing ethics firm artificial seeking intelligence cofound researcher speech machine company analytics learning tech language natural\",\"automotive auto vehicle autonomous engineer developer firm software transportation tech cofound searching startup cofounder search looking seeking start editing web\",\"smart home founder partner iot device specialist company ai experienced start technology scientist data seeking researcher searching looking wanting digital\",\"wearable cultural creative sensory tech device developer startup technologist seeking medtech medical cofound firm looking technology start join specialist company\",\"company marine tech expert start personalized drone technologist edtech cybersecurity medicine smart security looking seeking join searching logistics fashion veterinary\",\"privacy quantum cryptography data firm looking specialist advocate computing cofound tech join expert search company start need searching edtech educational\",\"company marine tech expert start personalized drone technologist edtech cybersecurity medicine smart security looking seeking join searching logistics fashion veterinary\",\"cloud software looking cofound architect solutions security devops programmer skilled firm saas join city planner urban computing company expert engineer\",\"robotics augmented ar reality 3d printing specialist looking start startup gesture vr social company engineer developer cofound business seeking tech\",\"space aerospace satellite technology tech engineer startup expert tourism company resource cofound exploration exoplanet looking habitat join start seeking scientist\",\"space aerospace satellite technology tech engineer startup expert tourism company resource cofound exploration exoplanet looking habitat join start seeking scientist\",\"automotive auto vehicle autonomous engineer developer firm software transportation tech cofound searching startup cofounder search looking seeking start editing web\",\"ai voice specialist recognition marketing ethics firm artificial seeking intelligence cofound researcher speech machine company analytics learning tech language natural\",\"content vr sports creator media start virtual reality company pet expert technology looking seeking studio tech cofound startup searching developer\",\"cloud software looking cofound architect solutions security devops programmer skilled firm saas join city planner urban computing company expert engineer\",\"robotics augmented ar reality 3d printing specialist looking start startup gesture vr social company engineer developer cofound business seeking tech\",\"holography computer vision biometrics biometric expert technology company start searching cofounder startup seeking tech need looking cofound editing energy engineer\",\"data analyst geospatial database climate start time real big looking administrator analytics tech company firm wanting seeking cofound energy editing\",\"health healthcare company tech telemedicine specialist public mobile expert looking telecommunications telecom start recruitment hr wanting seeking bi data join\",\"cloud software looking cofound architect solutions security devops programmer skilled firm saas join city planner urban computing company expert engineer\",\"designer game app developer cofounder web design studio business assistant development virtual centered human interior gaming seeking ux based video\",\"fintech blockchain advisor financial legal expert firm technology join cofound personal finance cryptocurrency developer startup insurance insurtech contract looking company\",\"health healthcare company tech telemedicine specialist public mobile expert looking telecommunications telecom start recruitment hr wanting seeking bi data join\",\"wearable cultural creative sensory tech device developer startup technologist seeking medtech medical cofound firm looking technology start join specialist company\",\"engineer photonics hardware construction tech start disaster recovery company network networking need looking expert seeking specialist search firm wanting educational\",\"automotive auto vehicle autonomous engineer developer firm software transportation tech cofound searching startup cofounder search looking seeking start editing web\",\"company marine tech expert start personalized drone technologist edtech cybersecurity medicine smart security looking seeking join searching logistics fashion veterinary\",\"wearable cultural creative sensory tech device developer startup technologist seeking medtech medical cofound firm looking technology start join specialist company\",\"hospitality innovation market digital strategist manager agency social media product seeking new venture cofound cofounder research consultancy marketing researcher tech\",\"retail online business manager sales commerce specialist startup marketing founder cofound tech need find start experienced savvy project expert seeking\",\"nuclear environmental tech start estate company real hydrology water engineer expert civic looking searching wanting technology need seeking economics educational\",\"microbial agtech precision agricultural specialist tech agriculture start startup company technologist looking need hydroponics farming cell bioenergy fuel urban cofound\",\"cofound tech scientist startup seeking behavioral firm biology cofounder company bioinformatics wanting chemical exoskeleton materials neuromorphic consumer biotech computational mental\",\"cofound tech scientist startup seeking behavioral firm biology cofounder company bioinformatics wanting chemical exoskeleton materials neuromorphic consumer biotech computational mental\",\"cofound tech scientist startup seeking behavioral firm biology cofounder company bioinformatics wanting chemical exoskeleton materials neuromorphic consumer biotech computational mental\",\"energy renewable green electromobility proptech startup grid building expert searching sustainability cofound smart clean looking specialist tech storage seeking start\",\"holography computer vision biometrics biometric expert technology company start searching cofounder startup seeking tech need looking cofound editing energy engineer\",\"ai voice specialist recognition marketing ethics firm artificial seeking intelligence cofound researcher speech machine company analytics learning tech language natural\",\"data analyst geospatial database climate start time real big looking administrator analytics tech company firm wanting seeking cofound energy editing\",\"hospitality innovation market digital strategist manager agency social media product seeking new venture cofound cofounder research consultancy marketing researcher tech\",\"designer game app developer cofounder web design studio business assistant development virtual centered human interior gaming seeking ux based video\",\"energy renewable green electromobility proptech startup grid building expert searching sustainability cofound smart clean looking specialist tech storage seeking start\",\"health healthcare company tech telemedicine specialist public mobile expert looking telecommunications telecom start recruitment hr wanting seeking bi data join\",\"cofound tech scientist startup seeking behavioral firm biology cofounder company bioinformatics wanting chemical exoskeleton materials neuromorphic consumer biotech computational mental\",\"engineer photonics hardware construction tech start disaster recovery company network networking need looking expert seeking specialist search firm wanting educational\",\"space aerospace satellite technology tech engineer startup expert tourism company resource cofound exploration exoplanet looking habitat join start seeking scientist\",\"nuclear environmental tech start estate company real hydrology water engineer expert civic looking searching wanting technology need seeking economics educational\",\"cofound tech scientist startup seeking behavioral firm biology cofounder company bioinformatics wanting chemical exoskeleton materials neuromorphic consumer biotech computational mental\",\"company marine tech expert start personalized drone technologist edtech cybersecurity medicine smart security looking seeking join searching logistics fashion veterinary\",\"company marine tech expert start personalized drone technologist edtech cybersecurity medicine smart security looking seeking join searching logistics fashion veterinary\",\"content vr sports creator media start virtual reality company pet expert technology looking seeking studio tech cofound startup searching developer\",\"company marine tech expert start personalized drone technologist edtech cybersecurity medicine smart security looking seeking join searching logistics fashion veterinary\",\"cofound tech scientist startup seeking behavioral firm biology cofounder company bioinformatics wanting chemical exoskeleton materials neuromorphic consumer biotech computational mental\",\"content vr sports creator media start virtual reality company pet expert technology looking seeking studio tech cofound startup searching developer\",\"ai voice specialist recognition marketing ethics firm artificial seeking intelligence cofound researcher speech machine company analytics learning tech language natural\",\"fintech blockchain advisor financial legal expert firm technology join cofound personal finance cryptocurrency developer startup insurance insurtech contract looking company\",\"energy renewable green electromobility proptech startup grid building expert searching sustainability cofound smart clean looking specialist tech storage seeking start\",\"hospitality innovation market digital strategist manager agency social media product seeking new venture cofound cofounder research consultancy marketing researcher tech\",\"health healthcare company tech telemedicine specialist public mobile expert looking telecommunications telecom start recruitment hr wanting seeking bi data join\",\"cofound tech scientist startup seeking behavioral firm biology cofounder company bioinformatics wanting chemical exoskeleton materials neuromorphic consumer biotech computational mental\",\"company marine tech expert start personalized drone technologist edtech cybersecurity medicine smart security looking seeking join searching logistics fashion veterinary\",\"cofound tech scientist startup seeking behavioral firm biology cofounder company bioinformatics wanting chemical exoskeleton materials neuromorphic consumer biotech computational mental\",\"nuclear environmental tech start estate company real hydrology water engineer expert civic looking searching wanting technology need seeking economics educational\",\"cofound tech scientist startup seeking behavioral firm biology cofounder company bioinformatics wanting chemical exoskeleton materials neuromorphic consumer biotech computational mental\",\"nuclear environmental tech start estate company real hydrology water engineer expert civic looking searching wanting technology need seeking economics educational\",\"wearable cultural creative sensory tech device developer startup technologist seeking medtech medical cofound firm looking technology start join specialist company\",\"privacy quantum cryptography data firm looking specialist advocate computing cofound tech join expert search company start need searching edtech educational\",\"fintech blockchain advisor financial legal expert firm technology join cofound personal finance cryptocurrency developer startup insurance insurtech contract looking company\",\"engineer photonics hardware construction tech start disaster recovery company network networking need looking expert seeking specialist search firm wanting educational\",\"health healthcare company tech telemedicine specialist public mobile expert looking telecommunications telecom start recruitment hr wanting seeking bi data join\",\"cloud software looking cofound architect solutions security devops programmer skilled firm saas join city planner urban computing company expert engineer\",\"energy renewable green electromobility proptech startup grid building expert searching sustainability cofound smart clean looking specialist tech storage seeking start\",\"health healthcare company tech telemedicine specialist public mobile expert looking telecommunications telecom start recruitment hr wanting seeking bi data join\",\"cofound tech scientist startup seeking behavioral firm biology cofounder company bioinformatics wanting chemical exoskeleton materials neuromorphic consumer biotech computational mental\",\"cofound tech scientist startup seeking behavioral firm biology cofounder company bioinformatics wanting chemical exoskeleton materials neuromorphic consumer biotech computational mental\",\"cofound tech scientist startup seeking behavioral firm biology cofounder company bioinformatics wanting chemical exoskeleton materials neuromorphic consumer biotech computational mental\",\"company marine tech expert start personalized drone technologist edtech cybersecurity medicine smart security looking seeking join searching logistics fashion veterinary\",\"fintech blockchain advisor financial legal expert firm technology join cofound personal finance cryptocurrency developer startup insurance insurtech contract looking company\",\"microbial agtech precision agricultural specialist tech agriculture start startup company technologist looking need hydroponics farming cell bioenergy fuel urban cofound\",\"designer game app developer cofounder web design studio business assistant development virtual centered human interior gaming seeking ux based video\",\"company marine tech expert start personalized drone technologist edtech cybersecurity medicine smart security looking seeking join searching logistics fashion veterinary\",\"content vr sports creator media start virtual reality company pet expert technology looking seeking studio tech cofound startup searching developer\",\"company marine tech expert start personalized drone technologist edtech cybersecurity medicine smart security looking seeking join searching logistics fashion veterinary\",\"wearable cultural creative sensory tech device developer startup technologist seeking medtech medical cofound firm looking technology start join specialist company\",\"microbial agtech precision agricultural specialist tech agriculture start startup company technologist looking need hydroponics farming cell bioenergy fuel urban cofound\",\"energy renewable green electromobility proptech startup grid building expert searching sustainability cofound smart clean looking specialist tech storage seeking start\",\"nuclear environmental tech start estate company real hydrology water engineer expert civic looking searching wanting technology need seeking economics educational\",\"cofound tech scientist startup seeking behavioral firm biology cofounder company bioinformatics wanting chemical exoskeleton materials neuromorphic consumer biotech computational mental\",\"company marine tech expert start personalized drone technologist edtech cybersecurity medicine smart security looking seeking join searching logistics fashion veterinary\",\"holography computer vision biometrics biometric expert technology company start searching cofounder startup seeking tech need looking cofound editing energy engineer\",\"privacy quantum cryptography data firm looking specialist advocate computing cofound tech join expert search company start need searching edtech educational\",\"cofound tech scientist startup seeking behavioral firm biology cofounder company bioinformatics wanting chemical exoskeleton materials neuromorphic consumer biotech computational mental\",\"data analyst geospatial database climate start time real big looking administrator analytics tech company firm wanting seeking cofound energy editing\",\"automotive auto vehicle autonomous engineer developer firm software transportation tech cofound searching startup cofounder search looking seeking start editing web\",\"health healthcare company tech telemedicine specialist public mobile expert looking telecommunications telecom start recruitment hr wanting seeking bi data join\",\"ai voice specialist recognition marketing ethics firm artificial seeking intelligence cofound researcher speech machine company analytics learning tech language natural\",\"wearable cultural creative sensory tech device developer startup technologist seeking medtech medical cofound firm looking technology start join specialist company\",\"cofound tech scientist startup seeking behavioral firm biology cofounder company bioinformatics wanting chemical exoskeleton materials neuromorphic consumer biotech computational mental\",\"fintech blockchain advisor financial legal expert firm technology join cofound personal finance cryptocurrency developer startup insurance insurtech contract looking company\",\"ai voice specialist recognition marketing ethics firm artificial seeking intelligence cofound researcher speech machine company analytics learning tech language natural\",\"data analyst geospatial database climate start time real big looking administrator analytics tech company firm wanting seeking cofound energy editing\",\"energy renewable green electromobility proptech startup grid building expert searching sustainability cofound smart clean looking specialist tech storage seeking start\",\"space aerospace satellite technology tech engineer startup expert tourism company resource cofound exploration exoplanet looking habitat join start seeking scientist\",\"space aerospace satellite technology tech engineer startup expert tourism company resource cofound exploration exoplanet looking habitat join start seeking scientist\",\"robotics augmented ar reality 3d printing specialist looking start startup gesture vr social company engineer developer cofound business seeking tech\",\"robotics augmented ar reality 3d printing specialist looking start startup gesture vr social company engineer developer cofound business seeking tech\",\"space aerospace satellite technology tech engineer startup expert tourism company resource cofound exploration exoplanet looking habitat join start seeking scientist\",\"cofound tech scientist startup seeking behavioral firm biology cofounder company bioinformatics wanting chemical exoskeleton materials neuromorphic consumer biotech computational mental\",\"microbial agtech precision agricultural specialist tech agriculture start startup company technologist looking need hydroponics farming cell bioenergy fuel urban cofound\",\"microbial agtech precision agricultural specialist tech agriculture start startup company technologist looking need hydroponics farming cell bioenergy fuel urban cofound\",\"fintech blockchain advisor financial legal expert firm technology join cofound personal finance cryptocurrency developer startup insurance insurtech contract looking company\",\"company marine tech expert start personalized drone technologist edtech cybersecurity medicine smart security looking seeking join searching logistics fashion veterinary\",\"ai voice specialist recognition marketing ethics firm artificial seeking intelligence cofound researcher speech machine company analytics learning tech language natural\",\"space aerospace satellite technology tech engineer startup expert tourism company resource cofound exploration exoplanet looking habitat join start seeking scientist\",\"company marine tech expert start personalized drone technologist edtech cybersecurity medicine smart security looking seeking join searching logistics fashion veterinary\",\"cofound tech scientist startup seeking behavioral firm biology cofounder company bioinformatics wanting chemical exoskeleton materials neuromorphic consumer biotech computational mental\",\"cofound tech scientist startup seeking behavioral firm biology cofounder company bioinformatics wanting chemical exoskeleton materials neuromorphic consumer biotech computational mental\",\"cofound tech scientist startup seeking behavioral firm biology cofounder company bioinformatics wanting chemical exoskeleton materials neuromorphic consumer biotech computational mental\",\"company marine tech expert start personalized drone technologist edtech cybersecurity medicine smart security looking seeking join searching logistics fashion veterinary\",\"company marine tech expert start personalized drone technologist edtech cybersecurity medicine smart security looking seeking join searching logistics fashion veterinary\",\"cloud software looking cofound architect solutions security devops programmer skilled firm saas join city planner urban computing company expert engineer\",\"smart home founder partner iot device specialist company ai experienced start technology scientist data seeking researcher searching looking wanting digital\",\"designer game app developer cofounder web design studio business assistant development virtual centered human interior gaming seeking ux based video\",\"retail online business manager sales commerce specialist startup marketing founder cofound tech need find start experienced savvy project expert seeking\",\"cloud software looking cofound architect solutions security devops programmer skilled firm saas join city planner urban computing company expert engineer\",\"retail online business manager sales commerce specialist startup marketing founder cofound tech need find start experienced savvy project expert seeking\",\"fintech blockchain advisor financial legal expert firm technology join cofound personal finance cryptocurrency developer startup insurance insurtech contract looking company\",\"fintech blockchain advisor financial legal expert firm technology join cofound personal finance cryptocurrency developer startup insurance insurtech contract looking company\",\"health healthcare company tech telemedicine specialist public mobile expert looking telecommunications telecom start recruitment hr wanting seeking bi data join\",\"retail online business manager sales commerce specialist startup marketing founder cofound tech need find start experienced savvy project expert seeking\",\"fintech blockchain advisor financial legal expert firm technology join cofound personal finance cryptocurrency developer startup insurance insurtech contract looking company\",\"ai voice specialist recognition marketing ethics firm artificial seeking intelligence cofound researcher speech machine company analytics learning tech language natural\",\"company marine tech expert start personalized drone technologist edtech cybersecurity medicine smart security looking seeking join searching logistics fashion veterinary\",\"cloud software looking cofound architect solutions security devops programmer skilled firm saas join city planner urban computing company expert engineer\",\"smart home founder partner iot device specialist company ai experienced start technology scientist data seeking researcher searching looking wanting digital\",\"designer game app developer cofounder web design studio business assistant development virtual centered human interior gaming seeking ux based video\",\"data analyst geospatial database climate start time real big looking administrator analytics tech company firm wanting seeking cofound energy editing\",\"retail online business manager sales commerce specialist startup marketing founder cofound tech need find start experienced savvy project expert seeking\",\"hospitality innovation market digital strategist manager agency social media product seeking new venture cofound cofounder research consultancy marketing researcher tech\",\"cofound tech scientist startup seeking behavioral firm biology cofounder company bioinformatics wanting chemical exoskeleton materials neuromorphic consumer biotech computational mental\",\"robotics augmented ar reality 3d printing specialist looking start startup gesture vr social company engineer developer cofound business seeking tech\",\"hospitality innovation market digital strategist manager agency social media product seeking new venture cofound cofounder research consultancy marketing researcher tech\",\"smart home founder partner iot device specialist company ai experienced start technology scientist data seeking researcher searching looking wanting digital\",\"robotics augmented ar reality 3d printing specialist looking start startup gesture vr social company engineer developer cofound business seeking tech\",\"energy renewable green electromobility proptech startup grid building expert searching sustainability cofound smart clean looking specialist tech storage seeking start\",\"designer game app developer cofounder web design studio business assistant development virtual centered human interior gaming seeking ux based video\",\"content vr sports creator media start virtual reality company pet expert technology looking seeking studio tech cofound startup searching developer\",\"hospitality innovation market digital strategist manager agency social media product seeking new venture cofound cofounder research consultancy marketing researcher tech\",\"company marine tech expert start personalized drone technologist edtech cybersecurity medicine smart security looking seeking join searching logistics fashion veterinary\",\"company marine tech expert start personalized drone technologist edtech cybersecurity medicine smart security looking seeking join searching logistics fashion veterinary\",\"engineer photonics hardware construction tech start disaster recovery company network networking need looking expert seeking specialist search firm wanting educational\",\"designer game app developer cofounder web design studio business assistant development virtual centered human interior gaming seeking ux based video\",\"engineer photonics hardware construction tech start disaster recovery company network networking need looking expert seeking specialist search firm wanting educational\",\"energy renewable green electromobility proptech startup grid building expert searching sustainability cofound smart clean looking specialist tech storage seeking start\",\"designer game app developer cofounder web design studio business assistant development virtual centered human interior gaming seeking ux based video\",\"health healthcare company tech telemedicine specialist public mobile expert looking telecommunications telecom start recruitment hr wanting seeking bi data join\",\"company marine tech expert start personalized drone technologist edtech cybersecurity medicine smart security looking seeking join searching logistics fashion veterinary\",\"privacy quantum cryptography data firm looking specialist advocate computing cofound tech join expert search company start need searching edtech educational\",\"ai voice specialist recognition marketing ethics firm artificial seeking intelligence cofound researcher speech machine company analytics learning tech language natural\",\"automotive auto vehicle autonomous engineer developer firm software transportation tech cofound searching startup cofounder search looking seeking start editing web\",\"smart home founder partner iot device specialist company ai experienced start technology scientist data seeking researcher searching looking wanting digital\",\"wearable cultural creative sensory tech device developer startup technologist seeking medtech medical cofound firm looking technology start join specialist company\",\"company marine tech expert start personalized drone technologist edtech cybersecurity medicine smart security looking seeking join searching logistics fashion veterinary\",\"privacy quantum cryptography data firm looking specialist advocate computing cofound tech join expert search company start need searching edtech educational\",\"company marine tech expert start personalized drone technologist edtech cybersecurity medicine smart security looking seeking join searching logistics fashion veterinary\",\"cloud software looking cofound architect solutions security devops programmer skilled firm saas join city planner urban computing company expert engineer\",\"robotics augmented ar reality 3d printing specialist looking start startup gesture vr social company engineer developer cofound business seeking tech\",\"space aerospace satellite technology tech engineer startup expert tourism company resource cofound exploration exoplanet looking habitat join start seeking scientist\",\"space aerospace satellite technology tech engineer startup expert tourism company resource cofound exploration exoplanet looking habitat join start seeking scientist\",\"automotive auto vehicle autonomous engineer developer firm software transportation tech cofound searching startup cofounder search looking seeking start editing web\",\"ai voice specialist recognition marketing ethics firm artificial seeking intelligence cofound researcher speech machine company analytics learning tech language natural\",\"content vr sports creator media start virtual reality company pet expert technology looking seeking studio tech cofound startup searching developer\",\"cloud software looking cofound architect solutions security devops programmer skilled firm saas join city planner urban computing company expert engineer\",\"robotics augmented ar reality 3d printing specialist looking start startup gesture vr social company engineer developer cofound business seeking tech\",\"holography computer vision biometrics biometric expert technology company start searching cofounder startup seeking tech need looking cofound editing energy engineer\",\"data analyst geospatial database climate start time real big looking administrator analytics tech company firm wanting seeking cofound energy editing\",\"health healthcare company tech telemedicine specialist public mobile expert looking telecommunications telecom start recruitment hr wanting seeking bi data join\",\"cloud software looking cofound architect solutions security devops programmer skilled firm saas join city planner urban computing company expert engineer\",\"designer game app developer cofounder web design studio business assistant development virtual centered human interior gaming seeking ux based video\",\"fintech blockchain advisor financial legal expert firm technology join cofound personal finance cryptocurrency developer startup insurance insurtech contract looking company\",\"health healthcare company tech telemedicine specialist public mobile expert looking telecommunications telecom start recruitment hr wanting seeking bi data join\",\"wearable cultural creative sensory tech device developer startup technologist seeking medtech medical cofound firm looking technology start join specialist company\",\"engineer photonics hardware construction tech start disaster recovery company network networking need looking expert seeking specialist search firm wanting educational\",\"company marine tech expert start personalized drone technologist edtech cybersecurity medicine smart security looking seeking join searching logistics fashion veterinary\",\"company marine tech expert start personalized drone technologist edtech cybersecurity medicine smart security looking seeking join searching logistics fashion veterinary\",\"wearable cultural creative sensory tech device developer startup technologist seeking medtech medical cofound firm looking technology start join specialist company\",\"hospitality innovation market digital strategist manager agency social media product seeking new venture cofound cofounder research consultancy marketing researcher tech\",\"retail online business manager sales commerce specialist startup marketing founder cofound tech need find start experienced savvy project expert seeking\",\"nuclear environmental tech start estate company real hydrology water engineer expert civic looking searching wanting technology need seeking economics educational\",\"microbial agtech precision agricultural specialist tech agriculture start startup company technologist looking need hydroponics farming cell bioenergy fuel urban cofound\",\"cofound tech scientist startup seeking behavioral firm biology cofounder company bioinformatics wanting chemical exoskeleton materials neuromorphic consumer biotech computational mental\",\"cofound tech scientist startup seeking behavioral firm biology cofounder company bioinformatics wanting chemical exoskeleton materials neuromorphic consumer biotech computational mental\",\"cofound tech scientist startup seeking behavioral firm biology cofounder company bioinformatics wanting chemical exoskeleton materials neuromorphic consumer biotech computational mental\",\"energy renewable green electromobility proptech startup grid building expert searching sustainability cofound smart clean looking specialist tech storage seeking start\",\"holography computer vision biometrics biometric expert technology company start searching cofounder startup seeking tech need looking cofound editing energy engineer\",\"ai voice specialist recognition marketing ethics firm artificial seeking intelligence cofound researcher speech machine company analytics learning tech language natural\",\"data analyst geospatial database climate start time real big looking administrator analytics tech company firm wanting seeking cofound energy editing\",\"hospitality innovation market digital strategist manager agency social media product seeking new venture cofound cofounder research consultancy marketing researcher tech\",\"designer game app developer cofounder web design studio business assistant development virtual centered human interior gaming seeking ux based video\",\"energy renewable green electromobility proptech startup grid building expert searching sustainability cofound smart clean looking specialist tech storage seeking start\",\"health healthcare company tech telemedicine specialist public mobile expert looking telecommunications telecom start recruitment hr wanting seeking bi data join\",\"cofound tech scientist startup seeking behavioral firm biology cofounder company bioinformatics wanting chemical exoskeleton materials neuromorphic consumer biotech computational mental\",\"engineer photonics hardware construction tech start disaster recovery company network networking need looking expert seeking specialist search firm wanting educational\",\"space aerospace satellite technology tech engineer startup expert tourism company resource cofound exploration exoplanet looking habitat join start seeking scientist\",\"nuclear environmental tech start estate company real hydrology water engineer expert civic looking searching wanting technology need seeking economics educational\",\"cofound tech scientist startup seeking behavioral firm biology cofounder company bioinformatics wanting chemical exoskeleton materials neuromorphic consumer biotech computational mental\",\"company marine tech expert start personalized drone technologist edtech cybersecurity medicine smart security looking seeking join searching logistics fashion veterinary\",\"company marine tech expert start personalized drone technologist edtech cybersecurity medicine smart security looking seeking join searching logistics fashion veterinary\",\"content vr sports creator media start virtual reality company pet expert technology looking seeking studio tech cofound startup searching developer\",\"company marine tech expert start personalized drone technologist edtech cybersecurity medicine smart security looking seeking join searching logistics fashion veterinary\",\"cofound tech scientist startup seeking behavioral firm biology cofounder company bioinformatics wanting chemical exoskeleton materials neuromorphic consumer biotech computational mental\",\"content vr sports creator media start virtual reality company pet expert technology looking seeking studio tech cofound startup searching developer\",\"ai voice specialist recognition marketing ethics firm artificial seeking intelligence cofound researcher speech machine company analytics learning tech language natural\",\"fintech blockchain advisor financial legal expert firm technology join cofound personal finance cryptocurrency developer startup insurance insurtech contract looking company\",\"energy renewable green electromobility proptech startup grid building expert searching sustainability cofound smart clean looking specialist tech storage seeking start\",\"hospitality innovation market digital strategist manager agency social media product seeking new venture cofound cofounder research consultancy marketing researcher tech\",\"health healthcare company tech telemedicine specialist public mobile expert looking telecommunications telecom start recruitment hr wanting seeking bi data join\",\"cofound tech scientist startup seeking behavioral firm biology cofounder company bioinformatics wanting chemical exoskeleton materials neuromorphic consumer biotech computational mental\",\"company marine tech expert start personalized drone technologist edtech cybersecurity medicine smart security looking seeking join searching logistics fashion veterinary\",\"cofound tech scientist startup seeking behavioral firm biology cofounder company bioinformatics wanting chemical exoskeleton materials neuromorphic consumer biotech computational mental\",\"nuclear environmental tech start estate company real hydrology water engineer expert civic looking searching wanting technology need seeking economics educational\",\"cofound tech scientist startup seeking behavioral firm biology cofounder company bioinformatics wanting chemical exoskeleton materials neuromorphic consumer biotech computational mental\",\"nuclear environmental tech start estate company real hydrology water engineer expert civic looking searching wanting technology need seeking economics educational\",\"wearable cultural creative sensory tech device developer startup technologist seeking medtech medical cofound firm looking technology start join specialist company\",\"privacy quantum cryptography data firm looking specialist advocate computing cofound tech join expert search company start need searching edtech educational\",\"fintech blockchain advisor financial legal expert firm technology join cofound personal finance cryptocurrency developer startup insurance insurtech contract looking company\",\"engineer photonics hardware construction tech start disaster recovery company network networking need looking expert seeking specialist search firm wanting educational\",\"health healthcare company tech telemedicine specialist public mobile expert looking telecommunications telecom start recruitment hr wanting seeking bi data join\",\"cloud software looking cofound architect solutions security devops programmer skilled firm saas join city planner urban computing company expert engineer\",\"energy renewable green electromobility proptech startup grid building expert searching sustainability cofound smart clean looking specialist tech storage seeking start\",\"health healthcare company tech telemedicine specialist public mobile expert looking telecommunications telecom start recruitment hr wanting seeking bi data join\",\"cofound tech scientist startup seeking behavioral firm biology cofounder company bioinformatics wanting chemical exoskeleton materials neuromorphic consumer biotech computational mental\",\"cofound tech scientist startup seeking behavioral firm biology cofounder company bioinformatics wanting chemical exoskeleton materials neuromorphic consumer biotech computational mental\",\"cofound tech scientist startup seeking behavioral firm biology cofounder company bioinformatics wanting chemical exoskeleton materials neuromorphic consumer biotech computational mental\",\"company marine tech expert start personalized drone technologist edtech cybersecurity medicine smart security looking seeking join searching logistics fashion veterinary\",\"fintech blockchain advisor financial legal expert firm technology join cofound personal finance cryptocurrency developer startup insurance insurtech contract looking company\",\"microbial agtech precision agricultural specialist tech agriculture start startup company technologist looking need hydroponics farming cell bioenergy fuel urban cofound\",\"designer game app developer cofounder web design studio business assistant development virtual centered human interior gaming seeking ux based video\",\"health healthcare company tech telemedicine specialist public mobile expert looking telecommunications telecom start recruitment hr wanting seeking bi data join\",\"company marine tech expert start personalized drone technologist edtech cybersecurity medicine smart security looking seeking join searching logistics fashion veterinary\",\"company marine tech expert start personalized drone technologist edtech cybersecurity medicine smart security looking seeking join searching logistics fashion veterinary\",\"wearable cultural creative sensory tech device developer startup technologist seeking medtech medical cofound firm looking technology start join specialist company\",\"microbial agtech precision agricultural specialist tech agriculture start startup company technologist looking need hydroponics farming cell bioenergy fuel urban cofound\",\"energy renewable green electromobility proptech startup grid building expert searching sustainability cofound smart clean looking specialist tech storage seeking start\",\"company marine tech expert start personalized drone technologist edtech cybersecurity medicine smart security looking seeking join searching logistics fashion veterinary\",\"cofound tech scientist startup seeking behavioral firm biology cofounder company bioinformatics wanting chemical exoskeleton materials neuromorphic consumer biotech computational mental\",\"company marine tech expert start personalized drone technologist edtech cybersecurity medicine smart security looking seeking join searching logistics fashion veterinary\",\"holography computer vision biometrics biometric expert technology company start searching cofounder startup seeking tech need looking cofound editing energy engineer\",\"privacy quantum cryptography data firm looking specialist advocate computing cofound tech join expert search company start need searching edtech educational\",\"cofound tech scientist startup seeking behavioral firm biology cofounder company bioinformatics wanting chemical exoskeleton materials neuromorphic consumer biotech computational mental\",\"data analyst geospatial database climate start time real big looking administrator analytics tech company firm wanting seeking cofound energy editing\",\"automotive auto vehicle autonomous engineer developer firm software transportation tech cofound searching startup cofounder search looking seeking start editing web\",\"health healthcare company tech telemedicine specialist public mobile expert looking telecommunications telecom start recruitment hr wanting seeking bi data join\",\"ai voice specialist recognition marketing ethics firm artificial seeking intelligence cofound researcher speech machine company analytics learning tech language natural\",\"wearable cultural creative sensory tech device developer startup technologist seeking medtech medical cofound firm looking technology start join specialist company\",\"cofound tech scientist startup seeking behavioral firm biology cofounder company bioinformatics wanting chemical exoskeleton materials neuromorphic consumer biotech computational mental\",\"fintech blockchain advisor financial legal expert firm technology join cofound personal finance cryptocurrency developer startup insurance insurtech contract looking company\",\"ai voice specialist recognition marketing ethics firm artificial seeking intelligence cofound researcher speech machine company analytics learning tech language natural\",\"data analyst geospatial database climate start time real big looking administrator analytics tech company firm wanting seeking cofound energy editing\",\"cloud software looking cofound architect solutions security devops programmer skilled firm saas join city planner urban computing company expert engineer\"],\"type\":\"scatterpolar\",\"fill\":\"toself\"}],                        {\"template\":{\"data\":{\"histogram2dcontour\":[{\"type\":\"histogram2dcontour\",\"colorbar\":{\"outlinewidth\":0,\"ticks\":\"\"},\"colorscale\":[[0.0,\"#0d0887\"],[0.1111111111111111,\"#46039f\"],[0.2222222222222222,\"#7201a8\"],[0.3333333333333333,\"#9c179e\"],[0.4444444444444444,\"#bd3786\"],[0.5555555555555556,\"#d8576b\"],[0.6666666666666666,\"#ed7953\"],[0.7777777777777778,\"#fb9f3a\"],[0.8888888888888888,\"#fdca26\"],[1.0,\"#f0f921\"]]}],\"choropleth\":[{\"type\":\"choropleth\",\"colorbar\":{\"outlinewidth\":0,\"ticks\":\"\"}}],\"histogram2d\":[{\"type\":\"histogram2d\",\"colorbar\":{\"outlinewidth\":0,\"ticks\":\"\"},\"colorscale\":[[0.0,\"#0d0887\"],[0.1111111111111111,\"#46039f\"],[0.2222222222222222,\"#7201a8\"],[0.3333333333333333,\"#9c179e\"],[0.4444444444444444,\"#bd3786\"],[0.5555555555555556,\"#d8576b\"],[0.6666666666666666,\"#ed7953\"],[0.7777777777777778,\"#fb9f3a\"],[0.8888888888888888,\"#fdca26\"],[1.0,\"#f0f921\"]]}],\"heatmap\":[{\"type\":\"heatmap\",\"colorbar\":{\"outlinewidth\":0,\"ticks\":\"\"},\"colorscale\":[[0.0,\"#0d0887\"],[0.1111111111111111,\"#46039f\"],[0.2222222222222222,\"#7201a8\"],[0.3333333333333333,\"#9c179e\"],[0.4444444444444444,\"#bd3786\"],[0.5555555555555556,\"#d8576b\"],[0.6666666666666666,\"#ed7953\"],[0.7777777777777778,\"#fb9f3a\"],[0.8888888888888888,\"#fdca26\"],[1.0,\"#f0f921\"]]}],\"heatmapgl\":[{\"type\":\"heatmapgl\",\"colorbar\":{\"outlinewidth\":0,\"ticks\":\"\"},\"colorscale\":[[0.0,\"#0d0887\"],[0.1111111111111111,\"#46039f\"],[0.2222222222222222,\"#7201a8\"],[0.3333333333333333,\"#9c179e\"],[0.4444444444444444,\"#bd3786\"],[0.5555555555555556,\"#d8576b\"],[0.6666666666666666,\"#ed7953\"],[0.7777777777777778,\"#fb9f3a\"],[0.8888888888888888,\"#fdca26\"],[1.0,\"#f0f921\"]]}],\"contourcarpet\":[{\"type\":\"contourcarpet\",\"colorbar\":{\"outlinewidth\":0,\"ticks\":\"\"}}],\"contour\":[{\"type\":\"contour\",\"colorbar\":{\"outlinewidth\":0,\"ticks\":\"\"},\"colorscale\":[[0.0,\"#0d0887\"],[0.1111111111111111,\"#46039f\"],[0.2222222222222222,\"#7201a8\"],[0.3333333333333333,\"#9c179e\"],[0.4444444444444444,\"#bd3786\"],[0.5555555555555556,\"#d8576b\"],[0.6666666666666666,\"#ed7953\"],[0.7777777777777778,\"#fb9f3a\"],[0.8888888888888888,\"#fdca26\"],[1.0,\"#f0f921\"]]}],\"surface\":[{\"type\":\"surface\",\"colorbar\":{\"outlinewidth\":0,\"ticks\":\"\"},\"colorscale\":[[0.0,\"#0d0887\"],[0.1111111111111111,\"#46039f\"],[0.2222222222222222,\"#7201a8\"],[0.3333333333333333,\"#9c179e\"],[0.4444444444444444,\"#bd3786\"],[0.5555555555555556,\"#d8576b\"],[0.6666666666666666,\"#ed7953\"],[0.7777777777777778,\"#fb9f3a\"],[0.8888888888888888,\"#fdca26\"],[1.0,\"#f0f921\"]]}],\"mesh3d\":[{\"type\":\"mesh3d\",\"colorbar\":{\"outlinewidth\":0,\"ticks\":\"\"}}],\"scatter\":[{\"fillpattern\":{\"fillmode\":\"overlay\",\"size\":10,\"solidity\":0.2},\"type\":\"scatter\"}],\"parcoords\":[{\"type\":\"parcoords\",\"line\":{\"colorbar\":{\"outlinewidth\":0,\"ticks\":\"\"}}}],\"scatterpolargl\":[{\"type\":\"scatterpolargl\",\"marker\":{\"colorbar\":{\"outlinewidth\":0,\"ticks\":\"\"}}}],\"bar\":[{\"error_x\":{\"color\":\"#2a3f5f\"},\"error_y\":{\"color\":\"#2a3f5f\"},\"marker\":{\"line\":{\"color\":\"#E5ECF6\",\"width\":0.5},\"pattern\":{\"fillmode\":\"overlay\",\"size\":10,\"solidity\":0.2}},\"type\":\"bar\"}],\"scattergeo\":[{\"type\":\"scattergeo\",\"marker\":{\"colorbar\":{\"outlinewidth\":0,\"ticks\":\"\"}}}],\"scatterpolar\":[{\"type\":\"scatterpolar\",\"marker\":{\"colorbar\":{\"outlinewidth\":0,\"ticks\":\"\"}}}],\"histogram\":[{\"marker\":{\"pattern\":{\"fillmode\":\"overlay\",\"size\":10,\"solidity\":0.2}},\"type\":\"histogram\"}],\"scattergl\":[{\"type\":\"scattergl\",\"marker\":{\"colorbar\":{\"outlinewidth\":0,\"ticks\":\"\"}}}],\"scatter3d\":[{\"type\":\"scatter3d\",\"line\":{\"colorbar\":{\"outlinewidth\":0,\"ticks\":\"\"}},\"marker\":{\"colorbar\":{\"outlinewidth\":0,\"ticks\":\"\"}}}],\"scattermapbox\":[{\"type\":\"scattermapbox\",\"marker\":{\"colorbar\":{\"outlinewidth\":0,\"ticks\":\"\"}}}],\"scatterternary\":[{\"type\":\"scatterternary\",\"marker\":{\"colorbar\":{\"outlinewidth\":0,\"ticks\":\"\"}}}],\"scattercarpet\":[{\"type\":\"scattercarpet\",\"marker\":{\"colorbar\":{\"outlinewidth\":0,\"ticks\":\"\"}}}],\"carpet\":[{\"aaxis\":{\"endlinecolor\":\"#2a3f5f\",\"gridcolor\":\"white\",\"linecolor\":\"white\",\"minorgridcolor\":\"white\",\"startlinecolor\":\"#2a3f5f\"},\"baxis\":{\"endlinecolor\":\"#2a3f5f\",\"gridcolor\":\"white\",\"linecolor\":\"white\",\"minorgridcolor\":\"white\",\"startlinecolor\":\"#2a3f5f\"},\"type\":\"carpet\"}],\"table\":[{\"cells\":{\"fill\":{\"color\":\"#EBF0F8\"},\"line\":{\"color\":\"white\"}},\"header\":{\"fill\":{\"color\":\"#C8D4E3\"},\"line\":{\"color\":\"white\"}},\"type\":\"table\"}],\"barpolar\":[{\"marker\":{\"line\":{\"color\":\"#E5ECF6\",\"width\":0.5},\"pattern\":{\"fillmode\":\"overlay\",\"size\":10,\"solidity\":0.2}},\"type\":\"barpolar\"}],\"pie\":[{\"automargin\":true,\"type\":\"pie\"}]},\"layout\":{\"autotypenumbers\":\"strict\",\"colorway\":[\"#636efa\",\"#EF553B\",\"#00cc96\",\"#ab63fa\",\"#FFA15A\",\"#19d3f3\",\"#FF6692\",\"#B6E880\",\"#FF97FF\",\"#FECB52\"],\"font\":{\"color\":\"#2a3f5f\"},\"hovermode\":\"closest\",\"hoverlabel\":{\"align\":\"left\"},\"paper_bgcolor\":\"white\",\"plot_bgcolor\":\"#E5ECF6\",\"polar\":{\"bgcolor\":\"#E5ECF6\",\"angularaxis\":{\"gridcolor\":\"white\",\"linecolor\":\"white\",\"ticks\":\"\"},\"radialaxis\":{\"gridcolor\":\"white\",\"linecolor\":\"white\",\"ticks\":\"\"}},\"ternary\":{\"bgcolor\":\"#E5ECF6\",\"aaxis\":{\"gridcolor\":\"white\",\"linecolor\":\"white\",\"ticks\":\"\"},\"baxis\":{\"gridcolor\":\"white\",\"linecolor\":\"white\",\"ticks\":\"\"},\"caxis\":{\"gridcolor\":\"white\",\"linecolor\":\"white\",\"ticks\":\"\"}},\"coloraxis\":{\"colorbar\":{\"outlinewidth\":0,\"ticks\":\"\"}},\"colorscale\":{\"sequential\":[[0.0,\"#0d0887\"],[0.1111111111111111,\"#46039f\"],[0.2222222222222222,\"#7201a8\"],[0.3333333333333333,\"#9c179e\"],[0.4444444444444444,\"#bd3786\"],[0.5555555555555556,\"#d8576b\"],[0.6666666666666666,\"#ed7953\"],[0.7777777777777778,\"#fb9f3a\"],[0.8888888888888888,\"#fdca26\"],[1.0,\"#f0f921\"]],\"sequentialminus\":[[0.0,\"#0d0887\"],[0.1111111111111111,\"#46039f\"],[0.2222222222222222,\"#7201a8\"],[0.3333333333333333,\"#9c179e\"],[0.4444444444444444,\"#bd3786\"],[0.5555555555555556,\"#d8576b\"],[0.6666666666666666,\"#ed7953\"],[0.7777777777777778,\"#fb9f3a\"],[0.8888888888888888,\"#fdca26\"],[1.0,\"#f0f921\"]],\"diverging\":[[0,\"#8e0152\"],[0.1,\"#c51b7d\"],[0.2,\"#de77ae\"],[0.3,\"#f1b6da\"],[0.4,\"#fde0ef\"],[0.5,\"#f7f7f7\"],[0.6,\"#e6f5d0\"],[0.7,\"#b8e186\"],[0.8,\"#7fbc41\"],[0.9,\"#4d9221\"],[1,\"#276419\"]]},\"xaxis\":{\"gridcolor\":\"white\",\"linecolor\":\"white\",\"ticks\":\"\",\"title\":{\"standoff\":15},\"zerolinecolor\":\"white\",\"automargin\":true,\"zerolinewidth\":2},\"yaxis\":{\"gridcolor\":\"white\",\"linecolor\":\"white\",\"ticks\":\"\",\"title\":{\"standoff\":15},\"zerolinecolor\":\"white\",\"automargin\":true,\"zerolinewidth\":2},\"scene\":{\"xaxis\":{\"backgroundcolor\":\"#E5ECF6\",\"gridcolor\":\"white\",\"linecolor\":\"white\",\"showbackground\":true,\"ticks\":\"\",\"zerolinecolor\":\"white\",\"gridwidth\":2},\"yaxis\":{\"backgroundcolor\":\"#E5ECF6\",\"gridcolor\":\"white\",\"linecolor\":\"white\",\"showbackground\":true,\"ticks\":\"\",\"zerolinecolor\":\"white\",\"gridwidth\":2},\"zaxis\":{\"backgroundcolor\":\"#E5ECF6\",\"gridcolor\":\"white\",\"linecolor\":\"white\",\"showbackground\":true,\"ticks\":\"\",\"zerolinecolor\":\"white\",\"gridwidth\":2}},\"shapedefaults\":{\"line\":{\"color\":\"#2a3f5f\"}},\"annotationdefaults\":{\"arrowcolor\":\"#2a3f5f\",\"arrowhead\":0,\"arrowwidth\":1},\"geo\":{\"bgcolor\":\"white\",\"landcolor\":\"#E5ECF6\",\"subunitcolor\":\"white\",\"showland\":true,\"showlakes\":true,\"lakecolor\":\"white\"},\"title\":{\"x\":0.05},\"mapbox\":{\"style\":\"light\"}}},\"polar\":{\"domain\":{\"x\":[0.0,1.0],\"y\":[0.0,1.0]},\"angularaxis\":{\"direction\":\"clockwise\",\"rotation\":90}},\"legend\":{\"tracegroupgap\":0},\"margin\":{\"t\":60}},                        {\"responsive\": true}                    ).then(function(){\n",
       "                            \n",
       "var gd = document.getElementById('0e00bb5c-9291-40f4-8fe9-23e7582bf3e3');\n",
       "var x = new MutationObserver(function (mutations, observer) {{\n",
       "        var display = window.getComputedStyle(gd).display;\n",
       "        if (!display || display === 'none') {{\n",
       "            console.log([gd, 'removed!']);\n",
       "            Plotly.purge(gd);\n",
       "            observer.disconnect();\n",
       "        }}\n",
       "}});\n",
       "\n",
       "// Listen for the removal of the full notebook cells\n",
       "var notebookContainer = gd.closest('#notebook-container');\n",
       "if (notebookContainer) {{\n",
       "    x.observe(notebookContainer, {childList: true});\n",
       "}}\n",
       "\n",
       "// Listen for the clearing of the current output cell\n",
       "var outputEl = gd.closest('.output');\n",
       "if (outputEl) {{\n",
       "    x.observe(outputEl, {childList: true});\n",
       "}}\n",
       "\n",
       "                        })                };                });            </script>        </div>"
      ]
     },
     "metadata": {},
     "output_type": "display_data"
    }
   ],
   "source": [
    "fig = px.line_polar(df, r='X', theta='cluster_top_words', line_close=True)\n",
    "fig.update_traces(fill='toself')\n",
    "fig.show()\n"
   ]
  },
  {
   "cell_type": "code",
   "execution_count": null,
   "id": "1bf0c4f1-64f0-4d71-beda-764ba5568043",
   "metadata": {},
   "outputs": [],
   "source": []
  }
 ],
 "metadata": {
  "kernelspec": {
   "display_name": "Machine Learning",
   "language": "python",
   "name": "machine_learningenv"
  },
  "language_info": {
   "codemirror_mode": {
    "name": "ipython",
    "version": 3
   },
   "file_extension": ".py",
   "mimetype": "text/x-python",
   "name": "python",
   "nbconvert_exporter": "python",
   "pygments_lexer": "ipython3",
   "version": "3.10.13"
  }
 },
 "nbformat": 4,
 "nbformat_minor": 5
}
