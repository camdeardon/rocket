{
 "cells": [
  {
   "cell_type": "code",
   "execution_count": null,
   "id": "35d76b8b-4295-45f9-959f-e040e598663b",
   "metadata": {
    "tags": []
   },
   "outputs": [
    {
     "name": "stdout",
     "output_type": "stream",
     "text": [
      "Collecting umap\n",
      "  Using cached umap-0.1.1.tar.gz (3.2 kB)\n",
      "  Preparing metadata (setup.py) ... \u001b[?25ldone\n",
      "\u001b[?25hBuilding wheels for collected packages: umap\n",
      "  Building wheel for umap (setup.py) ... \u001b[?25ldone\n",
      "\u001b[?25h  Created wheel for umap: filename=umap-0.1.1-py3-none-any.whl size=3542 sha256=5c9d54b543ffc44e622db44ffcfcaf059ed1ce1503ba385c346853d9a077db41\n",
      "  Stored in directory: /Users/camerondeardon/Library/Caches/pip/wheels/82/d8/73/e9eb3334baaad795ff0278363ff1aca7568bdf2793e452a527\n",
      "Successfully built umap\n",
      "Installing collected packages: umap\n",
      "Successfully installed umap-0.1.1\n",
      "Collecting sentence-transformers\n",
      "  Obtaining dependency information for sentence-transformers from https://files.pythonhosted.org/packages/58/4b/922436953394e1bfda05e4bf1fe0e80f609770f256c59a9df7a9254f3e0d/sentence_transformers-3.0.1-py3-none-any.whl.metadata\n",
      "  Using cached sentence_transformers-3.0.1-py3-none-any.whl.metadata (10 kB)\n",
      "Collecting transformers<5.0.0,>=4.34.0 (from sentence-transformers)\n",
      "  Obtaining dependency information for transformers<5.0.0,>=4.34.0 from https://files.pythonhosted.org/packages/62/c0/810e741a6244c0f004be40ccb96486d072f042eabbd4d7e8aa02b81ca1eb/transformers-4.44.0-py3-none-any.whl.metadata\n",
      "  Downloading transformers-4.44.0-py3-none-any.whl.metadata (43 kB)\n",
      "\u001b[2K     \u001b[90m━━━━━━━━━━━━━━━━━━━━━━━━━━━━━━━━━━━━━━━━\u001b[0m \u001b[32m43.7/43.7 kB\u001b[0m \u001b[31m1.1 MB/s\u001b[0m eta \u001b[36m0:00:00\u001b[0m\n",
      "\u001b[?25hRequirement already satisfied: tqdm in /Users/camerondeardon/anaconda3/lib/python3.11/site-packages (from sentence-transformers) (4.65.0)\n",
      "Requirement already satisfied: torch>=1.11.0 in /Users/camerondeardon/anaconda3/lib/python3.11/site-packages (from sentence-transformers) (2.0.1)\n",
      "Requirement already satisfied: numpy in /Users/camerondeardon/anaconda3/lib/python3.11/site-packages (from sentence-transformers) (1.24.3)\n",
      "Requirement already satisfied: scikit-learn in /Users/camerondeardon/anaconda3/lib/python3.11/site-packages (from sentence-transformers) (1.3.0)\n",
      "Requirement already satisfied: scipy in /Users/camerondeardon/anaconda3/lib/python3.11/site-packages (from sentence-transformers) (1.10.1)\n",
      "Requirement already satisfied: huggingface-hub>=0.15.1 in /Users/camerondeardon/anaconda3/lib/python3.11/site-packages (from sentence-transformers) (0.15.1)\n",
      "Requirement already satisfied: Pillow in /Users/camerondeardon/anaconda3/lib/python3.11/site-packages (from sentence-transformers) (9.4.0)\n",
      "Requirement already satisfied: filelock in /Users/camerondeardon/anaconda3/lib/python3.11/site-packages (from huggingface-hub>=0.15.1->sentence-transformers) (3.9.0)\n",
      "Requirement already satisfied: fsspec in /Users/camerondeardon/anaconda3/lib/python3.11/site-packages (from huggingface-hub>=0.15.1->sentence-transformers) (2023.4.0)\n",
      "Requirement already satisfied: requests in /Users/camerondeardon/anaconda3/lib/python3.11/site-packages (from huggingface-hub>=0.15.1->sentence-transformers) (2.31.0)\n",
      "Requirement already satisfied: pyyaml>=5.1 in /Users/camerondeardon/anaconda3/lib/python3.11/site-packages (from huggingface-hub>=0.15.1->sentence-transformers) (6.0)\n",
      "Requirement already satisfied: typing-extensions>=3.7.4.3 in /Users/camerondeardon/anaconda3/lib/python3.11/site-packages (from huggingface-hub>=0.15.1->sentence-transformers) (4.7.1)\n",
      "Requirement already satisfied: packaging>=20.9 in /Users/camerondeardon/anaconda3/lib/python3.11/site-packages (from huggingface-hub>=0.15.1->sentence-transformers) (23.0)\n",
      "Requirement already satisfied: sympy in /Users/camerondeardon/anaconda3/lib/python3.11/site-packages (from torch>=1.11.0->sentence-transformers) (1.11.1)\n",
      "Requirement already satisfied: networkx in /Users/camerondeardon/anaconda3/lib/python3.11/site-packages (from torch>=1.11.0->sentence-transformers) (3.1)\n",
      "Requirement already satisfied: jinja2 in /Users/camerondeardon/anaconda3/lib/python3.11/site-packages (from torch>=1.11.0->sentence-transformers) (3.1.2)\n",
      "Collecting huggingface-hub>=0.15.1 (from sentence-transformers)\n",
      "  Obtaining dependency information for huggingface-hub>=0.15.1 from https://files.pythonhosted.org/packages/0b/05/31b21998f68c31e7ffcc27ff08531fb9af5506d765ce8d661fb0036e6918/huggingface_hub-0.24.5-py3-none-any.whl.metadata\n",
      "  Downloading huggingface_hub-0.24.5-py3-none-any.whl.metadata (13 kB)\n",
      "Requirement already satisfied: regex!=2019.12.17 in /Users/camerondeardon/anaconda3/lib/python3.11/site-packages (from transformers<5.0.0,>=4.34.0->sentence-transformers) (2022.7.9)\n",
      "Collecting safetensors>=0.4.1 (from transformers<5.0.0,>=4.34.0->sentence-transformers)\n",
      "  Obtaining dependency information for safetensors>=0.4.1 from https://files.pythonhosted.org/packages/36/46/93c39c96188a88ca15d12759bb51f52ce7365f6fd19ef09580bc096e8860/safetensors-0.4.4-cp311-cp311-macosx_11_0_arm64.whl.metadata\n",
      "  Downloading safetensors-0.4.4-cp311-cp311-macosx_11_0_arm64.whl.metadata (3.8 kB)\n",
      "Collecting tokenizers<0.20,>=0.19 (from transformers<5.0.0,>=4.34.0->sentence-transformers)\n",
      "  Obtaining dependency information for tokenizers<0.20,>=0.19 from https://files.pythonhosted.org/packages/90/79/d17a0f491d10817cd30f1121a07aa09c8e97a81114b116e473baf1577f09/tokenizers-0.19.1-cp311-cp311-macosx_11_0_arm64.whl.metadata\n",
      "  Downloading tokenizers-0.19.1-cp311-cp311-macosx_11_0_arm64.whl.metadata (6.7 kB)\n",
      "Collecting fsspec>=2023.5.0 (from huggingface-hub>=0.15.1->sentence-transformers)\n",
      "  Obtaining dependency information for fsspec>=2023.5.0 from https://files.pythonhosted.org/packages/5e/44/73bea497ac69bafde2ee4269292fa3b41f1198f4bb7bbaaabde30ad29d4a/fsspec-2024.6.1-py3-none-any.whl.metadata\n",
      "  Using cached fsspec-2024.6.1-py3-none-any.whl.metadata (11 kB)\n",
      "Requirement already satisfied: joblib>=1.1.1 in /Users/camerondeardon/anaconda3/lib/python3.11/site-packages (from scikit-learn->sentence-transformers) (1.2.0)\n",
      "Requirement already satisfied: threadpoolctl>=2.0.0 in /Users/camerondeardon/anaconda3/lib/python3.11/site-packages (from scikit-learn->sentence-transformers) (2.2.0)\n",
      "Requirement already satisfied: MarkupSafe>=2.0 in /Users/camerondeardon/anaconda3/lib/python3.11/site-packages (from jinja2->torch>=1.11.0->sentence-transformers) (2.1.1)\n",
      "Requirement already satisfied: charset-normalizer<4,>=2 in /Users/camerondeardon/anaconda3/lib/python3.11/site-packages (from requests->huggingface-hub>=0.15.1->sentence-transformers) (2.0.4)\n",
      "Requirement already satisfied: idna<4,>=2.5 in /Users/camerondeardon/anaconda3/lib/python3.11/site-packages (from requests->huggingface-hub>=0.15.1->sentence-transformers) (3.4)\n",
      "Requirement already satisfied: urllib3<3,>=1.21.1 in /Users/camerondeardon/anaconda3/lib/python3.11/site-packages (from requests->huggingface-hub>=0.15.1->sentence-transformers) (1.26.16)\n",
      "Requirement already satisfied: certifi>=2017.4.17 in /Users/camerondeardon/anaconda3/lib/python3.11/site-packages (from requests->huggingface-hub>=0.15.1->sentence-transformers) (2023.7.22)\n",
      "Requirement already satisfied: mpmath>=0.19 in /Users/camerondeardon/anaconda3/lib/python3.11/site-packages (from sympy->torch>=1.11.0->sentence-transformers) (1.3.0)\n",
      "Using cached sentence_transformers-3.0.1-py3-none-any.whl (227 kB)\n",
      "Downloading transformers-4.44.0-py3-none-any.whl (9.5 MB)\n",
      "\u001b[2K   \u001b[90m━━━━━━━━━━━━━━━━━━━━━━━━━━━━━━━━━━━━━━━━\u001b[0m \u001b[32m9.5/9.5 MB\u001b[0m \u001b[31m22.4 MB/s\u001b[0m eta \u001b[36m0:00:00\u001b[0ma \u001b[36m0:00:01\u001b[0m\n",
      "\u001b[?25hDownloading huggingface_hub-0.24.5-py3-none-any.whl (417 kB)\n",
      "\u001b[2K   \u001b[90m━━━━━━━━━━━━━━━━━━━━━━━━━━━━━━━━━━━━━━━━\u001b[0m \u001b[32m417.5/417.5 kB\u001b[0m \u001b[31m16.3 MB/s\u001b[0m eta \u001b[36m0:00:00\u001b[0m\n",
      "\u001b[?25hUsing cached fsspec-2024.6.1-py3-none-any.whl (177 kB)\n",
      "Downloading safetensors-0.4.4-cp311-cp311-macosx_11_0_arm64.whl (381 kB)\n",
      "\u001b[2K   \u001b[90m━━━━━━━━━━━━━━━━━━━━━━━━━━━━━━━━━━━━━━━━\u001b[0m \u001b[32m381.5/381.5 kB\u001b[0m \u001b[31m39.8 MB/s\u001b[0m eta \u001b[36m0:00:00\u001b[0m\n",
      "\u001b[?25hDownloading tokenizers-0.19.1-cp311-cp311-macosx_11_0_arm64.whl (2.4 MB)\n",
      "\u001b[2K   \u001b[90m━━━━━━━━━━━━━━━━━━━━━━━━━━━━━━━━━━━━━━━━\u001b[0m \u001b[32m2.4/2.4 MB\u001b[0m \u001b[31m48.1 MB/s\u001b[0m eta \u001b[36m0:00:00\u001b[0ma \u001b[36m0:00:01\u001b[0m\n",
      "\u001b[?25hInstalling collected packages: safetensors, fsspec, huggingface-hub, tokenizers, transformers, sentence-transformers\n",
      "  Attempting uninstall: fsspec\n",
      "    Found existing installation: fsspec 2023.4.0\n",
      "    Uninstalling fsspec-2023.4.0:\n",
      "      Successfully uninstalled fsspec-2023.4.0\n",
      "  Attempting uninstall: huggingface-hub\n",
      "    Found existing installation: huggingface-hub 0.15.1\n",
      "    Uninstalling huggingface-hub-0.15.1:\n",
      "      Successfully uninstalled huggingface-hub-0.15.1\n",
      "  Attempting uninstall: tokenizers\n",
      "    Found existing installation: tokenizers 0.13.2\n",
      "    Uninstalling tokenizers-0.13.2:\n",
      "      Successfully uninstalled tokenizers-0.13.2\n",
      "  Attempting uninstall: transformers\n",
      "    Found existing installation: transformers 4.29.2\n",
      "    Uninstalling transformers-4.29.2:\n",
      "      Successfully uninstalled transformers-4.29.2\n",
      "\u001b[31mERROR: pip's dependency resolver does not currently take into account all the packages that are installed. This behaviour is the source of the following dependency conflicts.\n",
      "s3fs 2023.4.0 requires fsspec==2023.4.0, but you have fsspec 2024.6.1 which is incompatible.\u001b[0m\u001b[31m\n",
      "\u001b[0mSuccessfully installed fsspec-2024.6.1 huggingface-hub-0.24.5 safetensors-0.4.4 sentence-transformers-3.0.1 tokenizers-0.19.1 transformers-4.44.0\n",
      "Collecting hdbscan\n",
      "  Downloading hdbscan-0.8.38.post1.tar.gz (5.8 MB)\n",
      "\u001b[2K     \u001b[90m━━━━━━━━━━━━━━━━━━━━━━━━━━━━━━━━━━━━━━━━\u001b[0m \u001b[32m5.8/5.8 MB\u001b[0m \u001b[31m16.5 MB/s\u001b[0m eta \u001b[36m0:00:00\u001b[0ma \u001b[36m0:00:01\u001b[0m\n",
      "\u001b[?25h  Installing build dependencies ... \u001b[?25ldone\n",
      "\u001b[?25h  Getting requirements to build wheel ... \u001b[?25ldone\n",
      "\u001b[?25h  Preparing metadata (pyproject.toml) ... \u001b[?25ldone\n",
      "\u001b[?25hRequirement already satisfied: numpy<3,>=1.20 in /Users/camerondeardon/anaconda3/lib/python3.11/site-packages (from hdbscan) (1.24.3)\n",
      "Requirement already satisfied: scipy>=1.0 in /Users/camerondeardon/anaconda3/lib/python3.11/site-packages (from hdbscan) (1.10.1)\n",
      "Requirement already satisfied: scikit-learn>=0.20 in /Users/camerondeardon/anaconda3/lib/python3.11/site-packages (from hdbscan) (1.3.0)\n",
      "Requirement already satisfied: joblib>=1.0 in /Users/camerondeardon/anaconda3/lib/python3.11/site-packages (from hdbscan) (1.2.0)\n",
      "Requirement already satisfied: threadpoolctl>=2.0.0 in /Users/camerondeardon/anaconda3/lib/python3.11/site-packages (from scikit-learn>=0.20->hdbscan) (2.2.0)\n",
      "Building wheels for collected packages: hdbscan\n",
      "  Building wheel for hdbscan (pyproject.toml) ... \u001b[?25ldone\n",
      "\u001b[?25h  Created wheel for hdbscan: filename=hdbscan-0.8.38.post1-cp311-cp311-macosx_11_0_arm64.whl size=705012 sha256=2413531662ff667c79006a85be6a323b607e8810ba854033c4d5a175202cb1ac\n",
      "  Stored in directory: /Users/camerondeardon/Library/Caches/pip/wheels/cb/5e/46/545115df7b61e96c70d9d63dc207bd6939658350e7c1ed208a\n",
      "Successfully built hdbscan\n",
      "Installing collected packages: hdbscan\n",
      "Successfully installed hdbscan-0.8.38.post1\n",
      "Requirement already satisfied: transformers in /Users/camerondeardon/anaconda3/lib/python3.11/site-packages (4.44.0)\n",
      "Requirement already satisfied: filelock in /Users/camerondeardon/anaconda3/lib/python3.11/site-packages (from transformers) (3.9.0)\n",
      "Requirement already satisfied: huggingface-hub<1.0,>=0.23.2 in /Users/camerondeardon/anaconda3/lib/python3.11/site-packages (from transformers) (0.24.5)\n",
      "Requirement already satisfied: numpy>=1.17 in /Users/camerondeardon/anaconda3/lib/python3.11/site-packages (from transformers) (1.24.3)\n",
      "Requirement already satisfied: packaging>=20.0 in /Users/camerondeardon/anaconda3/lib/python3.11/site-packages (from transformers) (23.0)\n",
      "Requirement already satisfied: pyyaml>=5.1 in /Users/camerondeardon/anaconda3/lib/python3.11/site-packages (from transformers) (6.0)\n",
      "Requirement already satisfied: regex!=2019.12.17 in /Users/camerondeardon/anaconda3/lib/python3.11/site-packages (from transformers) (2022.7.9)\n",
      "Requirement already satisfied: requests in /Users/camerondeardon/anaconda3/lib/python3.11/site-packages (from transformers) (2.31.0)\n",
      "Requirement already satisfied: safetensors>=0.4.1 in /Users/camerondeardon/anaconda3/lib/python3.11/site-packages (from transformers) (0.4.4)\n",
      "Requirement already satisfied: tokenizers<0.20,>=0.19 in /Users/camerondeardon/anaconda3/lib/python3.11/site-packages (from transformers) (0.19.1)\n",
      "Requirement already satisfied: tqdm>=4.27 in /Users/camerondeardon/anaconda3/lib/python3.11/site-packages (from transformers) (4.65.0)\n",
      "Requirement already satisfied: fsspec>=2023.5.0 in /Users/camerondeardon/anaconda3/lib/python3.11/site-packages (from huggingface-hub<1.0,>=0.23.2->transformers) (2024.6.1)\n",
      "Requirement already satisfied: typing-extensions>=3.7.4.3 in /Users/camerondeardon/anaconda3/lib/python3.11/site-packages (from huggingface-hub<1.0,>=0.23.2->transformers) (4.7.1)\n",
      "Requirement already satisfied: charset-normalizer<4,>=2 in /Users/camerondeardon/anaconda3/lib/python3.11/site-packages (from requests->transformers) (2.0.4)\n",
      "Requirement already satisfied: idna<4,>=2.5 in /Users/camerondeardon/anaconda3/lib/python3.11/site-packages (from requests->transformers) (3.4)\n",
      "Requirement already satisfied: urllib3<3,>=1.21.1 in /Users/camerondeardon/anaconda3/lib/python3.11/site-packages (from requests->transformers) (1.26.16)\n",
      "Requirement already satisfied: certifi>=2017.4.17 in /Users/camerondeardon/anaconda3/lib/python3.11/site-packages (from requests->transformers) (2023.7.22)\n",
      "Requirement already satisfied: torch in /Users/camerondeardon/anaconda3/lib/python3.11/site-packages (2.0.1)\n",
      "Collecting torchvision\n",
      "  Obtaining dependency information for torchvision from https://files.pythonhosted.org/packages/b4/93/611197d5a023a33a48df656287b3e26c6e7db0fa92a9bb2259c0cdb76581/torchvision-0.19.0-cp311-cp311-macosx_11_0_arm64.whl.metadata\n",
      "  Downloading torchvision-0.19.0-cp311-cp311-macosx_11_0_arm64.whl.metadata (6.0 kB)\n",
      "Collecting torchaudio\n",
      "  Obtaining dependency information for torchaudio from https://files.pythonhosted.org/packages/1b/11/9c38a2da79d79611fd6950837f5389bac55c6fdfbc1b4ceab6d2afd8b0d4/torchaudio-2.4.0-cp311-cp311-macosx_11_0_arm64.whl.metadata\n",
      "  Downloading torchaudio-2.4.0-cp311-cp311-macosx_11_0_arm64.whl.metadata (6.4 kB)\n",
      "Requirement already satisfied: filelock in /Users/camerondeardon/anaconda3/lib/python3.11/site-packages (from torch) (3.9.0)\n",
      "Requirement already satisfied: typing-extensions in /Users/camerondeardon/anaconda3/lib/python3.11/site-packages (from torch) (4.7.1)\n",
      "Requirement already satisfied: sympy in /Users/camerondeardon/anaconda3/lib/python3.11/site-packages (from torch) (1.11.1)\n",
      "Requirement already satisfied: networkx in /Users/camerondeardon/anaconda3/lib/python3.11/site-packages (from torch) (3.1)\n",
      "Requirement already satisfied: jinja2 in /Users/camerondeardon/anaconda3/lib/python3.11/site-packages (from torch) (3.1.2)\n",
      "Requirement already satisfied: numpy in /Users/camerondeardon/anaconda3/lib/python3.11/site-packages (from torchvision) (1.24.3)\n",
      "Collecting torch\n",
      "  Obtaining dependency information for torch from https://files.pythonhosted.org/packages/b7/d0/5e8f96d83889e77b478b90e7d8d24a5fc14c5c9350c6b93d071f45f39096/torch-2.4.0-cp311-none-macosx_11_0_arm64.whl.metadata\n",
      "  Downloading torch-2.4.0-cp311-none-macosx_11_0_arm64.whl.metadata (26 kB)\n",
      "Requirement already satisfied: pillow!=8.3.*,>=5.3.0 in /Users/camerondeardon/anaconda3/lib/python3.11/site-packages (from torchvision) (9.4.0)\n",
      "Collecting typing-extensions>=4.8.0 (from torch)\n",
      "  Obtaining dependency information for typing-extensions>=4.8.0 from https://files.pythonhosted.org/packages/26/9f/ad63fc0248c5379346306f8668cda6e2e2e9c95e01216d2b8ffd9ff037d0/typing_extensions-4.12.2-py3-none-any.whl.metadata\n",
      "  Using cached typing_extensions-4.12.2-py3-none-any.whl.metadata (3.0 kB)\n",
      "Requirement already satisfied: fsspec in /Users/camerondeardon/anaconda3/lib/python3.11/site-packages (from torch) (2024.6.1)\n",
      "Requirement already satisfied: MarkupSafe>=2.0 in /Users/camerondeardon/anaconda3/lib/python3.11/site-packages (from jinja2->torch) (2.1.1)\n",
      "Requirement already satisfied: mpmath>=0.19 in /Users/camerondeardon/anaconda3/lib/python3.11/site-packages (from sympy->torch) (1.3.0)\n",
      "Downloading torchvision-0.19.0-cp311-cp311-macosx_11_0_arm64.whl (1.7 MB)\n",
      "\u001b[2K   \u001b[90m━━━━━━━━━━━━━━━━━━━━━━━━━━━━━━━━━━━━━━━━\u001b[0m \u001b[32m1.7/1.7 MB\u001b[0m \u001b[31m10.0 MB/s\u001b[0m eta \u001b[36m0:00:00\u001b[0m \u001b[36m0:00:01\u001b[0m\n",
      "\u001b[?25hDownloading torch-2.4.0-cp311-none-macosx_11_0_arm64.whl (62.1 MB)\n",
      "\u001b[2K   \u001b[90m━━━━━━━━━━━━━━━━━━━━━━━━━━━━━━━━━━━━━━━━\u001b[0m \u001b[32m62.1/62.1 MB\u001b[0m \u001b[31m38.0 MB/s\u001b[0m eta \u001b[36m0:00:00\u001b[0m00:01\u001b[0m00:01\u001b[0m\n",
      "\u001b[?25hDownloading torchaudio-2.4.0-cp311-cp311-macosx_11_0_arm64.whl (1.8 MB)\n",
      "\u001b[2K   \u001b[90m━━━━━━━━━━━━━━━━━━━━━━━━━━━━━━━━━━━━━━━━\u001b[0m \u001b[32m1.8/1.8 MB\u001b[0m \u001b[31m47.3 MB/s\u001b[0m eta \u001b[36m0:00:00\u001b[0m00:01\u001b[0m\n",
      "\u001b[?25hUsing cached typing_extensions-4.12.2-py3-none-any.whl (37 kB)\n",
      "Installing collected packages: typing-extensions, torch, torchvision, torchaudio\n",
      "  Attempting uninstall: typing-extensions\n",
      "    Found existing installation: typing_extensions 4.7.1\n",
      "    Uninstalling typing_extensions-4.7.1:\n",
      "      Successfully uninstalled typing_extensions-4.7.1\n",
      "  Attempting uninstall: torch\n",
      "    Found existing installation: torch 2.0.1\n"
     ]
    }
   ],
   "source": [
    "!pip install umap\n",
    "!pip install -U sentence-transformers\n",
    "!pip install hdbscan\n",
    "!pip install transformers\n",
    "!pip install torch torchvision torchaudio\n",
    "!pip install umap-learn\n",
    "!pip install gensim\n",
    "!pip install nltk\n",
    "!pip install vaderSentiment"
   ]
  },
  {
   "cell_type": "code",
   "execution_count": null,
   "id": "6082433b-5e54-40d2-b9ca-892f2f5418b7",
   "metadata": {
    "tags": []
   },
   "outputs": [],
   "source": [
    "!pip install contractions"
   ]
  },
  {
   "cell_type": "code",
   "execution_count": null,
   "id": "c66a2b69-5a40-41d8-9ce5-0974682ce1ff",
   "metadata": {
    "tags": []
   },
   "outputs": [],
   "source": [
    "from vaderSentiment.vaderSentiment import SentimentIntensityAnalyzer\n",
    "from transformers import AutoTokenizer, AutoModelForSequenceClassification\n",
    "from sentence_transformers import SentenceTransformer\n",
    "import torch\n",
    "\n",
    "import pandas as pd\n",
    "import numpy as np\n",
    "from tqdm import tqdm, trange\n",
    "tqdm.pandas()\n",
    "\n",
    "import seaborn as sns\n",
    "\n",
    "from collections import Counter\n",
    "\n",
    "\n",
    "import gensim\n",
    "import gensim.corpora as corpora\n",
    "from gensim.utils import simple_preprocess\n",
    "from gensim.models import CoherenceModel, LdaModel\n",
    "from gensim.corpora import Dictionary\n",
    "from gensim.models.doc2vec import Doc2Vec, TaggedDocument\n",
    "\n",
    "import umap\n",
    "import umap.umap_ as umap\n",
    "import hdbscan\n",
    "import math\n",
    "\n",
    "import plotly.express as px\n",
    "import plotly.graph_objects as go\n",
    "from mpl_toolkits.mplot3d import Axes3D\n",
    "import plotly.offline as offline\n",
    "import plotly.graph_objects as go\n",
    "\n",
    "# from google.colab import files\n",
    "# from google.colab import auth\n",
    "# auth.authenticate_user()\n",
    "# import gspread\n",
    "# from google.auth import default\n",
    "# creds, _ = default()\n",
    "# gc = gspread.authorize(creds)\n",
    "# from gspread_dataframe import set_with_dataframe\n",
    "# from google.colab import drive\n",
    "# drive.mount('/content/gdrive')\n",
    "# path = f'/content/gdrive/My Drive'\n",
    "\n",
    "\n",
    "from IPython.display import HTML\n",
    "\n",
    "import nltk\n",
    "nltk.download('stopwords')\n",
    "from nltk.corpus import stopwords\n",
    "stop_words = stopwords.words('english')\n",
    "stopwords = set(stop_words)\n",
    "nltk.download('punkt')\n",
    "nltk.download('wordnet')\n",
    "\n",
    "import contractions\n",
    "import re\n",
    "import string\n",
    "from nltk.corpus import stopwords\n",
    "from nltk.tokenize import word_tokenize\n",
    "from nltk.stem import WordNetLemmatizer\n",
    "from nltk.stem import PorterStemmer\n",
    "from nltk.tokenize import word_tokenize\n",
    "from nltk.util import ngrams"
   ]
  },
  {
   "cell_type": "code",
   "execution_count": null,
   "id": "4e80c7c5-8421-4715-8041-16b2e742083e",
   "metadata": {
    "tags": []
   },
   "outputs": [],
   "source": [
    "embeddings_model = SentenceTransformer('sentence-transformers/all-mpnet-base-v2')\n",
    "def get_document_embeddings(preprocessed_texts):\n",
    "    embeddings = embeddings_model.encode(preprocessed_texts)\n",
    "    return embeddings\n",
    "def preprocess_text(text):\n",
    "    lemmatizer = WordNetLemmatizer()\n",
    "    text = text.lower()\n",
    "    text = re.sub(r'http\\S+', '', text)\n",
    "    text = text.translate(str.maketrans('', '', string.punctuation))\n",
    "    words = word_tokenize(text)\n",
    "    words = [lemmatizer.lemmatize(word) for word in words]\n",
    "    bigrams = ngrams(words, 2)\n",
    "    words += [' '.join(bigram) for bigram in bigrams]\n",
    "    preprocessed_text = ' '.join(words)\n",
    "    return preprocessed_text"
   ]
  },
  {
   "cell_type": "code",
   "execution_count": null,
   "id": "e43b6bf4-949c-4b52-89f0-802153df5dad",
   "metadata": {
    "tags": []
   },
   "outputs": [],
   "source": [
    "from sklearn.feature_extraction.text import TfidfVectorizer\n"
   ]
  },
  {
   "cell_type": "code",
   "execution_count": null,
   "id": "50e7222d-9045-4de5-8094-e86953aae600",
   "metadata": {
    "tags": []
   },
   "outputs": [],
   "source": [
    "founder_description = [\n",
    "    \"I'm looking for a skilled programmer to join my startup.\",\n",
    "    \"Seeking a talented data scientist to cofound an AI company.\",\n",
    "    \"Need a UX designer to partner with for a new app.\",\n",
    "    \"Searching for a project manager to help lead a tech venture.\",\n",
    "    \"Looking for a DevOps engineer to cofound a software company.\",\n",
    "    \"Wanting to find a marketing expert to start an online business.\",\n",
    "    \"In need of a financial advisor to cofound a fintech startup.\",\n",
    "    \"Seeking a legal advisor to partner with for a legal tech firm.\",\n",
    "    \"Looking for a healthcare professional to cofound a health tech company.\",\n",
    "    \"Searching for an experienced sales manager to cofound a retail startup.\",\n",
    "    \"Wanting a blockchain expert to start a cryptocurrency company.\",\n",
    "    \"Seeking a machine learning specialist to cofound an analytics firm.\",\n",
    "    \"Need a cybersecurity expert to start a security tech company.\",\n",
    "    \"Looking for a cloud computing expert to cofound a SaaS company.\",\n",
    "    \"Searching for an IoT specialist to start a smart device company.\",\n",
    "    \"Wanting a mobile app developer to cofound an app-based business.\",\n",
    "    \"Seeking a big data analyst to start a data analytics firm.\",\n",
    "    \"Need an e-commerce specialist to cofound an online retail business.\",\n",
    "    \"Looking for a product manager to partner with for a new venture.\",\n",
    "    \"Searching for a biotech researcher to cofound a biotech startup.\",\n",
    "    \"Wanting an AR/VR developer to start an augmented reality company.\",\n",
    "    \"Seeking a digital marketing strategist to cofound a digital agency.\",\n",
    "    \"Need an AI researcher to start an artificial intelligence company.\",\n",
    "    \"Looking for a robotics engineer to cofound a robotics startup.\",\n",
    "    \"Searching for a sustainability expert to start a green tech company.\",\n",
    "    \"Wanting a web developer to cofound a web development business.\",\n",
    "    \"Seeking a content creator to start a media company.\",\n",
    "    \"Need a social media manager to cofound a social media agency.\",\n",
    "    \"Looking for a logistics expert to start a logistics tech company.\",\n",
    "    \"Searching for an educational technologist to cofound an edtech startup.\",\n",
    "    \"Wanting a hardware engineer to start a hardware tech company.\",\n",
    "    \"Seeking a game developer to cofound a gaming studio.\",\n",
    "    \"Need a network engineer to start a networking tech company.\",\n",
    "    \"Looking for a renewable energy expert to cofound a clean energy startup.\",\n",
    "    \"Searching for an interior designer to start a design firm.\",\n",
    "    \"Wanting an HR specialist to cofound a recruitment tech company.\",\n",
    "    \"Seeking a drone technology expert to start a drone tech company.\",\n",
    "    \"Need a quantum computing specialist to cofound a quantum tech firm.\",\n",
    "    \"Looking for a speech recognition expert to start a voice tech company.\",\n",
    "    \"Searching for an automotive engineer to cofound an auto tech startup.\",\n",
    "    \"Wanting a smart home technology specialist to start a smart home company.\",\n",
    "    \"Seeking a wearable tech developer to cofound a wearable tech startup.\",\n",
    "    \"Need a cybersecurity policy expert to start a security consultancy.\",\n",
    "    \"Looking for a privacy expert to cofound a privacy tech company.\",\n",
    "    \"Searching for a supply chain specialist to start a supply chain tech company.\",\n",
    "    \"Wanting an urban planner to cofound a smart city tech firm.\",\n",
    "    \"Seeking a 3D printing specialist to start a 3D printing business.\",\n",
    "    \"Need an aerospace engineer to cofound an aerospace tech company.\",\n",
    "    \"Looking for a space technology expert to start a space tech startup.\",\n",
    "    \"Searching for an automotive software developer to cofound an auto tech firm.\",\n",
    "    \"Wanting a natural language processing expert to start an NLP company.\",\n",
    "    \"Seeking a virtual reality expert to cofound a VR startup.\",\n",
    "    \"Need a software architect to start a software development firm.\",\n",
    "    \"Looking for an augmented reality specialist to cofound an AR startup.\",\n",
    "    \"Searching for a computer vision expert to start a computer vision company.\",\n",
    "    \"Wanting a database administrator to cofound a database tech firm.\",\n",
    "    \"Seeking a telecommunications expert to start a telecom tech company.\",\n",
    "    \"Need a cloud security expert to cofound a cloud security firm.\",\n",
    "    \"Looking for a video game designer to start a game development studio.\",\n",
    "    \"Searching for a fintech developer to cofound a fintech startup.\",\n",
    "    \"Wanting a health informatics specialist to start a health tech company.\",\n",
    "    \"Seeking a medical device developer to cofound a medtech startup.\",\n",
    "    \"Need a construction tech expert to start a construction tech company.\",\n",
    "    \"Looking for a transportation engineer to cofound a transportation tech firm.\",\n",
    "    \"Searching for an e-learning specialist to start an edtech company.\",\n",
    "    \"Wanting a wearable device developer to cofound a wearable tech firm.\",\n",
    "    \"Seeking a hospitality tech expert to start a hospitality tech company.\",\n",
    "    \"Need a retail tech specialist to cofound a retail tech startup.\",\n",
    "    \"Looking for a real estate tech expert to start a real estate tech company.\",\n",
    "    \"Searching for an agricultural tech specialist to cofound an agtech startup.\",\n",
    "    \"Wanting a chemical engineer to start a chemical tech company.\",\n",
    "    \"Seeking a materials scientist to cofound a materials tech startup.\",\n",
    "    \"Need a geneticist to start a genetic tech company.\",\n",
    "    \"Looking for a renewable energy engineer to cofound a renewable tech firm.\",\n",
    "    \"Searching for a biometric technology expert to start a biometrics company.\",\n",
    "    \"Wanting a voice recognition specialist to cofound a voice tech firm.\",\n",
    "    \"Seeking a geospatial analyst to start a geospatial tech company.\",\n",
    "    \"Need a market researcher to cofound a market research firm.\",\n",
    "    \"Looking for a virtual assistant developer to start a virtual assistant company.\",\n",
    "    \"Searching for a smart grid technology expert to cofound a smart grid startup.\",\n",
    "    \"Wanting a business intelligence specialist to start a BI company.\",\n",
    "    \"Seeking a neuromorphic computing expert to cofound a neuromorphic tech firm.\",\n",
    "    \"Need a photonics engineer to start a photonics tech company.\",\n",
    "    \"Looking for a satellite technology expert to cofound a satellite tech startup.\",\n",
    "    \"Searching for an environmental engineer to start an environmental tech company.\",\n",
    "    \"Wanting a gene editing specialist to cofound a gene editing firm.\",\n",
    "    \"Seeking a personalized medicine expert to start a personalized medicine company.\",\n",
    "    \"Need a marine biotechnologist to cofound a marine biotech startup.\",\n",
    "    \"Looking for a sports technology expert to start a sports tech company.\",\n",
    "    \"Searching for a smart textiles developer to cofound a smart textiles firm.\",\n",
    "    \"Wanting a pharmaceutical scientist to start a pharma tech company.\",\n",
    "    \"Seeking a VR content creator to cofound a VR content studio.\",\n",
    "    \"Need an AI ethics specialist to start an AI ethics consultancy.\",\n",
    "    \"Looking for a financial technology expert to cofound a fintech firm.\",\n",
    "    \"Searching for a green building specialist to start a green building company.\",\n",
    "    \"Wanting an innovation strategist to cofound an innovation consultancy.\",\n",
    "    \"Seeking a public health technologist to start a public health tech firm.\",\n",
    "    \"Need a clinical research scientist to cofound a clinical research startup.\",\n",
    "    \"Looking for a veterinary technologist to start a veterinary tech company.\",\n",
    "    \"Searching for a mental health tech specialist to cofound a mental health startup.\",\n",
    "    \"Wanting a hydrology expert to start a water tech company.\",\n",
    "    \"Seeking a computational biologist to cofound a computational biology firm.\",\n",
    "    \"Need a nuclear engineer to start a nuclear tech company.\",\n",
    "    \"Looking for a creative technologist to cofound a creative tech startup.\",\n",
    "    \"Searching for a data privacy advocate to start a data privacy firm.\",\n",
    "    \"Wanting a personal finance advisor to cofound a personal finance tech company.\",\n",
    "    \"Seeking a disaster recovery specialist to start a disaster recovery firm.\",\n",
    "    \"Need a telemedicine expert to cofound a telemedicine startup.\",\n",
    "    \"Looking for a cloud solutions architect to start a cloud solutions company.\",\n",
    "    \"Searching for a proptech developer to cofound a proptech startup.\",\n",
    "    \"Wanting a healthcare data analyst to start a healthcare data firm.\",\n",
    "    \"Seeking a behavioral economist to cofound a behavioral economics startup.\",\n",
    "    \"Need a consumer psychologist to start a consumer tech company.\",\n",
    "    \"Looking for an exercise scientist to cofound a fitness tech startup.\",\n",
    "    \"Searching for a marine ecologist to start a marine tech company.\",\n",
    "    \"Wanting an insurance technology expert to cofound an insurtech firm.\",\n",
    "    \"Seeking a precision agriculture specialist to start a precision agtech company.\",\n",
    "    \"Need a human-centered designer to cofound a human-centered design firm.\",\n",
    "    \"Looking for a smart mobility expert to start a smart mobility company.\",\n",
    "    \"Searching for a pet technology developer to cofound a pet tech startup.\",\n",
    "    \"Wanting a personalized nutrition expert to start a personalized nutrition company.\",\n",
    "    \"Seeking a cultural technologist to cofound a cultural tech firm.\",\n",
    "    \"Need a microbial technologist to start a microbial tech company.\",\n",
    "    \"Looking for an electromobility specialist to cofound an electromobility startup.\",\n",
    "    \"Searching for a civic technology expert to start a civic tech company.\",\n",
    "    \"Wanting a bioinformatics specialist to cofound a bioinformatics firm.\",\n",
    "    \"Seeking a fashion technologist to start a fashion tech company.\",\n",
    "    \"Need a holography expert to cofound a holography tech startup.\",\n",
    "    \"Looking for a quantum cryptography specialist to start a quantum cryptography firm.\",\n",
    "    \"Searching for an exoskeleton technology expert to cofound an exoskeleton tech company.\",\n",
    "    \"Wanting a climate data analyst to start a climate tech company.\",\n",
    "    \"Seeking an autonomous vehicle developer to cofound an autonomous vehicle firm.\",\n",
    "    \"Need a mobile health technology expert to start a mobile health tech company.\",\n",
    "    \"Looking for an artificial general intelligence researcher to cofound an AGI startup.\",\n",
    "    \"Searching for a sensory technology specialist to start a sensory tech company.\",\n",
    "    \"Wanting a synthetic biology expert to cofound a synthetic biology firm.\",\n",
    "    \"Seeking a smart contract developer to start a blockchain tech company.\",\n",
    "    \"Need an AI-powered marketing specialist to cofound a marketing tech firm.\",\n",
    "    \"Looking for a real-time data analyst to start a real-time data company.\",\n",
    "    \"Searching for an energy storage expert to cofound an energy storage tech firm.\",\n",
    "    \"Wanting a space tourism developer to start a space tourism company.\",\n",
    "    \"Seeking a space resource utilization specialist to cofound a space resource tech firm.\",\n",
    "    \"Need a social robotics expert to start a social robotics company.\",\n",
    "    \"Looking for a gesture recognition specialist to cofound a gesture tech startup.\",\n",
    "    \"Searching for an exoplanet scientist to start a space exploration company.\",\n",
    "    \"Wanting a bioethicist to cofound a bioethics tech firm.\",\n",
    "    \"Seeking a microbial fuel cell specialist to start a bioenergy tech company.\",\n",
    "    \"Need a hydroponics expert to cofound an urban farming tech startup.\",\n",
    "    \"Looking for a distributed ledger technologist to start a blockchain tech firm.\",\n",
    "    \"Searching for a smart fabric developer to cofound a wearable tech company.\",\n",
    "    \"Wanting a cognitive computing specialist to start a cognitive tech firm.\",\n",
    "    \"Seeking a space habitat engineer to cofound a space tech company.\",\n",
    "    \"Need an intelligent transportation systems expert to start a transportation tech firm.\",\n",
    "    \"Looking for a biosensor developer to cofound a biosensor tech startup.\",\n",
    "    \"Searching for a nanoengineering expert to start a nanotech company.\",\n",
    "    \"Wanting a behavioral data analyst to cofound a behavioral tech firm.\",\n",
    "    \"Seeking a precision medicine technologist to start a precision medicine company.\",\n",
    "    \"Need an autonomous drone developer to cofound a drone tech startup.\"]\n",
    "\n",
    "\n"
   ]
  },
  {
   "cell_type": "code",
   "execution_count": null,
   "id": "098e9d02-3650-47c0-93b1-759be45f51c6",
   "metadata": {
    "tags": []
   },
   "outputs": [],
   "source": [
    "founders = pd.DataFrame(founder_description)\n",
    "founders = founders.rename(columns  = {0:'Description'})\n",
    "founders['Type'] = 'founder'"
   ]
  },
  {
   "cell_type": "code",
   "execution_count": null,
   "id": "d5abe60e-e469-4344-a2ae-b40d6f8b4dc4",
   "metadata": {
    "tags": []
   },
   "outputs": [],
   "source": [
    "talent_description =[\n",
    "    \"I'm a skilled programmer looking to join a startup.\",\n",
    "    \"Experienced data scientist seeking to partner with a founder.\",\n",
    "    \"Talented UX designer looking for a cofounder with a strong business plan.\",\n",
    "    \"Project manager in search of a tech-savvy founder to start a business.\",\n",
    "    \"DevOps engineer looking to cofound a software company.\",\n",
    "    \"Marketing expert seeking a founder to start an online business.\",\n",
    "    \"Financial advisor looking for a fintech startup to join.\",\n",
    "    \"Legal advisor in search of a legal tech startup to cofound.\",\n",
    "    \"Healthcare professional seeking a health tech founder to partner with.\",\n",
    "    \"Sales manager looking for a retail startup to cofound.\",\n",
    "    \"Blockchain expert in search of a cryptocurrency company to start.\",\n",
    "    \"Machine learning specialist looking to cofound an analytics firm.\",\n",
    "    \"Cybersecurity expert seeking a security tech company to join.\",\n",
    "    \"Cloud computing expert in search of a SaaS startup to cofound.\",\n",
    "    \"IoT specialist looking to partner with a smart device company founder.\",\n",
    "    \"Mobile app developer seeking a cofounder for an app-based business.\",\n",
    "    \"Big data analyst looking to start a data analytics firm.\",\n",
    "    \"E-commerce specialist seeking a cofounder for an online retail business.\",\n",
    "    \"Product manager in search of a new venture to cofound.\",\n",
    "    \"Biotech researcher looking to join a biotech startup as a cofounder.\",\n",
    "    \"AR/VR developer seeking to start an augmented reality company.\",\n",
    "    \"Digital marketing strategist looking to cofound a digital agency.\",\n",
    "    \"AI researcher seeking to partner with a founder for an AI company.\",\n",
    "    \"Robotics engineer looking to start a robotics tech company.\",\n",
    "    \"Sustainability expert in search of a green tech startup to join.\",\n",
    "    \"Web developer seeking a cofounder for a web development business.\",\n",
    "    \"Content creator looking to start a media company.\",\n",
    "    \"Social media manager seeking a cofounder for a social media agency.\",\n",
    "    \"Logistics expert looking to join a logistics tech startup.\",\n",
    "    \"Educational technologist seeking a cofounder for an edtech startup.\",\n",
    "    \"Hardware engineer looking to start a hardware tech company.\",\n",
    "    \"Game developer in search of a cofounder for a gaming studio.\",\n",
    "    \"Network engineer seeking to start a networking tech company.\",\n",
    "    \"Renewable energy expert looking to join a clean energy startup.\",\n",
    "    \"Interior designer seeking a cofounder for a design firm.\",\n",
    "    \"HR specialist looking to start a recruitment tech company.\",\n",
    "    \"Drone technology expert in search of a drone tech startup.\",\n",
    "    \"Quantum computing specialist looking to cofound a quantum tech firm.\",\n",
    "    \"Speech recognition expert seeking a voice tech company to join.\",\n",
    "    \"Automotive engineer in search of a cofounder for an auto tech startup.\",\n",
    "    \"Smart home technology specialist looking to start a smart home company.\",\n",
    "    \"Wearable tech developer seeking a cofounder for a wearable tech startup.\",\n",
    "    \"Cybersecurity policy expert looking to start a security consultancy.\",\n",
    "    \"Privacy expert in search of a privacy tech company to join.\",\n",
    "    \"Supply chain specialist seeking to start a supply chain tech company.\",\n",
    "    \"Urban planner looking to cofound a smart city tech firm.\",\n",
    "    \"3D printing specialist seeking to start a 3D printing business.\",\n",
    "    \"Aerospace engineer looking to join an aerospace tech company.\",\n",
    "    \"Space technology expert in search of a space tech startup.\",\n",
    "    \"Automotive software developer looking to start an auto tech firm.\",\n",
    "    \"Natural language processing expert seeking a cofounder for an NLP company.\",\n",
    "    \"Virtual reality expert looking to start a VR tech company.\",\n",
    "    \"Software architect seeking to cofound a software development firm.\",\n",
    "    \"Augmented reality specialist looking to join an AR tech startup.\",\n",
    "    \"Computer vision expert seeking a cofounder for a computer vision company.\",\n",
    "    \"Database administrator looking to start a database tech firm.\",\n",
    "    \"Telecommunications expert seeking to cofound a telecom tech company.\",\n",
    "    \"Cloud security expert looking to join a cloud security firm.\",\n",
    "    \"Video game designer seeking a cofounder for a game development studio.\",\n",
    "    \"Fintech developer looking to join a fintech startup.\",\n",
    "    \"Health informatics specialist seeking a cofounder for a health tech company.\",\n",
    "    \"Medical device developer looking to start a medtech startup.\",\n",
    "    \"Construction tech expert in search of a construction tech company.\",\n",
    "    \"Transportation engineer looking to join a transportation tech firm.\",\n",
    "    \"E-learning specialist seeking a cofounder for an edtech company.\",\n",
    "    \"Wearable device developer looking to join a wearable tech firm.\",\n",
    "    \"Hospitality tech expert seeking a cofounder for a hospitality tech company.\",\n",
    "    \"Retail tech specialist looking to join a retail tech startup.\",\n",
    "    \"Real estate tech expert seeking to start a real estate tech company.\",\n",
    "    \"Agricultural tech specialist looking to join an agtech startup.\",\n",
    "    \"Chemical engineer seeking a cofounder for a chemical tech company.\",\n",
    "    \"Materials scientist looking to join a materials tech startup.\",\n",
    "    \"Geneticist in search of a genomics tech company to cofound.\",\n",
    "    \"Renewable energy engineer seeking a cofounder for a renewable tech firm.\",\n",
    "    \"Biometric technology expert looking to start a biometrics company.\",\n",
    "    \"Voice recognition specialist seeking to join a voice tech firm.\",\n",
    "    \"Geospatial analyst looking to start a geospatial tech company.\",\n",
    "    \"Market researcher seeking a cofounder for a market research firm.\",\n",
    "    \"Virtual assistant developer looking to join a virtual assistant company.\",\n",
    "    \"Smart grid technology expert seeking to start a smart grid startup.\",\n",
    "    \"Business intelligence specialist looking to join a BI company.\",\n",
    "    \"Neuromorphic computing expert seeking a cofounder for a neuromorphic tech firm.\",\n",
    "    \"Photonics engineer looking to start a photonics tech company.\",\n",
    "    \"Satellite technology expert seeking to join a satellite tech startup.\",\n",
    "    \"Environmental engineer looking to start an environmental tech company.\",\n",
    "    \"Gene editing specialist seeking to cofound a gene editing firm.\",\n",
    "    \"Personalized medicine expert looking to join a personalized medicine company.\",\n",
    "    \"Marine biotechnologist seeking a cofounder for a marine biotech startup.\",\n",
    "    \"Sports technology expert looking to start a sports tech company.\",\n",
    "    \"Smart textiles developer seeking a cofounder for a smart textiles firm.\",\n",
    "    \"Pharmaceutical scientist looking to join a pharma tech company.\",\n",
    "    \"VR content creator seeking to start a VR content studio.\",\n",
    "    \"AI ethics specialist looking to cofound an AI ethics consultancy.\",\n",
    "    \"Financial technology expert seeking to join a fintech firm.\",\n",
    "    \"Green building specialist looking to start a green building company.\",\n",
    "    \"Innovation strategist seeking a cofounder for an innovation consultancy.\",\n",
    "    \"Public health technologist looking to join a public health tech firm.\",\n",
    "    \"Clinical research scientist seeking a cofounder for a clinical research startup.\",\n",
    "    \"Veterinary technologist looking to join a veterinary tech company.\",\n",
    "    \"Mental health tech specialist seeking to cofound a mental health startup.\",\n",
    "    \"Hydrology expert looking to start a water tech company.\",\n",
    "    \"Computational biologist seeking a cofounder for a computational biology firm.\",\n",
    "    \"Nuclear engineer looking to start a nuclear tech company.\",\n",
    "    \"Creative technologist seeking to join a creative tech startup.\",\n",
    "    \"Data privacy advocate looking to cofound a data privacy firm.\",\n",
    "    \"Personal finance advisor seeking to join a personal finance tech company.\",\n",
    "    \"Disaster recovery specialist looking to start a disaster recovery firm.\",\n",
    "    \"Telemedicine expert seeking a cofounder for a telemedicine startup.\",\n",
    "    \"Cloud solutions architect looking to join a cloud solutions company.\",\n",
    "    \"Proptech developer seeking to cofound a proptech startup.\",\n",
    "    \"Healthcare data analyst looking to join a healthcare data firm.\",\n",
    "    \"Behavioral economist seeking a cofounder for a behavioral economics startup.\",\n",
    "    \"Consumer psychologist looking to start a consumer tech company.\",\n",
    "    \"Exercise scientist seeking a cofounder for a fitness tech startup.\",\n",
    "    \"Marine ecologist looking to join a marine tech company.\",\n",
    "    \"Insurance technology expert seeking to cofound an insurtech firm.\",\n",
    "    \"Precision agriculture specialist looking to start a precision agtech company.\",\n",
    "    \"Human-centered designer seeking a cofounder for a human-centered design firm.\",\n",
    "    \"Smart mobility expert looking to join a smart mobility company.\",\n",
    "    \"Pet technology developer seeking a cofounder for a pet tech startup.\",\n",
    "    \"Personalized nutrition expert looking to join a personalized nutrition company.\",\n",
    "    \"Cultural technologist seeking to cofound a cultural tech firm.\",\n",
    "    \"Microbial technologist looking to start a microbial tech company.\",\n",
    "    \"Electromobility specialist seeking a cofounder for an electromobility startup.\",\n",
    "    \"Civic technology expert looking to join a civic tech company.\",\n",
    "    \"Bioinformatics specialist seeking to cofound a bioinformatics firm.\",\n",
    "    \"Fashion technologist looking to start a fashion tech company.\",\n",
    "    \"Holography expert seeking a cofounder for a holography tech startup.\",\n",
    "    \"Quantum cryptography specialist looking to join a quantum cryptography firm.\",\n",
    "    \"Exoskeleton technology expert seeking to cofound an exoskeleton tech company.\",\n",
    "    \"Climate data analyst looking to start a climate tech company.\",\n",
    "    \"Autonomous vehicle developer seeking a cofounder for an autonomous vehicle firm.\",\n",
    "    \"Mobile health technology expert looking to join a mobile health tech company.\",\n",
    "    \"Artificial general intelligence researcher seeking a cofounder for an AGI startup.\",\n",
    "    \"Sensory technology specialist looking to start a sensory tech company.\",\n",
    "    \"Synthetic biology expert seeking a cofounder for a synthetic biology firm.\",\n",
    "    \"Smart contract developer looking to join a blockchain tech company.\",\n",
    "    \"AI-powered marketing specialist seeking a cofounder for a marketing tech firm.\",\n",
    "    \"Real-time data analyst looking to start a real-time data company.\"]"
   ]
  },
  {
   "cell_type": "code",
   "execution_count": null,
   "id": "651ea734-3596-4295-935f-bd47ecaf8a16",
   "metadata": {
    "tags": []
   },
   "outputs": [],
   "source": [
    "talent = pd.DataFrame(talent_description)\n",
    "talent = talent.rename(columns  = {0:'Description'})\n",
    "talent['Type'] = 'talent'\n",
    "df = pd.concat([founders,talent],axis = 0)\n"
   ]
  },
  {
   "cell_type": "code",
   "execution_count": null,
   "id": "0f1ab761-7081-4658-aac8-07acef1ad456",
   "metadata": {
    "tags": []
   },
   "outputs": [],
   "source": [
    "df = pd.concat([founders,talent],axis = 0)"
   ]
  },
  {
   "cell_type": "code",
   "execution_count": null,
   "id": "62929023-73a0-4cb1-bc8c-db8136aeeefe",
   "metadata": {
    "tags": []
   },
   "outputs": [],
   "source": [
    "df['embeddings'] = df['Description'].apply(lambda x:get_document_embeddings(x))"
   ]
  },
  {
   "cell_type": "code",
   "execution_count": null,
   "id": "ec229140-53b1-4b80-85cc-a4c31e806b67",
   "metadata": {
    "tags": []
   },
   "outputs": [],
   "source": [
    "# Build UMAP Projection\n",
    "umap_model = umap.UMAP(n_neighbors=2, n_components = 2, min_dist=0.000, metric='correlation', random_state=42)\n",
    "topics_2d = umap_model.fit_transform(df['embeddings'].tolist())\n",
    "df['X'] = topics_2d[:, 0]\n",
    "df['Y'] = topics_2d[:, 1]\n",
    "#df_filtered_with_filtered_comments['Z'] = topics_2d[:, 2]\n",
    "\n",
    "#df_filtered_with_filtered_comments['Z'] = topics_2d[:, 2]\n",
    "\n",
    "# Cluster with HDBSCAN\n",
    "cluster = hdbscan.HDBSCAN(min_cluster_size=3, min_samples = 5, metric = 'euclidean')\n",
    "df['cluster'] = cluster.fit_predict(topics_2d)\n",
    "\n",
    "\n",
    "unique_clusters = df['cluster'].unique()\n",
    "num_clusters = len(unique_clusters) - 1"
   ]
  },
  {
   "cell_type": "code",
   "execution_count": null,
   "id": "5bac1246-aa59-4799-8ae5-769f3f472663",
   "metadata": {
    "tags": []
   },
   "outputs": [],
   "source": [
    "from sklearn.feature_extraction.text import TfidfVectorizer\n",
    "from sklearn.decomposition import NMF\n",
    "def get_top_n_words(tfidf, nmf, n_top_words=5):\n",
    "    \"\"\"Extract top words from NMF components.\"\"\"\n",
    "    feature_names = tfidf.get_feature_names_out()\n",
    "    top_words_dict = {}\n",
    "    for topic_idx, topic in enumerate(nmf.components_):\n",
    "        top_feature_ind = topic.argsort()[:-n_top_words - 1:-1]\n",
    "        top_words_dict[topic_idx] = [feature_names[i] for i in top_feature_ind]\n",
    "    return top_words_dict\n"
   ]
  },
  {
   "cell_type": "code",
   "execution_count": null,
   "id": "80d49805-fab9-49c3-82e8-e5fa91bc9160",
   "metadata": {
    "tags": []
   },
   "outputs": [],
   "source": [
    "def get_top_n_words(tfidf, nmf, n_top_words=5):\n",
    "    \"\"\"Extract top words from NMF components.\"\"\"\n",
    "    feature_names = tfidf.get_feature_names_out()\n",
    "    top_words_dict = {}\n",
    "    for topic_idx, topic in enumerate(nmf.components_):\n",
    "        top_feature_ind = topic.argsort()[:-n_top_words - 1:-1]\n",
    "        top_words_dict[topic_idx] = [feature_names[i] for i in top_feature_ind]\n",
    "    return top_words_dict\n"
   ]
  },
  {
   "cell_type": "code",
   "execution_count": null,
   "id": "54513c67-0085-46f7-b55e-63781af1b979",
   "metadata": {
    "tags": []
   },
   "outputs": [],
   "source": [
    "from collections import defaultdict\n"
   ]
  },
  {
   "cell_type": "code",
   "execution_count": null,
   "id": "89172f31-150b-4b9e-8680-ce8bae8c0f8c",
   "metadata": {
    "tags": []
   },
   "outputs": [],
   "source": [
    "# 1. Efficient Cluster Grouping\n",
    "cluster_texts = defaultdict(list)  # Store texts by cluster label\n",
    "\n",
    "# stop_words = set(stopwords.words('english'))\n",
    "# stop_words.update([\n",
    "#     \"nan\", \"Hey\", \"Hi\", \"coming\", \"Mr\", \"M\",\n",
    "#     \"https\", \"www\", \"WWW\", \"video\", \".com\", \"bit\", \"ly\", \"true\", \"false\",\"spark\",\"nudge\"\n",
    "# ])\n",
    "for cluster, text in zip(df['cluster'], df['Description']):\n",
    "    cluster_texts[cluster].append(text)\n",
    "nltk.download('stopwords')\n",
    "stop_words = list(stopwords.words('english'))  # Convert to list\n",
    "vectorizer = TfidfVectorizer(stop_words=stop_words)\n",
    "all_texts = [text for texts in cluster_texts.values() for text in texts]\n",
    "tfidf_matrix = vectorizer.fit_transform(all_texts)\n",
    "feature_names = vectorizer.get_feature_names_out()\n",
    "# 3. Extract Top Words PER CLUSTER\n",
    "cluster_top_words = {}\n",
    "for cluster, texts in cluster_texts.items():\n",
    "    # Find indices of this cluster's documents in the overall matrix\n",
    "    cluster_indices = [all_texts.index(text) for text in texts]\n",
    "\n",
    "    # Get TF-IDF scores for only those documents\n",
    "    cluster_tfidf = tfidf_matrix[cluster_indices, :]\n",
    "\n",
    "    # Sum scores within the cluster to get per-word importance\n",
    "    word_scores = cluster_tfidf.sum(axis=0).A1\n",
    "\n",
    "    # Sort by score, take top 20 words (or however many you want)\n",
    "    top_indices = word_scores.argsort()[-20:][::-1]\n",
    "    top_words = [feature_names[i] for i in top_indices]\n",
    "\n",
    "    cluster_top_words[cluster] = \" \".join(top_words)\n",
    "\n",
    "# 4. Assign Top Words and Colors to DataFrame (same as before)\n",
    "df['cluster_top_words'] = df['cluster'].map(cluster_top_words)"
   ]
  },
  {
   "cell_type": "code",
   "execution_count": null,
   "id": "cbcdd480-5789-449f-800f-fc073fdbea39",
   "metadata": {
    "tags": []
   },
   "outputs": [],
   "source": [
    "df.head()"
   ]
  },
  {
   "cell_type": "code",
   "execution_count": null,
   "id": "f761eef5-ad23-4c28-8074-6095f9c000e3",
   "metadata": {
    "tags": []
   },
   "outputs": [],
   "source": [
    "import random\n"
   ]
  },
  {
   "cell_type": "code",
   "execution_count": null,
   "id": "900451d9-68ad-432e-ba7d-6326b0d6a439",
   "metadata": {
    "tags": []
   },
   "outputs": [],
   "source": [
    "hex_colors = [\n",
    "    '#00AA61', '#017551', '#95F9AF', '#E28DDE', '#FCBC68', '#75EABD', '#CBB4F9', '#5018A8',\n",
    "    '#029B55', '#F7B7F1', '#DEFCE5', '#D8301A', '#037F44', '#F96041', '#330B7F', '#035E42',\n",
    "    '#F29A30', '#CECECE', '#F9E7D4', '#A5160F', '#D17B1E', '#DEF9EE', '#02442E', '#005D40',\n",
    "    '#474747', '#02442E', '#035E42', '#F9E7D4', '#F29A30', '#D17B1E', '#F96041', '#A5160F',\n",
    "    '#035E42', '#330B7F', '#CECECE', '#FF5733', '#33FF57', '#3357FF', '#F333FF', '#FF33F3',\n",
    "    '#33FFF3', '#F3FF33', '#33F3FF', '#FF3380', '#8033FF', '#FF8C33', '#3380FF', '#80FF33',\n",
    "    '#3380FF', '#FF5733', '#80FF33', '#3380FF', '#FF5733', '#33FF57', '#3357FF', '#F333FF',\n",
    "    '#FF33F3', '#33FFF3', '#F3FF33', '#33F3FF', '#FF3380', '#8033FF', '#FF8C33', '#3380FF',\n",
    "    '#80FF33', '#3380FF', '#FF5733', '#80FF33', '#3380FF', '#FF5733', '#33FF57', '#3357FF',\n",
    "    '#F333FF', '#FF33F3', '#33FFF3', '#F3FF33', '#33F3FF', '#FF3380', '#8033FF', '#FF8C33',\n",
    "    '#3380FF', '#80FF33', '#3380FF', '#FF5733', '#80FF33', '#3380FF', '#FF5733', '#33FF57',\n",
    "    '#3357FF', '#F333FF', '#FF33F3', '#33FFF3', '#F3FF33', '#33F3FF', '#FF3380', '#8033FF'\n",
    "]\n",
    "\n",
    "\n",
    "cluster_labels = list(set([random.randint(0, len(df['cluster'].unique())) for _ in range(100)]))  # Example cluster labels\n",
    "\n",
    "# Ensure we have enough colors for the clusters\n",
    "if len(hex_colors) < len(cluster_labels):\n",
    "    raise ValueError(\"Not enough colors for the number of clusters\")\n",
    "\n",
    "# Map each cluster label to a color\n",
    "cluster_colors = {label: hex_colors[i] for i, label in enumerate(cluster_labels)}\n",
    "clusters_colors_df = pd.DataFrame(list(cluster_colors.items()), columns=['cluster', 'Color'])\n"
   ]
  },
  {
   "cell_type": "code",
   "execution_count": null,
   "id": "ecf5c2a5-22c0-4283-94ef-701976977d72",
   "metadata": {
    "tags": []
   },
   "outputs": [],
   "source": [
    "df['cluster'].unique()"
   ]
  },
  {
   "cell_type": "code",
   "execution_count": null,
   "id": "28640350-a4d6-446b-86ec-1272581d1161",
   "metadata": {
    "tags": []
   },
   "outputs": [],
   "source": [
    "df = pd.merge(df,clusters_colors_df, how = 'left', on = 'cluster')"
   ]
  },
  {
   "cell_type": "code",
   "execution_count": null,
   "id": "9b312944-2aa4-4037-8657-f50e90d2ca09",
   "metadata": {
    "tags": []
   },
   "outputs": [],
   "source": [
    "!ls"
   ]
  },
  {
   "cell_type": "code",
   "execution_count": null,
   "id": "cf1a8037-774e-412d-8746-8d82e2cd6e52",
   "metadata": {
    "tags": []
   },
   "outputs": [],
   "source": [
    "from IPython.display import Image\n",
    "\n",
    "# Specify the path to your image\n",
    "image_path = 'rocket/landing/static/landing/Rocket Logo.png'\n",
    "\n",
    "# Display the image\n",
    "Image(filename=image_path)"
   ]
  },
  {
   "cell_type": "code",
   "execution_count": 148,
   "id": "d5fe5b4b-e4f6-45c4-81bd-aad98f2a9fc9",
   "metadata": {
    "tags": []
   },
   "outputs": [
    {
     "data": {
      "application/vnd.plotly.v1+json": {
       "config": {
        "plotlyServerURL": "https://plot.ly"
       },
       "data": [
        {
         "customdata": [
          [
           "I'm looking for a skilled programmer to join my startup.",
           "company looking start green startup cofound research tech vr reality expert nuclear creative satellite database climate seeking join market building"
          ],
          [
           "Seeking a talented data scientist to cofound an AI company.",
           "sales retail ai manager cognitive cofound talented artificial experienced startup intelligence researcher scientist data company computing start need searching wanting"
          ],
          [
           "Need a UX designer to partner with for a new app.",
           "web designer software development interior design ux firm business architect cofounder seeking need developer app new plan strong talented partner"
          ],
          [
           "Searching for a project manager to help lead a tech venture.",
           "3d printing project business manager savvy help lead venture start founder search specialist tech seeking searching edtech editing educational electromobility"
          ],
          [
           "Looking for a DevOps engineer to cofound a software company.",
           "company looking start green startup cofound research tech vr reality expert nuclear creative satellite database climate seeking join market building"
          ],
          [
           "Wanting to find a marketing expert to start an online business.",
           "recruitment hr online marketing business wanting start specialist find founder expert company tech looking cofound seeking edtech electromobility energy editing"
          ],
          [
           "In need of a financial advisor to cofound a fintech startup.",
           "fintech financial advisor startup cofound looking technology need join searching developer firm expert engineer energy environmental estate educational ethics edtech"
          ],
          [
           "Seeking a legal advisor to partner with for a legal tech firm.",
           "privacy sensory consumer legal tech company psychologist advisor search start technology looking specialist expert cofound partner join searching need startup"
          ],
          [
           "Looking for a healthcare professional to cofound a health tech company.",
           "nutrition personalized professional healthcare health company founder partner looking tech expert cofound wanting seeking join start digital disaster engineer energy"
          ],
          [
           "Searching for an experienced sales manager to cofound a retail startup.",
           "sales retail ai manager cognitive cofound talented artificial experienced startup intelligence researcher scientist data company computing start need searching wanting"
          ],
          [
           "Wanting a blockchain expert to start a cryptocurrency company.",
           "company looking start green startup cofound research tech vr reality expert nuclear creative satellite database climate seeking join market building"
          ],
          [
           "Seeking a machine learning specialist to cofound an analytics firm.",
           "geneticist machine learning analytics natural nlp language processing company genetic cofound genomics specialist firm search seeking expert start tech need"
          ],
          [
           "Need a cybersecurity expert to start a security tech company.",
           "cybersecurity security policy expert consultancy need start company tech join seeking looking editing edtech educational energy electromobility engineer environmental estate"
          ],
          [
           "Looking for a cloud computing expert to cofound a SaaS company.",
           "proptech saas cloud computing cofound startup developer expert search searching looking company seeking economist edtech editing ecologist educational electromobility energy"
          ],
          [
           "Searching for an IoT specialist to start a smart device company.",
           "smart home iot device specialist company start technology founder partner searching looking wanting economist ethics estate design cultural environmental engineer"
          ],
          [
           "Wanting a mobile app developer to cofound an app-based business.",
           "app exercise fitness scientist based mobile business cofounder startup developer seeking cofound tech wanting looking electromobility educational energy environmental edtech"
          ],
          [
           "Seeking a big data analyst to start a data analytics firm.",
           "fintech cloud security data firm big analytics join analyst expert financial looking seeking technology start developer startup need cofound engineer"
          ],
          [
           "Need an e-commerce specialist to cofound an online retail business.",
           "company looking start green startup cofound research tech vr reality expert nuclear creative satellite database climate seeking join market building"
          ],
          [
           "Looking for a product manager to partner with for a new venture.",
           "mental health product new venture manager cofound partner search specialist startup tech searching looking seeking energy electromobility educational edtech editing"
          ],
          [
           "Searching for a biotech researcher to cofound a biotech startup.",
           "biotech biosensor researcher bioethicist bioethics startup cofound looking wanting tech searching firm cofounder join developer engineer environmental energy electromobility estate"
          ],
          [
           "Wanting an AR/VR developer to start an augmented reality company.",
           "company looking start green startup cofound research tech vr reality expert nuclear creative satellite database climate seeking join market building"
          ],
          [
           "Seeking a digital marketing strategist to cofound a digital agency.",
           "digital assistant virtual strategist agency marketing looking developer cofound company join seeking start disaster devops exoplanet exercise ethics estate environmental"
          ],
          [
           "Need an AI researcher to start an artificial intelligence company.",
           "sales retail ai manager cognitive cofound talented artificial experienced startup intelligence researcher scientist data company computing start need searching wanting"
          ],
          [
           "Looking for a robotics engineer to cofound a robotics startup.",
           "robotics exoskeleton civic technology expert company biometrics biometric looking gesture start searching tech social cofound engineer startup recognition join need"
          ],
          [
           "Searching for a sustainability expert to start a green tech company.",
           "company looking start green startup cofound research tech vr reality expert nuclear creative satellite database climate seeking join market building"
          ],
          [
           "Wanting a web developer to cofound a web development business.",
           "web designer software development interior design ux firm business architect cofounder seeking need developer app new plan strong talented partner"
          ],
          [
           "Seeking a content creator to start a media company.",
           "vision computer media creator content company start seeking expert looking searching cofounder editing edtech educational web economist energy engineer environmental"
          ],
          [
           "Need a social media manager to cofound a social media agency.",
           "recovery disaster social telecommunications telecom media seeking agency manager expert start company tech cofound specialist firm need cofounder looking energy"
          ],
          [
           "Looking for a logistics expert to start a logistics tech company.",
           "logistics cultural grid chain supply bi smart intelligence specialist business company tech start expert seeking technologist looking join startup cofound"
          ],
          [
           "Searching for an educational technologist to cofound an edtech startup.",
           "edtech educational learning technologist searching cofounder specialist startup seeking company start cofound electromobility economist energy engineer environmental estate editing ethics"
          ],
          [
           "Wanting a hardware engineer to start a hardware tech company.",
           "hardware engineer networking network start company tech need wanting seeking looking environmental estate ethics economist energy electromobility educational edtech editing"
          ],
          [
           "Seeking a game developer to cofound a gaming studio.",
           "game studio gaming video development designer developer cofounder search seeking cofound looking start digital data ethics estate environmental engineer energy"
          ],
          [
           "Need a network engineer to start a networking tech company.",
           "hardware engineer networking network start company tech need wanting seeking looking environmental estate ethics economist energy electromobility educational edtech editing"
          ],
          [
           "Looking for a renewable energy expert to cofound a clean energy startup.",
           "energy renewable clean storage engineer firm expert looking cofound tech startup cofounder join searching seeking edtech editing educational economist electromobility"
          ],
          [
           "Searching for an interior designer to start a design firm.",
           "web designer software development interior design ux firm business architect cofounder seeking need developer app new plan strong talented partner"
          ],
          [
           "Wanting an HR specialist to cofound a recruitment tech company.",
           "recruitment hr online marketing business wanting start specialist find founder expert company tech looking cofound seeking edtech electromobility energy editing"
          ],
          [
           "Seeking a drone technology expert to start a drone tech company.",
           "drone technology tech autonomous startup expert search need developer seeking start cofound company edtech web educational electromobility engineer environmental estate"
          ],
          [
           "Need a quantum computing specialist to cofound a quantum tech firm.",
           "quantum cryptography specialist computing firm looking cofound tech need join start electromobility educational economist edtech editing engineer environmental estate ethics"
          ],
          [
           "Looking for a speech recognition expert to start a voice tech company.",
           "voice geospatial recognition innovation speech tech strategist seeking consultancy analyst company join start wanting expert specialist firm looking cofound cofounder"
          ],
          [
           "Searching for an automotive engineer to cofound an auto tech startup.",
           "automotive auto software engineer tech searching developer startup firm cofound search cofounder looking start educational electromobility edtech energy environmental editing"
          ],
          [
           "Wanting a smart home technology specialist to start a smart home company.",
           "smart home iot device specialist company start technology founder partner searching looking wanting economist ethics estate design cultural environmental engineer"
          ],
          [
           "Seeking a wearable tech developer to cofound a wearable tech startup.",
           "wearable developer tech device startup firm seeking cofound wanting cofounder join looking educational editing edtech electromobility estate economist energy ethics"
          ],
          [
           "Need a cybersecurity policy expert to start a security consultancy.",
           "cybersecurity security policy expert consultancy need start company tech join seeking looking editing edtech educational energy electromobility engineer environmental estate"
          ],
          [
           "Looking for a privacy expert to cofound a privacy tech company.",
           "privacy sensory consumer legal tech company psychologist advisor search start technology looking specialist expert cofound partner join searching need startup"
          ],
          [
           "Searching for a supply chain specialist to start a supply chain tech company.",
           "logistics cultural grid chain supply bi smart intelligence specialist business company tech start expert seeking technologist looking join startup cofound"
          ],
          [
           "Wanting an urban planner to cofound a smart city tech firm.",
           "behavioral city planner urban economics economist smart cofound firm wanting tech startup analyst seeking data cofounder looking web edtech educational"
          ],
          [
           "Seeking a 3D printing specialist to start a 3D printing business.",
           "3d printing project business manager savvy help lead venture start founder search specialist tech seeking searching edtech editing educational electromobility"
          ],
          [
           "Need an aerospace engineer to cofound an aerospace tech company.",
           "space aerospace engineer tourism resource company tech habitat cofound utilization seeking need join wanting developer looking specialist firm start economist"
          ],
          [
           "Looking for a space technology expert to start a space tech startup.",
           "space technology exploration exoplanet startup expert scientist search start tech searching looking company editing environmental edtech educational energy engineer electromobility"
          ],
          [
           "Searching for an automotive software developer to cofound an auto tech firm.",
           "automotive auto software engineer tech searching developer startup firm cofound search cofounder looking start educational electromobility edtech energy environmental editing"
          ],
          [
           "Wanting a natural language processing expert to start an NLP company.",
           "geneticist machine learning analytics natural nlp language processing company genetic cofound genomics specialist firm search seeking expert start tech need"
          ],
          [
           "Seeking a virtual reality expert to cofound a VR startup.",
           "company looking start green startup cofound research tech vr reality expert nuclear creative satellite database climate seeking join market building"
          ],
          [
           "Need a software architect to start a software development firm.",
           "web designer software development interior design ux firm business architect cofounder seeking need developer app new plan strong talented partner"
          ],
          [
           "Looking for an augmented reality specialist to cofound an AR startup.",
           "ar augmented reality agi general startup artificial intelligence researcher looking specialist cofound join cofounder seeking tech economist editing web edtech"
          ],
          [
           "Searching for a computer vision expert to start a computer vision company.",
           "vision computer media creator content company start seeking expert looking searching cofounder editing edtech educational web economist energy engineer environmental"
          ],
          [
           "Wanting a database administrator to cofound a database tech firm.",
           "company looking start green startup cofound research tech vr reality expert nuclear creative satellite database climate seeking join market building"
          ],
          [
           "Seeking a telecommunications expert to start a telecom tech company.",
           "recovery disaster social telecommunications telecom media seeking agency manager expert start company tech cofound specialist firm need cofounder looking energy"
          ],
          [
           "Need a cloud security expert to cofound a cloud security firm.",
           "fintech cloud security data firm big analytics join analyst expert financial looking seeking technology start developer startup need cofound engineer"
          ],
          [
           "Looking for a video game designer to start a game development studio.",
           "game studio gaming video development designer developer cofounder search seeking cofound looking start digital data ethics estate environmental engineer energy"
          ],
          [
           "Searching for a fintech developer to cofound a fintech startup.",
           "fintech financial advisor startup cofound looking technology need join searching developer firm expert engineer energy environmental estate educational ethics edtech"
          ],
          [
           "Wanting a health informatics specialist to start a health tech company.",
           "health healthcare data informatics analyst wanting specialist firm company start tech cofounder join seeking looking estate edtech economist editing educational"
          ],
          [
           "Seeking a medical device developer to cofound a medtech startup.",
           "mobile health medtech medical device developer startup technology looking start expert company tech need seeking join cofound engineer energy electromobility"
          ],
          [
           "Need a construction tech expert to start a construction tech company.",
           "construction public health tech technologist expert search firm company start need join seeking looking economist economics ecologist web editing edtech"
          ],
          [
           "Looking for a transportation engineer to cofound a transportation tech firm.",
           "transportation engineer firm systems intelligent tech looking join need cofound expert start edtech electromobility educational energy environmental estate ethics exercise"
          ],
          [
           "Searching for an e-learning specialist to start an edtech company.",
           "edtech educational learning technologist searching cofounder specialist startup seeking company start cofound electromobility economist energy engineer environmental estate editing ethics"
          ],
          [
           "Wanting a wearable device developer to cofound a wearable tech firm.",
           "wearable developer tech device startup firm seeking cofound wanting cofounder join looking educational editing edtech electromobility estate economist energy ethics"
          ],
          [
           "Seeking a hospitality tech expert to start a hospitality tech company.",
           "bioinformatics hospitality precision specialist agriculture agtech seeking company tech start firm expert cofound wanting cofounder looking digital educational database ethics"
          ],
          [
           "Need a retail tech specialist to cofound a retail tech startup.",
           "retail blockchain contract tech smart developer looking join ledger distributed specialist startup company start technologist need seeking firm cofound drone"
          ],
          [
           "Looking for a real estate tech expert to start a real estate tech company.",
           "photonics sports mobility company expert start estate tech real hydrology water looking smart engineer technology wanting need join seeking edtech"
          ],
          [
           "Searching for an agricultural tech specialist to cofound an agtech startup.",
           "agricultural agtech startup specialist farming hydroponics tech urban cofound searching join need looking expert engineer environmental energy electromobility educational edtech"
          ],
          [
           "Wanting a chemical engineer to start a chemical tech company.",
           "electromobility veterinary chemical technologist company engineer tech looking cofounder specialist startup seeking start wanting join cofound estate economist editing educational"
          ],
          [
           "Seeking a materials scientist to cofound a materials tech startup.",
           "materials scientist nanoengineering nanotech startup searching tech expert join start company seeking cofound looking estate environmental electromobility educational energy engineer"
          ],
          [
           "Need a geneticist to start a genetic tech company.",
           "geneticist machine learning analytics natural nlp language processing company genetic cofound genomics specialist firm search seeking expert start tech need"
          ],
          [
           "Looking for a renewable energy engineer to cofound a renewable tech firm.",
           "energy renewable clean storage engineer firm expert looking cofound tech startup cofounder join searching seeking edtech editing educational economist electromobility"
          ],
          [
           "Searching for a biometric technology expert to start a biometrics company.",
           "robotics exoskeleton civic technology expert company biometrics biometric looking gesture start searching tech social cofound engineer startup recognition join need"
          ],
          [
           "Wanting a voice recognition specialist to cofound a voice tech firm.",
           "voice geospatial recognition innovation speech tech strategist seeking consultancy analyst company join start wanting expert specialist firm looking cofound cofounder"
          ],
          [
           "Seeking a geospatial analyst to start a geospatial tech company.",
           "voice geospatial recognition innovation speech tech strategist seeking consultancy analyst company join start wanting expert specialist firm looking cofound cofounder"
          ],
          [
           "Need a market researcher to cofound a market research firm.",
           "company looking start green startup cofound research tech vr reality expert nuclear creative satellite database climate seeking join market building"
          ],
          [
           "Looking for a virtual assistant developer to start a virtual assistant company.",
           "digital assistant virtual strategist agency marketing looking developer cofound company join seeking start disaster devops exoplanet exercise ethics estate environmental"
          ],
          [
           "Searching for a smart grid technology expert to cofound a smart grid startup.",
           "logistics cultural grid chain supply bi smart intelligence specialist business company tech start expert seeking technologist looking join startup cofound"
          ],
          [
           "Wanting a business intelligence specialist to start a BI company.",
           "logistics cultural grid chain supply bi smart intelligence specialist business company tech start expert seeking technologist looking join startup cofound"
          ],
          [
           "Seeking a neuromorphic computing expert to cofound a neuromorphic tech firm.",
           "pet neuromorphic computing tech technology seeking developer cofounder startup firm expert cofound searching economist editing web edtech electromobility energy engineer"
          ],
          [
           "Need a photonics engineer to start a photonics tech company.",
           "photonics sports mobility company expert start estate tech real hydrology water looking smart engineer technology wanting need join seeking edtech"
          ],
          [
           "Looking for a satellite technology expert to cofound a satellite tech startup.",
           "company looking start green startup cofound research tech vr reality expert nuclear creative satellite database climate seeking join market building"
          ],
          [
           "Searching for an environmental engineer to start an environmental tech company.",
           "environmental pharma pharmaceutical scientist company tech engineer start looking wanting join searching edtech ecologist educational economist electromobility energy estate economics"
          ],
          [
           "Wanting a gene editing specialist to cofound a gene editing firm.",
           "editing gene founder partner ai experienced seeking scientist data researcher specialist firm cofound wanting company digital estate environmental engineer cybersecurity"
          ],
          [
           "Seeking a personalized medicine expert to start a personalized medicine company.",
           "medicine personalized precision company expert seeking start technologist join looking designer ethics cybersecurity estate environmental data engineer energy electromobility database"
          ],
          [
           "Need a marine biotechnologist to cofound a marine biotech startup.",
           "marine ecologist biotechnologist biotech startup company tech searching join need cofounder looking seeking start cofound environmental engineer energy electromobility ethics"
          ],
          [
           "Looking for a sports technology expert to start a sports tech company.",
           "photonics sports mobility company expert start estate tech real hydrology water looking smart engineer technology wanting need join seeking edtech"
          ],
          [
           "Searching for a smart textiles developer to cofound a smart textiles firm.",
           "textiles smart developer fabric searching wearable cofound firm cofounder company tech seeking edtech web educational economist electromobility energy engineer environmental"
          ],
          [
           "Wanting a pharmaceutical scientist to start a pharma tech company.",
           "environmental pharma pharmaceutical scientist company tech engineer start looking wanting join searching edtech ecologist educational economist electromobility energy estate economics"
          ],
          [
           "Seeking a VR content creator to cofound a VR content studio.",
           "personal finance content vr insurtech insurance technology cofound creator seeking studio advisor wanting firm expert company tech join start ecologist"
          ],
          [
           "Need an AI ethics specialist to start an AI ethics consultancy.",
           "company looking start green startup cofound research tech vr reality expert nuclear creative satellite database climate seeking join market building"
          ],
          [
           "Looking for a financial technology expert to cofound a fintech firm.",
           "fintech financial advisor startup cofound looking technology need join searching developer firm expert engineer energy environmental estate educational ethics edtech"
          ],
          [
           "Searching for a green building specialist to start a green building company.",
           "company looking start green startup cofound research tech vr reality expert nuclear creative satellite database climate seeking join market building"
          ],
          [
           "Wanting an innovation strategist to cofound an innovation consultancy.",
           "voice geospatial recognition innovation speech tech strategist seeking consultancy analyst company join start wanting expert specialist firm looking cofound cofounder"
          ],
          [
           "Seeking a public health technologist to start a public health tech firm.",
           "construction public health tech technologist expert search firm company start need join seeking looking economist economics ecologist web editing edtech"
          ],
          [
           "Need a clinical research scientist to cofound a clinical research startup.",
           "company looking start green startup cofound research tech vr reality expert nuclear creative satellite database climate seeking join market building"
          ],
          [
           "Looking for a veterinary technologist to start a veterinary tech company.",
           "electromobility veterinary chemical technologist company engineer tech looking cofounder specialist startup seeking start wanting join cofound estate economist editing educational"
          ],
          [
           "Searching for a mental health tech specialist to cofound a mental health startup.",
           "mental health product new venture manager cofound partner search specialist startup tech searching looking seeking energy electromobility educational edtech editing"
          ],
          [
           "Wanting a hydrology expert to start a water tech company.",
           "photonics sports mobility company expert start estate tech real hydrology water looking smart engineer technology wanting need join seeking edtech"
          ],
          [
           "Seeking a computational biologist to cofound a computational biology firm.",
           "holography computational biologist biology seeking cofounder startup expert firm cofound tech need electromobility educational web energy engineer edtech estate ethics"
          ],
          [
           "Need a nuclear engineer to start a nuclear tech company.",
           "company looking start green startup cofound research tech vr reality expert nuclear creative satellite database climate seeking join market building"
          ],
          [
           "Looking for a creative technologist to cofound a creative tech startup.",
           "company looking start green startup cofound research tech vr reality expert nuclear creative satellite database climate seeking join market building"
          ],
          [
           "Searching for a data privacy advocate to start a data privacy firm.",
           "marketing privacy data powered advocate ai firm specialist cofound tech need cofounder searching seeking looking start energy electromobility educational engineer"
          ],
          [
           "Wanting a personal finance advisor to cofound a personal finance tech company.",
           "personal finance content vr insurtech insurance technology cofound creator seeking studio advisor wanting firm expert company tech join start ecologist"
          ],
          [
           "Seeking a disaster recovery specialist to start a disaster recovery firm.",
           "recovery disaster social telecommunications telecom media seeking agency manager expert start company tech cofound specialist firm need cofounder looking energy"
          ],
          [
           "Need a telemedicine expert to cofound a telemedicine startup.",
           "telemedicine synthetic biology expert cofounder startup seeking firm cofound need wanting energy educational electromobility data editing engineer environmental estate ethics"
          ],
          [
           "Looking for a cloud solutions architect to start a cloud solutions company.",
           "company looking start green startup cofound research tech vr reality expert nuclear creative satellite database climate seeking join market building"
          ],
          [
           "Searching for a proptech developer to cofound a proptech startup.",
           "proptech saas cloud computing cofound startup developer expert search searching looking company seeking economist edtech editing ecologist educational electromobility energy"
          ],
          [
           "Wanting a healthcare data analyst to start a healthcare data firm.",
           "health healthcare data informatics analyst wanting specialist firm company start tech cofounder join seeking looking estate edtech economist editing educational"
          ],
          [
           "Seeking a behavioral economist to cofound a behavioral economics startup.",
           "behavioral city planner urban economics economist smart cofound firm wanting tech startup analyst seeking data cofounder looking web edtech educational"
          ],
          [
           "Need a consumer psychologist to start a consumer tech company.",
           "privacy sensory consumer legal tech company psychologist advisor search start technology looking specialist expert cofound partner join searching need startup"
          ],
          [
           "Looking for an exercise scientist to cofound a fitness tech startup.",
           "app exercise fitness scientist based mobile business cofounder startup developer seeking cofound tech wanting looking electromobility educational energy environmental edtech"
          ],
          [
           "Searching for a marine ecologist to start a marine tech company.",
           "marine ecologist biotechnologist biotech startup company tech searching join need cofounder looking seeking start cofound environmental engineer energy electromobility ethics"
          ],
          [
           "Wanting an insurance technology expert to cofound an insurtech firm.",
           "personal finance content vr insurtech insurance technology cofound creator seeking studio advisor wanting firm expert company tech join start ecologist"
          ],
          [
           "Seeking a precision agriculture specialist to start a precision agtech company.",
           "bioinformatics hospitality precision specialist agriculture agtech seeking company tech start firm expert cofound wanting cofounder looking digital educational database ethics"
          ],
          [
           "Need a human-centered designer to cofound a human-centered design firm.",
           "company looking start green startup cofound research tech vr reality expert nuclear creative satellite database climate seeking join market building"
          ],
          [
           "Looking for a smart mobility expert to start a smart mobility company.",
           "photonics sports mobility company expert start estate tech real hydrology water looking smart engineer technology wanting need join seeking edtech"
          ],
          [
           "Searching for a pet technology developer to cofound a pet tech startup.",
           "pet neuromorphic computing tech technology seeking developer cofounder startup firm expert cofound searching economist editing web edtech electromobility energy engineer"
          ],
          [
           "Wanting a personalized nutrition expert to start a personalized nutrition company.",
           "nutrition personalized professional healthcare health company founder partner looking tech expert cofound wanting seeking join start digital disaster engineer energy"
          ],
          [
           "Seeking a cultural technologist to cofound a cultural tech firm.",
           "logistics cultural grid chain supply bi smart intelligence specialist business company tech start expert seeking technologist looking join startup cofound"
          ],
          [
           "Need a microbial technologist to start a microbial tech company.",
           "microbial technologist start fuel cell bioenergy company tech need specialist looking seeking web electromobility educational environmental energy engineer estate ethics"
          ],
          [
           "Looking for an electromobility specialist to cofound an electromobility startup.",
           "electromobility veterinary chemical technologist company engineer tech looking cofounder specialist startup seeking start wanting join cofound estate economist editing educational"
          ],
          [
           "Searching for a civic technology expert to start a civic tech company.",
           "robotics exoskeleton civic technology expert company biometrics biometric looking gesture start searching tech social cofound engineer startup recognition join need"
          ],
          [
           "Wanting a bioinformatics specialist to cofound a bioinformatics firm.",
           "bioinformatics hospitality precision specialist agriculture agtech seeking company tech start firm expert cofound wanting cofounder looking digital educational database ethics"
          ],
          [
           "Seeking a fashion technologist to start a fashion tech company.",
           "fashion time real data technologist start company analyst looking tech seeking environmental engineer energy estate electromobility educational edtech editing ethics"
          ],
          [
           "Need a holography expert to cofound a holography tech startup.",
           "holography computational biologist biology seeking cofounder startup expert firm cofound tech need electromobility educational web energy engineer edtech estate ethics"
          ],
          [
           "Looking for a quantum cryptography specialist to start a quantum cryptography firm.",
           "quantum cryptography specialist computing firm looking cofound tech need join start electromobility educational economist edtech editing engineer environmental estate ethics"
          ],
          [
           "Searching for an exoskeleton technology expert to cofound an exoskeleton tech company.",
           "robotics exoskeleton civic technology expert company biometrics biometric looking gesture start searching tech social cofound engineer startup recognition join need"
          ],
          [
           "Wanting a climate data analyst to start a climate tech company.",
           "company looking start green startup cofound research tech vr reality expert nuclear creative satellite database climate seeking join market building"
          ],
          [
           "Seeking an autonomous vehicle developer to cofound an autonomous vehicle firm.",
           "company looking start green startup cofound research tech vr reality expert nuclear creative satellite database climate seeking join market building"
          ],
          [
           "Need a mobile health technology expert to start a mobile health tech company.",
           "mobile health medtech medical device developer startup technology looking start expert company tech need seeking join cofound engineer energy electromobility"
          ],
          [
           "Looking for an artificial general intelligence researcher to cofound an AGI startup.",
           "ar augmented reality agi general startup artificial intelligence researcher looking specialist cofound join cofounder seeking tech economist editing web edtech"
          ],
          [
           "Searching for a sensory technology specialist to start a sensory tech company.",
           "privacy sensory consumer legal tech company psychologist advisor search start technology looking specialist expert cofound partner join searching need startup"
          ],
          [
           "Wanting a synthetic biology expert to cofound a synthetic biology firm.",
           "telemedicine synthetic biology expert cofounder startup seeking firm cofound need wanting energy educational electromobility data editing engineer environmental estate ethics"
          ],
          [
           "Seeking a smart contract developer to start a blockchain tech company.",
           "retail blockchain contract tech smart developer looking join ledger distributed specialist startup company start technologist need seeking firm cofound drone"
          ],
          [
           "Need an AI-powered marketing specialist to cofound a marketing tech firm.",
           "marketing privacy data powered advocate ai firm specialist cofound tech need cofounder searching seeking looking start energy electromobility educational engineer"
          ],
          [
           "Looking for a real-time data analyst to start a real-time data company.",
           "fashion time real data technologist start company analyst looking tech seeking environmental engineer energy estate electromobility educational edtech editing ethics"
          ],
          [
           "Searching for an energy storage expert to cofound an energy storage tech firm.",
           "energy renewable clean storage engineer firm expert looking cofound tech startup cofounder join searching seeking edtech editing educational economist electromobility"
          ],
          [
           "Wanting a space tourism developer to start a space tourism company.",
           "space aerospace engineer tourism resource company tech habitat cofound utilization seeking need join wanting developer looking specialist firm start economist"
          ],
          [
           "Seeking a space resource utilization specialist to cofound a space resource tech firm.",
           "space aerospace engineer tourism resource company tech habitat cofound utilization seeking need join wanting developer looking specialist firm start economist"
          ],
          [
           "Need a social robotics expert to start a social robotics company.",
           "robotics exoskeleton civic technology expert company biometrics biometric looking gesture start searching tech social cofound engineer startup recognition join need"
          ],
          [
           "Looking for a gesture recognition specialist to cofound a gesture tech startup.",
           "robotics exoskeleton civic technology expert company biometrics biometric looking gesture start searching tech social cofound engineer startup recognition join need"
          ],
          [
           "Searching for an exoplanet scientist to start a space exploration company.",
           "space technology exploration exoplanet startup expert scientist search start tech searching looking company editing environmental edtech educational energy engineer electromobility"
          ],
          [
           "Wanting a bioethicist to cofound a bioethics tech firm.",
           "biotech biosensor researcher bioethicist bioethics startup cofound looking wanting tech searching firm cofounder join developer engineer environmental energy electromobility estate"
          ],
          [
           "Seeking a microbial fuel cell specialist to start a bioenergy tech company.",
           "microbial technologist start fuel cell bioenergy company tech need specialist looking seeking web electromobility educational environmental energy engineer estate ethics"
          ],
          [
           "Need a hydroponics expert to cofound an urban farming tech startup.",
           "agricultural agtech startup specialist farming hydroponics tech urban cofound searching join need looking expert engineer environmental energy electromobility educational edtech"
          ],
          [
           "Looking for a distributed ledger technologist to start a blockchain tech firm.",
           "retail blockchain contract tech smart developer looking join ledger distributed specialist startup company start technologist need seeking firm cofound drone"
          ],
          [
           "Searching for a smart fabric developer to cofound a wearable tech company.",
           "textiles smart developer fabric searching wearable cofound firm cofounder company tech seeking edtech web educational economist electromobility energy engineer environmental"
          ],
          [
           "Wanting a cognitive computing specialist to start a cognitive tech firm.",
           "sales retail ai manager cognitive cofound talented artificial experienced startup intelligence researcher scientist data company computing start need searching wanting"
          ],
          [
           "Seeking a space habitat engineer to cofound a space tech company.",
           "space aerospace engineer tourism resource company tech habitat cofound utilization seeking need join wanting developer looking specialist firm start economist"
          ],
          [
           "Need an intelligent transportation systems expert to start a transportation tech firm.",
           "transportation engineer firm systems intelligent tech looking join need cofound expert start edtech electromobility educational energy environmental estate ethics exercise"
          ],
          [
           "Looking for a biosensor developer to cofound a biosensor tech startup.",
           "biotech biosensor researcher bioethicist bioethics startup cofound looking wanting tech searching firm cofounder join developer engineer environmental energy electromobility estate"
          ],
          [
           "Searching for a nanoengineering expert to start a nanotech company.",
           "materials scientist nanoengineering nanotech startup searching tech expert join start company seeking cofound looking estate environmental electromobility educational energy engineer"
          ],
          [
           "Wanting a behavioral data analyst to cofound a behavioral tech firm.",
           "behavioral city planner urban economics economist smart cofound firm wanting tech startup analyst seeking data cofounder looking web edtech educational"
          ],
          [
           "Seeking a precision medicine technologist to start a precision medicine company.",
           "medicine personalized precision company expert seeking start technologist join looking designer ethics cybersecurity estate environmental data engineer energy electromobility database"
          ],
          [
           "Need an autonomous drone developer to cofound a drone tech startup.",
           "drone technology tech autonomous startup expert search need developer seeking start cofound company edtech web educational electromobility engineer environmental estate"
          ]
         ],
         "hovertemplate": "Type=founder<br>X=%{x}<br>Y=%{y}<br>Description=%{customdata[0]}<br>cluster_top_words=%{customdata[1]}<br>cluster=%{marker.color}<extra></extra>",
         "legendgroup": "founder",
         "marker": {
          "color": [
           -1,
           6,
           30,
           35,
           -1,
           39,
           49,
           11,
           23,
           6,
           -1,
           18,
           45,
           51,
           46,
           7,
           28,
           -1,
           40,
           16,
           -1,
           9,
           6,
           53,
           -1,
           30,
           27,
           52,
           3,
           38,
           10,
           48,
           10,
           25,
           30,
           39,
           34,
           12,
           29,
           43,
           46,
           8,
           45,
           11,
           3,
           4,
           35,
           21,
           20,
           43,
           18,
           -1,
           30,
           31,
           27,
           -1,
           52,
           28,
           48,
           49,
           15,
           41,
           14,
           44,
           38,
           8,
           37,
           50,
           13,
           0,
           33,
           17,
           18,
           25,
           53,
           29,
           29,
           -1,
           9,
           3,
           3,
           1,
           13,
           -1,
           26,
           42,
           22,
           2,
           13,
           24,
           26,
           47,
           -1,
           49,
           -1,
           29,
           14,
           -1,
           33,
           40,
           13,
           5,
           -1,
           -1,
           19,
           47,
           52,
           36,
           -1,
           51,
           15,
           4,
           11,
           7,
           2,
           47,
           37,
           -1,
           13,
           1,
           23,
           3,
           32,
           33,
           53,
           37,
           54,
           5,
           12,
           53,
           -1,
           -1,
           41,
           31,
           11,
           36,
           50,
           19,
           54,
           25,
           21,
           21,
           53,
           53,
           20,
           16,
           32,
           0,
           50,
           24,
           6,
           21,
           44,
           16,
           17,
           4,
           22,
           34
          ],
          "coloraxis": "coloraxis",
          "symbol": "circle"
         },
         "mode": "markers",
         "name": "founder",
         "orientation": "v",
         "showlegend": true,
         "type": "scatter",
         "x": [
          9.103469848632812,
          -9.435787200927734,
          -4.424286365509033,
          10.44934368133545,
          -2.8878190517425537,
          -3.426759719848633,
          1.5744434595108032,
          -1.9693183898925781,
          10.833368301391602,
          -10.025267601013184,
          8.30951976776123,
          -3.877246141433716,
          1.9934022426605225,
          3.7090775966644287,
          8.559525489807129,
          -7.2412519454956055,
          6.248795032501221,
          -1.2693538665771484,
          1.350360631942749,
          4.070688724517822,
          0.7748408317565918,
          -5.487544536590576,
          -9.448310852050781,
          10.708464622497559,
          19.49800682067871,
          -4.375645160675049,
          1.547432780265808,
          5.7898736000061035,
          5.571849346160889,
          -4.060094356536865,
          16.824705123901367,
          4.21630334854126,
          15.347494125366211,
          12.114747047424316,
          -4.504483222961426,
          -4.805832386016846,
          -3.370816469192505,
          -4.938606262207031,
          4.4643330574035645,
          9.560023307800293,
          8.6019868850708,
          1.3335802555084229,
          1.9934544563293457,
          -2.062176465988159,
          3.764287233352661,
          -8.087944030761719,
          10.170475959777832,
          15.66530704498291,
          15.898977279663086,
          9.537775993347168,
          -1.6916117668151855,
          8.378260612487793,
          -3.3839328289031982,
          -1.396484375,
          -0.20427252352237701,
          -1.7484062910079956,
          6.214169025421143,
          7.541689395904541,
          4.2112507820129395,
          1.6025131940841675,
          7.8090033531188965,
          4.640779495239258,
          15.956518173217773,
          9.594375610351562,
          -4.060179233551025,
          1.2862112522125244,
          8.744780540466309,
          2.7600021362304688,
          13.76318645477295,
          21.452234268188477,
          14.246464729309082,
          5.018648147583008,
          -3.7143263816833496,
          12.11472225189209,
          10.26468563079834,
          4.462632656097412,
          4.814767360687256,
          -2.609938383102417,
          -4.539769172668457,
          7.100598335266113,
          2.9483933448791504,
          4.99353551864624,
          13.687821388244629,
          15.597335815429688,
          13.441834449768066,
          3.088850736618042,
          9.916762351989746,
          12.190820693969727,
          10.925222396850586,
          12.310338973999023,
          12.612448692321777,
          5.425271987915039,
          -6.868521213531494,
          1.5954084396362305,
          10.653914451599121,
          3.2809150218963623,
          15.318901062011719,
          -2.014038562774658,
          16.17052459716797,
          1.9382156133651733,
          14.143359184265137,
          1.1354117393493652,
          20.025659561157227,
          7.3868536949157715,
          -6.646896839141846,
          4.362573146820068,
          4.592334270477295,
          4.834710121154785,
          6.676576614379883,
          4.699768543243408,
          7.7684760093688965,
          -10.244478225708008,
          -2.1450343132019043,
          -5.402810573577881,
          12.233041763305664,
          6.363560676574707,
          6.551210880279541,
          -2.8448171615600586,
          12.266395568847656,
          6.670135498046875,
          9.525278091430664,
          0.532121479511261,
          14.38514232635498,
          15.689791679382324,
          8.322402954101562,
          7.627904415130615,
          12.18950080871582,
          -0.06828773021697998,
          -4.899984359741211,
          9.807002067565918,
          12.912476539611816,
          -6.645355701446533,
          5.827304840087891,
          -0.6654218435287476,
          0.18004633486270905,
          4.231412887573242,
          1.968579649925232,
          -4.857735633850098,
          12.478553771972656,
          12.114663124084473,
          15.715965270996094,
          15.771859169006348,
          10.703770637512207,
          10.70273494720459,
          15.917817115783691,
          4.074174880981445,
          14.385199546813965,
          21.43384552001953,
          1.968589425086975,
          12.310380935668945,
          -9.439022064208984,
          15.688990592956543,
          9.590954780578613,
          4.045435905456543,
          5.017951488494873,
          -10.244546890258789,
          9.916739463806152,
          -3.3891122341156006
         ],
         "xaxis": "x",
         "y": [
          -4.315776348114014,
          0.24295398592948914,
          7.8245697021484375,
          5.037689208984375,
          -9.080005645751953,
          2.592963218688965,
          3.0990936756134033,
          -2.8037195205688477,
          14.739726066589355,
          2.8464527130126953,
          6.761567115783691,
          12.824557304382324,
          -0.9171695113182068,
          3.1387295722961426,
          -1.0025393962860107,
          10.44851016998291,
          -5.112082004547119,
          0.6285839080810547,
          6.002881050109863,
          15.848957061767578,
          8.430837631225586,
          -4.0254597663879395,
          0.24079422652721405,
          2.013370990753174,
          12.529258728027344,
          7.875965595245361,
          12.854567527770996,
          -0.14227420091629028,
          -7.919135093688965,
          4.0344719886779785,
          -0.5860847234725952,
          6.662060260772705,
          -0.06798587739467621,
          8.940863609313965,
          7.747549533843994,
          2.4526729583740234,
          0.9717373847961426,
          16.26219367980957,
          -5.168433666229248,
          11.823331832885742,
          -1.045718789100647,
          15.512506484985352,
          -0.9172518849372864,
          -4.775828838348389,
          -9.361478805541992,
          7.752530097961426,
          6.534187316894531,
          8.531098365783691,
          8.297374725341797,
          11.848762512207031,
          13.307487487792969,
          4.294814109802246,
          6.36906099319458,
          6.476383209228516,
          11.700531959533691,
          2.5690786838531494,
          1.3568123579025269,
          -5.593339920043945,
          6.656310558319092,
          3.128133535385132,
          14.652501106262207,
          9.231980323791504,
          2.2677719593048096,
          11.788081169128418,
          4.0342936515808105,
          15.46233081817627,
          9.92374038696289,
          0.7424771785736084,
          -4.101203441619873,
          -0.678360641002655,
          10.407028198242188,
          14.852856636047363,
          14.118732452392578,
          8.940813064575195,
          0.8189365863800049,
          -5.166276931762695,
          -3.558140754699707,
          9.623397827148438,
          -4.2196807861328125,
          -10.120280265808105,
          -7.811954975128174,
          20.07001304626465,
          -2.3480069637298584,
          6.33436393737793,
          14.689459800720215,
          9.978562355041504,
          16.439716339111328,
          18.778287887573242,
          -6.867138862609863,
          9.897432327270508,
          13.268324851989746,
          5.934661388397217,
          3.1494240760803223,
          3.1200056076049805,
          -1.1575119495391846,
          -2.731646776199341,
          4.09763240814209,
          15.95085620880127,
          12.523598670959473,
          4.948086261749268,
          -6.1027750968933105,
          19.72283172607422,
          4.141476154327393,
          0.22062349319458008,
          0.28628572821617126,
          5.195828914642334,
          -0.23065873980522156,
          11.30877685546875,
          6.879148006439209,
          1.8771998882293701,
          14.693273544311523,
          7.4165472984313965,
          -1.686887264251709,
          10.586954116821289,
          18.739768981933594,
          5.295254230499268,
          12.607230186462402,
          18.358154296875,
          -5.513450622558594,
          18.555959701538086,
          14.86100959777832,
          -8.97935962677002,
          12.51087760925293,
          10.954692840576172,
          2.518038511276245,
          11.159666061401367,
          3.1256351470947266,
          17.970916748046875,
          16.223600387573242,
          2.850267171859741,
          5.828312397003174,
          13.38125991821289,
          9.364583015441895,
          5.1147942543029785,
          -4.5527520179748535,
          12.796856880187988,
          1.6929564476013184,
          -0.15182068943977356,
          2.1372082233428955,
          8.940934181213379,
          8.480867385864258,
          8.425106048583984,
          2.009058952331543,
          2.0081615447998047,
          8.27833366394043,
          15.84559440612793,
          12.510952949523926,
          -0.6975263953208923,
          1.6927458047866821,
          9.897411346435547,
          0.24223002791404724,
          8.50753116607666,
          11.79214859008789,
          15.874773979187012,
          14.852442741394043,
          7.416528224945068,
          16.43961524963379,
          0.988412082195282
         ],
         "yaxis": "y"
        },
        {
         "customdata": [
          [
           "I'm a skilled programmer looking to join a startup.",
           "company looking start green startup cofound research tech vr reality expert nuclear creative satellite database climate seeking join market building"
          ],
          [
           "Experienced data scientist seeking to partner with a founder.",
           "editing gene founder partner ai experienced seeking scientist data researcher specialist firm cofound wanting company digital estate environmental engineer cybersecurity"
          ],
          [
           "Talented UX designer looking for a cofounder with a strong business plan.",
           "web designer software development interior design ux firm business architect cofounder seeking need developer app new plan strong talented partner"
          ],
          [
           "Project manager in search of a tech-savvy founder to start a business.",
           "3d printing project business manager savvy help lead venture start founder search specialist tech seeking searching edtech editing educational electromobility"
          ],
          [
           "DevOps engineer looking to cofound a software company.",
           "company looking start green startup cofound research tech vr reality expert nuclear creative satellite database climate seeking join market building"
          ],
          [
           "Marketing expert seeking a founder to start an online business.",
           "recruitment hr online marketing business wanting start specialist find founder expert company tech looking cofound seeking edtech electromobility energy editing"
          ],
          [
           "Financial advisor looking for a fintech startup to join.",
           "fintech financial advisor startup cofound looking technology need join searching developer firm expert engineer energy environmental estate educational ethics edtech"
          ],
          [
           "Legal advisor in search of a legal tech startup to cofound.",
           "privacy sensory consumer legal tech company psychologist advisor search start technology looking specialist expert cofound partner join searching need startup"
          ],
          [
           "Healthcare professional seeking a health tech founder to partner with.",
           "nutrition personalized professional healthcare health company founder partner looking tech expert cofound wanting seeking join start digital disaster engineer energy"
          ],
          [
           "Sales manager looking for a retail startup to cofound.",
           "sales retail ai manager cognitive cofound talented artificial experienced startup intelligence researcher scientist data company computing start need searching wanting"
          ],
          [
           "Blockchain expert in search of a cryptocurrency company to start.",
           "company looking start green startup cofound research tech vr reality expert nuclear creative satellite database climate seeking join market building"
          ],
          [
           "Machine learning specialist looking to cofound an analytics firm.",
           "geneticist machine learning analytics natural nlp language processing company genetic cofound genomics specialist firm search seeking expert start tech need"
          ],
          [
           "Cybersecurity expert seeking a security tech company to join.",
           "cybersecurity security policy expert consultancy need start company tech join seeking looking editing edtech educational energy electromobility engineer environmental estate"
          ],
          [
           "Cloud computing expert in search of a SaaS startup to cofound.",
           "proptech saas cloud computing cofound startup developer expert search searching looking company seeking economist edtech editing ecologist educational electromobility energy"
          ],
          [
           "IoT specialist looking to partner with a smart device company founder.",
           "smart home iot device specialist company start technology founder partner searching looking wanting economist ethics estate design cultural environmental engineer"
          ],
          [
           "Mobile app developer seeking a cofounder for an app-based business.",
           "app exercise fitness scientist based mobile business cofounder startup developer seeking cofound tech wanting looking electromobility educational energy environmental edtech"
          ],
          [
           "Big data analyst looking to start a data analytics firm.",
           "fintech cloud security data firm big analytics join analyst expert financial looking seeking technology start developer startup need cofound engineer"
          ],
          [
           "E-commerce specialist seeking a cofounder for an online retail business.",
           "company looking start green startup cofound research tech vr reality expert nuclear creative satellite database climate seeking join market building"
          ],
          [
           "Product manager in search of a new venture to cofound.",
           "mental health product new venture manager cofound partner search specialist startup tech searching looking seeking energy electromobility educational edtech editing"
          ],
          [
           "Biotech researcher looking to join a biotech startup as a cofounder.",
           "biotech biosensor researcher bioethicist bioethics startup cofound looking wanting tech searching firm cofounder join developer engineer environmental energy electromobility estate"
          ],
          [
           "AR/VR developer seeking to start an augmented reality company.",
           "company looking start green startup cofound research tech vr reality expert nuclear creative satellite database climate seeking join market building"
          ],
          [
           "Digital marketing strategist looking to cofound a digital agency.",
           "digital assistant virtual strategist agency marketing looking developer cofound company join seeking start disaster devops exoplanet exercise ethics estate environmental"
          ],
          [
           "AI researcher seeking to partner with a founder for an AI company.",
           "editing gene founder partner ai experienced seeking scientist data researcher specialist firm cofound wanting company digital estate environmental engineer cybersecurity"
          ],
          [
           "Robotics engineer looking to start a robotics tech company.",
           "robotics exoskeleton civic technology expert company biometrics biometric looking gesture start searching tech social cofound engineer startup recognition join need"
          ],
          [
           "Sustainability expert in search of a green tech startup to join.",
           "company looking start green startup cofound research tech vr reality expert nuclear creative satellite database climate seeking join market building"
          ],
          [
           "Web developer seeking a cofounder for a web development business.",
           "web designer software development interior design ux firm business architect cofounder seeking need developer app new plan strong talented partner"
          ],
          [
           "Content creator looking to start a media company.",
           "vision computer media creator content company start seeking expert looking searching cofounder editing edtech educational web economist energy engineer environmental"
          ],
          [
           "Social media manager seeking a cofounder for a social media agency.",
           "recovery disaster social telecommunications telecom media seeking agency manager expert start company tech cofound specialist firm need cofounder looking energy"
          ],
          [
           "Logistics expert looking to join a logistics tech startup.",
           "logistics cultural grid chain supply bi smart intelligence specialist business company tech start expert seeking technologist looking join startup cofound"
          ],
          [
           "Educational technologist seeking a cofounder for an edtech startup.",
           "edtech educational learning technologist searching cofounder specialist startup seeking company start cofound electromobility economist energy engineer environmental estate editing ethics"
          ],
          [
           "Hardware engineer looking to start a hardware tech company.",
           "hardware engineer networking network start company tech need wanting seeking looking environmental estate ethics economist energy electromobility educational edtech editing"
          ],
          [
           "Game developer in search of a cofounder for a gaming studio.",
           "game studio gaming video development designer developer cofounder search seeking cofound looking start digital data ethics estate environmental engineer energy"
          ],
          [
           "Network engineer seeking to start a networking tech company.",
           "hardware engineer networking network start company tech need wanting seeking looking environmental estate ethics economist energy electromobility educational edtech editing"
          ],
          [
           "Renewable energy expert looking to join a clean energy startup.",
           "energy renewable clean storage engineer firm expert looking cofound tech startup cofounder join searching seeking edtech editing educational economist electromobility"
          ],
          [
           "Interior designer seeking a cofounder for a design firm.",
           "web designer software development interior design ux firm business architect cofounder seeking need developer app new plan strong talented partner"
          ],
          [
           "HR specialist looking to start a recruitment tech company.",
           "recruitment hr online marketing business wanting start specialist find founder expert company tech looking cofound seeking edtech electromobility energy editing"
          ],
          [
           "Drone technology expert in search of a drone tech startup.",
           "drone technology tech autonomous startup expert search need developer seeking start cofound company edtech web educational electromobility engineer environmental estate"
          ],
          [
           "Quantum computing specialist looking to cofound a quantum tech firm.",
           "quantum cryptography specialist computing firm looking cofound tech need join start electromobility educational economist edtech editing engineer environmental estate ethics"
          ],
          [
           "Speech recognition expert seeking a voice tech company to join.",
           "voice geospatial recognition innovation speech tech strategist seeking consultancy analyst company join start wanting expert specialist firm looking cofound cofounder"
          ],
          [
           "Automotive engineer in search of a cofounder for an auto tech startup.",
           "automotive auto software engineer tech searching developer startup firm cofound search cofounder looking start educational electromobility edtech energy environmental editing"
          ],
          [
           "Smart home technology specialist looking to start a smart home company.",
           "smart home iot device specialist company start technology founder partner searching looking wanting economist ethics estate design cultural environmental engineer"
          ],
          [
           "Wearable tech developer seeking a cofounder for a wearable tech startup.",
           "wearable developer tech device startup firm seeking cofound wanting cofounder join looking educational editing edtech electromobility estate economist energy ethics"
          ],
          [
           "Cybersecurity policy expert looking to start a security consultancy.",
           "cybersecurity security policy expert consultancy need start company tech join seeking looking editing edtech educational energy electromobility engineer environmental estate"
          ],
          [
           "Privacy expert in search of a privacy tech company to join.",
           "privacy sensory consumer legal tech company psychologist advisor search start technology looking specialist expert cofound partner join searching need startup"
          ],
          [
           "Supply chain specialist seeking to start a supply chain tech company.",
           "logistics cultural grid chain supply bi smart intelligence specialist business company tech start expert seeking technologist looking join startup cofound"
          ],
          [
           "Urban planner looking to cofound a smart city tech firm.",
           "behavioral city planner urban economics economist smart cofound firm wanting tech startup analyst seeking data cofounder looking web edtech educational"
          ],
          [
           "3D printing specialist seeking to start a 3D printing business.",
           "3d printing project business manager savvy help lead venture start founder search specialist tech seeking searching edtech editing educational electromobility"
          ],
          [
           "Aerospace engineer looking to join an aerospace tech company.",
           "space aerospace engineer tourism resource company tech habitat cofound utilization seeking need join wanting developer looking specialist firm start economist"
          ],
          [
           "Space technology expert in search of a space tech startup.",
           "space technology exploration exoplanet startup expert scientist search start tech searching looking company editing environmental edtech educational energy engineer electromobility"
          ],
          [
           "Automotive software developer looking to start an auto tech firm.",
           "automotive auto software engineer tech searching developer startup firm cofound search cofounder looking start educational electromobility edtech energy environmental editing"
          ],
          [
           "Natural language processing expert seeking a cofounder for an NLP company.",
           "geneticist machine learning analytics natural nlp language processing company genetic cofound genomics specialist firm search seeking expert start tech need"
          ],
          [
           "Virtual reality expert looking to start a VR tech company.",
           "company looking start green startup cofound research tech vr reality expert nuclear creative satellite database climate seeking join market building"
          ],
          [
           "Software architect seeking to cofound a software development firm.",
           "web designer software development interior design ux firm business architect cofounder seeking need developer app new plan strong talented partner"
          ],
          [
           "Augmented reality specialist looking to join an AR tech startup.",
           "ar augmented reality agi general startup artificial intelligence researcher looking specialist cofound join cofounder seeking tech economist editing web edtech"
          ],
          [
           "Computer vision expert seeking a cofounder for a computer vision company.",
           "vision computer media creator content company start seeking expert looking searching cofounder editing edtech educational web economist energy engineer environmental"
          ],
          [
           "Database administrator looking to start a database tech firm.",
           "company looking start green startup cofound research tech vr reality expert nuclear creative satellite database climate seeking join market building"
          ],
          [
           "Telecommunications expert seeking to cofound a telecom tech company.",
           "recovery disaster social telecommunications telecom media seeking agency manager expert start company tech cofound specialist firm need cofounder looking energy"
          ],
          [
           "Cloud security expert looking to join a cloud security firm.",
           "fintech cloud security data firm big analytics join analyst expert financial looking seeking technology start developer startup need cofound engineer"
          ],
          [
           "Video game designer seeking a cofounder for a game development studio.",
           "game studio gaming video development designer developer cofounder search seeking cofound looking start digital data ethics estate environmental engineer energy"
          ],
          [
           "Fintech developer looking to join a fintech startup.",
           "fintech cloud security data firm big analytics join analyst expert financial looking seeking technology start developer startup need cofound engineer"
          ],
          [
           "Health informatics specialist seeking a cofounder for a health tech company.",
           "health healthcare data informatics analyst wanting specialist firm company start tech cofounder join seeking looking estate edtech economist editing educational"
          ],
          [
           "Medical device developer looking to start a medtech startup.",
           "mobile health medtech medical device developer startup technology looking start expert company tech need seeking join cofound engineer energy electromobility"
          ],
          [
           "Construction tech expert in search of a construction tech company.",
           "construction public health tech technologist expert search firm company start need join seeking looking economist economics ecologist web editing edtech"
          ],
          [
           "Transportation engineer looking to join a transportation tech firm.",
           "transportation engineer firm systems intelligent tech looking join need cofound expert start edtech electromobility educational energy environmental estate ethics exercise"
          ],
          [
           "E-learning specialist seeking a cofounder for an edtech company.",
           "edtech educational learning technologist searching cofounder specialist startup seeking company start cofound electromobility economist energy engineer environmental estate editing ethics"
          ],
          [
           "Wearable device developer looking to join a wearable tech firm.",
           "wearable developer tech device startup firm seeking cofound wanting cofounder join looking educational editing edtech electromobility estate economist energy ethics"
          ],
          [
           "Hospitality tech expert seeking a cofounder for a hospitality tech company.",
           "bioinformatics hospitality precision specialist agriculture agtech seeking company tech start firm expert cofound wanting cofounder looking digital educational database ethics"
          ],
          [
           "Retail tech specialist looking to join a retail tech startup.",
           "retail blockchain contract tech smart developer looking join ledger distributed specialist startup company start technologist need seeking firm cofound drone"
          ],
          [
           "Real estate tech expert seeking to start a real estate tech company.",
           "photonics sports mobility company expert start estate tech real hydrology water looking smart engineer technology wanting need join seeking edtech"
          ],
          [
           "Agricultural tech specialist looking to join an agtech startup.",
           "agricultural agtech startup specialist farming hydroponics tech urban cofound searching join need looking expert engineer environmental energy electromobility educational edtech"
          ],
          [
           "Chemical engineer seeking a cofounder for a chemical tech company.",
           "electromobility veterinary chemical technologist company engineer tech looking cofounder specialist startup seeking start wanting join cofound estate economist editing educational"
          ],
          [
           "Materials scientist looking to join a materials tech startup.",
           "materials scientist nanoengineering nanotech startup searching tech expert join start company seeking cofound looking estate environmental electromobility educational energy engineer"
          ],
          [
           "Geneticist in search of a genomics tech company to cofound.",
           "geneticist machine learning analytics natural nlp language processing company genetic cofound genomics specialist firm search seeking expert start tech need"
          ],
          [
           "Renewable energy engineer seeking a cofounder for a renewable tech firm.",
           "energy renewable clean storage engineer firm expert looking cofound tech startup cofounder join searching seeking edtech editing educational economist electromobility"
          ],
          [
           "Biometric technology expert looking to start a biometrics company.",
           "robotics exoskeleton civic technology expert company biometrics biometric looking gesture start searching tech social cofound engineer startup recognition join need"
          ],
          [
           "Voice recognition specialist seeking to join a voice tech firm.",
           "voice geospatial recognition innovation speech tech strategist seeking consultancy analyst company join start wanting expert specialist firm looking cofound cofounder"
          ],
          [
           "Geospatial analyst looking to start a geospatial tech company.",
           "voice geospatial recognition innovation speech tech strategist seeking consultancy analyst company join start wanting expert specialist firm looking cofound cofounder"
          ],
          [
           "Market researcher seeking a cofounder for a market research firm.",
           "company looking start green startup cofound research tech vr reality expert nuclear creative satellite database climate seeking join market building"
          ],
          [
           "Virtual assistant developer looking to join a virtual assistant company.",
           "digital assistant virtual strategist agency marketing looking developer cofound company join seeking start disaster devops exoplanet exercise ethics estate environmental"
          ],
          [
           "Smart grid technology expert seeking to start a smart grid startup.",
           "logistics cultural grid chain supply bi smart intelligence specialist business company tech start expert seeking technologist looking join startup cofound"
          ],
          [
           "Business intelligence specialist looking to join a BI company.",
           "logistics cultural grid chain supply bi smart intelligence specialist business company tech start expert seeking technologist looking join startup cofound"
          ],
          [
           "Neuromorphic computing expert seeking a cofounder for a neuromorphic tech firm.",
           "pet neuromorphic computing tech technology seeking developer cofounder startup firm expert cofound searching economist editing web edtech electromobility energy engineer"
          ],
          [
           "Photonics engineer looking to start a photonics tech company.",
           "photonics sports mobility company expert start estate tech real hydrology water looking smart engineer technology wanting need join seeking edtech"
          ],
          [
           "Satellite technology expert seeking to join a satellite tech startup.",
           "company looking start green startup cofound research tech vr reality expert nuclear creative satellite database climate seeking join market building"
          ],
          [
           "Environmental engineer looking to start an environmental tech company.",
           "environmental pharma pharmaceutical scientist company tech engineer start looking wanting join searching edtech ecologist educational economist electromobility energy estate economics"
          ],
          [
           "Gene editing specialist seeking to cofound a gene editing firm.",
           "editing gene founder partner ai experienced seeking scientist data researcher specialist firm cofound wanting company digital estate environmental engineer cybersecurity"
          ],
          [
           "Personalized medicine expert looking to join a personalized medicine company.",
           "medicine personalized precision company expert seeking start technologist join looking designer ethics cybersecurity estate environmental data engineer energy electromobility database"
          ],
          [
           "Marine biotechnologist seeking a cofounder for a marine biotech startup.",
           "marine ecologist biotechnologist biotech startup company tech searching join need cofounder looking seeking start cofound environmental engineer energy electromobility ethics"
          ],
          [
           "Sports technology expert looking to start a sports tech company.",
           "photonics sports mobility company expert start estate tech real hydrology water looking smart engineer technology wanting need join seeking edtech"
          ],
          [
           "Smart textiles developer seeking a cofounder for a smart textiles firm.",
           "textiles smart developer fabric searching wearable cofound firm cofounder company tech seeking edtech web educational economist electromobility energy engineer environmental"
          ],
          [
           "Pharmaceutical scientist looking to join a pharma tech company.",
           "environmental pharma pharmaceutical scientist company tech engineer start looking wanting join searching edtech ecologist educational economist electromobility energy estate economics"
          ],
          [
           "VR content creator seeking to start a VR content studio.",
           "personal finance content vr insurtech insurance technology cofound creator seeking studio advisor wanting firm expert company tech join start ecologist"
          ],
          [
           "AI ethics specialist looking to cofound an AI ethics consultancy.",
           "company looking start green startup cofound research tech vr reality expert nuclear creative satellite database climate seeking join market building"
          ],
          [
           "Financial technology expert seeking to join a fintech firm.",
           "fintech cloud security data firm big analytics join analyst expert financial looking seeking technology start developer startup need cofound engineer"
          ],
          [
           "Green building specialist looking to start a green building company.",
           "company looking start green startup cofound research tech vr reality expert nuclear creative satellite database climate seeking join market building"
          ],
          [
           "Innovation strategist seeking a cofounder for an innovation consultancy.",
           "voice geospatial recognition innovation speech tech strategist seeking consultancy analyst company join start wanting expert specialist firm looking cofound cofounder"
          ],
          [
           "Public health technologist looking to join a public health tech firm.",
           "construction public health tech technologist expert search firm company start need join seeking looking economist economics ecologist web editing edtech"
          ],
          [
           "Clinical research scientist seeking a cofounder for a clinical research startup.",
           "company looking start green startup cofound research tech vr reality expert nuclear creative satellite database climate seeking join market building"
          ],
          [
           "Veterinary technologist looking to join a veterinary tech company.",
           "electromobility veterinary chemical technologist company engineer tech looking cofounder specialist startup seeking start wanting join cofound estate economist editing educational"
          ],
          [
           "Mental health tech specialist seeking to cofound a mental health startup.",
           "mental health product new venture manager cofound partner search specialist startup tech searching looking seeking energy electromobility educational edtech editing"
          ],
          [
           "Hydrology expert looking to start a water tech company.",
           "photonics sports mobility company expert start estate tech real hydrology water looking smart engineer technology wanting need join seeking edtech"
          ],
          [
           "Computational biologist seeking a cofounder for a computational biology firm.",
           "holography computational biologist biology seeking cofounder startup expert firm cofound tech need electromobility educational web energy engineer edtech estate ethics"
          ],
          [
           "Nuclear engineer looking to start a nuclear tech company.",
           "company looking start green startup cofound research tech vr reality expert nuclear creative satellite database climate seeking join market building"
          ],
          [
           "Creative technologist seeking to join a creative tech startup.",
           "company looking start green startup cofound research tech vr reality expert nuclear creative satellite database climate seeking join market building"
          ],
          [
           "Data privacy advocate looking to cofound a data privacy firm.",
           "marketing privacy data powered advocate ai firm specialist cofound tech need cofounder searching seeking looking start energy electromobility educational engineer"
          ],
          [
           "Personal finance advisor seeking to join a personal finance tech company.",
           "personal finance content vr insurtech insurance technology cofound creator seeking studio advisor wanting firm expert company tech join start ecologist"
          ],
          [
           "Disaster recovery specialist looking to start a disaster recovery firm.",
           "recovery disaster social telecommunications telecom media seeking agency manager expert start company tech cofound specialist firm need cofounder looking energy"
          ],
          [
           "Telemedicine expert seeking a cofounder for a telemedicine startup.",
           "telemedicine synthetic biology expert cofounder startup seeking firm cofound need wanting energy educational electromobility data editing engineer environmental estate ethics"
          ],
          [
           "Cloud solutions architect looking to join a cloud solutions company.",
           "company looking start green startup cofound research tech vr reality expert nuclear creative satellite database climate seeking join market building"
          ],
          [
           "Proptech developer seeking to cofound a proptech startup.",
           "proptech saas cloud computing cofound startup developer expert search searching looking company seeking economist edtech editing ecologist educational electromobility energy"
          ],
          [
           "Healthcare data analyst looking to join a healthcare data firm.",
           "health healthcare data informatics analyst wanting specialist firm company start tech cofounder join seeking looking estate edtech economist editing educational"
          ],
          [
           "Behavioral economist seeking a cofounder for a behavioral economics startup.",
           "behavioral city planner urban economics economist smart cofound firm wanting tech startup analyst seeking data cofounder looking web edtech educational"
          ],
          [
           "Consumer psychologist looking to start a consumer tech company.",
           "privacy sensory consumer legal tech company psychologist advisor search start technology looking specialist expert cofound partner join searching need startup"
          ],
          [
           "Exercise scientist seeking a cofounder for a fitness tech startup.",
           "app exercise fitness scientist based mobile business cofounder startup developer seeking cofound tech wanting looking electromobility educational energy environmental edtech"
          ],
          [
           "Marine ecologist looking to join a marine tech company.",
           "marine ecologist biotechnologist biotech startup company tech searching join need cofounder looking seeking start cofound environmental engineer energy electromobility ethics"
          ],
          [
           "Insurance technology expert seeking to cofound an insurtech firm.",
           "personal finance content vr insurtech insurance technology cofound creator seeking studio advisor wanting firm expert company tech join start ecologist"
          ],
          [
           "Precision agriculture specialist looking to start a precision agtech company.",
           "bioinformatics hospitality precision specialist agriculture agtech seeking company tech start firm expert cofound wanting cofounder looking digital educational database ethics"
          ],
          [
           "Human-centered designer seeking a cofounder for a human-centered design firm.",
           "company looking start green startup cofound research tech vr reality expert nuclear creative satellite database climate seeking join market building"
          ],
          [
           "Smart mobility expert looking to join a smart mobility company.",
           "photonics sports mobility company expert start estate tech real hydrology water looking smart engineer technology wanting need join seeking edtech"
          ],
          [
           "Pet technology developer seeking a cofounder for a pet tech startup.",
           "pet neuromorphic computing tech technology seeking developer cofounder startup firm expert cofound searching economist editing web edtech electromobility energy engineer"
          ],
          [
           "Personalized nutrition expert looking to join a personalized nutrition company.",
           "nutrition personalized professional healthcare health company founder partner looking tech expert cofound wanting seeking join start digital disaster engineer energy"
          ],
          [
           "Cultural technologist seeking to cofound a cultural tech firm.",
           "logistics cultural grid chain supply bi smart intelligence specialist business company tech start expert seeking technologist looking join startup cofound"
          ],
          [
           "Microbial technologist looking to start a microbial tech company.",
           "microbial technologist start fuel cell bioenergy company tech need specialist looking seeking web electromobility educational environmental energy engineer estate ethics"
          ],
          [
           "Electromobility specialist seeking a cofounder for an electromobility startup.",
           "electromobility veterinary chemical technologist company engineer tech looking cofounder specialist startup seeking start wanting join cofound estate economist editing educational"
          ],
          [
           "Civic technology expert looking to join a civic tech company.",
           "robotics exoskeleton civic technology expert company biometrics biometric looking gesture start searching tech social cofound engineer startup recognition join need"
          ],
          [
           "Bioinformatics specialist seeking to cofound a bioinformatics firm.",
           "bioinformatics hospitality precision specialist agriculture agtech seeking company tech start firm expert cofound wanting cofounder looking digital educational database ethics"
          ],
          [
           "Fashion technologist looking to start a fashion tech company.",
           "fashion time real data technologist start company analyst looking tech seeking environmental engineer energy estate electromobility educational edtech editing ethics"
          ],
          [
           "Holography expert seeking a cofounder for a holography tech startup.",
           "holography computational biologist biology seeking cofounder startup expert firm cofound tech need electromobility educational web energy engineer edtech estate ethics"
          ],
          [
           "Quantum cryptography specialist looking to join a quantum cryptography firm.",
           "quantum cryptography specialist computing firm looking cofound tech need join start electromobility educational economist edtech editing engineer environmental estate ethics"
          ],
          [
           "Exoskeleton technology expert seeking to cofound an exoskeleton tech company.",
           "robotics exoskeleton civic technology expert company biometrics biometric looking gesture start searching tech social cofound engineer startup recognition join need"
          ],
          [
           "Climate data analyst looking to start a climate tech company.",
           "company looking start green startup cofound research tech vr reality expert nuclear creative satellite database climate seeking join market building"
          ],
          [
           "Autonomous vehicle developer seeking a cofounder for an autonomous vehicle firm.",
           "company looking start green startup cofound research tech vr reality expert nuclear creative satellite database climate seeking join market building"
          ],
          [
           "Mobile health technology expert looking to join a mobile health tech company.",
           "mobile health medtech medical device developer startup technology looking start expert company tech need seeking join cofound engineer energy electromobility"
          ],
          [
           "Artificial general intelligence researcher seeking a cofounder for an AGI startup.",
           "ar augmented reality agi general startup artificial intelligence researcher looking specialist cofound join cofounder seeking tech economist editing web edtech"
          ],
          [
           "Sensory technology specialist looking to start a sensory tech company.",
           "privacy sensory consumer legal tech company psychologist advisor search start technology looking specialist expert cofound partner join searching need startup"
          ],
          [
           "Synthetic biology expert seeking a cofounder for a synthetic biology firm.",
           "telemedicine synthetic biology expert cofounder startup seeking firm cofound need wanting energy educational electromobility data editing engineer environmental estate ethics"
          ],
          [
           "Smart contract developer looking to join a blockchain tech company.",
           "retail blockchain contract tech smart developer looking join ledger distributed specialist startup company start technologist need seeking firm cofound drone"
          ],
          [
           "AI-powered marketing specialist seeking a cofounder for a marketing tech firm.",
           "marketing privacy data powered advocate ai firm specialist cofound tech need cofounder searching seeking looking start energy electromobility educational engineer"
          ],
          [
           "Real-time data analyst looking to start a real-time data company.",
           "fashion time real data technologist start company analyst looking tech seeking environmental engineer energy estate electromobility educational edtech editing ethics"
          ]
         ],
         "hovertemplate": "Type=talent<br>X=%{x}<br>Y=%{y}<br>Description=%{customdata[0]}<br>cluster_top_words=%{customdata[1]}<br>cluster=%{marker.color}<extra></extra>",
         "legendgroup": "talent",
         "marker": {
          "color": [
           -1,
           42,
           30,
           35,
           -1,
           39,
           49,
           11,
           23,
           6,
           -1,
           18,
           45,
           51,
           46,
           7,
           28,
           -1,
           40,
           16,
           -1,
           9,
           42,
           53,
           -1,
           30,
           27,
           52,
           3,
           38,
           10,
           48,
           10,
           25,
           30,
           39,
           34,
           12,
           29,
           43,
           46,
           8,
           45,
           11,
           3,
           4,
           35,
           21,
           20,
           43,
           18,
           -1,
           30,
           31,
           27,
           -1,
           52,
           28,
           48,
           28,
           15,
           41,
           14,
           44,
           38,
           8,
           37,
           50,
           13,
           0,
           33,
           17,
           18,
           25,
           53,
           29,
           29,
           -1,
           9,
           3,
           3,
           1,
           13,
           -1,
           26,
           42,
           22,
           2,
           13,
           24,
           26,
           47,
           -1,
           28,
           -1,
           29,
           14,
           -1,
           33,
           40,
           13,
           5,
           -1,
           -1,
           19,
           47,
           52,
           36,
           -1,
           51,
           15,
           4,
           11,
           7,
           2,
           47,
           37,
           -1,
           13,
           1,
           23,
           3,
           32,
           33,
           53,
           37,
           54,
           5,
           12,
           53,
           -1,
           -1,
           41,
           31,
           11,
           36,
           50,
           19,
           54
          ],
          "coloraxis": "coloraxis",
          "symbol": "diamond"
         },
         "mode": "markers",
         "name": "talent",
         "orientation": "v",
         "showlegend": true,
         "type": "scatter",
         "x": [
          9.103470802307129,
          1.9350924491882324,
          -4.423450469970703,
          10.449390411376953,
          -2.8878049850463867,
          -3.4267923831939697,
          1.5861226320266724,
          -1.9692612886428833,
          10.8333740234375,
          -10.025261878967285,
          8.309529304504395,
          -3.8771793842315674,
          1.993420958518982,
          3.708569288253784,
          8.534905433654785,
          -7.241289138793945,
          6.248818397521973,
          -1.2692651748657227,
          1.3503196239471436,
          4.072482585906982,
          0.7748605012893677,
          -5.487742900848389,
          1.9347364902496338,
          10.733041763305664,
          19.498044967651367,
          -4.386484146118164,
          1.5472612380981445,
          5.790192127227783,
          5.571835994720459,
          -4.06017541885376,
          16.82551383972168,
          4.193911552429199,
          15.347485542297363,
          12.114697456359863,
          -4.508908748626709,
          -4.805907249450684,
          -3.379854202270508,
          -4.941736698150635,
          4.4599928855896,
          9.500752449035645,
          8.610730171203613,
          1.3332581520080566,
          1.9934382438659668,
          -2.0622105598449707,
          3.7642910480499268,
          -8.088099479675293,
          10.17057991027832,
          15.662690162658691,
          15.911972999572754,
          9.515302658081055,
          -1.6916192770004272,
          8.378243446350098,
          -3.383971691131592,
          -1.3963927030563354,
          -0.20423957705497742,
          -1.7483769655227661,
          6.214178562164307,
          7.541680335998535,
          4.198339462280273,
          8.624838829040527,
          7.804962635040283,
          4.640500068664551,
          15.956547737121582,
          9.597881317138672,
          -4.060210704803467,
          1.2569317817687988,
          8.744673728942871,
          2.759204149246216,
          13.763289451599121,
          21.444915771484375,
          14.246908187866211,
          5.018551349639893,
          -3.7143349647521973,
          12.114706993103027,
          10.264427185058594,
          4.466503143310547,
          4.814906120300293,
          -2.6099119186401367,
          -4.539192199707031,
          7.100593566894531,
          2.948383331298828,
          4.993539810180664,
          13.687825202941895,
          15.5973539352417,
          13.44167423248291,
          3.0887670516967773,
          9.916903495788574,
          12.170470237731934,
          10.925217628479004,
          12.310271263122559,
          12.612507820129395,
          5.421350002288818,
          -6.868533611297607,
          8.62489128112793,
          10.6539945602417,
          3.2809464931488037,
          15.318939208984375,
          -2.0140013694763184,
          16.1705379486084,
          1.9381500482559204,
          14.143352508544922,
          1.1353819370269775,
          20.02570915222168,
          7.387088298797607,
          -6.647481441497803,
          4.3626813888549805,
          4.592301368713379,
          4.835127830505371,
          6.676973342895508,
          4.697109222412109,
          7.776782512664795,
          -10.24449348449707,
          -2.145068407058716,
          -5.4029927253723145,
          12.225029945373535,
          6.36253547668457,
          6.551164627075195,
          -2.8448288440704346,
          12.266520500183105,
          6.670053005218506,
          9.525359153747559,
          0.5320891737937927,
          14.385171890258789,
          15.690715789794922,
          8.32241153717041,
          7.627864360809326,
          12.189482688903809,
          -0.06830848753452301,
          -4.826810359954834,
          9.807032585144043,
          12.912548065185547,
          -6.645394325256348,
          5.827333927154541,
          -0.665496826171875,
          0.17997446656227112,
          4.231374740600586,
          1.967689037322998,
          -4.857732772827148,
          12.482351303100586
         ],
         "xaxis": "x",
         "y": [
          -4.315933704376221,
          10.70128345489502,
          7.82640266418457,
          5.037708282470703,
          -9.080062866210938,
          2.5929460525512695,
          3.110593557357788,
          -2.8036997318267822,
          14.739795684814453,
          2.846409797668457,
          6.761569023132324,
          12.824658393859863,
          -0.9170737266540527,
          3.13938045501709,
          -0.9774529337882996,
          10.448493003845215,
          -5.112102031707764,
          0.6285123825073242,
          6.002829074859619,
          15.847172737121582,
          8.430887222290039,
          -4.025640487670898,
          10.701409339904785,
          2.036884069442749,
          12.529266357421875,
          7.86472225189209,
          12.854639053344727,
          -0.14228855073451996,
          -7.919187068939209,
          4.034337997436523,
          -0.5863770246505737,
          6.641024112701416,
          -0.06801553070545197,
          8.940884590148926,
          7.742697715759277,
          2.452660322189331,
          0.9812162518501282,
          16.265247344970703,
          -5.161067008972168,
          11.885478973388672,
          -1.0546599626541138,
          15.512580871582031,
          -0.917304277420044,
          -4.775847911834717,
          -9.36152458190918,
          7.752523899078369,
          6.534241676330566,
          8.534125328063965,
          8.28439712524414,
          11.872615814208984,
          13.307518005371094,
          4.29451322555542,
          6.369051933288574,
          6.4763054847717285,
          11.700587272644043,
          2.5690927505493164,
          1.3567756414413452,
          -5.59340238571167,
          6.644975662231445,
          -6.916633129119873,
          14.656631469726562,
          9.232426643371582,
          2.267746925354004,
          11.785236358642578,
          4.034326553344727,
          15.43263053894043,
          9.923758506774902,
          0.7409838438034058,
          -4.101372241973877,
          -0.684883177280426,
          10.407140731811523,
          14.852867126464844,
          14.118753433227539,
          8.940835952758789,
          0.817834198474884,
          -5.172467231750488,
          -3.5574474334716797,
          9.623339653015137,
          -4.219886302947998,
          -10.120293617248535,
          -7.811990737915039,
          20.070138931274414,
          -2.347930669784546,
          6.334359169006348,
          14.689152717590332,
          9.978556632995605,
          16.439786911010742,
          18.79663848876953,
          -6.8671698570251465,
          9.897648811340332,
          13.268357276916504,
          5.936071872711182,
          3.1494479179382324,
          -6.916712760925293,
          -1.1574342250823975,
          -2.7316701412200928,
          4.09760856628418,
          15.950836181640625,
          12.523619651794434,
          4.948220729827881,
          -6.102797985076904,
          19.722871780395508,
          4.141475200653076,
          0.22039662301540375,
          0.2864302694797516,
          5.194920539855957,
          -0.23067958652973175,
          11.308928489685059,
          6.8791117668151855,
          1.8793907165527344,
          14.68475341796875,
          7.416557788848877,
          -1.6869086027145386,
          10.58703327178955,
          18.748790740966797,
          5.295814037322998,
          12.607259750366211,
          18.358190536499023,
          -5.513431072235107,
          18.556032180786133,
          14.86113452911377,
          -8.979418754577637,
          12.510918617248535,
          10.95505142211914,
          2.518059730529785,
          11.159615516662598,
          3.1256654262542725,
          17.970949172973633,
          16.150474548339844,
          2.8501720428466797,
          5.828306198120117,
          13.381340980529785,
          9.36462688446045,
          5.1147332191467285,
          -4.552791118621826,
          12.796835899353027,
          1.6940070390701294,
          -0.15183067321777344,
          2.1222126483917236
         ],
         "yaxis": "y"
        },
        {
         "customdata": [
          [
           "I'm looking for a skilled programmer to join my startup.",
           "company looking start green startup cofound research tech vr reality expert nuclear creative satellite database climate seeking join market building"
          ],
          [
           "Looking for a DevOps engineer to cofound a software company.",
           "company looking start green startup cofound research tech vr reality expert nuclear creative satellite database climate seeking join market building"
          ],
          [
           "Wanting a blockchain expert to start a cryptocurrency company.",
           "company looking start green startup cofound research tech vr reality expert nuclear creative satellite database climate seeking join market building"
          ],
          [
           "Need an e-commerce specialist to cofound an online retail business.",
           "company looking start green startup cofound research tech vr reality expert nuclear creative satellite database climate seeking join market building"
          ],
          [
           "Wanting an AR/VR developer to start an augmented reality company.",
           "company looking start green startup cofound research tech vr reality expert nuclear creative satellite database climate seeking join market building"
          ],
          [
           "Searching for a sustainability expert to start a green tech company.",
           "company looking start green startup cofound research tech vr reality expert nuclear creative satellite database climate seeking join market building"
          ],
          [
           "Seeking a virtual reality expert to cofound a VR startup.",
           "company looking start green startup cofound research tech vr reality expert nuclear creative satellite database climate seeking join market building"
          ],
          [
           "Wanting a database administrator to cofound a database tech firm.",
           "company looking start green startup cofound research tech vr reality expert nuclear creative satellite database climate seeking join market building"
          ],
          [
           "Need a market researcher to cofound a market research firm.",
           "company looking start green startup cofound research tech vr reality expert nuclear creative satellite database climate seeking join market building"
          ],
          [
           "Looking for a satellite technology expert to cofound a satellite tech startup.",
           "company looking start green startup cofound research tech vr reality expert nuclear creative satellite database climate seeking join market building"
          ],
          [
           "Need an AI ethics specialist to start an AI ethics consultancy.",
           "company looking start green startup cofound research tech vr reality expert nuclear creative satellite database climate seeking join market building"
          ],
          [
           "Searching for a green building specialist to start a green building company.",
           "company looking start green startup cofound research tech vr reality expert nuclear creative satellite database climate seeking join market building"
          ],
          [
           "Need a clinical research scientist to cofound a clinical research startup.",
           "company looking start green startup cofound research tech vr reality expert nuclear creative satellite database climate seeking join market building"
          ],
          [
           "Need a nuclear engineer to start a nuclear tech company.",
           "company looking start green startup cofound research tech vr reality expert nuclear creative satellite database climate seeking join market building"
          ],
          [
           "Looking for a creative technologist to cofound a creative tech startup.",
           "company looking start green startup cofound research tech vr reality expert nuclear creative satellite database climate seeking join market building"
          ],
          [
           "Looking for a cloud solutions architect to start a cloud solutions company.",
           "company looking start green startup cofound research tech vr reality expert nuclear creative satellite database climate seeking join market building"
          ],
          [
           "Need a human-centered designer to cofound a human-centered design firm.",
           "company looking start green startup cofound research tech vr reality expert nuclear creative satellite database climate seeking join market building"
          ],
          [
           "Wanting a climate data analyst to start a climate tech company.",
           "company looking start green startup cofound research tech vr reality expert nuclear creative satellite database climate seeking join market building"
          ],
          [
           "Seeking an autonomous vehicle developer to cofound an autonomous vehicle firm.",
           "company looking start green startup cofound research tech vr reality expert nuclear creative satellite database climate seeking join market building"
          ],
          [
           "I'm a skilled programmer looking to join a startup.",
           "company looking start green startup cofound research tech vr reality expert nuclear creative satellite database climate seeking join market building"
          ],
          [
           "DevOps engineer looking to cofound a software company.",
           "company looking start green startup cofound research tech vr reality expert nuclear creative satellite database climate seeking join market building"
          ],
          [
           "Blockchain expert in search of a cryptocurrency company to start.",
           "company looking start green startup cofound research tech vr reality expert nuclear creative satellite database climate seeking join market building"
          ],
          [
           "E-commerce specialist seeking a cofounder for an online retail business.",
           "company looking start green startup cofound research tech vr reality expert nuclear creative satellite database climate seeking join market building"
          ],
          [
           "AR/VR developer seeking to start an augmented reality company.",
           "company looking start green startup cofound research tech vr reality expert nuclear creative satellite database climate seeking join market building"
          ],
          [
           "Sustainability expert in search of a green tech startup to join.",
           "company looking start green startup cofound research tech vr reality expert nuclear creative satellite database climate seeking join market building"
          ],
          [
           "Virtual reality expert looking to start a VR tech company.",
           "company looking start green startup cofound research tech vr reality expert nuclear creative satellite database climate seeking join market building"
          ],
          [
           "Database administrator looking to start a database tech firm.",
           "company looking start green startup cofound research tech vr reality expert nuclear creative satellite database climate seeking join market building"
          ],
          [
           "Market researcher seeking a cofounder for a market research firm.",
           "company looking start green startup cofound research tech vr reality expert nuclear creative satellite database climate seeking join market building"
          ],
          [
           "Satellite technology expert seeking to join a satellite tech startup.",
           "company looking start green startup cofound research tech vr reality expert nuclear creative satellite database climate seeking join market building"
          ],
          [
           "AI ethics specialist looking to cofound an AI ethics consultancy.",
           "company looking start green startup cofound research tech vr reality expert nuclear creative satellite database climate seeking join market building"
          ],
          [
           "Green building specialist looking to start a green building company.",
           "company looking start green startup cofound research tech vr reality expert nuclear creative satellite database climate seeking join market building"
          ],
          [
           "Clinical research scientist seeking a cofounder for a clinical research startup.",
           "company looking start green startup cofound research tech vr reality expert nuclear creative satellite database climate seeking join market building"
          ],
          [
           "Nuclear engineer looking to start a nuclear tech company.",
           "company looking start green startup cofound research tech vr reality expert nuclear creative satellite database climate seeking join market building"
          ],
          [
           "Creative technologist seeking to join a creative tech startup.",
           "company looking start green startup cofound research tech vr reality expert nuclear creative satellite database climate seeking join market building"
          ],
          [
           "Cloud solutions architect looking to join a cloud solutions company.",
           "company looking start green startup cofound research tech vr reality expert nuclear creative satellite database climate seeking join market building"
          ],
          [
           "Human-centered designer seeking a cofounder for a human-centered design firm.",
           "company looking start green startup cofound research tech vr reality expert nuclear creative satellite database climate seeking join market building"
          ],
          [
           "Climate data analyst looking to start a climate tech company.",
           "company looking start green startup cofound research tech vr reality expert nuclear creative satellite database climate seeking join market building"
          ],
          [
           "Autonomous vehicle developer seeking a cofounder for an autonomous vehicle firm.",
           "company looking start green startup cofound research tech vr reality expert nuclear creative satellite database climate seeking join market building"
          ]
         ],
         "hovertemplate": "X=%{x}<br>Y=%{y}<br>Description=%{customdata[0]}<br>cluster_top_words=%{customdata[1]}<extra></extra>",
         "legendgroup": "",
         "marker": {
          "color": "#EEEEEE",
          "symbol": "circle"
         },
         "mode": "markers",
         "name": "",
         "orientation": "v",
         "showlegend": false,
         "type": "scatter",
         "x": [
          9.103469848632812,
          -2.8878190517425537,
          8.30951976776123,
          -1.2693538665771484,
          0.7748408317565918,
          19.49800682067871,
          8.378260612487793,
          -1.7484062910079956,
          -2.609938383102417,
          15.597335815429688,
          -6.868521213531494,
          10.653914451599121,
          -2.014038562774658,
          20.025659561157227,
          7.3868536949157715,
          6.676576614379883,
          -2.8448171615600586,
          12.912476539611816,
          -6.645355701446533,
          9.103470802307129,
          -2.8878049850463867,
          8.309529304504395,
          -1.2692651748657227,
          0.7748605012893677,
          19.498044967651367,
          8.378243446350098,
          -1.7483769655227661,
          -2.6099119186401367,
          15.5973539352417,
          -6.868533611297607,
          10.6539945602417,
          -2.0140013694763184,
          20.02570915222168,
          7.387088298797607,
          6.676973342895508,
          -2.8448288440704346,
          12.912548065185547,
          -6.645394325256348
         ],
         "xaxis": "x",
         "y": [
          -4.315776348114014,
          -9.080005645751953,
          6.761567115783691,
          0.6285839080810547,
          8.430837631225586,
          12.529258728027344,
          4.294814109802246,
          2.5690786838531494,
          9.623397827148438,
          6.33436393737793,
          3.1494240760803223,
          -1.1575119495391846,
          15.95085620880127,
          4.141476154327393,
          0.22062349319458008,
          6.879148006439209,
          18.358154296875,
          5.828312397003174,
          13.38125991821289,
          -4.315933704376221,
          -9.080062866210938,
          6.761569023132324,
          0.6285123825073242,
          8.430887222290039,
          12.529266357421875,
          4.29451322555542,
          2.5690927505493164,
          9.623339653015137,
          6.334359169006348,
          3.1494479179382324,
          -1.1574342250823975,
          15.950836181640625,
          4.141475200653076,
          0.22039662301540375,
          6.8791117668151855,
          18.358190536499023,
          5.828306198120117,
          13.381340980529785
         ],
         "yaxis": "y"
        }
       ],
       "layout": {
        "autosize": false,
        "coloraxis": {
         "colorbar": {
          "title": {
           "text": "cluster"
          }
         },
         "colorscale": [
          [
           0,
           "#0d0887"
          ],
          [
           0.1111111111111111,
           "#46039f"
          ],
          [
           0.2222222222222222,
           "#7201a8"
          ],
          [
           0.3333333333333333,
           "#9c179e"
          ],
          [
           0.4444444444444444,
           "#bd3786"
          ],
          [
           0.5555555555555556,
           "#d8576b"
          ],
          [
           0.6666666666666666,
           "#ed7953"
          ],
          [
           0.7777777777777778,
           "#fb9f3a"
          ],
          [
           0.8888888888888888,
           "#fdca26"
          ],
          [
           1,
           "#f0f921"
          ]
         ]
        },
        "height": 500,
        "images": [
         {
          "layer": "below",
          "opacity": 0.8,
          "sizex": 0.8,
          "sizey": 0.8,
          "source": "rocket/landing/static/landing/Rocket Logo.png",
          "x": 0,
          "xref": "paper",
          "y": 1,
          "yref": "paper"
         },
         {
          "opacity": 0.8,
          "sizex": 0.15,
          "sizey": 0.15,
          "source": "rocket/landing/static/landing/Rocket Logo.png",
          "x": 0,
          "xref": "paper",
          "y": 0,
          "yref": "paper"
         }
        ],
        "legend": {
         "itemsizing": "constant",
         "title": {
          "font": {
           "color": "green"
          },
          "text": "Clusters & Top Words"
         },
         "tracegroupgap": 20
        },
        "margin": {
         "b": 100,
         "l": 50,
         "r": 50,
         "t": 100
        },
        "plot_bgcolor": "white",
        "showlegend": true,
        "template": {
         "data": {
          "bar": [
           {
            "error_x": {
             "color": "#2a3f5f"
            },
            "error_y": {
             "color": "#2a3f5f"
            },
            "marker": {
             "line": {
              "color": "#E5ECF6",
              "width": 0.5
             },
             "pattern": {
              "fillmode": "overlay",
              "size": 10,
              "solidity": 0.2
             }
            },
            "type": "bar"
           }
          ],
          "barpolar": [
           {
            "marker": {
             "line": {
              "color": "#E5ECF6",
              "width": 0.5
             },
             "pattern": {
              "fillmode": "overlay",
              "size": 10,
              "solidity": 0.2
             }
            },
            "type": "barpolar"
           }
          ],
          "carpet": [
           {
            "aaxis": {
             "endlinecolor": "#2a3f5f",
             "gridcolor": "white",
             "linecolor": "white",
             "minorgridcolor": "white",
             "startlinecolor": "#2a3f5f"
            },
            "baxis": {
             "endlinecolor": "#2a3f5f",
             "gridcolor": "white",
             "linecolor": "white",
             "minorgridcolor": "white",
             "startlinecolor": "#2a3f5f"
            },
            "type": "carpet"
           }
          ],
          "choropleth": [
           {
            "colorbar": {
             "outlinewidth": 0,
             "ticks": ""
            },
            "type": "choropleth"
           }
          ],
          "contour": [
           {
            "colorbar": {
             "outlinewidth": 0,
             "ticks": ""
            },
            "colorscale": [
             [
              0,
              "#0d0887"
             ],
             [
              0.1111111111111111,
              "#46039f"
             ],
             [
              0.2222222222222222,
              "#7201a8"
             ],
             [
              0.3333333333333333,
              "#9c179e"
             ],
             [
              0.4444444444444444,
              "#bd3786"
             ],
             [
              0.5555555555555556,
              "#d8576b"
             ],
             [
              0.6666666666666666,
              "#ed7953"
             ],
             [
              0.7777777777777778,
              "#fb9f3a"
             ],
             [
              0.8888888888888888,
              "#fdca26"
             ],
             [
              1,
              "#f0f921"
             ]
            ],
            "type": "contour"
           }
          ],
          "contourcarpet": [
           {
            "colorbar": {
             "outlinewidth": 0,
             "ticks": ""
            },
            "type": "contourcarpet"
           }
          ],
          "heatmap": [
           {
            "colorbar": {
             "outlinewidth": 0,
             "ticks": ""
            },
            "colorscale": [
             [
              0,
              "#0d0887"
             ],
             [
              0.1111111111111111,
              "#46039f"
             ],
             [
              0.2222222222222222,
              "#7201a8"
             ],
             [
              0.3333333333333333,
              "#9c179e"
             ],
             [
              0.4444444444444444,
              "#bd3786"
             ],
             [
              0.5555555555555556,
              "#d8576b"
             ],
             [
              0.6666666666666666,
              "#ed7953"
             ],
             [
              0.7777777777777778,
              "#fb9f3a"
             ],
             [
              0.8888888888888888,
              "#fdca26"
             ],
             [
              1,
              "#f0f921"
             ]
            ],
            "type": "heatmap"
           }
          ],
          "heatmapgl": [
           {
            "colorbar": {
             "outlinewidth": 0,
             "ticks": ""
            },
            "colorscale": [
             [
              0,
              "#0d0887"
             ],
             [
              0.1111111111111111,
              "#46039f"
             ],
             [
              0.2222222222222222,
              "#7201a8"
             ],
             [
              0.3333333333333333,
              "#9c179e"
             ],
             [
              0.4444444444444444,
              "#bd3786"
             ],
             [
              0.5555555555555556,
              "#d8576b"
             ],
             [
              0.6666666666666666,
              "#ed7953"
             ],
             [
              0.7777777777777778,
              "#fb9f3a"
             ],
             [
              0.8888888888888888,
              "#fdca26"
             ],
             [
              1,
              "#f0f921"
             ]
            ],
            "type": "heatmapgl"
           }
          ],
          "histogram": [
           {
            "marker": {
             "pattern": {
              "fillmode": "overlay",
              "size": 10,
              "solidity": 0.2
             }
            },
            "type": "histogram"
           }
          ],
          "histogram2d": [
           {
            "colorbar": {
             "outlinewidth": 0,
             "ticks": ""
            },
            "colorscale": [
             [
              0,
              "#0d0887"
             ],
             [
              0.1111111111111111,
              "#46039f"
             ],
             [
              0.2222222222222222,
              "#7201a8"
             ],
             [
              0.3333333333333333,
              "#9c179e"
             ],
             [
              0.4444444444444444,
              "#bd3786"
             ],
             [
              0.5555555555555556,
              "#d8576b"
             ],
             [
              0.6666666666666666,
              "#ed7953"
             ],
             [
              0.7777777777777778,
              "#fb9f3a"
             ],
             [
              0.8888888888888888,
              "#fdca26"
             ],
             [
              1,
              "#f0f921"
             ]
            ],
            "type": "histogram2d"
           }
          ],
          "histogram2dcontour": [
           {
            "colorbar": {
             "outlinewidth": 0,
             "ticks": ""
            },
            "colorscale": [
             [
              0,
              "#0d0887"
             ],
             [
              0.1111111111111111,
              "#46039f"
             ],
             [
              0.2222222222222222,
              "#7201a8"
             ],
             [
              0.3333333333333333,
              "#9c179e"
             ],
             [
              0.4444444444444444,
              "#bd3786"
             ],
             [
              0.5555555555555556,
              "#d8576b"
             ],
             [
              0.6666666666666666,
              "#ed7953"
             ],
             [
              0.7777777777777778,
              "#fb9f3a"
             ],
             [
              0.8888888888888888,
              "#fdca26"
             ],
             [
              1,
              "#f0f921"
             ]
            ],
            "type": "histogram2dcontour"
           }
          ],
          "mesh3d": [
           {
            "colorbar": {
             "outlinewidth": 0,
             "ticks": ""
            },
            "type": "mesh3d"
           }
          ],
          "parcoords": [
           {
            "line": {
             "colorbar": {
              "outlinewidth": 0,
              "ticks": ""
             }
            },
            "type": "parcoords"
           }
          ],
          "pie": [
           {
            "automargin": true,
            "type": "pie"
           }
          ],
          "scatter": [
           {
            "fillpattern": {
             "fillmode": "overlay",
             "size": 10,
             "solidity": 0.2
            },
            "type": "scatter"
           }
          ],
          "scatter3d": [
           {
            "line": {
             "colorbar": {
              "outlinewidth": 0,
              "ticks": ""
             }
            },
            "marker": {
             "colorbar": {
              "outlinewidth": 0,
              "ticks": ""
             }
            },
            "type": "scatter3d"
           }
          ],
          "scattercarpet": [
           {
            "marker": {
             "colorbar": {
              "outlinewidth": 0,
              "ticks": ""
             }
            },
            "type": "scattercarpet"
           }
          ],
          "scattergeo": [
           {
            "marker": {
             "colorbar": {
              "outlinewidth": 0,
              "ticks": ""
             }
            },
            "type": "scattergeo"
           }
          ],
          "scattergl": [
           {
            "marker": {
             "colorbar": {
              "outlinewidth": 0,
              "ticks": ""
             }
            },
            "type": "scattergl"
           }
          ],
          "scattermapbox": [
           {
            "marker": {
             "colorbar": {
              "outlinewidth": 0,
              "ticks": ""
             }
            },
            "type": "scattermapbox"
           }
          ],
          "scatterpolar": [
           {
            "marker": {
             "colorbar": {
              "outlinewidth": 0,
              "ticks": ""
             }
            },
            "type": "scatterpolar"
           }
          ],
          "scatterpolargl": [
           {
            "marker": {
             "colorbar": {
              "outlinewidth": 0,
              "ticks": ""
             }
            },
            "type": "scatterpolargl"
           }
          ],
          "scatterternary": [
           {
            "marker": {
             "colorbar": {
              "outlinewidth": 0,
              "ticks": ""
             }
            },
            "type": "scatterternary"
           }
          ],
          "surface": [
           {
            "colorbar": {
             "outlinewidth": 0,
             "ticks": ""
            },
            "colorscale": [
             [
              0,
              "#0d0887"
             ],
             [
              0.1111111111111111,
              "#46039f"
             ],
             [
              0.2222222222222222,
              "#7201a8"
             ],
             [
              0.3333333333333333,
              "#9c179e"
             ],
             [
              0.4444444444444444,
              "#bd3786"
             ],
             [
              0.5555555555555556,
              "#d8576b"
             ],
             [
              0.6666666666666666,
              "#ed7953"
             ],
             [
              0.7777777777777778,
              "#fb9f3a"
             ],
             [
              0.8888888888888888,
              "#fdca26"
             ],
             [
              1,
              "#f0f921"
             ]
            ],
            "type": "surface"
           }
          ],
          "table": [
           {
            "cells": {
             "fill": {
              "color": "#EBF0F8"
             },
             "line": {
              "color": "white"
             }
            },
            "header": {
             "fill": {
              "color": "#C8D4E3"
             },
             "line": {
              "color": "white"
             }
            },
            "type": "table"
           }
          ]
         },
         "layout": {
          "annotationdefaults": {
           "arrowcolor": "#2a3f5f",
           "arrowhead": 0,
           "arrowwidth": 1
          },
          "autotypenumbers": "strict",
          "coloraxis": {
           "colorbar": {
            "outlinewidth": 0,
            "ticks": ""
           }
          },
          "colorscale": {
           "diverging": [
            [
             0,
             "#8e0152"
            ],
            [
             0.1,
             "#c51b7d"
            ],
            [
             0.2,
             "#de77ae"
            ],
            [
             0.3,
             "#f1b6da"
            ],
            [
             0.4,
             "#fde0ef"
            ],
            [
             0.5,
             "#f7f7f7"
            ],
            [
             0.6,
             "#e6f5d0"
            ],
            [
             0.7,
             "#b8e186"
            ],
            [
             0.8,
             "#7fbc41"
            ],
            [
             0.9,
             "#4d9221"
            ],
            [
             1,
             "#276419"
            ]
           ],
           "sequential": [
            [
             0,
             "#0d0887"
            ],
            [
             0.1111111111111111,
             "#46039f"
            ],
            [
             0.2222222222222222,
             "#7201a8"
            ],
            [
             0.3333333333333333,
             "#9c179e"
            ],
            [
             0.4444444444444444,
             "#bd3786"
            ],
            [
             0.5555555555555556,
             "#d8576b"
            ],
            [
             0.6666666666666666,
             "#ed7953"
            ],
            [
             0.7777777777777778,
             "#fb9f3a"
            ],
            [
             0.8888888888888888,
             "#fdca26"
            ],
            [
             1,
             "#f0f921"
            ]
           ],
           "sequentialminus": [
            [
             0,
             "#0d0887"
            ],
            [
             0.1111111111111111,
             "#46039f"
            ],
            [
             0.2222222222222222,
             "#7201a8"
            ],
            [
             0.3333333333333333,
             "#9c179e"
            ],
            [
             0.4444444444444444,
             "#bd3786"
            ],
            [
             0.5555555555555556,
             "#d8576b"
            ],
            [
             0.6666666666666666,
             "#ed7953"
            ],
            [
             0.7777777777777778,
             "#fb9f3a"
            ],
            [
             0.8888888888888888,
             "#fdca26"
            ],
            [
             1,
             "#f0f921"
            ]
           ]
          },
          "colorway": [
           "#636efa",
           "#EF553B",
           "#00cc96",
           "#ab63fa",
           "#FFA15A",
           "#19d3f3",
           "#FF6692",
           "#B6E880",
           "#FF97FF",
           "#FECB52"
          ],
          "font": {
           "color": "#2a3f5f"
          },
          "geo": {
           "bgcolor": "white",
           "lakecolor": "white",
           "landcolor": "#E5ECF6",
           "showlakes": true,
           "showland": true,
           "subunitcolor": "white"
          },
          "hoverlabel": {
           "align": "left"
          },
          "hovermode": "closest",
          "mapbox": {
           "style": "light"
          },
          "paper_bgcolor": "white",
          "plot_bgcolor": "#E5ECF6",
          "polar": {
           "angularaxis": {
            "gridcolor": "white",
            "linecolor": "white",
            "ticks": ""
           },
           "bgcolor": "#E5ECF6",
           "radialaxis": {
            "gridcolor": "white",
            "linecolor": "white",
            "ticks": ""
           }
          },
          "scene": {
           "xaxis": {
            "backgroundcolor": "#E5ECF6",
            "gridcolor": "white",
            "gridwidth": 2,
            "linecolor": "white",
            "showbackground": true,
            "ticks": "",
            "zerolinecolor": "white"
           },
           "yaxis": {
            "backgroundcolor": "#E5ECF6",
            "gridcolor": "white",
            "gridwidth": 2,
            "linecolor": "white",
            "showbackground": true,
            "ticks": "",
            "zerolinecolor": "white"
           },
           "zaxis": {
            "backgroundcolor": "#E5ECF6",
            "gridcolor": "white",
            "gridwidth": 2,
            "linecolor": "white",
            "showbackground": true,
            "ticks": "",
            "zerolinecolor": "white"
           }
          },
          "shapedefaults": {
           "line": {
            "color": "#2a3f5f"
           }
          },
          "ternary": {
           "aaxis": {
            "gridcolor": "white",
            "linecolor": "white",
            "ticks": ""
           },
           "baxis": {
            "gridcolor": "white",
            "linecolor": "white",
            "ticks": ""
           },
           "bgcolor": "#E5ECF6",
           "caxis": {
            "gridcolor": "white",
            "linecolor": "white",
            "ticks": ""
           }
          },
          "title": {
           "x": 0.05
          },
          "xaxis": {
           "automargin": true,
           "gridcolor": "white",
           "linecolor": "white",
           "ticks": "",
           "title": {
            "standoff": 15
           },
           "zerolinecolor": "white",
           "zerolinewidth": 2
          },
          "yaxis": {
           "automargin": true,
           "gridcolor": "white",
           "linecolor": "white",
           "ticks": "",
           "title": {
            "standoff": 15
           },
           "zerolinecolor": "white",
           "zerolinewidth": 2
          }
         }
        },
        "width": 1000,
        "xaxis": {
         "anchor": "y",
         "autorange": true,
         "domain": [
          0,
          1
         ],
         "range": [
          -12.198394633300675,
          23.406082011230364
         ],
         "showticklabels": false,
         "title": {
          "text": ""
         },
         "type": "linear"
        },
        "yaxis": {
         "anchor": "x",
         "autorange": true,
         "domain": [
          0,
          1
         ],
         "range": [
          -12.276753085000173,
          22.226598399026052
         ],
         "showticklabels": false,
         "title": {
          "text": ""
         },
         "type": "linear"
        }
       }
      },
      "image/png": "[encoded data removed]",
      "text/html": [
       "<div>                            <div id=\"9bd54cd5-bc7f-43f9-8a82-a6b01c074c1e\" class=\"plotly-graph-div\" style=\"height:500px; width:1000px;\"></div>            <script type=\"text/javascript\">                require([\"plotly\"], function(Plotly) {                    window.PLOTLYENV=window.PLOTLYENV || {};                                    if (document.getElementById(\"9bd54cd5-bc7f-43f9-8a82-a6b01c074c1e\")) {                    Plotly.newPlot(                        \"9bd54cd5-bc7f-43f9-8a82-a6b01c074c1e\",                        [{\"customdata\":[[\"I'm looking for a skilled programmer to join my startup.\",\"company looking start green startup cofound research tech vr reality expert nuclear creative satellite database climate seeking join market building\"],[\"Seeking a talented data scientist to cofound an AI company.\",\"sales retail ai manager cognitive cofound talented artificial experienced startup intelligence researcher scientist data company computing start need searching wanting\"],[\"Need a UX designer to partner with for a new app.\",\"web designer software development interior design ux firm business architect cofounder seeking need developer app new plan strong talented partner\"],[\"Searching for a project manager to help lead a tech venture.\",\"3d printing project business manager savvy help lead venture start founder search specialist tech seeking searching edtech editing educational electromobility\"],[\"Looking for a DevOps engineer to cofound a software company.\",\"company looking start green startup cofound research tech vr reality expert nuclear creative satellite database climate seeking join market building\"],[\"Wanting to find a marketing expert to start an online business.\",\"recruitment hr online marketing business wanting start specialist find founder expert company tech looking cofound seeking edtech electromobility energy editing\"],[\"In need of a financial advisor to cofound a fintech startup.\",\"fintech financial advisor startup cofound looking technology need join searching developer firm expert engineer energy environmental estate educational ethics edtech\"],[\"Seeking a legal advisor to partner with for a legal tech firm.\",\"privacy sensory consumer legal tech company psychologist advisor search start technology looking specialist expert cofound partner join searching need startup\"],[\"Looking for a healthcare professional to cofound a health tech company.\",\"nutrition personalized professional healthcare health company founder partner looking tech expert cofound wanting seeking join start digital disaster engineer energy\"],[\"Searching for an experienced sales manager to cofound a retail startup.\",\"sales retail ai manager cognitive cofound talented artificial experienced startup intelligence researcher scientist data company computing start need searching wanting\"],[\"Wanting a blockchain expert to start a cryptocurrency company.\",\"company looking start green startup cofound research tech vr reality expert nuclear creative satellite database climate seeking join market building\"],[\"Seeking a machine learning specialist to cofound an analytics firm.\",\"geneticist machine learning analytics natural nlp language processing company genetic cofound genomics specialist firm search seeking expert start tech need\"],[\"Need a cybersecurity expert to start a security tech company.\",\"cybersecurity security policy expert consultancy need start company tech join seeking looking editing edtech educational energy electromobility engineer environmental estate\"],[\"Looking for a cloud computing expert to cofound a SaaS company.\",\"proptech saas cloud computing cofound startup developer expert search searching looking company seeking economist edtech editing ecologist educational electromobility energy\"],[\"Searching for an IoT specialist to start a smart device company.\",\"smart home iot device specialist company start technology founder partner searching looking wanting economist ethics estate design cultural environmental engineer\"],[\"Wanting a mobile app developer to cofound an app-based business.\",\"app exercise fitness scientist based mobile business cofounder startup developer seeking cofound tech wanting looking electromobility educational energy environmental edtech\"],[\"Seeking a big data analyst to start a data analytics firm.\",\"fintech cloud security data firm big analytics join analyst expert financial looking seeking technology start developer startup need cofound engineer\"],[\"Need an e-commerce specialist to cofound an online retail business.\",\"company looking start green startup cofound research tech vr reality expert nuclear creative satellite database climate seeking join market building\"],[\"Looking for a product manager to partner with for a new venture.\",\"mental health product new venture manager cofound partner search specialist startup tech searching looking seeking energy electromobility educational edtech editing\"],[\"Searching for a biotech researcher to cofound a biotech startup.\",\"biotech biosensor researcher bioethicist bioethics startup cofound looking wanting tech searching firm cofounder join developer engineer environmental energy electromobility estate\"],[\"Wanting an AR\\u002fVR developer to start an augmented reality company.\",\"company looking start green startup cofound research tech vr reality expert nuclear creative satellite database climate seeking join market building\"],[\"Seeking a digital marketing strategist to cofound a digital agency.\",\"digital assistant virtual strategist agency marketing looking developer cofound company join seeking start disaster devops exoplanet exercise ethics estate environmental\"],[\"Need an AI researcher to start an artificial intelligence company.\",\"sales retail ai manager cognitive cofound talented artificial experienced startup intelligence researcher scientist data company computing start need searching wanting\"],[\"Looking for a robotics engineer to cofound a robotics startup.\",\"robotics exoskeleton civic technology expert company biometrics biometric looking gesture start searching tech social cofound engineer startup recognition join need\"],[\"Searching for a sustainability expert to start a green tech company.\",\"company looking start green startup cofound research tech vr reality expert nuclear creative satellite database climate seeking join market building\"],[\"Wanting a web developer to cofound a web development business.\",\"web designer software development interior design ux firm business architect cofounder seeking need developer app new plan strong talented partner\"],[\"Seeking a content creator to start a media company.\",\"vision computer media creator content company start seeking expert looking searching cofounder editing edtech educational web economist energy engineer environmental\"],[\"Need a social media manager to cofound a social media agency.\",\"recovery disaster social telecommunications telecom media seeking agency manager expert start company tech cofound specialist firm need cofounder looking energy\"],[\"Looking for a logistics expert to start a logistics tech company.\",\"logistics cultural grid chain supply bi smart intelligence specialist business company tech start expert seeking technologist looking join startup cofound\"],[\"Searching for an educational technologist to cofound an edtech startup.\",\"edtech educational learning technologist searching cofounder specialist startup seeking company start cofound electromobility economist energy engineer environmental estate editing ethics\"],[\"Wanting a hardware engineer to start a hardware tech company.\",\"hardware engineer networking network start company tech need wanting seeking looking environmental estate ethics economist energy electromobility educational edtech editing\"],[\"Seeking a game developer to cofound a gaming studio.\",\"game studio gaming video development designer developer cofounder search seeking cofound looking start digital data ethics estate environmental engineer energy\"],[\"Need a network engineer to start a networking tech company.\",\"hardware engineer networking network start company tech need wanting seeking looking environmental estate ethics economist energy electromobility educational edtech editing\"],[\"Looking for a renewable energy expert to cofound a clean energy startup.\",\"energy renewable clean storage engineer firm expert looking cofound tech startup cofounder join searching seeking edtech editing educational economist electromobility\"],[\"Searching for an interior designer to start a design firm.\",\"web designer software development interior design ux firm business architect cofounder seeking need developer app new plan strong talented partner\"],[\"Wanting an HR specialist to cofound a recruitment tech company.\",\"recruitment hr online marketing business wanting start specialist find founder expert company tech looking cofound seeking edtech electromobility energy editing\"],[\"Seeking a drone technology expert to start a drone tech company.\",\"drone technology tech autonomous startup expert search need developer seeking start cofound company edtech web educational electromobility engineer environmental estate\"],[\"Need a quantum computing specialist to cofound a quantum tech firm.\",\"quantum cryptography specialist computing firm looking cofound tech need join start electromobility educational economist edtech editing engineer environmental estate ethics\"],[\"Looking for a speech recognition expert to start a voice tech company.\",\"voice geospatial recognition innovation speech tech strategist seeking consultancy analyst company join start wanting expert specialist firm looking cofound cofounder\"],[\"Searching for an automotive engineer to cofound an auto tech startup.\",\"automotive auto software engineer tech searching developer startup firm cofound search cofounder looking start educational electromobility edtech energy environmental editing\"],[\"Wanting a smart home technology specialist to start a smart home company.\",\"smart home iot device specialist company start technology founder partner searching looking wanting economist ethics estate design cultural environmental engineer\"],[\"Seeking a wearable tech developer to cofound a wearable tech startup.\",\"wearable developer tech device startup firm seeking cofound wanting cofounder join looking educational editing edtech electromobility estate economist energy ethics\"],[\"Need a cybersecurity policy expert to start a security consultancy.\",\"cybersecurity security policy expert consultancy need start company tech join seeking looking editing edtech educational energy electromobility engineer environmental estate\"],[\"Looking for a privacy expert to cofound a privacy tech company.\",\"privacy sensory consumer legal tech company psychologist advisor search start technology looking specialist expert cofound partner join searching need startup\"],[\"Searching for a supply chain specialist to start a supply chain tech company.\",\"logistics cultural grid chain supply bi smart intelligence specialist business company tech start expert seeking technologist looking join startup cofound\"],[\"Wanting an urban planner to cofound a smart city tech firm.\",\"behavioral city planner urban economics economist smart cofound firm wanting tech startup analyst seeking data cofounder looking web edtech educational\"],[\"Seeking a 3D printing specialist to start a 3D printing business.\",\"3d printing project business manager savvy help lead venture start founder search specialist tech seeking searching edtech editing educational electromobility\"],[\"Need an aerospace engineer to cofound an aerospace tech company.\",\"space aerospace engineer tourism resource company tech habitat cofound utilization seeking need join wanting developer looking specialist firm start economist\"],[\"Looking for a space technology expert to start a space tech startup.\",\"space technology exploration exoplanet startup expert scientist search start tech searching looking company editing environmental edtech educational energy engineer electromobility\"],[\"Searching for an automotive software developer to cofound an auto tech firm.\",\"automotive auto software engineer tech searching developer startup firm cofound search cofounder looking start educational electromobility edtech energy environmental editing\"],[\"Wanting a natural language processing expert to start an NLP company.\",\"geneticist machine learning analytics natural nlp language processing company genetic cofound genomics specialist firm search seeking expert start tech need\"],[\"Seeking a virtual reality expert to cofound a VR startup.\",\"company looking start green startup cofound research tech vr reality expert nuclear creative satellite database climate seeking join market building\"],[\"Need a software architect to start a software development firm.\",\"web designer software development interior design ux firm business architect cofounder seeking need developer app new plan strong talented partner\"],[\"Looking for an augmented reality specialist to cofound an AR startup.\",\"ar augmented reality agi general startup artificial intelligence researcher looking specialist cofound join cofounder seeking tech economist editing web edtech\"],[\"Searching for a computer vision expert to start a computer vision company.\",\"vision computer media creator content company start seeking expert looking searching cofounder editing edtech educational web economist energy engineer environmental\"],[\"Wanting a database administrator to cofound a database tech firm.\",\"company looking start green startup cofound research tech vr reality expert nuclear creative satellite database climate seeking join market building\"],[\"Seeking a telecommunications expert to start a telecom tech company.\",\"recovery disaster social telecommunications telecom media seeking agency manager expert start company tech cofound specialist firm need cofounder looking energy\"],[\"Need a cloud security expert to cofound a cloud security firm.\",\"fintech cloud security data firm big analytics join analyst expert financial looking seeking technology start developer startup need cofound engineer\"],[\"Looking for a video game designer to start a game development studio.\",\"game studio gaming video development designer developer cofounder search seeking cofound looking start digital data ethics estate environmental engineer energy\"],[\"Searching for a fintech developer to cofound a fintech startup.\",\"fintech financial advisor startup cofound looking technology need join searching developer firm expert engineer energy environmental estate educational ethics edtech\"],[\"Wanting a health informatics specialist to start a health tech company.\",\"health healthcare data informatics analyst wanting specialist firm company start tech cofounder join seeking looking estate edtech economist editing educational\"],[\"Seeking a medical device developer to cofound a medtech startup.\",\"mobile health medtech medical device developer startup technology looking start expert company tech need seeking join cofound engineer energy electromobility\"],[\"Need a construction tech expert to start a construction tech company.\",\"construction public health tech technologist expert search firm company start need join seeking looking economist economics ecologist web editing edtech\"],[\"Looking for a transportation engineer to cofound a transportation tech firm.\",\"transportation engineer firm systems intelligent tech looking join need cofound expert start edtech electromobility educational energy environmental estate ethics exercise\"],[\"Searching for an e-learning specialist to start an edtech company.\",\"edtech educational learning technologist searching cofounder specialist startup seeking company start cofound electromobility economist energy engineer environmental estate editing ethics\"],[\"Wanting a wearable device developer to cofound a wearable tech firm.\",\"wearable developer tech device startup firm seeking cofound wanting cofounder join looking educational editing edtech electromobility estate economist energy ethics\"],[\"Seeking a hospitality tech expert to start a hospitality tech company.\",\"bioinformatics hospitality precision specialist agriculture agtech seeking company tech start firm expert cofound wanting cofounder looking digital educational database ethics\"],[\"Need a retail tech specialist to cofound a retail tech startup.\",\"retail blockchain contract tech smart developer looking join ledger distributed specialist startup company start technologist need seeking firm cofound drone\"],[\"Looking for a real estate tech expert to start a real estate tech company.\",\"photonics sports mobility company expert start estate tech real hydrology water looking smart engineer technology wanting need join seeking edtech\"],[\"Searching for an agricultural tech specialist to cofound an agtech startup.\",\"agricultural agtech startup specialist farming hydroponics tech urban cofound searching join need looking expert engineer environmental energy electromobility educational edtech\"],[\"Wanting a chemical engineer to start a chemical tech company.\",\"electromobility veterinary chemical technologist company engineer tech looking cofounder specialist startup seeking start wanting join cofound estate economist editing educational\"],[\"Seeking a materials scientist to cofound a materials tech startup.\",\"materials scientist nanoengineering nanotech startup searching tech expert join start company seeking cofound looking estate environmental electromobility educational energy engineer\"],[\"Need a geneticist to start a genetic tech company.\",\"geneticist machine learning analytics natural nlp language processing company genetic cofound genomics specialist firm search seeking expert start tech need\"],[\"Looking for a renewable energy engineer to cofound a renewable tech firm.\",\"energy renewable clean storage engineer firm expert looking cofound tech startup cofounder join searching seeking edtech editing educational economist electromobility\"],[\"Searching for a biometric technology expert to start a biometrics company.\",\"robotics exoskeleton civic technology expert company biometrics biometric looking gesture start searching tech social cofound engineer startup recognition join need\"],[\"Wanting a voice recognition specialist to cofound a voice tech firm.\",\"voice geospatial recognition innovation speech tech strategist seeking consultancy analyst company join start wanting expert specialist firm looking cofound cofounder\"],[\"Seeking a geospatial analyst to start a geospatial tech company.\",\"voice geospatial recognition innovation speech tech strategist seeking consultancy analyst company join start wanting expert specialist firm looking cofound cofounder\"],[\"Need a market researcher to cofound a market research firm.\",\"company looking start green startup cofound research tech vr reality expert nuclear creative satellite database climate seeking join market building\"],[\"Looking for a virtual assistant developer to start a virtual assistant company.\",\"digital assistant virtual strategist agency marketing looking developer cofound company join seeking start disaster devops exoplanet exercise ethics estate environmental\"],[\"Searching for a smart grid technology expert to cofound a smart grid startup.\",\"logistics cultural grid chain supply bi smart intelligence specialist business company tech start expert seeking technologist looking join startup cofound\"],[\"Wanting a business intelligence specialist to start a BI company.\",\"logistics cultural grid chain supply bi smart intelligence specialist business company tech start expert seeking technologist looking join startup cofound\"],[\"Seeking a neuromorphic computing expert to cofound a neuromorphic tech firm.\",\"pet neuromorphic computing tech technology seeking developer cofounder startup firm expert cofound searching economist editing web edtech electromobility energy engineer\"],[\"Need a photonics engineer to start a photonics tech company.\",\"photonics sports mobility company expert start estate tech real hydrology water looking smart engineer technology wanting need join seeking edtech\"],[\"Looking for a satellite technology expert to cofound a satellite tech startup.\",\"company looking start green startup cofound research tech vr reality expert nuclear creative satellite database climate seeking join market building\"],[\"Searching for an environmental engineer to start an environmental tech company.\",\"environmental pharma pharmaceutical scientist company tech engineer start looking wanting join searching edtech ecologist educational economist electromobility energy estate economics\"],[\"Wanting a gene editing specialist to cofound a gene editing firm.\",\"editing gene founder partner ai experienced seeking scientist data researcher specialist firm cofound wanting company digital estate environmental engineer cybersecurity\"],[\"Seeking a personalized medicine expert to start a personalized medicine company.\",\"medicine personalized precision company expert seeking start technologist join looking designer ethics cybersecurity estate environmental data engineer energy electromobility database\"],[\"Need a marine biotechnologist to cofound a marine biotech startup.\",\"marine ecologist biotechnologist biotech startup company tech searching join need cofounder looking seeking start cofound environmental engineer energy electromobility ethics\"],[\"Looking for a sports technology expert to start a sports tech company.\",\"photonics sports mobility company expert start estate tech real hydrology water looking smart engineer technology wanting need join seeking edtech\"],[\"Searching for a smart textiles developer to cofound a smart textiles firm.\",\"textiles smart developer fabric searching wearable cofound firm cofounder company tech seeking edtech web educational economist electromobility energy engineer environmental\"],[\"Wanting a pharmaceutical scientist to start a pharma tech company.\",\"environmental pharma pharmaceutical scientist company tech engineer start looking wanting join searching edtech ecologist educational economist electromobility energy estate economics\"],[\"Seeking a VR content creator to cofound a VR content studio.\",\"personal finance content vr insurtech insurance technology cofound creator seeking studio advisor wanting firm expert company tech join start ecologist\"],[\"Need an AI ethics specialist to start an AI ethics consultancy.\",\"company looking start green startup cofound research tech vr reality expert nuclear creative satellite database climate seeking join market building\"],[\"Looking for a financial technology expert to cofound a fintech firm.\",\"fintech financial advisor startup cofound looking technology need join searching developer firm expert engineer energy environmental estate educational ethics edtech\"],[\"Searching for a green building specialist to start a green building company.\",\"company looking start green startup cofound research tech vr reality expert nuclear creative satellite database climate seeking join market building\"],[\"Wanting an innovation strategist to cofound an innovation consultancy.\",\"voice geospatial recognition innovation speech tech strategist seeking consultancy analyst company join start wanting expert specialist firm looking cofound cofounder\"],[\"Seeking a public health technologist to start a public health tech firm.\",\"construction public health tech technologist expert search firm company start need join seeking looking economist economics ecologist web editing edtech\"],[\"Need a clinical research scientist to cofound a clinical research startup.\",\"company looking start green startup cofound research tech vr reality expert nuclear creative satellite database climate seeking join market building\"],[\"Looking for a veterinary technologist to start a veterinary tech company.\",\"electromobility veterinary chemical technologist company engineer tech looking cofounder specialist startup seeking start wanting join cofound estate economist editing educational\"],[\"Searching for a mental health tech specialist to cofound a mental health startup.\",\"mental health product new venture manager cofound partner search specialist startup tech searching looking seeking energy electromobility educational edtech editing\"],[\"Wanting a hydrology expert to start a water tech company.\",\"photonics sports mobility company expert start estate tech real hydrology water looking smart engineer technology wanting need join seeking edtech\"],[\"Seeking a computational biologist to cofound a computational biology firm.\",\"holography computational biologist biology seeking cofounder startup expert firm cofound tech need electromobility educational web energy engineer edtech estate ethics\"],[\"Need a nuclear engineer to start a nuclear tech company.\",\"company looking start green startup cofound research tech vr reality expert nuclear creative satellite database climate seeking join market building\"],[\"Looking for a creative technologist to cofound a creative tech startup.\",\"company looking start green startup cofound research tech vr reality expert nuclear creative satellite database climate seeking join market building\"],[\"Searching for a data privacy advocate to start a data privacy firm.\",\"marketing privacy data powered advocate ai firm specialist cofound tech need cofounder searching seeking looking start energy electromobility educational engineer\"],[\"Wanting a personal finance advisor to cofound a personal finance tech company.\",\"personal finance content vr insurtech insurance technology cofound creator seeking studio advisor wanting firm expert company tech join start ecologist\"],[\"Seeking a disaster recovery specialist to start a disaster recovery firm.\",\"recovery disaster social telecommunications telecom media seeking agency manager expert start company tech cofound specialist firm need cofounder looking energy\"],[\"Need a telemedicine expert to cofound a telemedicine startup.\",\"telemedicine synthetic biology expert cofounder startup seeking firm cofound need wanting energy educational electromobility data editing engineer environmental estate ethics\"],[\"Looking for a cloud solutions architect to start a cloud solutions company.\",\"company looking start green startup cofound research tech vr reality expert nuclear creative satellite database climate seeking join market building\"],[\"Searching for a proptech developer to cofound a proptech startup.\",\"proptech saas cloud computing cofound startup developer expert search searching looking company seeking economist edtech editing ecologist educational electromobility energy\"],[\"Wanting a healthcare data analyst to start a healthcare data firm.\",\"health healthcare data informatics analyst wanting specialist firm company start tech cofounder join seeking looking estate edtech economist editing educational\"],[\"Seeking a behavioral economist to cofound a behavioral economics startup.\",\"behavioral city planner urban economics economist smart cofound firm wanting tech startup analyst seeking data cofounder looking web edtech educational\"],[\"Need a consumer psychologist to start a consumer tech company.\",\"privacy sensory consumer legal tech company psychologist advisor search start technology looking specialist expert cofound partner join searching need startup\"],[\"Looking for an exercise scientist to cofound a fitness tech startup.\",\"app exercise fitness scientist based mobile business cofounder startup developer seeking cofound tech wanting looking electromobility educational energy environmental edtech\"],[\"Searching for a marine ecologist to start a marine tech company.\",\"marine ecologist biotechnologist biotech startup company tech searching join need cofounder looking seeking start cofound environmental engineer energy electromobility ethics\"],[\"Wanting an insurance technology expert to cofound an insurtech firm.\",\"personal finance content vr insurtech insurance technology cofound creator seeking studio advisor wanting firm expert company tech join start ecologist\"],[\"Seeking a precision agriculture specialist to start a precision agtech company.\",\"bioinformatics hospitality precision specialist agriculture agtech seeking company tech start firm expert cofound wanting cofounder looking digital educational database ethics\"],[\"Need a human-centered designer to cofound a human-centered design firm.\",\"company looking start green startup cofound research tech vr reality expert nuclear creative satellite database climate seeking join market building\"],[\"Looking for a smart mobility expert to start a smart mobility company.\",\"photonics sports mobility company expert start estate tech real hydrology water looking smart engineer technology wanting need join seeking edtech\"],[\"Searching for a pet technology developer to cofound a pet tech startup.\",\"pet neuromorphic computing tech technology seeking developer cofounder startup firm expert cofound searching economist editing web edtech electromobility energy engineer\"],[\"Wanting a personalized nutrition expert to start a personalized nutrition company.\",\"nutrition personalized professional healthcare health company founder partner looking tech expert cofound wanting seeking join start digital disaster engineer energy\"],[\"Seeking a cultural technologist to cofound a cultural tech firm.\",\"logistics cultural grid chain supply bi smart intelligence specialist business company tech start expert seeking technologist looking join startup cofound\"],[\"Need a microbial technologist to start a microbial tech company.\",\"microbial technologist start fuel cell bioenergy company tech need specialist looking seeking web electromobility educational environmental energy engineer estate ethics\"],[\"Looking for an electromobility specialist to cofound an electromobility startup.\",\"electromobility veterinary chemical technologist company engineer tech looking cofounder specialist startup seeking start wanting join cofound estate economist editing educational\"],[\"Searching for a civic technology expert to start a civic tech company.\",\"robotics exoskeleton civic technology expert company biometrics biometric looking gesture start searching tech social cofound engineer startup recognition join need\"],[\"Wanting a bioinformatics specialist to cofound a bioinformatics firm.\",\"bioinformatics hospitality precision specialist agriculture agtech seeking company tech start firm expert cofound wanting cofounder looking digital educational database ethics\"],[\"Seeking a fashion technologist to start a fashion tech company.\",\"fashion time real data technologist start company analyst looking tech seeking environmental engineer energy estate electromobility educational edtech editing ethics\"],[\"Need a holography expert to cofound a holography tech startup.\",\"holography computational biologist biology seeking cofounder startup expert firm cofound tech need electromobility educational web energy engineer edtech estate ethics\"],[\"Looking for a quantum cryptography specialist to start a quantum cryptography firm.\",\"quantum cryptography specialist computing firm looking cofound tech need join start electromobility educational economist edtech editing engineer environmental estate ethics\"],[\"Searching for an exoskeleton technology expert to cofound an exoskeleton tech company.\",\"robotics exoskeleton civic technology expert company biometrics biometric looking gesture start searching tech social cofound engineer startup recognition join need\"],[\"Wanting a climate data analyst to start a climate tech company.\",\"company looking start green startup cofound research tech vr reality expert nuclear creative satellite database climate seeking join market building\"],[\"Seeking an autonomous vehicle developer to cofound an autonomous vehicle firm.\",\"company looking start green startup cofound research tech vr reality expert nuclear creative satellite database climate seeking join market building\"],[\"Need a mobile health technology expert to start a mobile health tech company.\",\"mobile health medtech medical device developer startup technology looking start expert company tech need seeking join cofound engineer energy electromobility\"],[\"Looking for an artificial general intelligence researcher to cofound an AGI startup.\",\"ar augmented reality agi general startup artificial intelligence researcher looking specialist cofound join cofounder seeking tech economist editing web edtech\"],[\"Searching for a sensory technology specialist to start a sensory tech company.\",\"privacy sensory consumer legal tech company psychologist advisor search start technology looking specialist expert cofound partner join searching need startup\"],[\"Wanting a synthetic biology expert to cofound a synthetic biology firm.\",\"telemedicine synthetic biology expert cofounder startup seeking firm cofound need wanting energy educational electromobility data editing engineer environmental estate ethics\"],[\"Seeking a smart contract developer to start a blockchain tech company.\",\"retail blockchain contract tech smart developer looking join ledger distributed specialist startup company start technologist need seeking firm cofound drone\"],[\"Need an AI-powered marketing specialist to cofound a marketing tech firm.\",\"marketing privacy data powered advocate ai firm specialist cofound tech need cofounder searching seeking looking start energy electromobility educational engineer\"],[\"Looking for a real-time data analyst to start a real-time data company.\",\"fashion time real data technologist start company analyst looking tech seeking environmental engineer energy estate electromobility educational edtech editing ethics\"],[\"Searching for an energy storage expert to cofound an energy storage tech firm.\",\"energy renewable clean storage engineer firm expert looking cofound tech startup cofounder join searching seeking edtech editing educational economist electromobility\"],[\"Wanting a space tourism developer to start a space tourism company.\",\"space aerospace engineer tourism resource company tech habitat cofound utilization seeking need join wanting developer looking specialist firm start economist\"],[\"Seeking a space resource utilization specialist to cofound a space resource tech firm.\",\"space aerospace engineer tourism resource company tech habitat cofound utilization seeking need join wanting developer looking specialist firm start economist\"],[\"Need a social robotics expert to start a social robotics company.\",\"robotics exoskeleton civic technology expert company biometrics biometric looking gesture start searching tech social cofound engineer startup recognition join need\"],[\"Looking for a gesture recognition specialist to cofound a gesture tech startup.\",\"robotics exoskeleton civic technology expert company biometrics biometric looking gesture start searching tech social cofound engineer startup recognition join need\"],[\"Searching for an exoplanet scientist to start a space exploration company.\",\"space technology exploration exoplanet startup expert scientist search start tech searching looking company editing environmental edtech educational energy engineer electromobility\"],[\"Wanting a bioethicist to cofound a bioethics tech firm.\",\"biotech biosensor researcher bioethicist bioethics startup cofound looking wanting tech searching firm cofounder join developer engineer environmental energy electromobility estate\"],[\"Seeking a microbial fuel cell specialist to start a bioenergy tech company.\",\"microbial technologist start fuel cell bioenergy company tech need specialist looking seeking web electromobility educational environmental energy engineer estate ethics\"],[\"Need a hydroponics expert to cofound an urban farming tech startup.\",\"agricultural agtech startup specialist farming hydroponics tech urban cofound searching join need looking expert engineer environmental energy electromobility educational edtech\"],[\"Looking for a distributed ledger technologist to start a blockchain tech firm.\",\"retail blockchain contract tech smart developer looking join ledger distributed specialist startup company start technologist need seeking firm cofound drone\"],[\"Searching for a smart fabric developer to cofound a wearable tech company.\",\"textiles smart developer fabric searching wearable cofound firm cofounder company tech seeking edtech web educational economist electromobility energy engineer environmental\"],[\"Wanting a cognitive computing specialist to start a cognitive tech firm.\",\"sales retail ai manager cognitive cofound talented artificial experienced startup intelligence researcher scientist data company computing start need searching wanting\"],[\"Seeking a space habitat engineer to cofound a space tech company.\",\"space aerospace engineer tourism resource company tech habitat cofound utilization seeking need join wanting developer looking specialist firm start economist\"],[\"Need an intelligent transportation systems expert to start a transportation tech firm.\",\"transportation engineer firm systems intelligent tech looking join need cofound expert start edtech electromobility educational energy environmental estate ethics exercise\"],[\"Looking for a biosensor developer to cofound a biosensor tech startup.\",\"biotech biosensor researcher bioethicist bioethics startup cofound looking wanting tech searching firm cofounder join developer engineer environmental energy electromobility estate\"],[\"Searching for a nanoengineering expert to start a nanotech company.\",\"materials scientist nanoengineering nanotech startup searching tech expert join start company seeking cofound looking estate environmental electromobility educational energy engineer\"],[\"Wanting a behavioral data analyst to cofound a behavioral tech firm.\",\"behavioral city planner urban economics economist smart cofound firm wanting tech startup analyst seeking data cofounder looking web edtech educational\"],[\"Seeking a precision medicine technologist to start a precision medicine company.\",\"medicine personalized precision company expert seeking start technologist join looking designer ethics cybersecurity estate environmental data engineer energy electromobility database\"],[\"Need an autonomous drone developer to cofound a drone tech startup.\",\"drone technology tech autonomous startup expert search need developer seeking start cofound company edtech web educational electromobility engineer environmental estate\"]],\"hovertemplate\":\"Type=founder\\u003cbr\\u003eX=%{x}\\u003cbr\\u003eY=%{y}\\u003cbr\\u003eDescription=%{customdata[0]}\\u003cbr\\u003ecluster_top_words=%{customdata[1]}\\u003cbr\\u003ecluster=%{marker.color}\\u003cextra\\u003e\\u003c\\u002fextra\\u003e\",\"legendgroup\":\"founder\",\"marker\":{\"color\":[-1,6,30,35,-1,39,49,11,23,6,-1,18,45,51,46,7,28,-1,40,16,-1,9,6,53,-1,30,27,52,3,38,10,48,10,25,30,39,34,12,29,43,46,8,45,11,3,4,35,21,20,43,18,-1,30,31,27,-1,52,28,48,49,15,41,14,44,38,8,37,50,13,0,33,17,18,25,53,29,29,-1,9,3,3,1,13,-1,26,42,22,2,13,24,26,47,-1,49,-1,29,14,-1,33,40,13,5,-1,-1,19,47,52,36,-1,51,15,4,11,7,2,47,37,-1,13,1,23,3,32,33,53,37,54,5,12,53,-1,-1,41,31,11,36,50,19,54,25,21,21,53,53,20,16,32,0,50,24,6,21,44,16,17,4,22,34],\"coloraxis\":\"coloraxis\",\"symbol\":\"circle\"},\"mode\":\"markers\",\"name\":\"founder\",\"orientation\":\"v\",\"showlegend\":true,\"x\":[9.103469848632812,-9.435787200927734,-4.424286365509033,10.44934368133545,-2.8878190517425537,-3.426759719848633,1.5744434595108032,-1.9693183898925781,10.833368301391602,-10.025267601013184,8.30951976776123,-3.877246141433716,1.9934022426605225,3.7090775966644287,8.559525489807129,-7.2412519454956055,6.248795032501221,-1.2693538665771484,1.350360631942749,4.070688724517822,0.7748408317565918,-5.487544536590576,-9.448310852050781,10.708464622497559,19.49800682067871,-4.375645160675049,1.547432780265808,5.7898736000061035,5.571849346160889,-4.060094356536865,16.824705123901367,4.21630334854126,15.347494125366211,12.114747047424316,-4.504483222961426,-4.805832386016846,-3.370816469192505,-4.938606262207031,4.4643330574035645,9.560023307800293,8.6019868850708,1.3335802555084229,1.9934544563293457,-2.062176465988159,3.764287233352661,-8.087944030761719,10.170475959777832,15.66530704498291,15.898977279663086,9.537775993347168,-1.6916117668151855,8.378260612487793,-3.3839328289031982,-1.396484375,-0.20427252352237701,-1.7484062910079956,6.214169025421143,7.541689395904541,4.2112507820129395,1.6025131940841675,7.8090033531188965,4.640779495239258,15.956518173217773,9.594375610351562,-4.060179233551025,1.2862112522125244,8.744780540466309,2.7600021362304688,13.76318645477295,21.452234268188477,14.246464729309082,5.018648147583008,-3.7143263816833496,12.11472225189209,10.26468563079834,4.462632656097412,4.814767360687256,-2.609938383102417,-4.539769172668457,7.100598335266113,2.9483933448791504,4.99353551864624,13.687821388244629,15.597335815429688,13.441834449768066,3.088850736618042,9.916762351989746,12.190820693969727,10.925222396850586,12.310338973999023,12.612448692321777,5.425271987915039,-6.868521213531494,1.5954084396362305,10.653914451599121,3.2809150218963623,15.318901062011719,-2.014038562774658,16.17052459716797,1.9382156133651733,14.143359184265137,1.1354117393493652,20.025659561157227,7.3868536949157715,-6.646896839141846,4.362573146820068,4.592334270477295,4.834710121154785,6.676576614379883,4.699768543243408,7.7684760093688965,-10.244478225708008,-2.1450343132019043,-5.402810573577881,12.233041763305664,6.363560676574707,6.551210880279541,-2.8448171615600586,12.266395568847656,6.670135498046875,9.525278091430664,0.532121479511261,14.38514232635498,15.689791679382324,8.322402954101562,7.627904415130615,12.18950080871582,-0.06828773021697998,-4.899984359741211,9.807002067565918,12.912476539611816,-6.645355701446533,5.827304840087891,-0.6654218435287476,0.18004633486270905,4.231412887573242,1.968579649925232,-4.857735633850098,12.478553771972656,12.114663124084473,15.715965270996094,15.771859169006348,10.703770637512207,10.70273494720459,15.917817115783691,4.074174880981445,14.385199546813965,21.43384552001953,1.968589425086975,12.310380935668945,-9.439022064208984,15.688990592956543,9.590954780578613,4.045435905456543,5.017951488494873,-10.244546890258789,9.916739463806152,-3.3891122341156006],\"xaxis\":\"x\",\"y\":[-4.315776348114014,0.24295398592948914,7.8245697021484375,5.037689208984375,-9.080005645751953,2.592963218688965,3.0990936756134033,-2.8037195205688477,14.739726066589355,2.8464527130126953,6.761567115783691,12.824557304382324,-0.9171695113182068,3.1387295722961426,-1.0025393962860107,10.44851016998291,-5.112082004547119,0.6285839080810547,6.002881050109863,15.848957061767578,8.430837631225586,-4.0254597663879395,0.24079422652721405,2.013370990753174,12.529258728027344,7.875965595245361,12.854567527770996,-0.14227420091629028,-7.919135093688965,4.0344719886779785,-0.5860847234725952,6.662060260772705,-0.06798587739467621,8.940863609313965,7.747549533843994,2.4526729583740234,0.9717373847961426,16.26219367980957,-5.168433666229248,11.823331832885742,-1.045718789100647,15.512506484985352,-0.9172518849372864,-4.775828838348389,-9.361478805541992,7.752530097961426,6.534187316894531,8.531098365783691,8.297374725341797,11.848762512207031,13.307487487792969,4.294814109802246,6.36906099319458,6.476383209228516,11.700531959533691,2.5690786838531494,1.3568123579025269,-5.593339920043945,6.656310558319092,3.128133535385132,14.652501106262207,9.231980323791504,2.2677719593048096,11.788081169128418,4.0342936515808105,15.46233081817627,9.92374038696289,0.7424771785736084,-4.101203441619873,-0.678360641002655,10.407028198242188,14.852856636047363,14.118732452392578,8.940813064575195,0.8189365863800049,-5.166276931762695,-3.558140754699707,9.623397827148438,-4.2196807861328125,-10.120280265808105,-7.811954975128174,20.07001304626465,-2.3480069637298584,6.33436393737793,14.689459800720215,9.978562355041504,16.439716339111328,18.778287887573242,-6.867138862609863,9.897432327270508,13.268324851989746,5.934661388397217,3.1494240760803223,3.1200056076049805,-1.1575119495391846,-2.731646776199341,4.09763240814209,15.95085620880127,12.523598670959473,4.948086261749268,-6.1027750968933105,19.72283172607422,4.141476154327393,0.22062349319458008,0.28628572821617126,5.195828914642334,-0.23065873980522156,11.30877685546875,6.879148006439209,1.8771998882293701,14.693273544311523,7.4165472984313965,-1.686887264251709,10.586954116821289,18.739768981933594,5.295254230499268,12.607230186462402,18.358154296875,-5.513450622558594,18.555959701538086,14.86100959777832,-8.97935962677002,12.51087760925293,10.954692840576172,2.518038511276245,11.159666061401367,3.1256351470947266,17.970916748046875,16.223600387573242,2.850267171859741,5.828312397003174,13.38125991821289,9.364583015441895,5.1147942543029785,-4.5527520179748535,12.796856880187988,1.6929564476013184,-0.15182068943977356,2.1372082233428955,8.940934181213379,8.480867385864258,8.425106048583984,2.009058952331543,2.0081615447998047,8.27833366394043,15.84559440612793,12.510952949523926,-0.6975263953208923,1.6927458047866821,9.897411346435547,0.24223002791404724,8.50753116607666,11.79214859008789,15.874773979187012,14.852442741394043,7.416528224945068,16.43961524963379,0.988412082195282],\"yaxis\":\"y\",\"type\":\"scatter\"},{\"customdata\":[[\"I'm a skilled programmer looking to join a startup.\",\"company looking start green startup cofound research tech vr reality expert nuclear creative satellite database climate seeking join market building\"],[\"Experienced data scientist seeking to partner with a founder.\",\"editing gene founder partner ai experienced seeking scientist data researcher specialist firm cofound wanting company digital estate environmental engineer cybersecurity\"],[\"Talented UX designer looking for a cofounder with a strong business plan.\",\"web designer software development interior design ux firm business architect cofounder seeking need developer app new plan strong talented partner\"],[\"Project manager in search of a tech-savvy founder to start a business.\",\"3d printing project business manager savvy help lead venture start founder search specialist tech seeking searching edtech editing educational electromobility\"],[\"DevOps engineer looking to cofound a software company.\",\"company looking start green startup cofound research tech vr reality expert nuclear creative satellite database climate seeking join market building\"],[\"Marketing expert seeking a founder to start an online business.\",\"recruitment hr online marketing business wanting start specialist find founder expert company tech looking cofound seeking edtech electromobility energy editing\"],[\"Financial advisor looking for a fintech startup to join.\",\"fintech financial advisor startup cofound looking technology need join searching developer firm expert engineer energy environmental estate educational ethics edtech\"],[\"Legal advisor in search of a legal tech startup to cofound.\",\"privacy sensory consumer legal tech company psychologist advisor search start technology looking specialist expert cofound partner join searching need startup\"],[\"Healthcare professional seeking a health tech founder to partner with.\",\"nutrition personalized professional healthcare health company founder partner looking tech expert cofound wanting seeking join start digital disaster engineer energy\"],[\"Sales manager looking for a retail startup to cofound.\",\"sales retail ai manager cognitive cofound talented artificial experienced startup intelligence researcher scientist data company computing start need searching wanting\"],[\"Blockchain expert in search of a cryptocurrency company to start.\",\"company looking start green startup cofound research tech vr reality expert nuclear creative satellite database climate seeking join market building\"],[\"Machine learning specialist looking to cofound an analytics firm.\",\"geneticist machine learning analytics natural nlp language processing company genetic cofound genomics specialist firm search seeking expert start tech need\"],[\"Cybersecurity expert seeking a security tech company to join.\",\"cybersecurity security policy expert consultancy need start company tech join seeking looking editing edtech educational energy electromobility engineer environmental estate\"],[\"Cloud computing expert in search of a SaaS startup to cofound.\",\"proptech saas cloud computing cofound startup developer expert search searching looking company seeking economist edtech editing ecologist educational electromobility energy\"],[\"IoT specialist looking to partner with a smart device company founder.\",\"smart home iot device specialist company start technology founder partner searching looking wanting economist ethics estate design cultural environmental engineer\"],[\"Mobile app developer seeking a cofounder for an app-based business.\",\"app exercise fitness scientist based mobile business cofounder startup developer seeking cofound tech wanting looking electromobility educational energy environmental edtech\"],[\"Big data analyst looking to start a data analytics firm.\",\"fintech cloud security data firm big analytics join analyst expert financial looking seeking technology start developer startup need cofound engineer\"],[\"E-commerce specialist seeking a cofounder for an online retail business.\",\"company looking start green startup cofound research tech vr reality expert nuclear creative satellite database climate seeking join market building\"],[\"Product manager in search of a new venture to cofound.\",\"mental health product new venture manager cofound partner search specialist startup tech searching looking seeking energy electromobility educational edtech editing\"],[\"Biotech researcher looking to join a biotech startup as a cofounder.\",\"biotech biosensor researcher bioethicist bioethics startup cofound looking wanting tech searching firm cofounder join developer engineer environmental energy electromobility estate\"],[\"AR\\u002fVR developer seeking to start an augmented reality company.\",\"company looking start green startup cofound research tech vr reality expert nuclear creative satellite database climate seeking join market building\"],[\"Digital marketing strategist looking to cofound a digital agency.\",\"digital assistant virtual strategist agency marketing looking developer cofound company join seeking start disaster devops exoplanet exercise ethics estate environmental\"],[\"AI researcher seeking to partner with a founder for an AI company.\",\"editing gene founder partner ai experienced seeking scientist data researcher specialist firm cofound wanting company digital estate environmental engineer cybersecurity\"],[\"Robotics engineer looking to start a robotics tech company.\",\"robotics exoskeleton civic technology expert company biometrics biometric looking gesture start searching tech social cofound engineer startup recognition join need\"],[\"Sustainability expert in search of a green tech startup to join.\",\"company looking start green startup cofound research tech vr reality expert nuclear creative satellite database climate seeking join market building\"],[\"Web developer seeking a cofounder for a web development business.\",\"web designer software development interior design ux firm business architect cofounder seeking need developer app new plan strong talented partner\"],[\"Content creator looking to start a media company.\",\"vision computer media creator content company start seeking expert looking searching cofounder editing edtech educational web economist energy engineer environmental\"],[\"Social media manager seeking a cofounder for a social media agency.\",\"recovery disaster social telecommunications telecom media seeking agency manager expert start company tech cofound specialist firm need cofounder looking energy\"],[\"Logistics expert looking to join a logistics tech startup.\",\"logistics cultural grid chain supply bi smart intelligence specialist business company tech start expert seeking technologist looking join startup cofound\"],[\"Educational technologist seeking a cofounder for an edtech startup.\",\"edtech educational learning technologist searching cofounder specialist startup seeking company start cofound electromobility economist energy engineer environmental estate editing ethics\"],[\"Hardware engineer looking to start a hardware tech company.\",\"hardware engineer networking network start company tech need wanting seeking looking environmental estate ethics economist energy electromobility educational edtech editing\"],[\"Game developer in search of a cofounder for a gaming studio.\",\"game studio gaming video development designer developer cofounder search seeking cofound looking start digital data ethics estate environmental engineer energy\"],[\"Network engineer seeking to start a networking tech company.\",\"hardware engineer networking network start company tech need wanting seeking looking environmental estate ethics economist energy electromobility educational edtech editing\"],[\"Renewable energy expert looking to join a clean energy startup.\",\"energy renewable clean storage engineer firm expert looking cofound tech startup cofounder join searching seeking edtech editing educational economist electromobility\"],[\"Interior designer seeking a cofounder for a design firm.\",\"web designer software development interior design ux firm business architect cofounder seeking need developer app new plan strong talented partner\"],[\"HR specialist looking to start a recruitment tech company.\",\"recruitment hr online marketing business wanting start specialist find founder expert company tech looking cofound seeking edtech electromobility energy editing\"],[\"Drone technology expert in search of a drone tech startup.\",\"drone technology tech autonomous startup expert search need developer seeking start cofound company edtech web educational electromobility engineer environmental estate\"],[\"Quantum computing specialist looking to cofound a quantum tech firm.\",\"quantum cryptography specialist computing firm looking cofound tech need join start electromobility educational economist edtech editing engineer environmental estate ethics\"],[\"Speech recognition expert seeking a voice tech company to join.\",\"voice geospatial recognition innovation speech tech strategist seeking consultancy analyst company join start wanting expert specialist firm looking cofound cofounder\"],[\"Automotive engineer in search of a cofounder for an auto tech startup.\",\"automotive auto software engineer tech searching developer startup firm cofound search cofounder looking start educational electromobility edtech energy environmental editing\"],[\"Smart home technology specialist looking to start a smart home company.\",\"smart home iot device specialist company start technology founder partner searching looking wanting economist ethics estate design cultural environmental engineer\"],[\"Wearable tech developer seeking a cofounder for a wearable tech startup.\",\"wearable developer tech device startup firm seeking cofound wanting cofounder join looking educational editing edtech electromobility estate economist energy ethics\"],[\"Cybersecurity policy expert looking to start a security consultancy.\",\"cybersecurity security policy expert consultancy need start company tech join seeking looking editing edtech educational energy electromobility engineer environmental estate\"],[\"Privacy expert in search of a privacy tech company to join.\",\"privacy sensory consumer legal tech company psychologist advisor search start technology looking specialist expert cofound partner join searching need startup\"],[\"Supply chain specialist seeking to start a supply chain tech company.\",\"logistics cultural grid chain supply bi smart intelligence specialist business company tech start expert seeking technologist looking join startup cofound\"],[\"Urban planner looking to cofound a smart city tech firm.\",\"behavioral city planner urban economics economist smart cofound firm wanting tech startup analyst seeking data cofounder looking web edtech educational\"],[\"3D printing specialist seeking to start a 3D printing business.\",\"3d printing project business manager savvy help lead venture start founder search specialist tech seeking searching edtech editing educational electromobility\"],[\"Aerospace engineer looking to join an aerospace tech company.\",\"space aerospace engineer tourism resource company tech habitat cofound utilization seeking need join wanting developer looking specialist firm start economist\"],[\"Space technology expert in search of a space tech startup.\",\"space technology exploration exoplanet startup expert scientist search start tech searching looking company editing environmental edtech educational energy engineer electromobility\"],[\"Automotive software developer looking to start an auto tech firm.\",\"automotive auto software engineer tech searching developer startup firm cofound search cofounder looking start educational electromobility edtech energy environmental editing\"],[\"Natural language processing expert seeking a cofounder for an NLP company.\",\"geneticist machine learning analytics natural nlp language processing company genetic cofound genomics specialist firm search seeking expert start tech need\"],[\"Virtual reality expert looking to start a VR tech company.\",\"company looking start green startup cofound research tech vr reality expert nuclear creative satellite database climate seeking join market building\"],[\"Software architect seeking to cofound a software development firm.\",\"web designer software development interior design ux firm business architect cofounder seeking need developer app new plan strong talented partner\"],[\"Augmented reality specialist looking to join an AR tech startup.\",\"ar augmented reality agi general startup artificial intelligence researcher looking specialist cofound join cofounder seeking tech economist editing web edtech\"],[\"Computer vision expert seeking a cofounder for a computer vision company.\",\"vision computer media creator content company start seeking expert looking searching cofounder editing edtech educational web economist energy engineer environmental\"],[\"Database administrator looking to start a database tech firm.\",\"company looking start green startup cofound research tech vr reality expert nuclear creative satellite database climate seeking join market building\"],[\"Telecommunications expert seeking to cofound a telecom tech company.\",\"recovery disaster social telecommunications telecom media seeking agency manager expert start company tech cofound specialist firm need cofounder looking energy\"],[\"Cloud security expert looking to join a cloud security firm.\",\"fintech cloud security data firm big analytics join analyst expert financial looking seeking technology start developer startup need cofound engineer\"],[\"Video game designer seeking a cofounder for a game development studio.\",\"game studio gaming video development designer developer cofounder search seeking cofound looking start digital data ethics estate environmental engineer energy\"],[\"Fintech developer looking to join a fintech startup.\",\"fintech cloud security data firm big analytics join analyst expert financial looking seeking technology start developer startup need cofound engineer\"],[\"Health informatics specialist seeking a cofounder for a health tech company.\",\"health healthcare data informatics analyst wanting specialist firm company start tech cofounder join seeking looking estate edtech economist editing educational\"],[\"Medical device developer looking to start a medtech startup.\",\"mobile health medtech medical device developer startup technology looking start expert company tech need seeking join cofound engineer energy electromobility\"],[\"Construction tech expert in search of a construction tech company.\",\"construction public health tech technologist expert search firm company start need join seeking looking economist economics ecologist web editing edtech\"],[\"Transportation engineer looking to join a transportation tech firm.\",\"transportation engineer firm systems intelligent tech looking join need cofound expert start edtech electromobility educational energy environmental estate ethics exercise\"],[\"E-learning specialist seeking a cofounder for an edtech company.\",\"edtech educational learning technologist searching cofounder specialist startup seeking company start cofound electromobility economist energy engineer environmental estate editing ethics\"],[\"Wearable device developer looking to join a wearable tech firm.\",\"wearable developer tech device startup firm seeking cofound wanting cofounder join looking educational editing edtech electromobility estate economist energy ethics\"],[\"Hospitality tech expert seeking a cofounder for a hospitality tech company.\",\"bioinformatics hospitality precision specialist agriculture agtech seeking company tech start firm expert cofound wanting cofounder looking digital educational database ethics\"],[\"Retail tech specialist looking to join a retail tech startup.\",\"retail blockchain contract tech smart developer looking join ledger distributed specialist startup company start technologist need seeking firm cofound drone\"],[\"Real estate tech expert seeking to start a real estate tech company.\",\"photonics sports mobility company expert start estate tech real hydrology water looking smart engineer technology wanting need join seeking edtech\"],[\"Agricultural tech specialist looking to join an agtech startup.\",\"agricultural agtech startup specialist farming hydroponics tech urban cofound searching join need looking expert engineer environmental energy electromobility educational edtech\"],[\"Chemical engineer seeking a cofounder for a chemical tech company.\",\"electromobility veterinary chemical technologist company engineer tech looking cofounder specialist startup seeking start wanting join cofound estate economist editing educational\"],[\"Materials scientist looking to join a materials tech startup.\",\"materials scientist nanoengineering nanotech startup searching tech expert join start company seeking cofound looking estate environmental electromobility educational energy engineer\"],[\"Geneticist in search of a genomics tech company to cofound.\",\"geneticist machine learning analytics natural nlp language processing company genetic cofound genomics specialist firm search seeking expert start tech need\"],[\"Renewable energy engineer seeking a cofounder for a renewable tech firm.\",\"energy renewable clean storage engineer firm expert looking cofound tech startup cofounder join searching seeking edtech editing educational economist electromobility\"],[\"Biometric technology expert looking to start a biometrics company.\",\"robotics exoskeleton civic technology expert company biometrics biometric looking gesture start searching tech social cofound engineer startup recognition join need\"],[\"Voice recognition specialist seeking to join a voice tech firm.\",\"voice geospatial recognition innovation speech tech strategist seeking consultancy analyst company join start wanting expert specialist firm looking cofound cofounder\"],[\"Geospatial analyst looking to start a geospatial tech company.\",\"voice geospatial recognition innovation speech tech strategist seeking consultancy analyst company join start wanting expert specialist firm looking cofound cofounder\"],[\"Market researcher seeking a cofounder for a market research firm.\",\"company looking start green startup cofound research tech vr reality expert nuclear creative satellite database climate seeking join market building\"],[\"Virtual assistant developer looking to join a virtual assistant company.\",\"digital assistant virtual strategist agency marketing looking developer cofound company join seeking start disaster devops exoplanet exercise ethics estate environmental\"],[\"Smart grid technology expert seeking to start a smart grid startup.\",\"logistics cultural grid chain supply bi smart intelligence specialist business company tech start expert seeking technologist looking join startup cofound\"],[\"Business intelligence specialist looking to join a BI company.\",\"logistics cultural grid chain supply bi smart intelligence specialist business company tech start expert seeking technologist looking join startup cofound\"],[\"Neuromorphic computing expert seeking a cofounder for a neuromorphic tech firm.\",\"pet neuromorphic computing tech technology seeking developer cofounder startup firm expert cofound searching economist editing web edtech electromobility energy engineer\"],[\"Photonics engineer looking to start a photonics tech company.\",\"photonics sports mobility company expert start estate tech real hydrology water looking smart engineer technology wanting need join seeking edtech\"],[\"Satellite technology expert seeking to join a satellite tech startup.\",\"company looking start green startup cofound research tech vr reality expert nuclear creative satellite database climate seeking join market building\"],[\"Environmental engineer looking to start an environmental tech company.\",\"environmental pharma pharmaceutical scientist company tech engineer start looking wanting join searching edtech ecologist educational economist electromobility energy estate economics\"],[\"Gene editing specialist seeking to cofound a gene editing firm.\",\"editing gene founder partner ai experienced seeking scientist data researcher specialist firm cofound wanting company digital estate environmental engineer cybersecurity\"],[\"Personalized medicine expert looking to join a personalized medicine company.\",\"medicine personalized precision company expert seeking start technologist join looking designer ethics cybersecurity estate environmental data engineer energy electromobility database\"],[\"Marine biotechnologist seeking a cofounder for a marine biotech startup.\",\"marine ecologist biotechnologist biotech startup company tech searching join need cofounder looking seeking start cofound environmental engineer energy electromobility ethics\"],[\"Sports technology expert looking to start a sports tech company.\",\"photonics sports mobility company expert start estate tech real hydrology water looking smart engineer technology wanting need join seeking edtech\"],[\"Smart textiles developer seeking a cofounder for a smart textiles firm.\",\"textiles smart developer fabric searching wearable cofound firm cofounder company tech seeking edtech web educational economist electromobility energy engineer environmental\"],[\"Pharmaceutical scientist looking to join a pharma tech company.\",\"environmental pharma pharmaceutical scientist company tech engineer start looking wanting join searching edtech ecologist educational economist electromobility energy estate economics\"],[\"VR content creator seeking to start a VR content studio.\",\"personal finance content vr insurtech insurance technology cofound creator seeking studio advisor wanting firm expert company tech join start ecologist\"],[\"AI ethics specialist looking to cofound an AI ethics consultancy.\",\"company looking start green startup cofound research tech vr reality expert nuclear creative satellite database climate seeking join market building\"],[\"Financial technology expert seeking to join a fintech firm.\",\"fintech cloud security data firm big analytics join analyst expert financial looking seeking technology start developer startup need cofound engineer\"],[\"Green building specialist looking to start a green building company.\",\"company looking start green startup cofound research tech vr reality expert nuclear creative satellite database climate seeking join market building\"],[\"Innovation strategist seeking a cofounder for an innovation consultancy.\",\"voice geospatial recognition innovation speech tech strategist seeking consultancy analyst company join start wanting expert specialist firm looking cofound cofounder\"],[\"Public health technologist looking to join a public health tech firm.\",\"construction public health tech technologist expert search firm company start need join seeking looking economist economics ecologist web editing edtech\"],[\"Clinical research scientist seeking a cofounder for a clinical research startup.\",\"company looking start green startup cofound research tech vr reality expert nuclear creative satellite database climate seeking join market building\"],[\"Veterinary technologist looking to join a veterinary tech company.\",\"electromobility veterinary chemical technologist company engineer tech looking cofounder specialist startup seeking start wanting join cofound estate economist editing educational\"],[\"Mental health tech specialist seeking to cofound a mental health startup.\",\"mental health product new venture manager cofound partner search specialist startup tech searching looking seeking energy electromobility educational edtech editing\"],[\"Hydrology expert looking to start a water tech company.\",\"photonics sports mobility company expert start estate tech real hydrology water looking smart engineer technology wanting need join seeking edtech\"],[\"Computational biologist seeking a cofounder for a computational biology firm.\",\"holography computational biologist biology seeking cofounder startup expert firm cofound tech need electromobility educational web energy engineer edtech estate ethics\"],[\"Nuclear engineer looking to start a nuclear tech company.\",\"company looking start green startup cofound research tech vr reality expert nuclear creative satellite database climate seeking join market building\"],[\"Creative technologist seeking to join a creative tech startup.\",\"company looking start green startup cofound research tech vr reality expert nuclear creative satellite database climate seeking join market building\"],[\"Data privacy advocate looking to cofound a data privacy firm.\",\"marketing privacy data powered advocate ai firm specialist cofound tech need cofounder searching seeking looking start energy electromobility educational engineer\"],[\"Personal finance advisor seeking to join a personal finance tech company.\",\"personal finance content vr insurtech insurance technology cofound creator seeking studio advisor wanting firm expert company tech join start ecologist\"],[\"Disaster recovery specialist looking to start a disaster recovery firm.\",\"recovery disaster social telecommunications telecom media seeking agency manager expert start company tech cofound specialist firm need cofounder looking energy\"],[\"Telemedicine expert seeking a cofounder for a telemedicine startup.\",\"telemedicine synthetic biology expert cofounder startup seeking firm cofound need wanting energy educational electromobility data editing engineer environmental estate ethics\"],[\"Cloud solutions architect looking to join a cloud solutions company.\",\"company looking start green startup cofound research tech vr reality expert nuclear creative satellite database climate seeking join market building\"],[\"Proptech developer seeking to cofound a proptech startup.\",\"proptech saas cloud computing cofound startup developer expert search searching looking company seeking economist edtech editing ecologist educational electromobility energy\"],[\"Healthcare data analyst looking to join a healthcare data firm.\",\"health healthcare data informatics analyst wanting specialist firm company start tech cofounder join seeking looking estate edtech economist editing educational\"],[\"Behavioral economist seeking a cofounder for a behavioral economics startup.\",\"behavioral city planner urban economics economist smart cofound firm wanting tech startup analyst seeking data cofounder looking web edtech educational\"],[\"Consumer psychologist looking to start a consumer tech company.\",\"privacy sensory consumer legal tech company psychologist advisor search start technology looking specialist expert cofound partner join searching need startup\"],[\"Exercise scientist seeking a cofounder for a fitness tech startup.\",\"app exercise fitness scientist based mobile business cofounder startup developer seeking cofound tech wanting looking electromobility educational energy environmental edtech\"],[\"Marine ecologist looking to join a marine tech company.\",\"marine ecologist biotechnologist biotech startup company tech searching join need cofounder looking seeking start cofound environmental engineer energy electromobility ethics\"],[\"Insurance technology expert seeking to cofound an insurtech firm.\",\"personal finance content vr insurtech insurance technology cofound creator seeking studio advisor wanting firm expert company tech join start ecologist\"],[\"Precision agriculture specialist looking to start a precision agtech company.\",\"bioinformatics hospitality precision specialist agriculture agtech seeking company tech start firm expert cofound wanting cofounder looking digital educational database ethics\"],[\"Human-centered designer seeking a cofounder for a human-centered design firm.\",\"company looking start green startup cofound research tech vr reality expert nuclear creative satellite database climate seeking join market building\"],[\"Smart mobility expert looking to join a smart mobility company.\",\"photonics sports mobility company expert start estate tech real hydrology water looking smart engineer technology wanting need join seeking edtech\"],[\"Pet technology developer seeking a cofounder for a pet tech startup.\",\"pet neuromorphic computing tech technology seeking developer cofounder startup firm expert cofound searching economist editing web edtech electromobility energy engineer\"],[\"Personalized nutrition expert looking to join a personalized nutrition company.\",\"nutrition personalized professional healthcare health company founder partner looking tech expert cofound wanting seeking join start digital disaster engineer energy\"],[\"Cultural technologist seeking to cofound a cultural tech firm.\",\"logistics cultural grid chain supply bi smart intelligence specialist business company tech start expert seeking technologist looking join startup cofound\"],[\"Microbial technologist looking to start a microbial tech company.\",\"microbial technologist start fuel cell bioenergy company tech need specialist looking seeking web electromobility educational environmental energy engineer estate ethics\"],[\"Electromobility specialist seeking a cofounder for an electromobility startup.\",\"electromobility veterinary chemical technologist company engineer tech looking cofounder specialist startup seeking start wanting join cofound estate economist editing educational\"],[\"Civic technology expert looking to join a civic tech company.\",\"robotics exoskeleton civic technology expert company biometrics biometric looking gesture start searching tech social cofound engineer startup recognition join need\"],[\"Bioinformatics specialist seeking to cofound a bioinformatics firm.\",\"bioinformatics hospitality precision specialist agriculture agtech seeking company tech start firm expert cofound wanting cofounder looking digital educational database ethics\"],[\"Fashion technologist looking to start a fashion tech company.\",\"fashion time real data technologist start company analyst looking tech seeking environmental engineer energy estate electromobility educational edtech editing ethics\"],[\"Holography expert seeking a cofounder for a holography tech startup.\",\"holography computational biologist biology seeking cofounder startup expert firm cofound tech need electromobility educational web energy engineer edtech estate ethics\"],[\"Quantum cryptography specialist looking to join a quantum cryptography firm.\",\"quantum cryptography specialist computing firm looking cofound tech need join start electromobility educational economist edtech editing engineer environmental estate ethics\"],[\"Exoskeleton technology expert seeking to cofound an exoskeleton tech company.\",\"robotics exoskeleton civic technology expert company biometrics biometric looking gesture start searching tech social cofound engineer startup recognition join need\"],[\"Climate data analyst looking to start a climate tech company.\",\"company looking start green startup cofound research tech vr reality expert nuclear creative satellite database climate seeking join market building\"],[\"Autonomous vehicle developer seeking a cofounder for an autonomous vehicle firm.\",\"company looking start green startup cofound research tech vr reality expert nuclear creative satellite database climate seeking join market building\"],[\"Mobile health technology expert looking to join a mobile health tech company.\",\"mobile health medtech medical device developer startup technology looking start expert company tech need seeking join cofound engineer energy electromobility\"],[\"Artificial general intelligence researcher seeking a cofounder for an AGI startup.\",\"ar augmented reality agi general startup artificial intelligence researcher looking specialist cofound join cofounder seeking tech economist editing web edtech\"],[\"Sensory technology specialist looking to start a sensory tech company.\",\"privacy sensory consumer legal tech company psychologist advisor search start technology looking specialist expert cofound partner join searching need startup\"],[\"Synthetic biology expert seeking a cofounder for a synthetic biology firm.\",\"telemedicine synthetic biology expert cofounder startup seeking firm cofound need wanting energy educational electromobility data editing engineer environmental estate ethics\"],[\"Smart contract developer looking to join a blockchain tech company.\",\"retail blockchain contract tech smart developer looking join ledger distributed specialist startup company start technologist need seeking firm cofound drone\"],[\"AI-powered marketing specialist seeking a cofounder for a marketing tech firm.\",\"marketing privacy data powered advocate ai firm specialist cofound tech need cofounder searching seeking looking start energy electromobility educational engineer\"],[\"Real-time data analyst looking to start a real-time data company.\",\"fashion time real data technologist start company analyst looking tech seeking environmental engineer energy estate electromobility educational edtech editing ethics\"]],\"hovertemplate\":\"Type=talent\\u003cbr\\u003eX=%{x}\\u003cbr\\u003eY=%{y}\\u003cbr\\u003eDescription=%{customdata[0]}\\u003cbr\\u003ecluster_top_words=%{customdata[1]}\\u003cbr\\u003ecluster=%{marker.color}\\u003cextra\\u003e\\u003c\\u002fextra\\u003e\",\"legendgroup\":\"talent\",\"marker\":{\"color\":[-1,42,30,35,-1,39,49,11,23,6,-1,18,45,51,46,7,28,-1,40,16,-1,9,42,53,-1,30,27,52,3,38,10,48,10,25,30,39,34,12,29,43,46,8,45,11,3,4,35,21,20,43,18,-1,30,31,27,-1,52,28,48,28,15,41,14,44,38,8,37,50,13,0,33,17,18,25,53,29,29,-1,9,3,3,1,13,-1,26,42,22,2,13,24,26,47,-1,28,-1,29,14,-1,33,40,13,5,-1,-1,19,47,52,36,-1,51,15,4,11,7,2,47,37,-1,13,1,23,3,32,33,53,37,54,5,12,53,-1,-1,41,31,11,36,50,19,54],\"coloraxis\":\"coloraxis\",\"symbol\":\"diamond\"},\"mode\":\"markers\",\"name\":\"talent\",\"orientation\":\"v\",\"showlegend\":true,\"x\":[9.103470802307129,1.9350924491882324,-4.423450469970703,10.449390411376953,-2.8878049850463867,-3.4267923831939697,1.5861226320266724,-1.9692612886428833,10.8333740234375,-10.025261878967285,8.309529304504395,-3.8771793842315674,1.993420958518982,3.708569288253784,8.534905433654785,-7.241289138793945,6.248818397521973,-1.2692651748657227,1.3503196239471436,4.072482585906982,0.7748605012893677,-5.487742900848389,1.9347364902496338,10.733041763305664,19.498044967651367,-4.386484146118164,1.5472612380981445,5.790192127227783,5.571835994720459,-4.06017541885376,16.82551383972168,4.193911552429199,15.347485542297363,12.114697456359863,-4.508908748626709,-4.805907249450684,-3.379854202270508,-4.941736698150635,4.4599928855896,9.500752449035645,8.610730171203613,1.3332581520080566,1.9934382438659668,-2.0622105598449707,3.7642910480499268,-8.088099479675293,10.17057991027832,15.662690162658691,15.911972999572754,9.515302658081055,-1.6916192770004272,8.378243446350098,-3.383971691131592,-1.3963927030563354,-0.20423957705497742,-1.7483769655227661,6.214178562164307,7.541680335998535,4.198339462280273,8.624838829040527,7.804962635040283,4.640500068664551,15.956547737121582,9.597881317138672,-4.060210704803467,1.2569317817687988,8.744673728942871,2.759204149246216,13.763289451599121,21.444915771484375,14.246908187866211,5.018551349639893,-3.7143349647521973,12.114706993103027,10.264427185058594,4.466503143310547,4.814906120300293,-2.6099119186401367,-4.539192199707031,7.100593566894531,2.948383331298828,4.993539810180664,13.687825202941895,15.5973539352417,13.44167423248291,3.0887670516967773,9.916903495788574,12.170470237731934,10.925217628479004,12.310271263122559,12.612507820129395,5.421350002288818,-6.868533611297607,8.62489128112793,10.6539945602417,3.2809464931488037,15.318939208984375,-2.0140013694763184,16.1705379486084,1.9381500482559204,14.143352508544922,1.1353819370269775,20.02570915222168,7.387088298797607,-6.647481441497803,4.3626813888549805,4.592301368713379,4.835127830505371,6.676973342895508,4.697109222412109,7.776782512664795,-10.24449348449707,-2.145068407058716,-5.4029927253723145,12.225029945373535,6.36253547668457,6.551164627075195,-2.8448288440704346,12.266520500183105,6.670053005218506,9.525359153747559,0.5320891737937927,14.385171890258789,15.690715789794922,8.32241153717041,7.627864360809326,12.189482688903809,-0.06830848753452301,-4.826810359954834,9.807032585144043,12.912548065185547,-6.645394325256348,5.827333927154541,-0.665496826171875,0.17997446656227112,4.231374740600586,1.967689037322998,-4.857732772827148,12.482351303100586],\"xaxis\":\"x\",\"y\":[-4.315933704376221,10.70128345489502,7.82640266418457,5.037708282470703,-9.080062866210938,2.5929460525512695,3.110593557357788,-2.8036997318267822,14.739795684814453,2.846409797668457,6.761569023132324,12.824658393859863,-0.9170737266540527,3.13938045501709,-0.9774529337882996,10.448493003845215,-5.112102031707764,0.6285123825073242,6.002829074859619,15.847172737121582,8.430887222290039,-4.025640487670898,10.701409339904785,2.036884069442749,12.529266357421875,7.86472225189209,12.854639053344727,-0.14228855073451996,-7.919187068939209,4.034337997436523,-0.5863770246505737,6.641024112701416,-0.06801553070545197,8.940884590148926,7.742697715759277,2.452660322189331,0.9812162518501282,16.265247344970703,-5.161067008972168,11.885478973388672,-1.0546599626541138,15.512580871582031,-0.917304277420044,-4.775847911834717,-9.36152458190918,7.752523899078369,6.534241676330566,8.534125328063965,8.28439712524414,11.872615814208984,13.307518005371094,4.29451322555542,6.369051933288574,6.4763054847717285,11.700587272644043,2.5690927505493164,1.3567756414413452,-5.59340238571167,6.644975662231445,-6.916633129119873,14.656631469726562,9.232426643371582,2.267746925354004,11.785236358642578,4.034326553344727,15.43263053894043,9.923758506774902,0.7409838438034058,-4.101372241973877,-0.684883177280426,10.407140731811523,14.852867126464844,14.118753433227539,8.940835952758789,0.817834198474884,-5.172467231750488,-3.5574474334716797,9.623339653015137,-4.219886302947998,-10.120293617248535,-7.811990737915039,20.070138931274414,-2.347930669784546,6.334359169006348,14.689152717590332,9.978556632995605,16.439786911010742,18.79663848876953,-6.8671698570251465,9.897648811340332,13.268357276916504,5.936071872711182,3.1494479179382324,-6.916712760925293,-1.1574342250823975,-2.7316701412200928,4.09760856628418,15.950836181640625,12.523619651794434,4.948220729827881,-6.102797985076904,19.722871780395508,4.141475200653076,0.22039662301540375,0.2864302694797516,5.194920539855957,-0.23067958652973175,11.308928489685059,6.8791117668151855,1.8793907165527344,14.68475341796875,7.416557788848877,-1.6869086027145386,10.58703327178955,18.748790740966797,5.295814037322998,12.607259750366211,18.358190536499023,-5.513431072235107,18.556032180786133,14.86113452911377,-8.979418754577637,12.510918617248535,10.95505142211914,2.518059730529785,11.159615516662598,3.1256654262542725,17.970949172973633,16.150474548339844,2.8501720428466797,5.828306198120117,13.381340980529785,9.36462688446045,5.1147332191467285,-4.552791118621826,12.796835899353027,1.6940070390701294,-0.15183067321777344,2.1222126483917236],\"yaxis\":\"y\",\"type\":\"scatter\"},{\"customdata\":[[\"I'm looking for a skilled programmer to join my startup.\",\"company looking start green startup cofound research tech vr reality expert nuclear creative satellite database climate seeking join market building\"],[\"Looking for a DevOps engineer to cofound a software company.\",\"company looking start green startup cofound research tech vr reality expert nuclear creative satellite database climate seeking join market building\"],[\"Wanting a blockchain expert to start a cryptocurrency company.\",\"company looking start green startup cofound research tech vr reality expert nuclear creative satellite database climate seeking join market building\"],[\"Need an e-commerce specialist to cofound an online retail business.\",\"company looking start green startup cofound research tech vr reality expert nuclear creative satellite database climate seeking join market building\"],[\"Wanting an AR\\u002fVR developer to start an augmented reality company.\",\"company looking start green startup cofound research tech vr reality expert nuclear creative satellite database climate seeking join market building\"],[\"Searching for a sustainability expert to start a green tech company.\",\"company looking start green startup cofound research tech vr reality expert nuclear creative satellite database climate seeking join market building\"],[\"Seeking a virtual reality expert to cofound a VR startup.\",\"company looking start green startup cofound research tech vr reality expert nuclear creative satellite database climate seeking join market building\"],[\"Wanting a database administrator to cofound a database tech firm.\",\"company looking start green startup cofound research tech vr reality expert nuclear creative satellite database climate seeking join market building\"],[\"Need a market researcher to cofound a market research firm.\",\"company looking start green startup cofound research tech vr reality expert nuclear creative satellite database climate seeking join market building\"],[\"Looking for a satellite technology expert to cofound a satellite tech startup.\",\"company looking start green startup cofound research tech vr reality expert nuclear creative satellite database climate seeking join market building\"],[\"Need an AI ethics specialist to start an AI ethics consultancy.\",\"company looking start green startup cofound research tech vr reality expert nuclear creative satellite database climate seeking join market building\"],[\"Searching for a green building specialist to start a green building company.\",\"company looking start green startup cofound research tech vr reality expert nuclear creative satellite database climate seeking join market building\"],[\"Need a clinical research scientist to cofound a clinical research startup.\",\"company looking start green startup cofound research tech vr reality expert nuclear creative satellite database climate seeking join market building\"],[\"Need a nuclear engineer to start a nuclear tech company.\",\"company looking start green startup cofound research tech vr reality expert nuclear creative satellite database climate seeking join market building\"],[\"Looking for a creative technologist to cofound a creative tech startup.\",\"company looking start green startup cofound research tech vr reality expert nuclear creative satellite database climate seeking join market building\"],[\"Looking for a cloud solutions architect to start a cloud solutions company.\",\"company looking start green startup cofound research tech vr reality expert nuclear creative satellite database climate seeking join market building\"],[\"Need a human-centered designer to cofound a human-centered design firm.\",\"company looking start green startup cofound research tech vr reality expert nuclear creative satellite database climate seeking join market building\"],[\"Wanting a climate data analyst to start a climate tech company.\",\"company looking start green startup cofound research tech vr reality expert nuclear creative satellite database climate seeking join market building\"],[\"Seeking an autonomous vehicle developer to cofound an autonomous vehicle firm.\",\"company looking start green startup cofound research tech vr reality expert nuclear creative satellite database climate seeking join market building\"],[\"I'm a skilled programmer looking to join a startup.\",\"company looking start green startup cofound research tech vr reality expert nuclear creative satellite database climate seeking join market building\"],[\"DevOps engineer looking to cofound a software company.\",\"company looking start green startup cofound research tech vr reality expert nuclear creative satellite database climate seeking join market building\"],[\"Blockchain expert in search of a cryptocurrency company to start.\",\"company looking start green startup cofound research tech vr reality expert nuclear creative satellite database climate seeking join market building\"],[\"E-commerce specialist seeking a cofounder for an online retail business.\",\"company looking start green startup cofound research tech vr reality expert nuclear creative satellite database climate seeking join market building\"],[\"AR\\u002fVR developer seeking to start an augmented reality company.\",\"company looking start green startup cofound research tech vr reality expert nuclear creative satellite database climate seeking join market building\"],[\"Sustainability expert in search of a green tech startup to join.\",\"company looking start green startup cofound research tech vr reality expert nuclear creative satellite database climate seeking join market building\"],[\"Virtual reality expert looking to start a VR tech company.\",\"company looking start green startup cofound research tech vr reality expert nuclear creative satellite database climate seeking join market building\"],[\"Database administrator looking to start a database tech firm.\",\"company looking start green startup cofound research tech vr reality expert nuclear creative satellite database climate seeking join market building\"],[\"Market researcher seeking a cofounder for a market research firm.\",\"company looking start green startup cofound research tech vr reality expert nuclear creative satellite database climate seeking join market building\"],[\"Satellite technology expert seeking to join a satellite tech startup.\",\"company looking start green startup cofound research tech vr reality expert nuclear creative satellite database climate seeking join market building\"],[\"AI ethics specialist looking to cofound an AI ethics consultancy.\",\"company looking start green startup cofound research tech vr reality expert nuclear creative satellite database climate seeking join market building\"],[\"Green building specialist looking to start a green building company.\",\"company looking start green startup cofound research tech vr reality expert nuclear creative satellite database climate seeking join market building\"],[\"Clinical research scientist seeking a cofounder for a clinical research startup.\",\"company looking start green startup cofound research tech vr reality expert nuclear creative satellite database climate seeking join market building\"],[\"Nuclear engineer looking to start a nuclear tech company.\",\"company looking start green startup cofound research tech vr reality expert nuclear creative satellite database climate seeking join market building\"],[\"Creative technologist seeking to join a creative tech startup.\",\"company looking start green startup cofound research tech vr reality expert nuclear creative satellite database climate seeking join market building\"],[\"Cloud solutions architect looking to join a cloud solutions company.\",\"company looking start green startup cofound research tech vr reality expert nuclear creative satellite database climate seeking join market building\"],[\"Human-centered designer seeking a cofounder for a human-centered design firm.\",\"company looking start green startup cofound research tech vr reality expert nuclear creative satellite database climate seeking join market building\"],[\"Climate data analyst looking to start a climate tech company.\",\"company looking start green startup cofound research tech vr reality expert nuclear creative satellite database climate seeking join market building\"],[\"Autonomous vehicle developer seeking a cofounder for an autonomous vehicle firm.\",\"company looking start green startup cofound research tech vr reality expert nuclear creative satellite database climate seeking join market building\"]],\"hovertemplate\":\"X=%{x}\\u003cbr\\u003eY=%{y}\\u003cbr\\u003eDescription=%{customdata[0]}\\u003cbr\\u003ecluster_top_words=%{customdata[1]}\\u003cextra\\u003e\\u003c\\u002fextra\\u003e\",\"legendgroup\":\"\",\"marker\":{\"color\":\"#EEEEEE\",\"symbol\":\"circle\"},\"mode\":\"markers\",\"name\":\"\",\"orientation\":\"v\",\"showlegend\":false,\"x\":[9.103469848632812,-2.8878190517425537,8.30951976776123,-1.2693538665771484,0.7748408317565918,19.49800682067871,8.378260612487793,-1.7484062910079956,-2.609938383102417,15.597335815429688,-6.868521213531494,10.653914451599121,-2.014038562774658,20.025659561157227,7.3868536949157715,6.676576614379883,-2.8448171615600586,12.912476539611816,-6.645355701446533,9.103470802307129,-2.8878049850463867,8.309529304504395,-1.2692651748657227,0.7748605012893677,19.498044967651367,8.378243446350098,-1.7483769655227661,-2.6099119186401367,15.5973539352417,-6.868533611297607,10.6539945602417,-2.0140013694763184,20.02570915222168,7.387088298797607,6.676973342895508,-2.8448288440704346,12.912548065185547,-6.645394325256348],\"xaxis\":\"x\",\"y\":[-4.315776348114014,-9.080005645751953,6.761567115783691,0.6285839080810547,8.430837631225586,12.529258728027344,4.294814109802246,2.5690786838531494,9.623397827148438,6.33436393737793,3.1494240760803223,-1.1575119495391846,15.95085620880127,4.141476154327393,0.22062349319458008,6.879148006439209,18.358154296875,5.828312397003174,13.38125991821289,-4.315933704376221,-9.080062866210938,6.761569023132324,0.6285123825073242,8.430887222290039,12.529266357421875,4.29451322555542,2.5690927505493164,9.623339653015137,6.334359169006348,3.1494479179382324,-1.1574342250823975,15.950836181640625,4.141475200653076,0.22039662301540375,6.8791117668151855,18.358190536499023,5.828306198120117,13.381340980529785],\"yaxis\":\"y\",\"type\":\"scatter\"}],                        {\"template\":{\"data\":{\"histogram2dcontour\":[{\"type\":\"histogram2dcontour\",\"colorbar\":{\"outlinewidth\":0,\"ticks\":\"\"},\"colorscale\":[[0.0,\"#0d0887\"],[0.1111111111111111,\"#46039f\"],[0.2222222222222222,\"#7201a8\"],[0.3333333333333333,\"#9c179e\"],[0.4444444444444444,\"#bd3786\"],[0.5555555555555556,\"#d8576b\"],[0.6666666666666666,\"#ed7953\"],[0.7777777777777778,\"#fb9f3a\"],[0.8888888888888888,\"#fdca26\"],[1.0,\"#f0f921\"]]}],\"choropleth\":[{\"type\":\"choropleth\",\"colorbar\":{\"outlinewidth\":0,\"ticks\":\"\"}}],\"histogram2d\":[{\"type\":\"histogram2d\",\"colorbar\":{\"outlinewidth\":0,\"ticks\":\"\"},\"colorscale\":[[0.0,\"#0d0887\"],[0.1111111111111111,\"#46039f\"],[0.2222222222222222,\"#7201a8\"],[0.3333333333333333,\"#9c179e\"],[0.4444444444444444,\"#bd3786\"],[0.5555555555555556,\"#d8576b\"],[0.6666666666666666,\"#ed7953\"],[0.7777777777777778,\"#fb9f3a\"],[0.8888888888888888,\"#fdca26\"],[1.0,\"#f0f921\"]]}],\"heatmap\":[{\"type\":\"heatmap\",\"colorbar\":{\"outlinewidth\":0,\"ticks\":\"\"},\"colorscale\":[[0.0,\"#0d0887\"],[0.1111111111111111,\"#46039f\"],[0.2222222222222222,\"#7201a8\"],[0.3333333333333333,\"#9c179e\"],[0.4444444444444444,\"#bd3786\"],[0.5555555555555556,\"#d8576b\"],[0.6666666666666666,\"#ed7953\"],[0.7777777777777778,\"#fb9f3a\"],[0.8888888888888888,\"#fdca26\"],[1.0,\"#f0f921\"]]}],\"heatmapgl\":[{\"type\":\"heatmapgl\",\"colorbar\":{\"outlinewidth\":0,\"ticks\":\"\"},\"colorscale\":[[0.0,\"#0d0887\"],[0.1111111111111111,\"#46039f\"],[0.2222222222222222,\"#7201a8\"],[0.3333333333333333,\"#9c179e\"],[0.4444444444444444,\"#bd3786\"],[0.5555555555555556,\"#d8576b\"],[0.6666666666666666,\"#ed7953\"],[0.7777777777777778,\"#fb9f3a\"],[0.8888888888888888,\"#fdca26\"],[1.0,\"#f0f921\"]]}],\"contourcarpet\":[{\"type\":\"contourcarpet\",\"colorbar\":{\"outlinewidth\":0,\"ticks\":\"\"}}],\"contour\":[{\"type\":\"contour\",\"colorbar\":{\"outlinewidth\":0,\"ticks\":\"\"},\"colorscale\":[[0.0,\"#0d0887\"],[0.1111111111111111,\"#46039f\"],[0.2222222222222222,\"#7201a8\"],[0.3333333333333333,\"#9c179e\"],[0.4444444444444444,\"#bd3786\"],[0.5555555555555556,\"#d8576b\"],[0.6666666666666666,\"#ed7953\"],[0.7777777777777778,\"#fb9f3a\"],[0.8888888888888888,\"#fdca26\"],[1.0,\"#f0f921\"]]}],\"surface\":[{\"type\":\"surface\",\"colorbar\":{\"outlinewidth\":0,\"ticks\":\"\"},\"colorscale\":[[0.0,\"#0d0887\"],[0.1111111111111111,\"#46039f\"],[0.2222222222222222,\"#7201a8\"],[0.3333333333333333,\"#9c179e\"],[0.4444444444444444,\"#bd3786\"],[0.5555555555555556,\"#d8576b\"],[0.6666666666666666,\"#ed7953\"],[0.7777777777777778,\"#fb9f3a\"],[0.8888888888888888,\"#fdca26\"],[1.0,\"#f0f921\"]]}],\"mesh3d\":[{\"type\":\"mesh3d\",\"colorbar\":{\"outlinewidth\":0,\"ticks\":\"\"}}],\"scatter\":[{\"fillpattern\":{\"fillmode\":\"overlay\",\"size\":10,\"solidity\":0.2},\"type\":\"scatter\"}],\"parcoords\":[{\"type\":\"parcoords\",\"line\":{\"colorbar\":{\"outlinewidth\":0,\"ticks\":\"\"}}}],\"scatterpolargl\":[{\"type\":\"scatterpolargl\",\"marker\":{\"colorbar\":{\"outlinewidth\":0,\"ticks\":\"\"}}}],\"bar\":[{\"error_x\":{\"color\":\"#2a3f5f\"},\"error_y\":{\"color\":\"#2a3f5f\"},\"marker\":{\"line\":{\"color\":\"#E5ECF6\",\"width\":0.5},\"pattern\":{\"fillmode\":\"overlay\",\"size\":10,\"solidity\":0.2}},\"type\":\"bar\"}],\"scattergeo\":[{\"type\":\"scattergeo\",\"marker\":{\"colorbar\":{\"outlinewidth\":0,\"ticks\":\"\"}}}],\"scatterpolar\":[{\"type\":\"scatterpolar\",\"marker\":{\"colorbar\":{\"outlinewidth\":0,\"ticks\":\"\"}}}],\"histogram\":[{\"marker\":{\"pattern\":{\"fillmode\":\"overlay\",\"size\":10,\"solidity\":0.2}},\"type\":\"histogram\"}],\"scattergl\":[{\"type\":\"scattergl\",\"marker\":{\"colorbar\":{\"outlinewidth\":0,\"ticks\":\"\"}}}],\"scatter3d\":[{\"type\":\"scatter3d\",\"line\":{\"colorbar\":{\"outlinewidth\":0,\"ticks\":\"\"}},\"marker\":{\"colorbar\":{\"outlinewidth\":0,\"ticks\":\"\"}}}],\"scattermapbox\":[{\"type\":\"scattermapbox\",\"marker\":{\"colorbar\":{\"outlinewidth\":0,\"ticks\":\"\"}}}],\"scatterternary\":[{\"type\":\"scatterternary\",\"marker\":{\"colorbar\":{\"outlinewidth\":0,\"ticks\":\"\"}}}],\"scattercarpet\":[{\"type\":\"scattercarpet\",\"marker\":{\"colorbar\":{\"outlinewidth\":0,\"ticks\":\"\"}}}],\"carpet\":[{\"aaxis\":{\"endlinecolor\":\"#2a3f5f\",\"gridcolor\":\"white\",\"linecolor\":\"white\",\"minorgridcolor\":\"white\",\"startlinecolor\":\"#2a3f5f\"},\"baxis\":{\"endlinecolor\":\"#2a3f5f\",\"gridcolor\":\"white\",\"linecolor\":\"white\",\"minorgridcolor\":\"white\",\"startlinecolor\":\"#2a3f5f\"},\"type\":\"carpet\"}],\"table\":[{\"cells\":{\"fill\":{\"color\":\"#EBF0F8\"},\"line\":{\"color\":\"white\"}},\"header\":{\"fill\":{\"color\":\"#C8D4E3\"},\"line\":{\"color\":\"white\"}},\"type\":\"table\"}],\"barpolar\":[{\"marker\":{\"line\":{\"color\":\"#E5ECF6\",\"width\":0.5},\"pattern\":{\"fillmode\":\"overlay\",\"size\":10,\"solidity\":0.2}},\"type\":\"barpolar\"}],\"pie\":[{\"automargin\":true,\"type\":\"pie\"}]},\"layout\":{\"autotypenumbers\":\"strict\",\"colorway\":[\"#636efa\",\"#EF553B\",\"#00cc96\",\"#ab63fa\",\"#FFA15A\",\"#19d3f3\",\"#FF6692\",\"#B6E880\",\"#FF97FF\",\"#FECB52\"],\"font\":{\"color\":\"#2a3f5f\"},\"hovermode\":\"closest\",\"hoverlabel\":{\"align\":\"left\"},\"paper_bgcolor\":\"white\",\"plot_bgcolor\":\"#E5ECF6\",\"polar\":{\"bgcolor\":\"#E5ECF6\",\"angularaxis\":{\"gridcolor\":\"white\",\"linecolor\":\"white\",\"ticks\":\"\"},\"radialaxis\":{\"gridcolor\":\"white\",\"linecolor\":\"white\",\"ticks\":\"\"}},\"ternary\":{\"bgcolor\":\"#E5ECF6\",\"aaxis\":{\"gridcolor\":\"white\",\"linecolor\":\"white\",\"ticks\":\"\"},\"baxis\":{\"gridcolor\":\"white\",\"linecolor\":\"white\",\"ticks\":\"\"},\"caxis\":{\"gridcolor\":\"white\",\"linecolor\":\"white\",\"ticks\":\"\"}},\"coloraxis\":{\"colorbar\":{\"outlinewidth\":0,\"ticks\":\"\"}},\"colorscale\":{\"sequential\":[[0.0,\"#0d0887\"],[0.1111111111111111,\"#46039f\"],[0.2222222222222222,\"#7201a8\"],[0.3333333333333333,\"#9c179e\"],[0.4444444444444444,\"#bd3786\"],[0.5555555555555556,\"#d8576b\"],[0.6666666666666666,\"#ed7953\"],[0.7777777777777778,\"#fb9f3a\"],[0.8888888888888888,\"#fdca26\"],[1.0,\"#f0f921\"]],\"sequentialminus\":[[0.0,\"#0d0887\"],[0.1111111111111111,\"#46039f\"],[0.2222222222222222,\"#7201a8\"],[0.3333333333333333,\"#9c179e\"],[0.4444444444444444,\"#bd3786\"],[0.5555555555555556,\"#d8576b\"],[0.6666666666666666,\"#ed7953\"],[0.7777777777777778,\"#fb9f3a\"],[0.8888888888888888,\"#fdca26\"],[1.0,\"#f0f921\"]],\"diverging\":[[0,\"#8e0152\"],[0.1,\"#c51b7d\"],[0.2,\"#de77ae\"],[0.3,\"#f1b6da\"],[0.4,\"#fde0ef\"],[0.5,\"#f7f7f7\"],[0.6,\"#e6f5d0\"],[0.7,\"#b8e186\"],[0.8,\"#7fbc41\"],[0.9,\"#4d9221\"],[1,\"#276419\"]]},\"xaxis\":{\"gridcolor\":\"white\",\"linecolor\":\"white\",\"ticks\":\"\",\"title\":{\"standoff\":15},\"zerolinecolor\":\"white\",\"automargin\":true,\"zerolinewidth\":2},\"yaxis\":{\"gridcolor\":\"white\",\"linecolor\":\"white\",\"ticks\":\"\",\"title\":{\"standoff\":15},\"zerolinecolor\":\"white\",\"automargin\":true,\"zerolinewidth\":2},\"scene\":{\"xaxis\":{\"backgroundcolor\":\"#E5ECF6\",\"gridcolor\":\"white\",\"linecolor\":\"white\",\"showbackground\":true,\"ticks\":\"\",\"zerolinecolor\":\"white\",\"gridwidth\":2},\"yaxis\":{\"backgroundcolor\":\"#E5ECF6\",\"gridcolor\":\"white\",\"linecolor\":\"white\",\"showbackground\":true,\"ticks\":\"\",\"zerolinecolor\":\"white\",\"gridwidth\":2},\"zaxis\":{\"backgroundcolor\":\"#E5ECF6\",\"gridcolor\":\"white\",\"linecolor\":\"white\",\"showbackground\":true,\"ticks\":\"\",\"zerolinecolor\":\"white\",\"gridwidth\":2}},\"shapedefaults\":{\"line\":{\"color\":\"#2a3f5f\"}},\"annotationdefaults\":{\"arrowcolor\":\"#2a3f5f\",\"arrowhead\":0,\"arrowwidth\":1},\"geo\":{\"bgcolor\":\"white\",\"landcolor\":\"#E5ECF6\",\"subunitcolor\":\"white\",\"showland\":true,\"showlakes\":true,\"lakecolor\":\"white\"},\"title\":{\"x\":0.05},\"mapbox\":{\"style\":\"light\"}}},\"xaxis\":{\"anchor\":\"y\",\"domain\":[0.0,1.0],\"title\":{\"text\":\"\"},\"showticklabels\":false},\"yaxis\":{\"anchor\":\"x\",\"domain\":[0.0,1.0],\"title\":{\"text\":\"\"},\"showticklabels\":false},\"coloraxis\":{\"colorbar\":{\"title\":{\"text\":\"cluster\"}},\"colorscale\":[[0.0,\"#0d0887\"],[0.1111111111111111,\"#46039f\"],[0.2222222222222222,\"#7201a8\"],[0.3333333333333333,\"#9c179e\"],[0.4444444444444444,\"#bd3786\"],[0.5555555555555556,\"#d8576b\"],[0.6666666666666666,\"#ed7953\"],[0.7777777777777778,\"#fb9f3a\"],[0.8888888888888888,\"#fdca26\"],[1.0,\"#f0f921\"]]},\"legend\":{\"title\":{\"text\":\"Clusters & Top Words\",\"font\":{\"color\":\"green\"}},\"tracegroupgap\":20,\"itemsizing\":\"constant\"},\"margin\":{\"t\":100,\"l\":50,\"r\":50,\"b\":100},\"showlegend\":true,\"plot_bgcolor\":\"white\",\"images\":[{\"layer\":\"below\",\"opacity\":0.8,\"sizex\":0.8,\"sizey\":0.8,\"source\":\"rocket\\u002flanding\\u002fstatic\\u002flanding\\u002fRocket Logo.png\",\"x\":0,\"xref\":\"paper\",\"y\":1,\"yref\":\"paper\"},{\"opacity\":0.8,\"sizex\":0.15,\"sizey\":0.15,\"source\":\"rocket\\u002flanding\\u002fstatic\\u002flanding\\u002fRocket Logo.png\",\"x\":0,\"xref\":\"paper\",\"y\":0,\"yref\":\"paper\"}],\"width\":1000,\"height\":500,\"autosize\":false},                        {\"responsive\": true}                    ).then(function(){\n",
       "                            \n",
       "var gd = document.getElementById('9bd54cd5-bc7f-43f9-8a82-a6b01c074c1e');\n",
       "var x = new MutationObserver(function (mutations, observer) {{\n",
       "        var display = window.getComputedStyle(gd).display;\n",
       "        if (!display || display === 'none') {{\n",
       "            console.log([gd, 'removed!']);\n",
       "            Plotly.purge(gd);\n",
       "            observer.disconnect();\n",
       "        }}\n",
       "}});\n",
       "\n",
       "// Listen for the removal of the full notebook cells\n",
       "var notebookContainer = gd.closest('#notebook-container');\n",
       "if (notebookContainer) {{\n",
       "    x.observe(notebookContainer, {childList: true});\n",
       "}}\n",
       "\n",
       "// Listen for the clearing of the current output cell\n",
       "var outputEl = gd.closest('.output');\n",
       "if (outputEl) {{\n",
       "    x.observe(outputEl, {childList: true});\n",
       "}}\n",
       "\n",
       "                        })                };                });            </script>        </div>"
      ]
     },
     "metadata": {},
     "output_type": "display_data"
    }
   ],
   "source": [
    "fig = px.scatter(df,\n",
    "    x='X',\n",
    "    y='Y',\n",
    "    #z='vader_sentiment_score',\n",
    "    color='cluster',\n",
    "    symbol = 'Type',\n",
    "    #size = 'length_answer',\n",
    "    size_max = 50,\n",
    "    hover_data=['Description', 'cluster_top_words'],\n",
    "    color_discrete_sequence=list(cluster_colors.values())\n",
    "    )\n",
    "\n",
    "# for trace in fig.data:\n",
    "#     trace.marker.line.color = trace.marker.color\n",
    "\n",
    "# Adding in poorly clustered topics\n",
    "unclustered_indices = df[df['cluster'] == -1].index\n",
    "unclustered_df = df.loc[unclustered_indices]\n",
    "\n",
    "\"\"\"\n",
    "Add unclustered documents as a separate trace with a fixed color\n",
    "\"\"\"\n",
    "unclustered_trace = px.scatter(unclustered_df, x='X', y='Y',#z = 'vader_sentiment_score',\n",
    "                               size_max = 2,\n",
    "                               #z='bert_sentiment_score',\n",
    "                               color_discrete_sequence=['#EEEEEE'], hover_data=['Description', 'cluster_top_words'],\n",
    ").data[0]\n",
    "fig.add_trace(unclustered_trace)\n",
    "\n",
    "\n",
    "custom_legend_items = []\n",
    "for cluster_label, color in cluster_colors.items():\n",
    "    top_words = cluster_top_words.get(cluster_label, \"Unclustered\")  # Handle unclustered points\n",
    "    legend_item = dict(\n",
    "        name=f\"Cluster {cluster_label}: {top_words}\",\n",
    "        marker=dict(color=color)\n",
    "    )\n",
    "    custom_legend_items.append(legend_item)\n",
    "\n",
    "# Update Layout\n",
    "fig.update_layout(\n",
    "    showlegend=True,\n",
    "    legend=dict(\n",
    "        title=\"Clusters & Top Words\",\n",
    "        itemsizing='constant',\n",
    "        tracegroupgap=20\n",
    "    ),\n",
    "    legend_title_font_color=\"green\"\n",
    ")\n",
    "\n",
    "# Manually Set Legend Items\n",
    "#fig.for_each_trace(lambda trace: trace.update(showlegend=True) if trace.name != unclustered_trace.name else ())  # Exclude the unclustered trace from the legend\n",
    "#fig.update_layout(legend_title_text='Clusters & Top Words')\n",
    "#fig.update_layout(legend_itemsizing='constant')\n",
    "#fig.update_layout(legend_tracegroupgap=20)\n",
    "#fig.update_layout(legend_title_font_color='green')\n",
    "#fig.update_layout(legend_itemclick=False, legend_itemdoubleclick=False)  # Disable legend interactions\n",
    "\n",
    "\n",
    "\n",
    "\n",
    "# hover_template = \"\"\"\n",
    "# <extra></extra>\n",
    "# Nudge Content: %{customdata[1]}<br>\n",
    "# Cluster: %{customdata[4]}<br>\n",
    "# Cluster Colour: %{customdata[5]}\n",
    "# \"\"\"\n",
    "\n",
    "# fig.update_traces(hovertemplate=hover_template)\n",
    "\n",
    "fig.update_layout(\n",
    "    showlegend=True,\n",
    "    #annotations=custom_legend,\n",
    "    plot_bgcolor= 'white'#'rgb(238,238,238)'#'#252d2',\n",
    ")\n",
    "\n",
    "fig.update_xaxes(title='')\n",
    "fig.update_yaxes(title='')\n",
    "fig.update_xaxes(showticklabels=False)\n",
    "fig.update_yaxes(showticklabels=False)\n",
    "rocket_logo = \"rocket/landing/static/landing/Rocket Logo.png\"\n",
    "# Add the logo as a layout image\n",
    "fig.add_layout_image(\n",
    "    go.layout.Image(\n",
    "        source=rocket_logo,\n",
    "        x=0, y=1,  # Position at top left\n",
    "        xref=\"paper\", yref=\"paper\",\n",
    "        sizex=0.8, sizey=0.8,\n",
    "        opacity=0.8,\n",
    "        layer=\"below\"\n",
    "    )\n",
    ")\n",
    "\n",
    "# # bottom Logo Annotation\n",
    "rocket_logo_annotation = go.layout.Image(\n",
    "    source=rocket_logo,\n",
    "    x=0, y=0,\n",
    "    xref=\"paper\", yref=\"paper\",\n",
    "    sizex=0.15, sizey=0.15,\n",
    "    opacity=0.8\n",
    ")\n",
    "\n",
    "fig.add_layout_image(rocket_logo_annotation)\n",
    "\n",
    "fig.update_layout(\n",
    "    width=1000,\n",
    "    height=500,\n",
    "    autosize=False,\n",
    "    margin=dict(l=50, r=50, t=100, b=100),  # Adjust margins as needed\n",
    ")\n"
   ]
  },
  {
   "cell_type": "code",
   "execution_count": null,
   "id": "f40938de-4007-4be1-92ea-6450d1612416",
   "metadata": {},
   "outputs": [],
   "source": []
  }
 ],
 "metadata": {
  "kernelspec": {
   "display_name": "Machine Learning",
   "language": "python",
   "name": "machine_learningenv"
  },
  "language_info": {
   "codemirror_mode": {
    "name": "ipython",
    "version": 3
   },
   "file_extension": ".py",
   "mimetype": "text/x-python",
   "name": "python",
   "nbconvert_exporter": "python",
   "pygments_lexer": "ipython3",
   "version": "3.10.13"
  }
 },
 "nbformat": 4,
 "nbformat_minor": 5
}
